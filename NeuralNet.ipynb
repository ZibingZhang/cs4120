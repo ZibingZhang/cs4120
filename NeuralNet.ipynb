{
 "cells": [
  {
   "cell_type": "code",
   "execution_count": 76,
   "metadata": {},
   "outputs": [
    {
     "name": "stderr",
     "output_type": "stream",
     "text": [
      "[nltk_data] Downloading package words to\n",
      "[nltk_data]     C:\\Users\\prane\\AppData\\Roaming\\nltk_data...\n",
      "[nltk_data]   Package words is already up-to-date!\n",
      "[nltk_data] Downloading package omw-1.4 to\n",
      "[nltk_data]     C:\\Users\\prane\\AppData\\Roaming\\nltk_data...\n",
      "[nltk_data]   Package omw-1.4 is already up-to-date!\n"
     ]
    }
   ],
   "source": [
    "import csv\n",
    "import pandas as pd\n",
    "import nltk\n",
    "import time\n",
    "import numpy as np\n",
    "import string, re\n",
    "\n",
    "from tensorflow import keras\n",
    "from tensorflow.keras import layers\n",
    "\n",
    "nltk.download('words')\n",
    "nltk.download('omw-1.4')\n",
    "from nltk.corpus import stopwords\n",
    "from nltk.stem import WordNetLemmatizer\n",
    "from nltk.stem.snowball import SnowballStemmer\n",
    "from sklearn.model_selection import train_test_split\n",
    "from sklearn.metrics import roc_curve, auc, accuracy_score, precision_score, recall_score, f1_score, roc_auc_score, confusion_matrix, ConfusionMatrixDisplay, RocCurveDisplay\n",
    "from sklearn.model_selection import GridSearchCV\n",
    "from tensorflow.keras.preprocessing.text import Tokenizer\n",
    "from tensorflow.keras.preprocessing.sequence import pad_sequences\n",
    "\n",
    "\n",
    "from sklearn.pipeline import Pipeline\n",
    "from sklearn.feature_extraction.text import CountVectorizer, TfidfTransformer\n",
    "from sklearn.ensemble import RandomForestClassifier\n",
    "from sklearn.neighbors import KNeighborsClassifier\n",
    "from sklearn.naive_bayes import MultinomialNB\n",
    "from sklearn.preprocessing import LabelEncoder\n",
    "\n",
    "import seaborn as sns\n",
    "import matplotlib.pyplot as plt\n",
    "%matplotlib inline"
   ]
  },
  {
   "cell_type": "code",
   "execution_count": 2,
   "metadata": {},
   "outputs": [
    {
     "data": {
      "text/html": [
       "<div>\n",
       "<style scoped>\n",
       "    .dataframe tbody tr th:only-of-type {\n",
       "        vertical-align: middle;\n",
       "    }\n",
       "\n",
       "    .dataframe tbody tr th {\n",
       "        vertical-align: top;\n",
       "    }\n",
       "\n",
       "    .dataframe thead th {\n",
       "        text-align: right;\n",
       "    }\n",
       "</style>\n",
       "<table border=\"1\" class=\"dataframe\">\n",
       "  <thead>\n",
       "    <tr style=\"text-align: right;\">\n",
       "      <th></th>\n",
       "      <th>Unnamed: 0</th>\n",
       "      <th>SName</th>\n",
       "      <th>Artist</th>\n",
       "      <th>Lyric</th>\n",
       "      <th>Genres</th>\n",
       "    </tr>\n",
       "  </thead>\n",
       "  <tbody>\n",
       "    <tr>\n",
       "      <th>0</th>\n",
       "      <td>0</td>\n",
       "      <td>Country Boy</td>\n",
       "      <td>Muddy Waters</td>\n",
       "      <td>Don't say I don't love you\\nBecause I stays ou...</td>\n",
       "      <td>Blues</td>\n",
       "    </tr>\n",
       "    <tr>\n",
       "      <th>1</th>\n",
       "      <td>1</td>\n",
       "      <td>Don't Wait 'til Tomorrow</td>\n",
       "      <td>Gary Clark Jr.</td>\n",
       "      <td>I'm so tired of fighting\\nI'm so tired of bein...</td>\n",
       "      <td>Blues</td>\n",
       "    </tr>\n",
       "    <tr>\n",
       "      <th>2</th>\n",
       "      <td>2</td>\n",
       "      <td>Frankie</td>\n",
       "      <td>Mississippi John Hurt</td>\n",
       "      <td>(spoken introduction:\\n\"Frankie and Albert\", t...</td>\n",
       "      <td>Blues</td>\n",
       "    </tr>\n",
       "    <tr>\n",
       "      <th>3</th>\n",
       "      <td>3</td>\n",
       "      <td>Fear Of Falling</td>\n",
       "      <td>The Allman Brothers Band</td>\n",
       "      <td>by G. Allman, J. Townsend &amp; T. Heding\\nThere w...</td>\n",
       "      <td>Blues</td>\n",
       "    </tr>\n",
       "    <tr>\n",
       "      <th>4</th>\n",
       "      <td>4</td>\n",
       "      <td>I've Always Been Lonely</td>\n",
       "      <td>BB King</td>\n",
       "      <td>I don't have to know your name\\nUnless you rea...</td>\n",
       "      <td>Blues</td>\n",
       "    </tr>\n",
       "  </tbody>\n",
       "</table>\n",
       "</div>"
      ],
      "text/plain": [
       "   Unnamed: 0                     SName                    Artist  \\\n",
       "0           0               Country Boy              Muddy Waters   \n",
       "1           1  Don't Wait 'til Tomorrow            Gary Clark Jr.   \n",
       "2           2                   Frankie     Mississippi John Hurt   \n",
       "3           3           Fear Of Falling  The Allman Brothers Band   \n",
       "4           4   I've Always Been Lonely                   BB King   \n",
       "\n",
       "                                               Lyric Genres  \n",
       "0  Don't say I don't love you\\nBecause I stays ou...  Blues  \n",
       "1  I'm so tired of fighting\\nI'm so tired of bein...  Blues  \n",
       "2  (spoken introduction:\\n\"Frankie and Albert\", t...  Blues  \n",
       "3  by G. Allman, J. Townsend & T. Heding\\nThere w...  Blues  \n",
       "4  I don't have to know your name\\nUnless you rea...  Blues  "
      ]
     },
     "execution_count": 2,
     "metadata": {},
     "output_type": "execute_result"
    }
   ],
   "source": [
    "combined_genre_data = pd.read_csv(\"combined_genre_data.csv\")\n",
    "combined_genre_data.head()"
   ]
  },
  {
   "cell_type": "code",
   "execution_count": 3,
   "metadata": {},
   "outputs": [],
   "source": [
    "lyrics_list = list(combined_genre_data.Lyric)\n",
    "pattern = \"([a-zA-Z]+(?:'[a-z]+)?)\"\n",
    "lemmatizer = WordNetLemmatizer()\n",
    "# stemmer = SnowballStemmer(\"english\")\n",
    "english = list(set(nltk.corpus.words.words()))\n",
    "\n",
    "def clean_docs_lemma(lyrics_list):\n",
    "    cleaned = []\n",
    "    for lyric in lyrics_list:\n",
    "        clean_lyric = nltk.regexp_tokenize(lyric, pattern)\n",
    "        lyric_lower = [i.lower() for i in clean_lyric]\n",
    "        stop_words = stopwords.words('english')\n",
    "        stopwords_list = stop_words + list(string.punctuation)\n",
    "        stopwords_list += [\"''\", '\"\"', '...', '``']\n",
    "        lyrics_tokens_stopped = [w for w in lyric_lower if not w in stopwords_list]\n",
    "        lyric_lemmas = [lemmatizer.lemmatize(word) for word in lyrics_tokens_stopped]\n",
    "        c = \" \".join(lyric_lemmas)\n",
    "        cleaned.append(c)\n",
    "    return cleaned"
   ]
  },
  {
   "cell_type": "code",
   "execution_count": 4,
   "metadata": {},
   "outputs": [
    {
     "data": {
      "text/plain": [
       "6000"
      ]
     },
     "execution_count": 4,
     "metadata": {},
     "output_type": "execute_result"
    }
   ],
   "source": [
    "lemmed_lyrics = clean_docs_lemma(lyrics_list)\n",
    "len(lemmed_lyrics)"
   ]
  },
  {
   "cell_type": "code",
   "execution_count": 10,
   "metadata": {},
   "outputs": [
    {
     "data": {
      "image/png": "[encoded data removed]",
      "text/plain": [
       "<Figure size 1080x216 with 1 Axes>"
      ]
     },
     "metadata": {
      "needs_background": "light"
     },
     "output_type": "display_data"
    }
   ],
   "source": [
    "lyrics_lengths = [len(lyrics) for lyrics in lemmed_lyrics]\n",
    "sns.distplot(lyrics_lengths)\n",
    "plt.gcf().set_size_inches(15, 3)"
   ]
  },
  {
   "cell_type": "markdown",
   "metadata": {},
   "source": [
    "# Neural Net"
   ]
  },
  {
   "cell_type": "code",
   "execution_count": 56,
   "metadata": {},
   "outputs": [],
   "source": [
    "X = lemmed_lyrics\n",
    "y = combined_genre_data.Genres"
   ]
  },
  {
   "cell_type": "code",
   "execution_count": 57,
   "metadata": {},
   "outputs": [
    {
     "name": "stdout",
     "output_type": "stream",
     "text": [
      "Found 28872 unique tokens.\n"
     ]
    }
   ],
   "source": [
    "MAX_NB_WORDS = 25000\n",
    "MAX_SEQUENCE_LENGTH = 800\n",
    "EMBEDDING_DIM = 100\n",
    "\n",
    "tokenizer = Tokenizer(num_words=MAX_NB_WORDS, filters='!\"#$%&()*+,-./:;<=>?@[\\]^_`{|}~', lower=True)\n",
    "tokenizer.fit_on_texts(lemmed_lyrics)\n",
    "word_index = tokenizer.word_index\n",
    "print('Found %s unique tokens.' % len(word_index))"
   ]
  },
  {
   "cell_type": "code",
   "execution_count": 58,
   "metadata": {},
   "outputs": [
    {
     "name": "stdout",
     "output_type": "stream",
     "text": [
      "Shape of data tensor: (6000, 800)\n"
     ]
    }
   ],
   "source": [
    "X = tokenizer.texts_to_sequences(lemmed_lyrics)\n",
    "X = pad_sequences(X, maxlen=MAX_SEQUENCE_LENGTH)\n",
    "print('Shape of data tensor:', X.shape)"
   ]
  },
  {
   "cell_type": "code",
   "execution_count": 59,
   "metadata": {},
   "outputs": [
    {
     "name": "stdout",
     "output_type": "stream",
     "text": [
      "Shape of label tensor: (6000, 6)\n"
     ]
    }
   ],
   "source": [
    "y = pd.get_dummies(combined_genre_data.Genres).values\n",
    "print('Shape of label tensor:', y.shape)"
   ]
  },
  {
   "cell_type": "code",
   "execution_count": 81,
   "metadata": {},
   "outputs": [
    {
     "data": {
      "text/plain": [
       "LabelEncoder()"
      ]
     },
     "execution_count": 81,
     "metadata": {},
     "output_type": "execute_result"
    }
   ],
   "source": [
    "le = LabelEncoder()\n",
    "le.fit(combined_genre_data.Genres.values)"
   ]
  },
  {
   "cell_type": "code",
   "execution_count": 82,
   "metadata": {},
   "outputs": [
    {
     "data": {
      "text/plain": [
       "array(['Blues', 'Country', 'Hip Hop', 'Jazz', 'Pop', 'Rock'], dtype=object)"
      ]
     },
     "execution_count": 82,
     "metadata": {},
     "output_type": "execute_result"
    }
   ],
   "source": [
    "le.classes_"
   ]
  },
  {
   "cell_type": "code",
   "execution_count": 75,
   "metadata": {},
   "outputs": [
    {
     "data": {
      "text/plain": [
       "array([[1, 0, 0, 0, 0, 0],\n",
       "       [1, 0, 0, 0, 0, 0],\n",
       "       [1, 0, 0, 0, 0, 0],\n",
       "       ...,\n",
       "       [0, 0, 0, 0, 0, 1],\n",
       "       [0, 0, 0, 0, 0, 1],\n",
       "       [0, 0, 0, 0, 0, 1]], dtype=uint8)"
      ]
     },
     "execution_count": 75,
     "metadata": {},
     "output_type": "execute_result"
    }
   ],
   "source": [
    "y"
   ]
  },
  {
   "cell_type": "code",
   "execution_count": 73,
   "metadata": {},
   "outputs": [
    {
     "data": {
      "text/plain": [
       "0       Blues\n",
       "1       Blues\n",
       "2       Blues\n",
       "3       Blues\n",
       "4       Blues\n",
       "        ...  \n",
       "5995     Rock\n",
       "5996     Rock\n",
       "5997     Rock\n",
       "5998     Rock\n",
       "5999     Rock\n",
       "Name: Genres, Length: 6000, dtype: object"
      ]
     },
     "execution_count": 73,
     "metadata": {},
     "output_type": "execute_result"
    }
   ],
   "source": [
    "combined_genre_data.Genres"
   ]
  },
  {
   "cell_type": "code",
   "execution_count": 60,
   "metadata": {},
   "outputs": [
    {
     "name": "stdout",
     "output_type": "stream",
     "text": [
      "(4500, 800)\n",
      "(1500, 800)\n",
      "(4500, 6)\n",
      "(1500, 6)\n"
     ]
    }
   ],
   "source": [
    "X_train, X_test, y_train, y_test = train_test_split(X, y, test_size=0.25)\n",
    "print(X_train.shape)\n",
    "print(X_test.shape)\n",
    "print(y_train.shape)\n",
    "print(y_test.shape)"
   ]
  },
  {
   "cell_type": "code",
   "execution_count": 64,
   "metadata": {},
   "outputs": [
    {
     "name": "stdout",
     "output_type": "stream",
     "text": [
      "Epoch 1/5\n",
      "41/41 [==============================] - 1085s 26s/step - loss: 1.7838 - accuracy: 0.1970 - val_loss: 1.5410 - val_accuracy: 0.3578\n",
      "Epoch 2/5\n",
      "41/41 [==============================] - 625s 15s/step - loss: 1.5492 - accuracy: 0.3859 - val_loss: 1.4635 - val_accuracy: 0.3778\n",
      "Epoch 3/5\n",
      "41/41 [==============================] - 523s 13s/step - loss: 1.3569 - accuracy: 0.4422 - val_loss: 1.3347 - val_accuracy: 0.4356\n",
      "Epoch 4/5\n",
      "41/41 [==============================] - 543s 13s/step - loss: 1.1388 - accuracy: 0.5384 - val_loss: 1.3479 - val_accuracy: 0.4644\n",
      "Epoch 5/5\n",
      "41/41 [==============================] - 539s 13s/step - loss: 0.9421 - accuracy: 0.6651 - val_loss: 1.3066 - val_accuracy: 0.4978\n"
     ]
    }
   ],
   "source": [
    "model = keras.Sequential()\n",
    "model.add(layers.Embedding(MAX_NB_WORDS, EMBEDDING_DIM, input_length=X.shape[1]))\n",
    "model.add(layers.SpatialDropout1D(0.2))\n",
    "model.add(layers.LSTM(100, dropout=0.2, recurrent_dropout=0.2))\n",
    "model.add(layers.Dense(y.shape[1], activation='softmax'))\n",
    "model.compile(loss='categorical_crossentropy', optimizer='adam', metrics=['accuracy'])\n",
    "\n",
    "epochs = 5\n",
    "batch_size = 100\n",
    "\n",
    "history = model.fit(X_train, y_train, epochs=epochs, batch_size=batch_size,validation_split=0.1)\n"
   ]
  },
  {
   "cell_type": "code",
   "execution_count": 65,
   "metadata": {},
   "outputs": [
    {
     "name": "stdout",
     "output_type": "stream",
     "text": [
      "47/47 [==============================] - 10s 210ms/step - loss: 1.3471 - accuracy: 0.4860\n",
      "Test set\n",
      "  Loss: 1.347\n",
      "  Accuracy: 0.486\n"
     ]
    }
   ],
   "source": [
    "accr = model.evaluate(X_test,y_test)\n",
    "print('Test set\\n  Loss: {:0.3f}\\n  Accuracy: {:0.3f}'.format(accr[0],accr[1]))"
   ]
  },
  {
   "cell_type": "code",
   "execution_count": 66,
   "metadata": {},
   "outputs": [
    {
     "data": {
      "image/png": "[encoded data removed]",
      "text/plain": [
       "<Figure size 432x288 with 1 Axes>"
      ]
     },
     "metadata": {
      "needs_background": "light"
     },
     "output_type": "display_data"
    }
   ],
   "source": [
    "plt.title('Loss')\n",
    "plt.plot(history.history['loss'], label='train')\n",
    "plt.plot(history.history['val_loss'], label='test')\n",
    "plt.legend()\n",
    "plt.show();"
   ]
  },
  {
   "cell_type": "code",
   "execution_count": 69,
   "metadata": {},
   "outputs": [
    {
     "data": {
      "image/png": "[encoded data removed]",
      "text/plain": [
       "<Figure size 432x288 with 1 Axes>"
      ]
     },
     "metadata": {
      "needs_background": "light"
     },
     "output_type": "display_data"
    }
   ],
   "source": [
    "plt.title('Accuracy')\n",
    "plt.plot(history.history['accuracy'], label='train')\n",
    "plt.plot(history.history['val_accuracy'], label='test')\n",
    "plt.legend()\n",
    "plt.show();"
   ]
  },
  {
   "cell_type": "code",
   "execution_count": 115,
   "metadata": {},
   "outputs": [],
   "source": [
    "y_pred_train = model.predict(X_train)\n",
    "y_pred_test = model.predict(X_test)"
   ]
  },
  {
   "cell_type": "code",
   "execution_count": 116,
   "metadata": {},
   "outputs": [],
   "source": [
    "y_pred_classes_train = y_pred_train.argmax(axis=-1)\n",
    "classified_train = le.inverse_transform(y_pred_classes_train)\n",
    "\n",
    "y_train_classes = y_train.argmax(axis=-1)\n",
    "gold_train = le.inverse_transform(y_train_classes)"
   ]
  },
  {
   "cell_type": "code",
   "execution_count": 117,
   "metadata": {},
   "outputs": [],
   "source": [
    "y_pred_classes_test = y_pred_test.argmax(axis=-1)\n",
    "classified_test = le.inverse_transform(y_pred_classes_test)\n",
    "\n",
    "y_test_classes = y_test.argmax(axis=-1)\n",
    "gold_test = le.inverse_transform(y_test_classes)"
   ]
  },
  {
   "cell_type": "code",
   "execution_count": 127,
   "metadata": {},
   "outputs": [
    {
     "data": {
      "text/plain": [
       "array(['Hip Hop', 'Blues', 'Jazz', ..., 'Pop', 'Hip Hop', 'Rock'],\n",
       "      dtype=object)"
      ]
     },
     "execution_count": 127,
     "metadata": {},
     "output_type": "execute_result"
    }
   ],
   "source": [
    "gold_train"
   ]
  },
  {
   "cell_type": "markdown",
   "metadata": {},
   "source": [
    "# Metrics"
   ]
  },
  {
   "cell_type": "code",
   "execution_count": 123,
   "metadata": {},
   "outputs": [],
   "source": [
    "def score_report(classes, classified_train, gold_train, classified_test, gold_test):\n",
    "    print(\"----------- Training Set Report -----------\")\n",
    "#     print(\"Accuracy\", accuracy_score(y_train, y_train_pred))\n",
    "    print(\"Precision\", precision_multi(gold_train, classified_train))\n",
    "    print(\"Recall\", recall_multi(gold_train, classified_train))\n",
    "    print(\"F1\", f1_multi(gold_train, classified_train))\n",
    "    cm = confusion_matrix(gold_train, classified_train, labels=classes)\n",
    "    print(\"Confusion matrix\", cm)\n",
    "    disp = ConfusionMatrixDisplay(confusion_matrix=cm, display_labels=classes)\n",
    "    disp.plot()\n",
    "    plt.show()\n",
    "    print(\"----------- Testing Set Report -----------\")\n",
    "#     print(\"Accuracy\", accuracy_score(y_test, y_test_pred))\n",
    "    print(\"Precision\", precision_multi(gold_test, classified_test))\n",
    "    print(\"Recall\", recall_multi(gold_test, classified_test))\n",
    "    print(\"F1\", f1_multi(gold_test, classified_test))\n",
    "    cm = confusion_matrix(gold_test, classified_test, labels=classes)\n",
    "    print(\"Confusion matrix\", cm)\n",
    "    disp = ConfusionMatrixDisplay(confusion_matrix=cm, display_labels=classes)\n",
    "    disp.plot()\n",
    "    plt.show()"
   ]
  },
  {
   "cell_type": "code",
   "execution_count": 124,
   "metadata": {},
   "outputs": [],
   "source": [
    "from collections import Counter\n",
    "from statistics import mean\n",
    "def precision_multi_dict(gold_labels, classified_labels):\n",
    "    # gold labels is a list of strings of the true labels\n",
    "    # classified labels is a list of strings of the labels assigned by the classifier\n",
    "    classes = set(gold_labels)\n",
    "    class_precisions = Counter()\n",
    "    for _class in classes:\n",
    "        den = 0\n",
    "        num = 0\n",
    "        for i in range(len(classified_labels)):\n",
    "            if classified_labels[i] == _class:\n",
    "                den += 1\n",
    "                if gold_labels[i] == _class:\n",
    "                    num += 1\n",
    "        if den == 0:\n",
    "            class_precisions[_class] = 0.0\n",
    "        else:\n",
    "            class_precisions[_class] = float(num / den)\n",
    "    return class_precisions\n",
    "\n",
    "\n",
    "def precision_multi(gold_labels, classified_labels):\n",
    "    # gold labels is a list of strings of the true labels\n",
    "    # classified labels is a list of strings of the labels assigned by the classifier\n",
    "    precision_dict = precision_multiclass_dict(gold_labels, classified_labels)\n",
    "    return float(mean(precision_dict.values()))\n",
    "\n",
    "def recall_multi_dict(gold_labels, classified_labels):\n",
    "    # gold labels is a list of strings of the true labels\n",
    "    # classified labels is a list of strings of the labels assigned by the classifier\n",
    "    classes = set(gold_labels)\n",
    "    class_recalls = Counter()\n",
    "    for _class in classes:\n",
    "        den = 0\n",
    "        num = 0\n",
    "        for i in range(len(gold_labels)):\n",
    "            if gold_labels[i] == _class:\n",
    "                den += 1\n",
    "                if classified_labels[i] == _class:\n",
    "                    num += 1\n",
    "        if den == 0:\n",
    "            class_precisions[_class] = 0.0\n",
    "        else:\n",
    "            class_recalls[_class] = float(num / den)\n",
    "    return class_recalls\n",
    "\n",
    "\n",
    "\n",
    "def recall_multi(gold_labels, classified_labels):\n",
    "    # gold labels is a list of strings of the true labels\n",
    "    # classified labels is a list of strings of the labels assigned by the classifier\n",
    "    recall_dict = recall_multi_dict(gold_labels, classified_labels)\n",
    "    return float(mean(recall_dict.values()))\n",
    "\n",
    "\n",
    "def f1_multi(gold_labels, classified_labels):\n",
    "    # gold labels is a list of strings of the true labels\n",
    "    # classified labels is a list of strings of the labels assigned by the classifier\n",
    "    precision_dict = precision_multiclass_dict(gold_labels, classified_labels)\n",
    "    recall_dict = recall_multi_dict(gold_labels, classified_labels)\n",
    "\n",
    "    classes = precision_dict.keys()\n",
    "\n",
    "    f1_scores = []\n",
    "    for _class in classes:\n",
    "        class_precision = precision_dict[_class]\n",
    "        class_recall = recall_dict[_class]\n",
    "        if class_precision + class_recall == 0:\n",
    "            f1_scores.append(0.0)\n",
    "        else:\n",
    "            f1_scores.append(float((2 * class_precision * class_recall) / (class_precision + class_recall)))\n",
    "\n",
    "    return mean(f1_scores)\n"
   ]
  },
  {
   "cell_type": "code",
   "execution_count": 101,
   "metadata": {},
   "outputs": [
    {
     "data": {
      "text/plain": [
       "Counter({'Jazz': 0.5056497175141242,\n",
       "         'Rock': 0.2883116883116883,\n",
       "         'Hip Hop': 0.8325991189427313,\n",
       "         'Blues': 0.532871972318339,\n",
       "         'Country': 0.3464566929133858,\n",
       "         'Pop': 0.4406779661016949})"
      ]
     },
     "execution_count": 101,
     "metadata": {},
     "output_type": "execute_result"
    }
   ],
   "source": [
    "precision_multi_dict(gold_labels, classified_labels)"
   ]
  },
  {
   "cell_type": "code",
   "execution_count": 102,
   "metadata": {},
   "outputs": [
    {
     "data": {
      "text/plain": [
       "0.49109452601699394"
      ]
     },
     "execution_count": 102,
     "metadata": {},
     "output_type": "execute_result"
    }
   ],
   "source": [
    "precision_multi(gold_labels, classified_labels)"
   ]
  },
  {
   "cell_type": "code",
   "execution_count": 103,
   "metadata": {},
   "outputs": [
    {
     "data": {
      "text/plain": [
       "Counter({'Jazz': 0.7276422764227642,\n",
       "         'Rock': 0.4475806451612903,\n",
       "         'Hip Hop': 0.756,\n",
       "         'Blues': 0.6062992125984252,\n",
       "         'Country': 0.16988416988416988,\n",
       "         'Pop': 0.2139917695473251})"
      ]
     },
     "execution_count": 103,
     "metadata": {},
     "output_type": "execute_result"
    }
   ],
   "source": [
    "recall_multi_dict(gold_labels, classified_labels)"
   ]
  },
  {
   "cell_type": "code",
   "execution_count": 104,
   "metadata": {},
   "outputs": [
    {
     "data": {
      "text/plain": [
       "0.48689967893566244"
      ]
     },
     "execution_count": 104,
     "metadata": {},
     "output_type": "execute_result"
    }
   ],
   "source": [
    "recall_multi(gold_labels, classified_labels)"
   ]
  },
  {
   "cell_type": "code",
   "execution_count": 105,
   "metadata": {},
   "outputs": [
    {
     "data": {
      "text/plain": [
       "0.4705195779090784"
      ]
     },
     "execution_count": 105,
     "metadata": {},
     "output_type": "execute_result"
    }
   ],
   "source": [
    "f1_multi(gold_labels, classified_labels)"
   ]
  },
  {
   "cell_type": "code",
   "execution_count": null,
   "metadata": {},
   "outputs": [],
   "source": []
  },
  {
   "cell_type": "code",
   "execution_count": 113,
   "metadata": {},
   "outputs": [
    {
     "data": {
      "text/plain": [
       "0.8090267954166066"
      ]
     },
     "execution_count": 113,
     "metadata": {},
     "output_type": "execute_result"
    }
   ],
   "source": [
    "roc_auc_score(y_test, model.predict(X_test), multi_class='ovo')"
   ]
  },
  {
   "cell_type": "code",
   "execution_count": 111,
   "metadata": {},
   "outputs": [
    {
     "data": {
      "text/plain": [
       "array([5, 3, 5, ..., 0, 0, 2], dtype=int64)"
      ]
     },
     "execution_count": 111,
     "metadata": {},
     "output_type": "execute_result"
    }
   ],
   "source": [
    "y_pred_classes"
   ]
  },
  {
   "cell_type": "code",
   "execution_count": 120,
   "metadata": {},
   "outputs": [
    {
     "data": {
      "text/plain": [
       "array(['Blues', 'Country', 'Hip Hop', 'Jazz', 'Pop', 'Rock'], dtype=object)"
      ]
     },
     "execution_count": 120,
     "metadata": {},
     "output_type": "execute_result"
    }
   ],
   "source": [
    "le.classes_"
   ]
  },
  {
   "cell_type": "code",
   "execution_count": 125,
   "metadata": {},
   "outputs": [
    {
     "name": "stdout",
     "output_type": "stream",
     "text": [
      "----------- Training Set Report -----------\n",
      "Precision 0.7140799211990748\n",
      "Recall 0.752984180732876\n",
      "F1 0.7009765200750965\n",
      "Confusion matrix [[659  21  15  16  35  48]\n",
      " [  5 259   2  16  22  43]\n",
      " [  1   0 681   0  78   3]\n",
      " [ 48 172   2 701  15  61]\n",
      " [  1  10  28   1 329  11]\n",
      " [ 32 279  22  20 278 586]]\n"
     ]
    },
    {
     "data": {
      "image/png": "[encoded data removed]",
      "text/plain": [
       "<Figure size 432x288 with 2 Axes>"
      ]
     },
     "metadata": {
      "needs_background": "light"
     },
     "output_type": "display_data"
    },
    {
     "name": "stdout",
     "output_type": "stream",
     "text": [
      "----------- Testing Set Report -----------\n",
      "Precision 0.48689967893566244\n",
      "Recall 0.49109452601699394\n",
      "F1 0.4705195779090784\n",
      "Confusion matrix [[154  28  12  36  24  35]\n",
      " [ 11  44   4  15  24  29]\n",
      " [  0   2 189   1  29   6]\n",
      " [ 45  67   1 179  13  49]\n",
      " [  6  14  25   3  52  18]\n",
      " [ 38 104  19  12 101 111]]\n"
     ]
    },
    {
     "data": {
      "image/png": "[encoded data removed]",
      "text/plain": [
       "<Figure size 432x288 with 2 Axes>"
      ]
     },
     "metadata": {
      "needs_background": "light"
     },
     "output_type": "display_data"
    }
   ],
   "source": [
    "score_report(le.classes_, gold_train, classified_train, gold_test, classified_test)"
   ]
  },
  {
   "cell_type": "code",
   "execution_count": 126,
   "metadata": {},
   "outputs": [
    {
     "data": {
      "text/plain": [
       "0.486"
      ]
     },
     "execution_count": 126,
     "metadata": {},
     "output_type": "execute_result"
    }
   ],
   "source": [
    "accuracy_score(gold_test, classified_test)"
   ]
  },
  {
   "cell_type": "code",
   "execution_count": null,
   "metadata": {},
   "outputs": [],
   "source": []
  }
 ],
 "metadata": {
  "kernelspec": {
   "display_name": "Python 3",
   "language": "python",
   "name": "python3"
  },
  "language_info": {
   "codemirror_mode": {
    "name": "ipython",
    "version": 3
   },
   "file_extension": ".py",
   "mimetype": "text/x-python",
   "name": "python",
   "nbconvert_exporter": "python",
   "pygments_lexer": "ipython3",
   "version": "3.8.3"
  }
 },
 "nbformat": 4,
 "nbformat_minor": 4
}
