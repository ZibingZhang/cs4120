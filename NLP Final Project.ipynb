{
 "cells": [
  {
   "cell_type": "code",
   "execution_count": null,
   "id": "3d31ba8a",
   "metadata": {},
   "outputs": [],
   "source": [
    "pip install spotipy lyricsgenius"
   ]
  },
  {
   "cell_type": "code",
   "execution_count": 5,
   "id": "6967e363",
   "metadata": {},
   "outputs": [],
   "source": [
    "import pandas as pd"
   ]
  },
  {
   "cell_type": "code",
   "execution_count": 4,
   "id": "de179026",
   "metadata": {},
   "outputs": [
    {
     "data": {
      "text/html": [
       "<div>\n",
       "<style scoped>\n",
       "    .dataframe tbody tr th:only-of-type {\n",
       "        vertical-align: middle;\n",
       "    }\n",
       "\n",
       "    .dataframe tbody tr th {\n",
       "        vertical-align: top;\n",
       "    }\n",
       "\n",
       "    .dataframe thead th {\n",
       "        text-align: right;\n",
       "    }\n",
       "</style>\n",
       "<table border=\"1\" class=\"dataframe\">\n",
       "  <thead>\n",
       "    <tr style=\"text-align: right;\">\n",
       "      <th></th>\n",
       "      <th>pop\\thold time feel break feel untrue convince speak voice tear try hold hurt try forgive okay play break string feel heart want feel tell real truth hurt lie worse anymore little turn dust play house ruin run leave save like chase train late late tear try hold hurt try forgive okay play break string feel heart want feel tell real truth hurt lie worse anymore little run leave save like chase train know late late play break string feel heart want feel tell real truth hurt lie worse anymore little know little hold time feel</th>\n",
       "    </tr>\n",
       "  </thead>\n",
       "  <tbody>\n",
       "    <tr>\n",
       "      <th>0</th>\n",
       "      <td>pop\\tbelieve drop rain fall grow believe darke...</td>\n",
       "    </tr>\n",
       "    <tr>\n",
       "      <th>1</th>\n",
       "      <td>pop\\tsweetheart send letter goodbye secret fee...</td>\n",
       "    </tr>\n",
       "    <tr>\n",
       "      <th>2</th>\n",
       "      <td>pop\\tkiss lips want stroll charm mambo chacha ...</td>\n",
       "    </tr>\n",
       "    <tr>\n",
       "      <th>3</th>\n",
       "      <td>pop\\ttill darling till matter know till dream ...</td>\n",
       "    </tr>\n",
       "    <tr>\n",
       "      <th>4</th>\n",
       "      <td>pop\\tconvoy light dead ahead merchantmen trump...</td>\n",
       "    </tr>\n",
       "    <tr>\n",
       "      <th>...</th>\n",
       "      <td>...</td>\n",
       "    </tr>\n",
       "    <tr>\n",
       "      <th>28338</th>\n",
       "      <td>hip hop\\tfabolous hahahaha yeah ghetto superst...</td>\n",
       "    </tr>\n",
       "    <tr>\n",
       "      <th>28339</th>\n",
       "      <td>hip hop\\theroes tryna glock straight work nigg...</td>\n",
       "    </tr>\n",
       "    <tr>\n",
       "      <th>28340</th>\n",
       "      <td>hip hop\\tsit eazy believe alright eazy tell li...</td>\n",
       "    </tr>\n",
       "    <tr>\n",
       "      <th>28341</th>\n",
       "      <td>hip hop\\tknow right clear streets come track n...</td>\n",
       "    </tr>\n",
       "    <tr>\n",
       "      <th>28342</th>\n",
       "      <td>hip hop\\tspark like blunt somethin cavi makin ...</td>\n",
       "    </tr>\n",
       "  </tbody>\n",
       "</table>\n",
       "<p>28343 rows × 1 columns</p>\n",
       "</div>"
      ],
      "text/plain": [
       "      pop\\thold time feel break feel untrue convince speak voice tear try hold hurt try forgive okay play break string feel heart want feel tell real truth hurt lie worse anymore little turn dust play house ruin run leave save like chase train late late tear try hold hurt try forgive okay play break string feel heart want feel tell real truth hurt lie worse anymore little run leave save like chase train know late late play break string feel heart want feel tell real truth hurt lie worse anymore little know little hold time feel\n",
       "0      pop\\tbelieve drop rain fall grow believe darke...                                                                                                                                                                                                                                                                                                                                                                                                                                                                                             \n",
       "1      pop\\tsweetheart send letter goodbye secret fee...                                                                                                                                                                                                                                                                                                                                                                                                                                                                                             \n",
       "2      pop\\tkiss lips want stroll charm mambo chacha ...                                                                                                                                                                                                                                                                                                                                                                                                                                                                                             \n",
       "3      pop\\ttill darling till matter know till dream ...                                                                                                                                                                                                                                                                                                                                                                                                                                                                                             \n",
       "4      pop\\tconvoy light dead ahead merchantmen trump...                                                                                                                                                                                                                                                                                                                                                                                                                                                                                             \n",
       "...                                                  ...                                                                                                                                                                                                                                                                                                                                                                                                                                                                                             \n",
       "28338  hip hop\\tfabolous hahahaha yeah ghetto superst...                                                                                                                                                                                                                                                                                                                                                                                                                                                                                             \n",
       "28339  hip hop\\theroes tryna glock straight work nigg...                                                                                                                                                                                                                                                                                                                                                                                                                                                                                             \n",
       "28340  hip hop\\tsit eazy believe alright eazy tell li...                                                                                                                                                                                                                                                                                                                                                                                                                                                                                             \n",
       "28341  hip hop\\tknow right clear streets come track n...                                                                                                                                                                                                                                                                                                                                                                                                                                                                                             \n",
       "28342  hip hop\\tspark like blunt somethin cavi makin ...                                                                                                                                                                                                                                                                                                                                                                                                                                                                                             \n",
       "\n",
       "[28343 rows x 1 columns]"
      ]
     },
     "execution_count": 4,
     "metadata": {},
     "output_type": "execute_result"
    }
   ],
   "source": [
    "data = pd.read_csv('./training-data.tsv')\n",
    "data"
   ]
  },
  {
   "cell_type": "code",
   "execution_count": 6,
   "id": "cc87e48f",
   "metadata": {},
   "outputs": [],
   "source": [
    "import spotipy\n",
    "import lyricsgenius\n",
    "from spotipy.oauth2 import SpotifyClientCredentials"
   ]
  },
  {
   "cell_type": "code",
   "execution_count": null,
   "id": "d0ecdd83",
   "metadata": {},
   "outputs": [],
   "source": [
    "sp = spotipy.Spotify(auth_manager=SpotifyClientCredentials(client_id=\"57145e04c4e34b998712d9eede6aaf7d\",\n",
    "                                                           client_secret=\"0c20611c261b4c16b407f954d53ea48e\"))\n",
    "\n",
    "results = sp.search(q='drake', limit=3)\n",
    "for idx, track in enumerate(results['tracks']['items']):\n",
    "    print(idx, track['name'])"
   ]
  },
  {
   "cell_type": "code",
   "execution_count": 7,
   "id": "548da755",
   "metadata": {},
   "outputs": [
    {
     "name": "stdout",
     "output_type": "stream",
     "text": [
      "Searching for songs by drake...\n",
      "\n",
      "Changing artist name to 'Drake'\n",
      "Song 1: \"0 to 100 / The Catch Up\"\n",
      "Song 2: \"10 Bands\"\n",
      "Song 3: \"1Xtra Freestyle\"\n",
      "\n",
      "Reached user-specified song limit (3).\n",
      "Done. Found 3 songs.\n",
      "[Song(id, artist, ...), Song(id, artist, ...), Song(id, artist, ...)]\n"
     ]
    }
   ],
   "source": [
    "genius = lyricsgenius.Genius(\"wJRVTKvwP6Co2RwJEfiVvox_QcoPEm23z3hst8BOfHPa9qkF4Fuj6jQuRfsI5_rn\")\n",
    "artist = genius.search_artist(\"drake\", max_songs=3, sort=\"title\")\n",
    "print(artist.songs)"
   ]
  },
  {
   "cell_type": "code",
   "execution_count": 8,
   "id": "4a7d368b",
   "metadata": {},
   "outputs": [
    {
     "name": "stdout",
     "output_type": "stream",
     "text": [
      "Searching for \"Marvin's Room\" by Drake...\n",
      "Done.\n",
      "Marvin’s Room Lyrics[Intro: Ericka Lee]\n",
      "Hello?\n",
      "Yeah, I just walked in\n",
      "Yeah, I'm good, you still working?\n",
      "Tonight, right now?\n",
      "Did I go out? Yeah, I went out, I went\n",
      "I went to a couple of clubs\n",
      "I never went to bed, shit\n",
      "Wine or water?\n",
      "Did you say something about a cold drink? I don't know\n",
      "I'm delirious\n",
      "\n",
      "[Verse 1: Drake]\n",
      "Cups of the rosé\n",
      "Bitches in my old phone\n",
      "I should call one and go home\n",
      "I've been in this club too long\n",
      "The woman that I would try\n",
      "Is happy with a good guy\n",
      "But I've been drinkin' so much\n",
      "That I'ma call her anyway and say\n",
      "[Chorus: Drake]\n",
      "Fuck that nigga that you love so bad\n",
      "I know you still think about the times we had\n",
      "I say fuck that nigga that you think you found\n",
      "And since you pick up, I know he's not around, oh, oh\n",
      "[Post-Chorus: Drake & Ericka Lee]\n",
      "Are you drunk right now?\n",
      "I'm just sayin' you could do better\n",
      "Tell me, have you heard that lately?\n",
      "I'm just sayin' you could do better\n",
      "And I'll start hatin' only if you make me\n",
      "\n",
      "[Verse 2: Drake]\n",
      "Uh, cups of the XO\n",
      "All my people been here\n",
      "I see all of her friends here\n",
      "Guess she don't have the time to kick it no more\n",
      "Flight's in the morning\n",
      "What you doin' that's so important?\n",
      "I've been drinkin' so much\n",
      "That I'ma call you anyway and say\n",
      "\n",
      "[Chorus: Drake]\n",
      "Fuck that nigga that you love so bad\n",
      "I know you still think about the times we had\n",
      "I say fuck that nigga that you think you found\n",
      "And since you pick up, I know he's not around\n",
      "[Post-Chorus: Drake & Ericka Lee]\n",
      "Are you drunk right now?\n",
      "I'm just sayin' you could do better\n",
      "Tell me, have you heard that lately?\n",
      "I'm just sayin' you could do better\n",
      "And I'll start hatin' only if you make me\n",
      "\n",
      "[Verse 3: Drake]\n",
      "I think I'm addicted to naked pictures\n",
      "And sittin' talkin' 'bout bitches that we almost had\n",
      "I don't think I'm conscious of makin' monsters\n",
      "Outta the women I sponsor 'til it all goes bad\n",
      "But, shit, it's all good\n",
      "We threw a party, yeah, we threw a party\n",
      "Bitches came over, yeah, we threw a party\n",
      "I was just callin' 'cause they were just leavin'\n",
      "Talk to me, please, don't have much to believe in\n",
      "I need you right now, are you down to listen to me?\n",
      "Too many drinks have been given to me\n",
      "I got some women that's livin' off me\n",
      "Paid for their flights and hotels, I'm ashamed\n",
      "Bet that you know them, I won't say no names\n",
      "After a while, girl, they all seem the same\n",
      "I've had sex four times this week, I'll explain\n",
      "Havin' a hard time adjustin' to fame\n",
      "Sprite in there mixed up\n",
      "I've been talkin' crazy, girl, I'm lucky that you picked up\n",
      "Lucky that you stayed on\n",
      "I need someone to put this weight on\n",
      "Fuck, I'm sorry\n",
      "[Post-Chorus: Drake & Ericka Lee]\n",
      "Are you drunk right now?\n",
      "I'm just sayin' you could do better\n",
      "Tell me, have you heard that lately?\n",
      "I'm just sayin' you could do better\n",
      "And I'll start hatin' only if you make me\n",
      "\n",
      "[Interlude: Drake]\n",
      "You not gon' come?\n",
      "I guess I'm 'bout to just kick it here then\n",
      "\n",
      "[Outro: Drake]\n",
      "Just throw up while I hold your hair back\n",
      "Her white friend said, \"You niggas crazy,\" I hope no one heard that\n",
      "Yeah, I hope no one heard that\n",
      "'Cause if they did, we gon' be in some trouble, yeah\n",
      "If they did, we gon' be in some trouble, trouble, oh264Embed\n"
     ]
    }
   ],
   "source": [
    "songs = [\"Marvin's Room\"]\n",
    "artists = [\"Drake\"]\n",
    "genres = [\"Pop\"]\n",
    "\n",
    "song = genius.search_song(\"Marvin's Room\", artist.name)\n",
    "print(song.lyrics)"
   ]
  },
  {
   "cell_type": "markdown",
   "id": "369b11d6",
   "metadata": {},
   "source": [
    "stuff added by bing below"
   ]
  },
  {
   "cell_type": "code",
   "execution_count": 13,
   "id": "668e436b",
   "metadata": {},
   "outputs": [
    {
     "name": "stdout",
     "output_type": "stream",
     "text": [
      "28373\n"
     ]
    }
   ],
   "source": [
    "import csv\n",
    "\n",
    "csvfile = open('tcc_ceds_music.csv', newline='', encoding='utf-8')\n",
    "reader = csv.reader(csvfile, delimiter=',')\n",
    "i = 0\n",
    "for row in reader:\n",
    "  genre = row[4]\n",
    "  lyrics = row[5]\n",
    "  # print(genre, lyrics)\n",
    "  i += 1\n",
    "  # if i == 5:\n",
    "  #   break\n",
    "print(i)"
   ]
  }
 ],
 "metadata": {
  "kernelspec": {
   "display_name": "Python 3 (ipykernel)",
   "language": "python",
   "name": "python3"
  },
  "language_info": {
   "codemirror_mode": {
    "name": "ipython",
    "version": 3
   },
   "file_extension": ".py",
   "mimetype": "text/x-python",
   "name": "python",
   "nbconvert_exporter": "python",
   "pygments_lexer": "ipython3",
   "version": "3.9.10"
  }
 },
 "nbformat": 4,
 "nbformat_minor": 5
}
