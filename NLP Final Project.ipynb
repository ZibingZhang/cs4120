{
 "cells": [
  {
   "cell_type": "code",
   "execution_count": null,
   "id": "3d31ba8a",
   "metadata": {},
   "outputs": [],
   "source": [
    "pip install spotipy lyricsgenius"
   ]
  },
  {
   "cell_type": "code",
   "execution_count": null,
   "id": "cc87e48f",
   "metadata": {},
   "outputs": [],
   "source": [
    "import spotipy\n",
    "import lyricsgenius\n",
    "from spotipy.oauth2 import SpotifyClientCredentials"
   ]
  },
  {
   "cell_type": "code",
   "execution_count": null,
   "id": "d0ecdd83",
   "metadata": {},
   "outputs": [],
   "source": [
    "sp = spotipy.Spotify(auth_manager=SpotifyClientCredentials(client_id=\"57145e04c4e34b998712d9eede6aaf7d\",\n",
    "                                                           client_secret=\"0c20611c261b4c16b407f954d53ea48e\"))\n",
    "\n",
    "results = sp.search(q='drake', limit=3)\n",
    "for idx, track in enumerate(results['tracks']['items']):\n",
    "    print(idx, track['name'])"
   ]
  },
  {
   "cell_type": "code",
   "execution_count": null,
   "id": "548da755",
   "metadata": {},
   "outputs": [],
   "source": [
    "genius = lyricsgenius.Genius(\"wJRVTKvwP6Co2RwJEfiVvox_QcoPEm23z3hst8BOfHPa9qkF4Fuj6jQuRfsI5_rn\")\n",
    "artist = genius.search_artist(\"drake\", max_songs=3, sort=\"title\")\n",
    "print(artist.songs)"
   ]
  },
  {
   "cell_type": "code",
   "execution_count": null,
   "id": "4a7d368b",
   "metadata": {},
   "outputs": [],
   "source": [
    "song = genius.search_song(\"Marvin's Room\", artist.name)\n",
    "print(song.lyrics)"
   ]
  },
  {
   "cell_type": "markdown",
   "id": "369b11d6",
   "metadata": {},
   "source": [
    "stuff added by bing below"
   ]
  },
  {
   "cell_type": "code",
   "execution_count": 13,
   "id": "668e436b",
   "metadata": {},
   "outputs": [
    {
     "name": "stdout",
     "output_type": "stream",
     "text": [
      "28373\n"
     ]
    }
   ],
   "source": [
    "import csv\n",
    "\n",
    "csvfile = open('tcc_ceds_music.csv', newline='', encoding='utf-8')\n",
    "reader = csv.reader(csvfile, delimiter=',')\n",
    "i = 0\n",
    "for row in reader:\n",
    "  genre = row[4]\n",
    "  lyrics = row[5]\n",
    "  # print(genre, lyrics)\n",
    "  i += 1\n",
    "  # if i == 5:\n",
    "  #   break\n",
    "print(i)"
   ]
  }
 ],
 "metadata": {
  "kernelspec": {
   "display_name": "Python 3 (ipykernel)",
   "language": "python",
   "name": "python3"
  },
  "language_info": {
   "codemirror_mode": {
    "name": "ipython",
    "version": 3
   },
   "file_extension": ".py",
   "mimetype": "text/x-python",
   "name": "python",
   "nbconvert_exporter": "python",
   "pygments_lexer": "ipython3",
   "version": "3.10.0"
  }
 },
 "nbformat": 4,
 "nbformat_minor": 5
}
