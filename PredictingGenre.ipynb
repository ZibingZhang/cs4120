{
 "cells": [
  {
   "cell_type": "markdown",
   "id": "d591ef4b",
   "metadata": {},
   "source": [
    "# CS 4120 - Song Genre Classification\n",
    "\n",
    "We are compare the performance of __INSERT MODELS__ for the task of classifying songs by genre.\n",
    "\n",
    "## Dataset\n",
    "\n",
    "We use a [Kaggle dataset](https://www.kaggle.com/datasets/neisse/scrapped-lyrics-from-6-genres?resource=download&select=lyrics-data.csv) with data on many artists and songs originally scraped from Vagalume.com.\n",
    "Since the dataset associates artists with songs and their lyrics, then genres with artists separately, we join the two datasets in order to make associations between genres and lyrics in order to obtain data to train our models.\n",
    "\n",
    "## Getting Started\n",
    "\n",
    "From the Kaggle dataset (linked above), download `artists-data.csv` to `data/artists-data.csv` and `lyrics-data.csv` to `data/lyrics-data.csv`.\n",
    "Install all the packages imported in the following cell."
   ]
  },
  {
   "cell_type": "code",
   "execution_count": 41,
   "id": "c43c6cc5",
   "metadata": {},
   "outputs": [],
   "source": [
    "%%capture\n",
    "import pandas as pd\n",
    "import nltk\n",
    "import numpy as np\n",
    "import string\n",
    "import seaborn as sns\n",
    "from collections import Counter\n",
    "from nltk.corpus import stopwords\n",
    "from nltk.stem import WordNetLemmatizer\n",
    "from nltk.stem.snowball import SnowballStemmer\n",
    "from sklearn.model_selection import train_test_split\n",
    "from sklearn.model_selection import GridSearchCV\n",
    "from sklearn.pipeline import Pipeline\n",
    "from sklearn.feature_extraction.text import CountVectorizer\n",
    "from sklearn.feature_extraction.text import TfidfTransformer\n",
    "from sklearn.feature_extraction.text import TfidfVectorizer\n",
    "from sklearn.ensemble import RandomForestClassifier\n",
    "from sklearn.neighbors import KNeighborsClassifier\n",
    "from sklearn.naive_bayes import ComplementNB\n",
    "from sklearn.naive_bayes import MultinomialNB\n",
    "import matplotlib.pyplot as plt\n",
    "%matplotlib inline\n",
    "\n",
    "nltk.download('words', quiet=True)\n",
    "nltk.download('omw-1.4', quiet=True)\n",
    "nltk.download('stopwords', quiet=True)\n",
    "nltk.download('wordnet', quiet=True)"
   ]
  },
  {
   "cell_type": "markdown",
   "id": "fe90b79a",
   "metadata": {},
   "source": [
    "# Data Preprocessing"
   ]
  },
  {
   "cell_type": "code",
   "execution_count": 42,
   "id": "508f4ff7",
   "metadata": {},
   "outputs": [],
   "source": [
    "# suppress some warnings in cell output\n",
    "pd.options.mode.chained_assignment = None  # default='warn'"
   ]
  },
  {
   "cell_type": "code",
   "execution_count": 43,
   "id": "9efbf3d2",
   "metadata": {},
   "outputs": [
    {
     "data": {
      "text/html": [
       "<div>\n",
       "<style scoped>\n",
       "    .dataframe tbody tr th:only-of-type {\n",
       "        vertical-align: middle;\n",
       "    }\n",
       "\n",
       "    .dataframe tbody tr th {\n",
       "        vertical-align: top;\n",
       "    }\n",
       "\n",
       "    .dataframe thead th {\n",
       "        text-align: right;\n",
       "    }\n",
       "</style>\n",
       "<table border=\"1\" class=\"dataframe\">\n",
       "  <thead>\n",
       "    <tr style=\"text-align: right;\">\n",
       "      <th></th>\n",
       "      <th>Link</th>\n",
       "      <th>SName</th>\n",
       "      <th>SLink</th>\n",
       "      <th>Lyric</th>\n",
       "      <th>language</th>\n",
       "    </tr>\n",
       "  </thead>\n",
       "  <tbody>\n",
       "    <tr>\n",
       "      <th>69</th>\n",
       "      <td>/ivete-sangalo/</td>\n",
       "      <td>Careless Whisper</td>\n",
       "      <td>/ivete-sangalo/careless-whisper.html</td>\n",
       "      <td>I feel so unsure\\nAs I take your hand and lead...</td>\n",
       "      <td>en</td>\n",
       "    </tr>\n",
       "    <tr>\n",
       "      <th>86</th>\n",
       "      <td>/ivete-sangalo/</td>\n",
       "      <td>Could You Be Loved / Citação Musical do Rap: S...</td>\n",
       "      <td>/ivete-sangalo/could-you-be-loved-citacao-musi...</td>\n",
       "      <td>Don't let them fool, ya\\nOr even try to school...</td>\n",
       "      <td>en</td>\n",
       "    </tr>\n",
       "    <tr>\n",
       "      <th>88</th>\n",
       "      <td>/ivete-sangalo/</td>\n",
       "      <td>Cruisin' (Part. Saulo)</td>\n",
       "      <td>/ivete-sangalo/cruisin-part-saulo.html</td>\n",
       "      <td>Baby, let's cruise, away from here\\nDon't be c...</td>\n",
       "      <td>en</td>\n",
       "    </tr>\n",
       "    <tr>\n",
       "      <th>111</th>\n",
       "      <td>/ivete-sangalo/</td>\n",
       "      <td>Easy</td>\n",
       "      <td>/ivete-sangalo/easy.html</td>\n",
       "      <td>Know it sounds funny\\nBut, I just can't stand ...</td>\n",
       "      <td>en</td>\n",
       "    </tr>\n",
       "    <tr>\n",
       "      <th>140</th>\n",
       "      <td>/ivete-sangalo/</td>\n",
       "      <td>For Your Babies (The Voice cover)</td>\n",
       "      <td>/ivete-sangalo/for-your-babies-the-voice-cover...</td>\n",
       "      <td>You've got that look again\\nThe one I hoped I ...</td>\n",
       "      <td>en</td>\n",
       "    </tr>\n",
       "  </tbody>\n",
       "</table>\n",
       "</div>"
      ],
      "text/plain": [
       "                Link                                              SName  \\\n",
       "69   /ivete-sangalo/                                   Careless Whisper   \n",
       "86   /ivete-sangalo/  Could You Be Loved / Citação Musical do Rap: S...   \n",
       "88   /ivete-sangalo/                             Cruisin' (Part. Saulo)   \n",
       "111  /ivete-sangalo/                                               Easy   \n",
       "140  /ivete-sangalo/                  For Your Babies (The Voice cover)   \n",
       "\n",
       "                                                 SLink  \\\n",
       "69                /ivete-sangalo/careless-whisper.html   \n",
       "86   /ivete-sangalo/could-you-be-loved-citacao-musi...   \n",
       "88              /ivete-sangalo/cruisin-part-saulo.html   \n",
       "111                           /ivete-sangalo/easy.html   \n",
       "140  /ivete-sangalo/for-your-babies-the-voice-cover...   \n",
       "\n",
       "                                                 Lyric language  \n",
       "69   I feel so unsure\\nAs I take your hand and lead...       en  \n",
       "86   Don't let them fool, ya\\nOr even try to school...       en  \n",
       "88   Baby, let's cruise, away from here\\nDon't be c...       en  \n",
       "111  Know it sounds funny\\nBut, I just can't stand ...       en  \n",
       "140  You've got that look again\\nThe one I hoped I ...       en  "
      ]
     },
     "execution_count": 43,
     "metadata": {},
     "output_type": "execute_result"
    }
   ],
   "source": [
    "# Import Song Data\n",
    "\n",
    "song_data = pd.read_csv('./data/lyrics-data.csv')\n",
    "english_songs = song_data.loc[song_data['language'] == 'en']\n",
    "english_songs.rename(columns={'ALink':'Link'}, inplace=True)\n",
    "english_songs.head()"
   ]
  },
  {
   "cell_type": "code",
   "execution_count": 44,
   "id": "8496ed42",
   "metadata": {},
   "outputs": [
    {
     "data": {
      "text/html": [
       "<div>\n",
       "<style scoped>\n",
       "    .dataframe tbody tr th:only-of-type {\n",
       "        vertical-align: middle;\n",
       "    }\n",
       "\n",
       "    .dataframe tbody tr th {\n",
       "        vertical-align: top;\n",
       "    }\n",
       "\n",
       "    .dataframe thead th {\n",
       "        text-align: right;\n",
       "    }\n",
       "</style>\n",
       "<table border=\"1\" class=\"dataframe\">\n",
       "  <thead>\n",
       "    <tr style=\"text-align: right;\">\n",
       "      <th></th>\n",
       "      <th>Artist</th>\n",
       "      <th>Genres</th>\n",
       "      <th>Songs</th>\n",
       "      <th>Popularity</th>\n",
       "      <th>Link</th>\n",
       "    </tr>\n",
       "  </thead>\n",
       "  <tbody>\n",
       "    <tr>\n",
       "      <th>0</th>\n",
       "      <td>Ivete Sangalo</td>\n",
       "      <td>Pop; Axé; Romântico</td>\n",
       "      <td>313.0</td>\n",
       "      <td>4.4</td>\n",
       "      <td>/ivete-sangalo/</td>\n",
       "    </tr>\n",
       "    <tr>\n",
       "      <th>1</th>\n",
       "      <td>Chiclete com Banana</td>\n",
       "      <td>Axé</td>\n",
       "      <td>268.0</td>\n",
       "      <td>3.8</td>\n",
       "      <td>/chiclete-com-banana/</td>\n",
       "    </tr>\n",
       "    <tr>\n",
       "      <th>2</th>\n",
       "      <td>Banda Eva</td>\n",
       "      <td>Axé; Romântico; Reggae</td>\n",
       "      <td>215.0</td>\n",
       "      <td>2.3</td>\n",
       "      <td>/banda-eva/</td>\n",
       "    </tr>\n",
       "    <tr>\n",
       "      <th>3</th>\n",
       "      <td>É O Tchan</td>\n",
       "      <td>Axé</td>\n",
       "      <td>129.0</td>\n",
       "      <td>1.6</td>\n",
       "      <td>/e-o-tchan/</td>\n",
       "    </tr>\n",
       "    <tr>\n",
       "      <th>4</th>\n",
       "      <td>Claudia Leitte</td>\n",
       "      <td>Pop; Axé; Romântico</td>\n",
       "      <td>167.0</td>\n",
       "      <td>1.5</td>\n",
       "      <td>/claudia-leitte/</td>\n",
       "    </tr>\n",
       "  </tbody>\n",
       "</table>\n",
       "</div>"
      ],
      "text/plain": [
       "                Artist                  Genres  Songs  Popularity  \\\n",
       "0        Ivete Sangalo     Pop; Axé; Romântico  313.0         4.4   \n",
       "1  Chiclete com Banana                     Axé  268.0         3.8   \n",
       "2            Banda Eva  Axé; Romântico; Reggae  215.0         2.3   \n",
       "3            É O Tchan                     Axé  129.0         1.6   \n",
       "4       Claudia Leitte     Pop; Axé; Romântico  167.0         1.5   \n",
       "\n",
       "                    Link  \n",
       "0        /ivete-sangalo/  \n",
       "1  /chiclete-com-banana/  \n",
       "2            /banda-eva/  \n",
       "3            /e-o-tchan/  \n",
       "4       /claudia-leitte/  "
      ]
     },
     "execution_count": 44,
     "metadata": {},
     "output_type": "execute_result"
    }
   ],
   "source": [
    "# Import Artist Data\n",
    "\n",
    "artist_data = pd.read_csv('./data/artists-data.csv')\n",
    "artist_data = artist_data.drop_duplicates(subset='Link', keep='first')\n",
    "artist_data.head()"
   ]
  },
  {
   "cell_type": "code",
   "execution_count": 45,
   "id": "ce7bff1c",
   "metadata": {},
   "outputs": [
    {
     "data": {
      "text/html": [
       "<div>\n",
       "<style scoped>\n",
       "    .dataframe tbody tr th:only-of-type {\n",
       "        vertical-align: middle;\n",
       "    }\n",
       "\n",
       "    .dataframe tbody tr th {\n",
       "        vertical-align: top;\n",
       "    }\n",
       "\n",
       "    .dataframe thead th {\n",
       "        text-align: right;\n",
       "    }\n",
       "</style>\n",
       "<table border=\"1\" class=\"dataframe\">\n",
       "  <thead>\n",
       "    <tr style=\"text-align: right;\">\n",
       "      <th></th>\n",
       "      <th>SName</th>\n",
       "      <th>Artist</th>\n",
       "      <th>Lyric</th>\n",
       "      <th>Genres</th>\n",
       "    </tr>\n",
       "  </thead>\n",
       "  <tbody>\n",
       "    <tr>\n",
       "      <th>0</th>\n",
       "      <td>Careless Whisper</td>\n",
       "      <td>Ivete Sangalo</td>\n",
       "      <td>I feel so unsure\\nAs I take your hand and lead...</td>\n",
       "      <td>Pop; Axé; Romântico</td>\n",
       "    </tr>\n",
       "    <tr>\n",
       "      <th>1</th>\n",
       "      <td>Could You Be Loved / Citação Musical do Rap: S...</td>\n",
       "      <td>Ivete Sangalo</td>\n",
       "      <td>Don't let them fool, ya\\nOr even try to school...</td>\n",
       "      <td>Pop; Axé; Romântico</td>\n",
       "    </tr>\n",
       "    <tr>\n",
       "      <th>2</th>\n",
       "      <td>Cruisin' (Part. Saulo)</td>\n",
       "      <td>Ivete Sangalo</td>\n",
       "      <td>Baby, let's cruise, away from here\\nDon't be c...</td>\n",
       "      <td>Pop; Axé; Romântico</td>\n",
       "    </tr>\n",
       "    <tr>\n",
       "      <th>3</th>\n",
       "      <td>Easy</td>\n",
       "      <td>Ivete Sangalo</td>\n",
       "      <td>Know it sounds funny\\nBut, I just can't stand ...</td>\n",
       "      <td>Pop; Axé; Romântico</td>\n",
       "    </tr>\n",
       "    <tr>\n",
       "      <th>4</th>\n",
       "      <td>For Your Babies (The Voice cover)</td>\n",
       "      <td>Ivete Sangalo</td>\n",
       "      <td>You've got that look again\\nThe one I hoped I ...</td>\n",
       "      <td>Pop; Axé; Romântico</td>\n",
       "    </tr>\n",
       "    <tr>\n",
       "      <th>...</th>\n",
       "      <td>...</td>\n",
       "      <td>...</td>\n",
       "      <td>...</td>\n",
       "      <td>...</td>\n",
       "    </tr>\n",
       "    <tr>\n",
       "      <th>191382</th>\n",
       "      <td>The Waiting</td>\n",
       "      <td>Johnny Clegg</td>\n",
       "      <td>Chorus\\nHere we stand waiting on the plain\\nDa...</td>\n",
       "      <td>World Music; Gospel/Religioso</td>\n",
       "    </tr>\n",
       "    <tr>\n",
       "      <th>191383</th>\n",
       "      <td>Too Early For The Sky</td>\n",
       "      <td>Johnny Clegg</td>\n",
       "      <td>I nearly disappeared into the mouth of a croco...</td>\n",
       "      <td>World Music; Gospel/Religioso</td>\n",
       "    </tr>\n",
       "    <tr>\n",
       "      <th>191384</th>\n",
       "      <td>Warsaw 1943 (I Never Betrayed The Revolution)</td>\n",
       "      <td>Johnny Clegg</td>\n",
       "      <td>Amambuka, amambuka azothengisa izwe lakithi, i...</td>\n",
       "      <td>World Music; Gospel/Religioso</td>\n",
       "    </tr>\n",
       "    <tr>\n",
       "      <th>191385</th>\n",
       "      <td>When The System Has Fallen</td>\n",
       "      <td>Johnny Clegg</td>\n",
       "      <td>Sweat in the heat for days on end\\nwaiting for...</td>\n",
       "      <td>World Music; Gospel/Religioso</td>\n",
       "    </tr>\n",
       "    <tr>\n",
       "      <th>191386</th>\n",
       "      <td>Woman Be My Country</td>\n",
       "      <td>Johnny Clegg</td>\n",
       "      <td>Here we stand on the edge of the day\\nFaces me...</td>\n",
       "      <td>World Music; Gospel/Religioso</td>\n",
       "    </tr>\n",
       "  </tbody>\n",
       "</table>\n",
       "<p>191378 rows × 4 columns</p>\n",
       "</div>"
      ],
      "text/plain": [
       "                                                    SName         Artist  \\\n",
       "0                                        Careless Whisper  Ivete Sangalo   \n",
       "1       Could You Be Loved / Citação Musical do Rap: S...  Ivete Sangalo   \n",
       "2                                  Cruisin' (Part. Saulo)  Ivete Sangalo   \n",
       "3                                                    Easy  Ivete Sangalo   \n",
       "4                       For Your Babies (The Voice cover)  Ivete Sangalo   \n",
       "...                                                   ...            ...   \n",
       "191382                                        The Waiting   Johnny Clegg   \n",
       "191383                              Too Early For The Sky   Johnny Clegg   \n",
       "191384      Warsaw 1943 (I Never Betrayed The Revolution)   Johnny Clegg   \n",
       "191385                         When The System Has Fallen   Johnny Clegg   \n",
       "191386                                Woman Be My Country   Johnny Clegg   \n",
       "\n",
       "                                                    Lyric  \\\n",
       "0       I feel so unsure\\nAs I take your hand and lead...   \n",
       "1       Don't let them fool, ya\\nOr even try to school...   \n",
       "2       Baby, let's cruise, away from here\\nDon't be c...   \n",
       "3       Know it sounds funny\\nBut, I just can't stand ...   \n",
       "4       You've got that look again\\nThe one I hoped I ...   \n",
       "...                                                   ...   \n",
       "191382  Chorus\\nHere we stand waiting on the plain\\nDa...   \n",
       "191383  I nearly disappeared into the mouth of a croco...   \n",
       "191384  Amambuka, amambuka azothengisa izwe lakithi, i...   \n",
       "191385  Sweat in the heat for days on end\\nwaiting for...   \n",
       "191386  Here we stand on the edge of the day\\nFaces me...   \n",
       "\n",
       "                               Genres  \n",
       "0                 Pop; Axé; Romântico  \n",
       "1                 Pop; Axé; Romântico  \n",
       "2                 Pop; Axé; Romântico  \n",
       "3                 Pop; Axé; Romântico  \n",
       "4                 Pop; Axé; Romântico  \n",
       "...                               ...  \n",
       "191382  World Music; Gospel/Religioso  \n",
       "191383  World Music; Gospel/Religioso  \n",
       "191384  World Music; Gospel/Religioso  \n",
       "191385  World Music; Gospel/Religioso  \n",
       "191386  World Music; Gospel/Religioso  \n",
       "\n",
       "[191378 rows x 4 columns]"
      ]
     },
     "execution_count": 45,
     "metadata": {},
     "output_type": "execute_result"
    }
   ],
   "source": [
    "# Merge Dataframes\n",
    "\n",
    "combined_data = pd.merge(english_songs, artist_data, on='Link')\n",
    "combined_data = combined_data[[\"SName\", \"Artist\", \"Lyric\", \"Genres\"]]\n",
    "combined_data = combined_data[combined_data.Lyric.notnull()]\n",
    "combined_data = combined_data[combined_data.Genres.notnull()]\n",
    "combined_data"
   ]
  },
  {
   "cell_type": "code",
   "execution_count": 69,
   "id": "41d0c712",
   "metadata": {},
   "outputs": [],
   "source": [
    "artists = combined_data.Artist.unique()\n",
    "genres = combined_data.Genres.unique()\n",
    "labels = [\"Blues\", \"Country\", \"Hip Hop\", \"Jazz\", \"Pop\", \"Rock\"]"
   ]
  },
  {
   "cell_type": "code",
   "execution_count": 76,
   "id": "6f9d28ea",
   "metadata": {},
   "outputs": [
    {
     "data": {
      "text/html": [
       "<div>\n",
       "<style scoped>\n",
       "    .dataframe tbody tr th:only-of-type {\n",
       "        vertical-align: middle;\n",
       "    }\n",
       "\n",
       "    .dataframe tbody tr th {\n",
       "        vertical-align: top;\n",
       "    }\n",
       "\n",
       "    .dataframe thead th {\n",
       "        text-align: right;\n",
       "    }\n",
       "</style>\n",
       "<table border=\"1\" class=\"dataframe\">\n",
       "  <thead>\n",
       "    <tr style=\"text-align: right;\">\n",
       "      <th></th>\n",
       "      <th>SName</th>\n",
       "      <th>Artist</th>\n",
       "      <th>Lyric</th>\n",
       "      <th>Genres</th>\n",
       "    </tr>\n",
       "  </thead>\n",
       "  <tbody>\n",
       "    <tr>\n",
       "      <th>0</th>\n",
       "      <td>Come By Here</td>\n",
       "      <td>BB King</td>\n",
       "      <td>Come by here, baby, come by here\\nCome by here...</td>\n",
       "      <td>Blues</td>\n",
       "    </tr>\n",
       "    <tr>\n",
       "      <th>1</th>\n",
       "      <td>So Glad I'm Living</td>\n",
       "      <td>Muddy Waters</td>\n",
       "      <td>My baby's long and tall,\\nshaped like a cannon...</td>\n",
       "      <td>Blues</td>\n",
       "    </tr>\n",
       "    <tr>\n",
       "      <th>2</th>\n",
       "      <td>Dark Is The Night</td>\n",
       "      <td>BB King</td>\n",
       "      <td>Part 1:\\nBlues has got me, there is teardrops ...</td>\n",
       "      <td>Blues</td>\n",
       "    </tr>\n",
       "    <tr>\n",
       "      <th>3</th>\n",
       "      <td>Tail Dragger</td>\n",
       "      <td>Howlin' Wolf</td>\n",
       "      <td>I'm a tail dragger\\nI wipe out my tracks\\nWhen...</td>\n",
       "      <td>Blues</td>\n",
       "    </tr>\n",
       "    <tr>\n",
       "      <th>4</th>\n",
       "      <td>Living On The Moon</td>\n",
       "      <td>Joe Bonamassa</td>\n",
       "      <td>Hard to breath, the airs been stoler\\nWithout ...</td>\n",
       "      <td>Blues</td>\n",
       "    </tr>\n",
       "    <tr>\n",
       "      <th>...</th>\n",
       "      <td>...</td>\n",
       "      <td>...</td>\n",
       "      <td>...</td>\n",
       "      <td>...</td>\n",
       "    </tr>\n",
       "    <tr>\n",
       "      <th>5995</th>\n",
       "      <td>Almost Grown</td>\n",
       "      <td>David Bowie</td>\n",
       "      <td>(Anyway I'm almost grown)\\nYeah 'n' I'm doin' ...</td>\n",
       "      <td>Rock</td>\n",
       "    </tr>\n",
       "    <tr>\n",
       "      <th>5996</th>\n",
       "      <td>Lady And The Doctor</td>\n",
       "      <td>Bruce Springsteen</td>\n",
       "      <td>The lady keeps the doctor in a place inside he...</td>\n",
       "      <td>Rock</td>\n",
       "    </tr>\n",
       "    <tr>\n",
       "      <th>5997</th>\n",
       "      <td>Black Tie White Noise</td>\n",
       "      <td>David Bowie</td>\n",
       "      <td>Getting my facts from a Benneton ad\\nI'm looki...</td>\n",
       "      <td>Rock</td>\n",
       "    </tr>\n",
       "    <tr>\n",
       "      <th>5998</th>\n",
       "      <td>We Stand a Chance</td>\n",
       "      <td>Tom Petty</td>\n",
       "      <td>Stand back from me honey\\nBecause I don't know...</td>\n",
       "      <td>Rock</td>\n",
       "    </tr>\n",
       "    <tr>\n",
       "      <th>5999</th>\n",
       "      <td>Evil Ways</td>\n",
       "      <td>Santana</td>\n",
       "      <td>You've got to change your evil ways... baby\\nB...</td>\n",
       "      <td>Rock</td>\n",
       "    </tr>\n",
       "  </tbody>\n",
       "</table>\n",
       "<p>6000 rows × 4 columns</p>\n",
       "</div>"
      ],
      "text/plain": [
       "                      SName             Artist  \\\n",
       "0              Come By Here            BB King   \n",
       "1        So Glad I'm Living       Muddy Waters   \n",
       "2         Dark Is The Night            BB King   \n",
       "3              Tail Dragger       Howlin' Wolf   \n",
       "4        Living On The Moon      Joe Bonamassa   \n",
       "...                     ...                ...   \n",
       "5995           Almost Grown        David Bowie   \n",
       "5996    Lady And The Doctor  Bruce Springsteen   \n",
       "5997  Black Tie White Noise        David Bowie   \n",
       "5998      We Stand a Chance          Tom Petty   \n",
       "5999              Evil Ways            Santana   \n",
       "\n",
       "                                                  Lyric Genres  \n",
       "0     Come by here, baby, come by here\\nCome by here...  Blues  \n",
       "1     My baby's long and tall,\\nshaped like a cannon...  Blues  \n",
       "2     Part 1:\\nBlues has got me, there is teardrops ...  Blues  \n",
       "3     I'm a tail dragger\\nI wipe out my tracks\\nWhen...  Blues  \n",
       "4     Hard to breath, the airs been stoler\\nWithout ...  Blues  \n",
       "...                                                 ...    ...  \n",
       "5995  (Anyway I'm almost grown)\\nYeah 'n' I'm doin' ...   Rock  \n",
       "5996  The lady keeps the doctor in a place inside he...   Rock  \n",
       "5997  Getting my facts from a Benneton ad\\nI'm looki...   Rock  \n",
       "5998  Stand back from me honey\\nBecause I don't know...   Rock  \n",
       "5999  You've got to change your evil ways... baby\\nB...   Rock  \n",
       "\n",
       "[6000 rows x 4 columns]"
      ]
     },
     "execution_count": 76,
     "metadata": {},
     "output_type": "execute_result"
    }
   ],
   "source": [
    "# Randomely select 1000 songs from each genre\n",
    "SONG_PER_GENRE = 1000\n",
    "\n",
    "rows = []\n",
    "\n",
    "for label in labels:\n",
    "    genre_data = combined_data[combined_data.Genres == label]\n",
    "    sampled_genre_data = []\n",
    "    count = 0\n",
    "    for _, row in genre_data.sample(frac=1).iterrows():\n",
    "        if len(row.Lyric.strip()) == 0:\n",
    "            continue\n",
    "        sampled_genre_data.append(row)\n",
    "        count += 1\n",
    "        if count == SONG_PER_GENRE:\n",
    "            break\n",
    "    else:\n",
    "        raise ValueError(f'Not enough songs of genre {label}')\n",
    "    sampled_genre_data = pd.DataFrame(sampled_genre_data)\n",
    "    sampled_genre_data.Genres = label\n",
    "    rows.append(sampled_genre_data)\n",
    "\n",
    "combined_genre_data = pd.concat(rows).reset_index().drop(\"index\", axis=1)\n",
    "combined_genre_data"
   ]
  },
  {
   "cell_type": "code",
   "execution_count": 77,
   "id": "2a58d35f",
   "metadata": {},
   "outputs": [],
   "source": [
    "combined_genre_data.to_csv(\"combined_genre_data.csv\")"
   ]
  },
  {
   "cell_type": "markdown",
   "id": "08fe5d9f",
   "metadata": {},
   "source": [
    "## Reload the data"
   ]
  },
  {
   "cell_type": "code",
   "execution_count": 78,
   "id": "901d1764",
   "metadata": {},
   "outputs": [
    {
     "data": {
      "text/html": [
       "<div>\n",
       "<style scoped>\n",
       "    .dataframe tbody tr th:only-of-type {\n",
       "        vertical-align: middle;\n",
       "    }\n",
       "\n",
       "    .dataframe tbody tr th {\n",
       "        vertical-align: top;\n",
       "    }\n",
       "\n",
       "    .dataframe thead th {\n",
       "        text-align: right;\n",
       "    }\n",
       "</style>\n",
       "<table border=\"1\" class=\"dataframe\">\n",
       "  <thead>\n",
       "    <tr style=\"text-align: right;\">\n",
       "      <th></th>\n",
       "      <th>Unnamed: 0</th>\n",
       "      <th>SName</th>\n",
       "      <th>Artist</th>\n",
       "      <th>Lyric</th>\n",
       "      <th>Genres</th>\n",
       "    </tr>\n",
       "  </thead>\n",
       "  <tbody>\n",
       "    <tr>\n",
       "      <th>0</th>\n",
       "      <td>0</td>\n",
       "      <td>Come By Here</td>\n",
       "      <td>BB King</td>\n",
       "      <td>Come by here, baby, come by here\\nCome by here...</td>\n",
       "      <td>Blues</td>\n",
       "    </tr>\n",
       "    <tr>\n",
       "      <th>1</th>\n",
       "      <td>1</td>\n",
       "      <td>So Glad I'm Living</td>\n",
       "      <td>Muddy Waters</td>\n",
       "      <td>My baby's long and tall,\\nshaped like a cannon...</td>\n",
       "      <td>Blues</td>\n",
       "    </tr>\n",
       "    <tr>\n",
       "      <th>2</th>\n",
       "      <td>2</td>\n",
       "      <td>Dark Is The Night</td>\n",
       "      <td>BB King</td>\n",
       "      <td>Part 1:\\nBlues has got me, there is teardrops ...</td>\n",
       "      <td>Blues</td>\n",
       "    </tr>\n",
       "    <tr>\n",
       "      <th>3</th>\n",
       "      <td>3</td>\n",
       "      <td>Tail Dragger</td>\n",
       "      <td>Howlin' Wolf</td>\n",
       "      <td>I'm a tail dragger\\nI wipe out my tracks\\nWhen...</td>\n",
       "      <td>Blues</td>\n",
       "    </tr>\n",
       "    <tr>\n",
       "      <th>4</th>\n",
       "      <td>4</td>\n",
       "      <td>Living On The Moon</td>\n",
       "      <td>Joe Bonamassa</td>\n",
       "      <td>Hard to breath, the airs been stoler\\nWithout ...</td>\n",
       "      <td>Blues</td>\n",
       "    </tr>\n",
       "  </tbody>\n",
       "</table>\n",
       "</div>"
      ],
      "text/plain": [
       "   Unnamed: 0               SName         Artist  \\\n",
       "0           0        Come By Here        BB King   \n",
       "1           1  So Glad I'm Living   Muddy Waters   \n",
       "2           2   Dark Is The Night        BB King   \n",
       "3           3        Tail Dragger   Howlin' Wolf   \n",
       "4           4  Living On The Moon  Joe Bonamassa   \n",
       "\n",
       "                                               Lyric Genres  \n",
       "0  Come by here, baby, come by here\\nCome by here...  Blues  \n",
       "1  My baby's long and tall,\\nshaped like a cannon...  Blues  \n",
       "2  Part 1:\\nBlues has got me, there is teardrops ...  Blues  \n",
       "3  I'm a tail dragger\\nI wipe out my tracks\\nWhen...  Blues  \n",
       "4  Hard to breath, the airs been stoler\\nWithout ...  Blues  "
      ]
     },
     "execution_count": 78,
     "metadata": {},
     "output_type": "execute_result"
    }
   ],
   "source": [
    "combined_genre_data = pd.read_csv(\"combined_genre_data.csv\")\n",
    "combined_genre_data.head()"
   ]
  },
  {
   "cell_type": "code",
   "execution_count": 180,
   "id": "62f07fa8",
   "metadata": {},
   "outputs": [],
   "source": [
    "def train_and_pipeline(lyrics):\n",
    "    X_train, X_test, y_train, y_test = train_test_split(lyrics, combined_genre_data.Genres, test_size=0.25) \n",
    "    \n",
    "    pipe_MNB = Pipeline([('tfidf_vectorizer', TfidfVectorizer()),\n",
    "                       ('clf', MultinomialNB())\n",
    "                       ])\n",
    "    \n",
    "    pipe_CNB = Pipeline([('tfidf_vectorizer', TfidfVectorizer()),\n",
    "                       ('clf', ComplementNB())\n",
    "                       ])\n",
    "\n",
    "    pipe_RF = Pipeline([('tfidf_vectorizer', TfidfVectorizer()),\n",
    "                       ('clf', RandomForestClassifier())\n",
    "                       ])\n",
    "\n",
    "    pipe_KNN = Pipeline([('tfidf_vectorizer', TfidfVectorizer()),\n",
    "                        ('clf', KNeighborsClassifier())\n",
    "                        ])\n",
    "\n",
    "    # List of pipelines, List of pipeline names\n",
    "    pipelines = [pipe_MNB, pipe_CNB, pipe_RF, pipe_KNN]\n",
    "    pipeline_names = ['Multinomail NB', 'Complement NB', 'Random Forest', \"KNN\"]\n",
    "\n",
    "    # Loop to fit each of the three pipelines\n",
    "    for pipe in pipelines:\n",
    "        print(pipe)\n",
    "        pipe.fit(X_train, y_train)\n",
    "\n",
    "    # Compare accuracies\n",
    "    lemmed_basic_scores = []\n",
    "    for index, val in enumerate(pipelines):\n",
    "        tup = (pipeline_names[index], val.score(X_test, y_test))\n",
    "        lemmed_basic_scores.append(tup)\n",
    "        print('%s pipeline test accuracy: %.3f' % (pipeline_names[index], val.score(X_test, y_test)))\n",
    "        \n",
    "    return lemmed_basic_scores"
   ]
  },
  {
   "cell_type": "code",
   "execution_count": 71,
   "id": "89468c38",
   "metadata": {},
   "outputs": [],
   "source": [
    "results = Counter()\n",
    "lyrics_list = list(combined_genre_data.Lyric)\n",
    "pattern = \"([a-zA-Z]+(?:'[a-z]+)?)\"\n",
    "lemmatizer = WordNetLemmatizer()\n",
    "english = list(set(nltk.corpus.words.words()))\n",
    "stemmer = SnowballStemmer(\"english\")"
   ]
  },
  {
   "cell_type": "markdown",
   "id": "5660cd47",
   "metadata": {},
   "source": [
    "# Lemmatization"
   ]
  },
  {
   "cell_type": "code",
   "execution_count": 52,
   "id": "c58a353b",
   "metadata": {},
   "outputs": [],
   "source": [
    "def clean_docs_lemma(lyrics_list):\n",
    "    cleaned = []\n",
    "    for lyric in lyrics_list:\n",
    "        clean_lyric = nltk.regexp_tokenize(lyric, pattern)\n",
    "        lyric_lower = [i.lower() for i in clean_lyric]\n",
    "        stop_words = stopwords.words('english')\n",
    "        stopwords_list = stop_words + list(string.punctuation)\n",
    "        stopwords_list += [\"''\", '\"\"', '...', '``']\n",
    "        lyrics_tokens_stopped = [w for w in lyric_lower if not w in stopwords_list]\n",
    "        lyric_lemmas = [lemmatizer.lemmatize(word) for word in lyrics_tokens_stopped]\n",
    "        c = \" \".join(lyric_lemmas)\n",
    "        cleaned.append(c)\n",
    "    return cleaned"
   ]
  },
  {
   "cell_type": "code",
   "execution_count": 79,
   "id": "609b48bc",
   "metadata": {},
   "outputs": [
    {
     "data": {
      "text/plain": [
       "6000"
      ]
     },
     "execution_count": 79,
     "metadata": {},
     "output_type": "execute_result"
    }
   ],
   "source": [
    "lemmed_lyrics = clean_docs_lemma(lyrics_list)\n",
    "len(lemmed_lyrics)"
   ]
  },
  {
   "cell_type": "code",
   "execution_count": 84,
   "id": "9b23585d",
   "metadata": {},
   "outputs": [],
   "source": [
    "lyrics_lengths = [len(lyrics) for lyrics in lemmed_lyrics]"
   ]
  },
  {
   "cell_type": "code",
   "execution_count": 83,
   "id": "ccffcd8e",
   "metadata": {},
   "outputs": [
    {
     "name": "stdout",
     "output_type": "stream",
     "text": [
      "[38, 39, 45, 50, 86, 87, 104, 104, 134, 143, 155, 160, 162, 164, 165, 167, 168, 169, 177, 192, 198, 205, 208, 220, 226, 230, 230, 233, 233, 239, 239, 239, 240, 242, 243, 249, 253, 259, 267, 267, 268, 269, 270, 270, 272, 277, 279, 279, 280, 282, 284, 287, 290, 294, 295, 296, 296, 297, 297, 297, 297, 297, 298, 299, 300, 301, 302, 302, 304, 305, 306, 307, 310, 311, 311, 311, 313, 314, 314, 316, 317, 318, 318, 319, 322, 322, 323, 323, 323, 324, 324, 324, 325, 326, 327, 327, 328, 329, 329, 330, 330, 332, 332, 333, 335, 335, 336, 337, 338, 338, 339, 339, 339, 340, 340, 341, 342, 343, 344, 345, 347, 348, 348, 349, 349, 349, 350, 350, 351, 351, 351, 351, 351, 352, 352, 353, 353, 353, 353, 353, 354, 354, 355, 355, 356, 359, 360, 361, 361, 362, 362, 363, 363, 363, 363, 364, 364, 364, 366, 366, 368, 368, 368, 368, 368, 369, 369, 369, 369, 370, 371, 371, 371, 372, 372, 373, 374, 374, 374, 374, 374, 375, 375, 376, 376, 376, 377, 377, 379, 380, 381, 382, 383, 384, 384, 384, 384, 385, 385, 386, 386, 386, 386, 387, 389, 390, 390, 391, 391, 391, 392, 392, 392, 393, 393, 394, 394, 394, 395, 396, 396, 397, 397, 398, 399, 399, 400, 400, 400, 400, 400, 401, 401, 401, 402, 402, 402, 403, 404, 404, 404, 405, 406, 407, 407, 408, 408, 409, 410, 410, 411, 411, 412, 412, 412, 412, 413, 413, 413, 414, 414, 414, 416, 416, 416, 417, 417, 417, 418, 418, 418, 421, 422, 422, 423, 423, 423, 424, 424, 425, 427, 427, 427, 427, 428, 428, 428, 428, 429, 429, 429, 429, 429, 429, 430, 430, 433, 433, 433, 434, 434, 435, 435, 435, 435, 435, 436, 436, 436, 437, 437, 438, 438, 438, 439, 439, 439, 439, 439, 439, 439, 440, 440, 440, 441, 441, 441, 441, 442, 442, 442, 442, 442, 442, 443, 444, 444, 445, 445, 445, 445, 446, 446, 447, 447, 447, 448, 448, 448, 448, 448, 448, 448, 449, 449, 449, 449, 449, 449, 450, 450, 450, 451, 451, 452, 452, 452, 453, 453, 453, 453, 454, 455, 455, 455, 455, 456, 456, 456, 457, 457, 457, 458, 458, 458, 458, 458, 459, 459, 459, 459, 460, 460, 461, 461, 461, 461, 462, 462, 462, 462, 462, 463, 463, 463, 463, 463, 464, 464, 465, 465, 466, 466, 466, 466, 467, 467, 468, 468, 468, 469, 469, 469, 470, 470, 470, 471, 471, 472, 472, 472, 473, 473, 473, 473, 473, 474, 474, 474, 475, 475, 475, 475, 476, 476, 476, 476, 476, 476, 477, 477, 477, 477, 477, 478, 478, 478, 479, 479, 479, 479, 479, 479, 480, 480, 480, 480, 480, 481, 481, 481, 481, 482, 482, 482, 482, 483, 483, 484, 484, 484, 484, 485, 485, 485, 486, 486, 487, 487, 487, 487, 488, 488, 488, 488, 489, 489, 489, 490, 491, 491, 491, 491, 491, 491, 492, 492, 493, 494, 494, 494, 495, 495, 495, 495, 495, 496, 496, 496, 496, 497, 497, 497, 497, 497, 498, 498, 498, 498, 498, 499, 499, 500, 500, 500, 501, 501, 501, 501, 501, 501, 501, 502, 503, 503, 504, 504, 504, 504, 504, 504, 504, 505, 505, 505, 505, 506, 506, 506, 506, 507, 507, 508, 508, 508, 508, 508, 508, 508, 509, 509, 510, 510, 511, 511, 512, 512, 512, 513, 513, 513, 513, 513, 513, 514, 514, 514, 514, 514, 514, 514, 514, 514, 515, 515, 515, 515, 515, 515, 516, 516, 516, 517, 517, 517, 518, 518, 518, 518, 518, 518, 518, 518, 519, 519, 519, 519, 520, 520, 520, 520, 521, 521, 522, 522, 522, 522, 522, 522, 522, 522, 522, 522, 523, 524, 524, 525, 525, 525, 525, 525, 525, 526, 526, 526, 526, 526, 526, 527, 527, 527, 528, 528, 528, 528, 528, 528, 528, 529, 529, 529, 529, 529, 529, 529, 530, 530, 530, 531, 531, 531, 531, 532, 532, 532, 532, 532, 532, 532, 533, 533, 533, 533, 533, 534, 534, 534, 534, 534, 534, 534, 535, 536, 536, 536, 536, 536, 536, 537, 537, 537, 537, 537, 537, 537, 537, 538, 538, 538, 538, 538, 539, 539, 539, 540, 540, 541, 541, 541, 541, 541, 541, 542, 542, 542, 542, 543, 543, 543, 544, 544, 545, 545, 545, 545, 546, 546, 546, 546, 546, 546, 547, 547, 548, 548, 548, 548, 549, 549, 549, 549, 549, 549, 549, 549, 549, 550, 550, 550, 550, 551, 551, 551, 551, 551, 552, 552, 552, 552, 553, 553, 553, 554, 554, 554, 554, 554, 554, 554, 554, 555, 555, 556, 556, 556, 556, 556, 556, 556, 557, 557, 557, 557, 557, 557, 558, 558, 558, 558, 558, 558, 559, 559, 560, 560, 560, 560, 561, 561, 561, 561, 562, 562, 562, 562, 562, 563, 563, 563, 563, 564, 564, 564, 564, 564, 564, 564, 565, 565, 565, 565, 565, 565, 566, 566, 566, 566, 566, 566, 566, 566, 566, 567, 567, 567, 568, 568, 569, 569, 569, 570, 570, 570, 570, 571, 571, 571, 572, 572, 572, 572, 572, 572, 572, 572, 573, 573, 573, 573, 573, 573, 573, 573, 574, 574, 574, 574, 574, 574, 575, 575, 575, 575, 575, 576, 576, 576, 576, 576, 576, 576, 576, 577, 577, 577, 577, 577, 578, 578, 578, 578, 578, 578, 578, 578, 578, 578, 579, 579, 579, 579, 579, 579, 580, 580, 580, 580, 580, 580, 581, 581, 582, 582, 582, 582, 582, 582, 582, 582, 582, 583, 583, 583, 584, 584, 584, 584, 584, 584, 585, 585, 585, 585, 586, 586, 586, 586, 586, 586, 586, 586, 587, 587, 587, 587, 587, 588, 588, 589, 589, 589, 589, 589, 590, 590, 590, 590, 591, 591, 591, 591, 591, 592, 592, 592, 592, 592, 592, 592, 592, 593, 593, 593, 593, 593, 593, 594, 594, 594, 594, 594, 594, 594, 594, 595, 595, 595, 595, 595, 596, 596, 597, 597, 597, 597, 597, 597, 597, 597, 598, 598, 598, 598, 598, 599, 599, 599, 600, 600, 600, 600, 600, 601, 601, 601, 601, 601, 602, 602, 602, 602, 602, 603, 603, 603, 603, 603, 604, 604, 604, 604, 605, 605, 605, 605, 606, 606, 606, 606, 606, 606, 607, 607, 607, 607, 607, 607, 607, 607, 607, 607, 607, 607, 608, 608, 608, 608, 608, 609, 609, 609, 609, 609, 609, 610, 610, 611, 611, 611, 611, 612, 612, 612, 614, 614, 614, 614, 614, 614, 614, 615, 616, 616, 617, 617, 617, 618, 618, 618, 618, 619, 619, 619, 619, 619, 619, 620, 620, 620, 620, 620, 620, 620, 621, 621, 622, 622, 622, 623, 623, 623, 624, 624, 624, 624, 624, 624, 624, 625, 625, 625, 625, 625, 625, 625, 626, 626, 627, 627, 627, 627, 628, 628, 628, 628, 628, 628, 628, 628, 628, 629, 629, 629, 629, 629, 629, 629, 629, 629, 629, 630, 630, 630, 630, 631, 631, 631, 631, 632, 632, 632, 632, 632, 632, 633, 633, 633, 633, 633, 633, 633, 634, 634, 634, 634, 634, 634, 634, 634, 634, 635, 635, 635, 635, 635, 635, 635, 635, 635, 635, 636, 636, 636, 636, 636, 636, 636, 637, 637, 637, 637, 637, 637, 637, 638, 638, 638, 638, 639, 639, 639, 639, 639, 640, 640, 640, 640, 640, 641, 641, 641, 642, 642, 642, 642, 643, 643, 643, 644, 644, 644, 644, 644, 644, 644, 645, 645, 645, 645, 645, 646, 646, 646, 646, 647, 647, 647, 647, 647, 647, 648, 648, 648, 648, 648, 648, 648, 649, 649, 649, 650, 650, 650, 650, 650, 650, 650, 650, 650, 650, 651, 651, 651, 651, 651, 651, 651, 652, 652, 652, 652, 653, 653, 653, 653, 653, 654, 654, 654, 654, 654, 654, 654, 655, 655, 655, 655, 655, 655, 655, 656, 656, 656, 656, 656, 656, 656, 656, 657, 657, 657, 657, 657, 658, 658, 659, 659, 659, 659, 659, 659, 659, 660, 660, 660, 660, 660, 660, 660, 660, 661, 661, 661, 661, 661, 661, 662, 662, 662, 662, 662, 662, 663, 663, 663, 663, 663, 664, 664, 664, 664, 665, 665, 665, 665, 665, 665, 666, 666, 666, 667, 667, 667, 667, 668, 668, 668, 668, 668, 668, 669, 669, 669, 669, 669, 670, 670, 670, 671, 671, 671, 671, 671, 671, 672, 672, 672, 672, 673, 673, 673, 673, 673, 674, 674, 674, 674, 674, 674, 674, 675, 675, 676, 676, 676, 676, 676, 676, 677, 678, 678, 678, 678, 678, 678, 678, 678, 679, 679, 679, 679, 679, 679, 680, 680, 680, 681, 681, 681, 681, 681, 681, 682, 682, 682, 682, 683, 683, 683, 683, 683, 684, 684, 684, 684, 684, 684, 685, 685, 686, 686, 686, 687, 687, 688, 688, 688, 688, 688, 688, 689, 689, 689, 690, 690, 690, 690, 690, 691, 691, 691, 691, 691, 691, 691, 691, 692, 692, 692, 692, 692, 692, 693, 693, 693, 693, 694, 694, 694, 695, 695, 695, 695, 695, 695, 695, 696, 696, 697, 697, 697, 698, 698, 698, 698, 699, 699, 699, 699, 700, 700, 700, 700, 700, 700, 700, 700, 700, 701, 701, 701, 701, 701, 701, 701, 702, 702, 702, 702, 702, 702, 702, 702, 702, 702, 703, 703, 704, 704, 704, 704, 704, 704, 704, 705, 705, 705, 706, 706, 707, 707, 707, 708, 708, 708, 708, 708, 708, 708, 709, 709, 709, 709, 709, 709, 710, 710, 711, 711, 711, 711, 711, 711, 712, 712, 712, 712, 712, 712, 712, 713, 713, 713, 714, 714, 714, 714, 714, 714, 715, 715, 715, 715, 715, 716, 716, 716, 716, 716, 716, 716, 717, 717, 717, 717, 717, 717, 717, 718, 718, 718, 718, 718, 718, 718, 718, 718, 718, 718, 719, 719, 719, 719, 720, 720, 720, 721, 721, 721, 721, 721, 722, 722, 723, 723, 723, 723, 724, 724, 724, 725, 725, 725, 726, 726, 727, 727, 727, 728, 728, 728, 728, 728, 728, 729, 729, 729, 729, 729, 729, 729, 731, 731, 731, 731, 731, 732, 732, 732, 732, 733, 733, 733, 733, 733, 733, 734, 734, 734, 735, 735, 735, 735, 735, 736, 736, 736, 737, 737, 737, 738, 738, 738, 738, 738, 738, 739, 739, 739, 739, 740, 740, 740, 740, 740, 741, 741, 741, 742, 742, 742, 742, 742, 742, 743, 743, 743, 743, 744, 744, 744, 745, 745, 745, 745, 746, 746, 746, 747, 747, 747, 747, 747, 747, 748, 748, 748, 748, 748, 749, 749, 749, 749, 749, 749, 750, 750, 750, 750, 750, 750, 750, 750, 751, 751, 751, 751, 752, 752, 752, 752, 752, 752, 752, 752, 752, 752, 753, 753, 753, 753, 754, 754, 754, 754, 754, 754, 754, 754, 754, 754, 755, 755, 755, 755, 755, 755, 755, 756, 757, 757, 757, 757, 757, 757, 757, 758, 759, 759, 759, 760, 760, 760, 760, 760, 761, 761, 761, 762, 762, 762, 762, 762, 762, 763, 763, 763, 763, 764, 764, 764, 765, 766, 766, 766, 766, 766, 766, 766, 766, 767, 767, 767, 767, 768, 769, 769, 769, 769, 769, 770, 770, 770, 770, 770, 770, 770, 770, 771, 771, 771, 771, 771, 772, 772, 772, 772, 772, 772, 772, 772, 773, 773, 773, 774, 774, 774, 774, 774, 774, 774, 775, 775, 775, 775, 776, 776, 777, 777, 777, 778, 778, 778, 778, 779, 779, 779, 779, 779, 779, 779, 780, 780, 780, 780, 780, 781, 781, 781, 781, 781, 781, 782, 782, 782, 782, 783, 783, 783, 783, 783, 783, 783, 784, 784, 784, 785, 785, 785, 785, 785, 785, 785, 785, 786, 786, 786, 786, 786, 786, 786, 786, 787, 787, 787, 787, 787, 787, 788, 788, 788, 788, 788, 788, 788, 788, 788, 788, 789, 789, 789, 789, 790, 790, 790, 790, 790, 791, 791, 792, 792, 792, 792, 792, 793, 793, 793, 794, 794, 794, 794, 794, 794, 794, 795, 795, 796, 796, 796, 796, 796, 796, 797, 797, 797, 798, 798, 798, 798, 799, 799, 799, 799, 799, 800, 800, 801, 801, 801, 801, 801, 801, 801, 802, 802, 802, 802, 803, 803, 803, 803, 803, 804, 804, 804, 804, 804, 805, 805, 805, 805, 806, 806, 806, 806, 806, 806, 806, 807, 807, 807, 807, 808, 808, 808, 808, 809, 810, 810, 810, 810, 811, 811, 811, 811, 811, 811, 811, 811, 811, 811, 812, 812, 812, 812, 812, 812, 812, 813, 813, 813, 813, 813, 813, 814, 814, 814, 814, 814, 814, 814, 815, 815, 815, 815, 815, 815, 816, 816, 816, 817, 817, 817, 817, 817, 818, 818, 818, 818, 818, 819, 819, 819, 819, 819, 820, 820, 820, 820, 820, 820, 820, 820, 821, 821, 822, 822, 822, 822, 822, 822, 823, 823, 823, 823, 823, 824, 824, 825, 825, 825, 825, 825, 825, 826, 826, 826, 826, 827, 827, 827, 827, 827, 827, 827, 827, 827, 827, 828, 828, 828, 828, 828, 828, 829, 829, 829, 829, 829, 829, 830, 830, 831, 831, 831, 831, 831, 832, 832, 832, 832, 833, 833, 834, 834, 834, 834, 835, 835, 835, 835, 835, 835, 835, 836, 836, 836, 836, 837, 837, 837, 837, 837, 837, 837, 837, 837, 837, 837, 838, 838, 839, 839, 839, 840, 841, 841, 841, 841, 841, 841, 841, 842, 842, 842, 842, 842, 842, 843, 843, 843, 843, 843, 843, 843, 843, 844, 844, 845, 845, 845, 845, 845, 845, 846, 846, 846, 846, 846, 846, 846, 846, 846, 846, 847, 847, 847, 847, 848, 848, 848, 848, 848, 849, 849, 849, 850, 850, 850, 851, 851, 851, 851, 852, 852, 852, 853, 853, 853, 853, 853, 853, 853, 853, 853, 853, 854, 854, 854, 854, 854, 854, 855, 855, 855, 855, 856, 856, 856, 856, 856, 856, 857, 857, 857, 857, 857, 857, 858, 858, 858, 858, 858, 859, 859, 859, 859, 859, 859, 860, 860, 860, 860, 861, 861, 861, 861, 861, 862, 862, 862, 862, 862, 862, 862, 862, 863, 863, 863, 863, 863, 863, 863, 864, 864, 864, 864, 864, 864, 864, 864, 864, 865, 865, 865, 865, 866, 866, 866, 866, 867, 867, 867, 867, 867, 867, 867, 867, 868, 868, 868, 868, 869, 869, 869, 869, 870, 870, 870, 870, 871, 871, 871, 871, 872, 872, 872, 872, 872, 873, 873, 873, 873, 873, 873, 873, 873, 874, 874, 874, 875, 875, 875, 875, 875, 875, 876, 876, 876, 876, 876, 876, 876, 877, 877, 877, 877, 877, 877, 877, 878, 878, 878, 878, 878, 878, 879, 879, 879, 879, 880, 880, 880, 880, 881, 881, 881, 881, 881, 882, 882, 882, 883, 883, 883, 884, 884, 884, 884, 884, 885, 885, 885, 885, 885, 885, 885, 885, 886, 886, 886, 886, 886, 887, 887, 887, 887, 887, 887, 887, 887, 887, 888, 888, 888, 888, 889, 889, 889, 890, 890, 890, 890, 890, 890, 890, 890, 890, 890, 891, 891, 891, 891, 891, 892, 892, 892, 893, 893, 893, 893, 893, 893, 893, 894, 895, 895, 895, 895, 895, 896, 897, 897, 898, 899, 899, 899, 899, 899, 899, 900, 900, 901, 901, 901, 902, 902, 902, 903, 903, 903, 903, 904, 904, 904, 904, 904, 904, 905, 905, 905, 906, 906, 907, 907, 908, 908, 909, 909, 910, 910, 910, 910, 911, 911, 911, 912, 912, 912, 913, 913, 913, 913, 913, 913, 913, 913, 914, 914, 914, 914, 914, 914, 915, 915, 915, 915, 915, 915, 915, 916, 916, 916, 916, 916, 916, 917, 917, 917, 917, 917, 918, 918, 919, 919, 919, 919, 920, 920, 920, 920, 921, 921, 921, 921, 921, 921, 922, 922, 922, 922, 922, 922, 923, 923, 923, 924, 924, 924, 924, 924, 924, 925, 925, 926, 926, 926, 926, 926, 927, 927, 927, 928, 928, 928, 929, 929, 929, 929, 929, 929, 929, 930, 930, 930, 930, 930, 930, 930, 931, 931, 931, 931, 931, 931, 931, 932, 932, 933, 933, 933, 933, 933, 934, 934, 934, 934, 935, 935, 935, 936, 936, 936, 936, 937, 937, 937, 937, 937, 937, 937, 938, 938, 938, 938, 938, 938, 938, 939, 939, 940, 940, 940, 940, 940, 940, 941, 941, 941, 941, 941, 942, 942, 942, 942, 942, 942, 943, 943, 943, 943, 944, 944, 944, 944, 944, 944, 945, 945, 945, 945, 945, 945, 946, 946, 946, 946, 947, 947, 947, 948, 948, 949, 949, 950, 950, 950, 950, 950, 950, 951, 951, 951, 951, 951, 952, 952, 952, 952, 952, 952, 952, 952, 952, 953, 953, 954, 954, 954, 954, 954, 954, 954, 954, 955, 955, 955, 955, 956, 956, 956, 956, 957, 957, 957, 958, 958, 958, 958, 958, 958, 959, 959, 959, 959, 959, 959, 959, 960, 960, 960, 960, 961, 961, 961, 961, 961, 962, 962, 962, 963, 963, 963, 963, 963, 964, 964, 964, 965, 965, 965, 965, 965, 966, 967, 967, 967, 967, 967, 967, 968, 968, 968, 968, 968, 969, 969, 969, 969, 970, 970, 971, 971, 971, 971, 971, 971, 972, 972, 972, 972, 972, 972, 972, 973, 973, 973, 974, 976, 976, 977, 977, 978, 978, 978, 978, 978, 979, 979, 979, 980, 980, 980, 980, 980, 980, 980, 981, 981, 981, 981, 981, 981, 982, 982, 982, 982, 982, 982, 982, 983, 984, 984, 984, 984, 985, 985, 986, 986, 986, 986, 986, 986, 987, 987, 987, 987, 987, 987, 988, 988, 988, 989, 989, 989, 989, 989, 989, 989, 989, 989, 989, 989, 989, 990, 990, 990, 990, 991, 991, 991, 991, 992, 992, 992, 992, 992, 993, 993, 993, 993, 993, 993, 993, 993, 994, 994, 994, 994, 995, 995, 996, 996, 996, 996, 996, 996, 996, 997, 997, 997, 997, 997, 997, 998, 998, 998, 998, 998, 998, 998, 999, 999, 999, 1000, 1000, 1001, 1001, 1002, 1002, 1003, 1003, 1003, 1003, 1003, 1004, 1005, 1005, 1005, 1005, 1006, 1006, 1006, 1006, 1006, 1006, 1007, 1007, 1007, 1007, 1007, 1008, 1008, 1008, 1008, 1010, 1010, 1010, 1010, 1010, 1010, 1010, 1011, 1012, 1012, 1012, 1012, 1012, 1013, 1013, 1013, 1014, 1014, 1015, 1015, 1015, 1016, 1016, 1016, 1016, 1016, 1016, 1016, 1016, 1017, 1017, 1018, 1018, 1018, 1018, 1019, 1020, 1020, 1020, 1020, 1020, 1020, 1020, 1020, 1021, 1021, 1021, 1021, 1022, 1022, 1024, 1024, 1024, 1024, 1025, 1025, 1025, 1026, 1026, 1026, 1026, 1026, 1026, 1026, 1027, 1027, 1027, 1027, 1028, 1028, 1029, 1029, 1029, 1029, 1029, 1030, 1030, 1030, 1031, 1031, 1031, 1032, 1033, 1033, 1034, 1034, 1034, 1034, 1034, 1034, 1035, 1035, 1035, 1035, 1036, 1036, 1036, 1036, 1036, 1036, 1036, 1037, 1037, 1037, 1037, 1039, 1039, 1040, 1040, 1040, 1041, 1041, 1041, 1042, 1043, 1043, 1043, 1043, 1043, 1044, 1044, 1044, 1044, 1044, 1045, 1045, 1045, 1045, 1046, 1046, 1046, 1046, 1047, 1047, 1047, 1048, 1048, 1048, 1048, 1049, 1049, 1049, 1049, 1049, 1049, 1049, 1050, 1050, 1050, 1050, 1051, 1051, 1051, 1051, 1051, 1052, 1052, 1053, 1053, 1053, 1054, 1054, 1054, 1054, 1054, 1054, 1054, 1054, 1055, 1055, 1056, 1056, 1056, 1056, 1056, 1056, 1057, 1057, 1058, 1058, 1058, 1058, 1058, 1059, 1059, 1059, 1059, 1060, 1060, 1060, 1060, 1060, 1060, 1060, 1060, 1061, 1061, 1061, 1062, 1062, 1062, 1063, 1064, 1064, 1065, 1065, 1065, 1066, 1066, 1066, 1066, 1067, 1068, 1068, 1069, 1069, 1069, 1069, 1069, 1070, 1070, 1070, 1071, 1071, 1072, 1072, 1072, 1072, 1073, 1073, 1073, 1073, 1073, 1074, 1074, 1074, 1074, 1074, 1075, 1075, 1075, 1075, 1077, 1077, 1078, 1078, 1078, 1078, 1079, 1079, 1079, 1080, 1080, 1080, 1080, 1080, 1082, 1082, 1082, 1084, 1084, 1084, 1084, 1085, 1085, 1085, 1085, 1085, 1086, 1086, 1087, 1087, 1088, 1088, 1088, 1088, 1089, 1089, 1089, 1089, 1089, 1090, 1090, 1090, 1090, 1090, 1090, 1091, 1091, 1091, 1092, 1092, 1092, 1092, 1092, 1093, 1093, 1093, 1093, 1094, 1094, 1095, 1095, 1095, 1095, 1095, 1095, 1096, 1096, 1097, 1097, 1097, 1097, 1097, 1098, 1098, 1098, 1099, 1100, 1100, 1100, 1100, 1101, 1101, 1101, 1101, 1101, 1101, 1102, 1102, 1103, 1104, 1105, 1105, 1105, 1105, 1105, 1106, 1106, 1106, 1107, 1107, 1107, 1108, 1108, 1108, 1108, 1109, 1109, 1109, 1110, 1110, 1110, 1110, 1110, 1110, 1111, 1111, 1111, 1111, 1111, 1111, 1111, 1112, 1112, 1112, 1113, 1113, 1113, 1113, 1113, 1113, 1113, 1113, 1113, 1115, 1116, 1116, 1116, 1116, 1116, 1117, 1117, 1117, 1117, 1117, 1117, 1118, 1119, 1119, 1119, 1120, 1120, 1120, 1120, 1120, 1121, 1121, 1121, 1121, 1121, 1122, 1122, 1122, 1123, 1123, 1123, 1124, 1125, 1125, 1125, 1126, 1126, 1126, 1126, 1127, 1127, 1128, 1128, 1128, 1128, 1129, 1129, 1130, 1130, 1130, 1130, 1130, 1130, 1131, 1131, 1131, 1132, 1132, 1134, 1134, 1134, 1134, 1135, 1135, 1135, 1135, 1136, 1136, 1136, 1137, 1137, 1137, 1137, 1137, 1138, 1138, 1139, 1139, 1140, 1140, 1140, 1140, 1141, 1141, 1141, 1142, 1142, 1143, 1143, 1144, 1144, 1145, 1145, 1145, 1146, 1146, 1146, 1147, 1147, 1147, 1148, 1148, 1148, 1148, 1149, 1149, 1149, 1149, 1149, 1150, 1151, 1151, 1151, 1152, 1153, 1153, 1153, 1154, 1155, 1155, 1155, 1155, 1155, 1156, 1156, 1156, 1156, 1156, 1157, 1157, 1157, 1158, 1159, 1159, 1159, 1159, 1159, 1159, 1160, 1160, 1161, 1161, 1162, 1162, 1163, 1163, 1164, 1164, 1164, 1164, 1165, 1165, 1165, 1165, 1165, 1166, 1167, 1167, 1168, 1168, 1169, 1169, 1169, 1169, 1170, 1171, 1171, 1171, 1171, 1171, 1171, 1172, 1172, 1172, 1173, 1173, 1173, 1173, 1174, 1174, 1175, 1175, 1176, 1177, 1177, 1177, 1177, 1177, 1177, 1177, 1177, 1178, 1179, 1179, 1179, 1179, 1179, 1180, 1180, 1180, 1180, 1181, 1181, 1182, 1182, 1182, 1183, 1183, 1183, 1183, 1183, 1184, 1184, 1184, 1185, 1185, 1185, 1185, 1186, 1186, 1186, 1186, 1187, 1187, 1188, 1188, 1189, 1189, 1190, 1190, 1191, 1192, 1192, 1192, 1193, 1194, 1194, 1195, 1195, 1196, 1196, 1196, 1197, 1197, 1197, 1197, 1197, 1198, 1198, 1198, 1198, 1199, 1199, 1199, 1199, 1200, 1200, 1201, 1201, 1201, 1201, 1201, 1201, 1201, 1201, 1202, 1202, 1202, 1202, 1202, 1203, 1204, 1205, 1205, 1205, 1205, 1205, 1206, 1206, 1206, 1206, 1207, 1207, 1207, 1207, 1208, 1208, 1208, 1209, 1209, 1210, 1210, 1211, 1212, 1212, 1213, 1213, 1213, 1214, 1214, 1214, 1215, 1215, 1215, 1215, 1216, 1216, 1217, 1217, 1217, 1217, 1218, 1218, 1219, 1219, 1219, 1220, 1220, 1220, 1221, 1221, 1221, 1222, 1222, 1222, 1223, 1223, 1224, 1224, 1225, 1225, 1225, 1226, 1226, 1227, 1227, 1227, 1228, 1229, 1229, 1229, 1230, 1230, 1232, 1232, 1233, 1233, 1233, 1233, 1234, 1234, 1234, 1235, 1235, 1235, 1235, 1235, 1236, 1236, 1236, 1236, 1237, 1237, 1238, 1238, 1238, 1238, 1238, 1239, 1239, 1239, 1240, 1240, 1241, 1241, 1242, 1242, 1242, 1242, 1242, 1242, 1243, 1243, 1244, 1244, 1246, 1246, 1246, 1246, 1246, 1246, 1246, 1248, 1248, 1248, 1249, 1249, 1249, 1250, 1250, 1250, 1250, 1250, 1251, 1251, 1251, 1252, 1253, 1253, 1253, 1254, 1254, 1254, 1254, 1254, 1254, 1254, 1254, 1255, 1255, 1255, 1256, 1256, 1257, 1257, 1259, 1260, 1260, 1260, 1260, 1260, 1260, 1260, 1260, 1260, 1261, 1261, 1262, 1262, 1262, 1262, 1263, 1263, 1263, 1263, 1264, 1264, 1265, 1266, 1267, 1267, 1267, 1268, 1268, 1268, 1268, 1269, 1269, 1270, 1270, 1270, 1270, 1271, 1271, 1271, 1271, 1272, 1272, 1272, 1273, 1273, 1273, 1274, 1274, 1274, 1275, 1275, 1275, 1276, 1276, 1276, 1277, 1277, 1277, 1277, 1277, 1277, 1278, 1278, 1278, 1278, 1279, 1280, 1280, 1280, 1280, 1281, 1281, 1281, 1281, 1282, 1283, 1283, 1283, 1283, 1284, 1285, 1285, 1286, 1286, 1288, 1289, 1290, 1290, 1290, 1290, 1291, 1291, 1292, 1292, 1293, 1293, 1293, 1294, 1294, 1294, 1294, 1295, 1296, 1296, 1296, 1296, 1297, 1297, 1297, 1297, 1298, 1298, 1299, 1299, 1299, 1299, 1300, 1300, 1300, 1300, 1300, 1301, 1302, 1302, 1303, 1304, 1304, 1305, 1305, 1305, 1306, 1307, 1307, 1307, 1308, 1308, 1308, 1310, 1310, 1311, 1311, 1311, 1312, 1312, 1313, 1313, 1313, 1314, 1315, 1315, 1315, 1315, 1315, 1315, 1315, 1315, 1315, 1316, 1316, 1317, 1317, 1318, 1318, 1319, 1319, 1320, 1321, 1321, 1321, 1321, 1322, 1322, 1322, 1324, 1324, 1324, 1325, 1325, 1326, 1327, 1327, 1328, 1328, 1329, 1330, 1331, 1331, 1331, 1332, 1332, 1332, 1332, 1333, 1334, 1334, 1335, 1335, 1336, 1337, 1337, 1339, 1339, 1339, 1339, 1339, 1340, 1341, 1341, 1341, 1342, 1342, 1344, 1344, 1344, 1344, 1344, 1344, 1345, 1346, 1348, 1348, 1349, 1349, 1350, 1350, 1351, 1351, 1351, 1351, 1351, 1351, 1352, 1353, 1353, 1354, 1354, 1355, 1355, 1355, 1355, 1357, 1357, 1358, 1358, 1358, 1358, 1359, 1359, 1359, 1359, 1359, 1360, 1360, 1361, 1362, 1364, 1364, 1364, 1364, 1366, 1366, 1366, 1366, 1367, 1367, 1367, 1368, 1368, 1369, 1370, 1370, 1370, 1371, 1371, 1372, 1372, 1373, 1373, 1373, 1374, 1376, 1377, 1377, 1377, 1377, 1377, 1377, 1378, 1378, 1378, 1378, 1379, 1380, 1380, 1382, 1382, 1383, 1383, 1384, 1385, 1386, 1386, 1386, 1387, 1387, 1388, 1389, 1389, 1389, 1390, 1391, 1391, 1392, 1393, 1393, 1394, 1394, 1395, 1395, 1396, 1397, 1397, 1397, 1398, 1398, 1398, 1399, 1400, 1400, 1400, 1400, 1400, 1401, 1401, 1401, 1401, 1402, 1402, 1403, 1403, 1403, 1404, 1404, 1404, 1404, 1404, 1405, 1405, 1405, 1405, 1407, 1407, 1407, 1407, 1407, 1408, 1408, 1409, 1409, 1410, 1411, 1411, 1411, 1412, 1412, 1413, 1414, 1414, 1414, 1415, 1415, 1416, 1416, 1416, 1416, 1417, 1418, 1418, 1418, 1419, 1419, 1420, 1420, 1421, 1421, 1421, 1421, 1424, 1424, 1424, 1425, 1426, 1427, 1429, 1430, 1430, 1430, 1432, 1432, 1433, 1433, 1433, 1433, 1433, 1435, 1435, 1435, 1435, 1435, 1436, 1437, 1437, 1437, 1437, 1438, 1438, 1439, 1439, 1439, 1440, 1440, 1441, 1441, 1442, 1443, 1444, 1444, 1444, 1445, 1445, 1445, 1446, 1446, 1447, 1448, 1448, 1448, 1448, 1449, 1449, 1451, 1451, 1451, 1451, 1453, 1453, 1453, 1454, 1455, 1455, 1455, 1455, 1456, 1456, 1457, 1458, 1458, 1458, 1458, 1460, 1461, 1462, 1462, 1462, 1462, 1463, 1465, 1465, 1465, 1465, 1466, 1467, 1467, 1467, 1467, 1468, 1468, 1468, 1468, 1468, 1468, 1469, 1469, 1470, 1470, 1470, 1470, 1470, 1471, 1471, 1472, 1472, 1473, 1473, 1474, 1474, 1475, 1475, 1475, 1476, 1477, 1478, 1478, 1478, 1478, 1478, 1478, 1479, 1480, 1481, 1481, 1482, 1483, 1483, 1484, 1484, 1484, 1484, 1485, 1487, 1487, 1489, 1489, 1489, 1489, 1490, 1491, 1491, 1492, 1492, 1492, 1493, 1493, 1493, 1494, 1495, 1495, 1495, 1495, 1495, 1496, 1496, 1496, 1496, 1496, 1497, 1498, 1499, 1499, 1499, 1499, 1500, 1500, 1501, 1501, 1501, 1501, 1502, 1502, 1502, 1502, 1502, 1503, 1503, 1503, 1504, 1504, 1504, 1505, 1505, 1505, 1508, 1509, 1509, 1510, 1510, 1510, 1510, 1511, 1511, 1511, 1513, 1513, 1514, 1514, 1514, 1514, 1516, 1517, 1517, 1518, 1518, 1518, 1518, 1519, 1520, 1520, 1520, 1521, 1522, 1522, 1523, 1524, 1524, 1525, 1525, 1526, 1527, 1528, 1528, 1528, 1529, 1529, 1529, 1529, 1529, 1530, 1530, 1532, 1532, 1533, 1533, 1534, 1534, 1535, 1535, 1536, 1536, 1539, 1539, 1539, 1541, 1541, 1541, 1542, 1542, 1542, 1542, 1543, 1544, 1544, 1546, 1546, 1546, 1547, 1547, 1547, 1548, 1549, 1551, 1552, 1552, 1553, 1553, 1554, 1554, 1554, 1554, 1555, 1555, 1556, 1556, 1556, 1557, 1557, 1559, 1559, 1559, 1560, 1560, 1562, 1562, 1563, 1563, 1563, 1564, 1564, 1564, 1564, 1565, 1565, 1566, 1568, 1568, 1569, 1569, 1569, 1569, 1570, 1570, 1571, 1573, 1576, 1576, 1576, 1576, 1577, 1578, 1578, 1578, 1579, 1579, 1580, 1581, 1581, 1582, 1583, 1583, 1583, 1583, 1584, 1585, 1586, 1589, 1589, 1589, 1590, 1590, 1590, 1590, 1590, 1592, 1592, 1592, 1593, 1594, 1595, 1596, 1596, 1598, 1599, 1600, 1603, 1603, 1603, 1604, 1608, 1608, 1609, 1610, 1610, 1611, 1616, 1617, 1617, 1618, 1619, 1619, 1620, 1620, 1622, 1622, 1623, 1623, 1623, 1624, 1624, 1624, 1624, 1624, 1625, 1626, 1627, 1627, 1627, 1627, 1628, 1629, 1629, 1630, 1630, 1630, 1630, 1630, 1631, 1631, 1632, 1632, 1633, 1633, 1633, 1633, 1635, 1635, 1636, 1637, 1638, 1639, 1639, 1639, 1640, 1640, 1641, 1643, 1643, 1643, 1644, 1646, 1646, 1646, 1646, 1647, 1647, 1649, 1649, 1650, 1650, 1650, 1651, 1651, 1651, 1651, 1652, 1652, 1652, 1653, 1653, 1654, 1655, 1655, 1655, 1656, 1656, 1657, 1657, 1660, 1661, 1661, 1661, 1662, 1662, 1662, 1663, 1663, 1665, 1666, 1667, 1667, 1668, 1668, 1668, 1669, 1669, 1669, 1669, 1670, 1671, 1671, 1671, 1671, 1672, 1672, 1673, 1673, 1674, 1674, 1676, 1677, 1678, 1678, 1678, 1678, 1681, 1681, 1682, 1683, 1683, 1683, 1684, 1686, 1687, 1687, 1688, 1688, 1688, 1690, 1690, 1691, 1693, 1694, 1694, 1694, 1694, 1695, 1695, 1695, 1695, 1696, 1697, 1697, 1698, 1698, 1699, 1701, 1703, 1703, 1703, 1704, 1704, 1705, 1705, 1706, 1709, 1710, 1710, 1711, 1711, 1712, 1713, 1713, 1713, 1713, 1715, 1716, 1716, 1716, 1717, 1717, 1718, 1718, 1718, 1718, 1719, 1720, 1720, 1720, 1721, 1721, 1722, 1723, 1724, 1725, 1726, 1727, 1728, 1728, 1729, 1730, 1732, 1732, 1732, 1732, 1735, 1736, 1739, 1740, 1740, 1742, 1743, 1744, 1744, 1746, 1746, 1746, 1747, 1747, 1748, 1748, 1748, 1748, 1749, 1749, 1749, 1750, 1754, 1755, 1755, 1756, 1756, 1761, 1763, 1764, 1764, 1765, 1766, 1766, 1767, 1767, 1767, 1770, 1770, 1771, 1771, 1772, 1773, 1773, 1773, 1774, 1776, 1777, 1779, 1779, 1779, 1781, 1781, 1782, 1784, 1784, 1785, 1785, 1787, 1787, 1787, 1787, 1789, 1790, 1791, 1792, 1793, 1795, 1796, 1796, 1796, 1797, 1801, 1801, 1803, 1803, 1803, 1804, 1805, 1805, 1806, 1807, 1807, 1808, 1809, 1810, 1810, 1811, 1811, 1811, 1812, 1812, 1813, 1814, 1815, 1816, 1817, 1818, 1820, 1820, 1821, 1821, 1821, 1822, 1822, 1823, 1823, 1824, 1824, 1826, 1827, 1828, 1828, 1829, 1829, 1830, 1831, 1831, 1832, 1832, 1832, 1832, 1834, 1834, 1834, 1834, 1834, 1835, 1836, 1836, 1839, 1839, 1841, 1841, 1841, 1843, 1846, 1848, 1848, 1849, 1850, 1851, 1851, 1852, 1852, 1853, 1853, 1854, 1855, 1855, 1856, 1856, 1856, 1858, 1860, 1861, 1861, 1862, 1863, 1863, 1865, 1865, 1865, 1866, 1867, 1868, 1870, 1870, 1871, 1872, 1872, 1872, 1873, 1874, 1877, 1878, 1878, 1879, 1881, 1881, 1884, 1884, 1884, 1885, 1885, 1886, 1886, 1886, 1889, 1890, 1890, 1891, 1892, 1894, 1900, 1901, 1901, 1901, 1902, 1902, 1903, 1903, 1904, 1905, 1905, 1906, 1906, 1908, 1908, 1908, 1908, 1909, 1910, 1912, 1912, 1912, 1913, 1914, 1915, 1918, 1918, 1919, 1920, 1920, 1923, 1923, 1924, 1924, 1924, 1925, 1926, 1928, 1928, 1929, 1929, 1930, 1931, 1932, 1933, 1933, 1933, 1935, 1936, 1936, 1939, 1940, 1940, 1941, 1942, 1943, 1944, 1949, 1950, 1950, 1952, 1954, 1955, 1956, 1958, 1959, 1960, 1961, 1961, 1961, 1962, 1962, 1963, 1963, 1964, 1964, 1967, 1967, 1968, 1969, 1971, 1971, 1971, 1973, 1974, 1974, 1977, 1977, 1977, 1978, 1978, 1978, 1979, 1980, 1980, 1983, 1984, 1986, 1987, 1988, 1988, 1990, 1991, 1991, 1992, 1992, 1993, 1993, 1993, 1994, 1995, 1995, 1995, 1995, 1996, 1998, 1998, 1999, 2000, 2000, 2002, 2002, 2004, 2006, 2006, 2008, 2010, 2010, 2011, 2011, 2013, 2014, 2015, 2018, 2019, 2019, 2021, 2021, 2023, 2025, 2027, 2028, 2028, 2030, 2030, 2031, 2033, 2033, 2034, 2035, 2035, 2035, 2036, 2036, 2039, 2042, 2043, 2044, 2045, 2045, 2045, 2046, 2049, 2049, 2050, 2051, 2052, 2053, 2055, 2055, 2056, 2056, 2059, 2060, 2060, 2060, 2061, 2061, 2062, 2062, 2066, 2067, 2068, 2068, 2069, 2070, 2071, 2076, 2077, 2078, 2081, 2082, 2084, 2085, 2085, 2085, 2086, 2086, 2089, 2089, 2089, 2093, 2096, 2097, 2097, 2097, 2098, 2099, 2103, 2104, 2104, 2104, 2105, 2109, 2111, 2112, 2113, 2116, 2116, 2117, 2117, 2118, 2120, 2122, 2124, 2124, 2125, 2126, 2129, 2129, 2129, 2129, 2130, 2131, 2133, 2134, 2134, 2137, 2138, 2140, 2142, 2148, 2149, 2151, 2153, 2157, 2160, 2160, 2161, 2163, 2165, 2165, 2166, 2168, 2172, 2172, 2172, 2174, 2174, 2175, 2178, 2180, 2185, 2190, 2191, 2191, 2193, 2194, 2194, 2199, 2203, 2206, 2208, 2209, 2212, 2213, 2215, 2219, 2219, 2222, 2223, 2223, 2224, 2225, 2225, 2225, 2226, 2226, 2227, 2227, 2230, 2230, 2230, 2231, 2232, 2233, 2234, 2235, 2238, 2240, 2243, 2245, 2247, 2249, 2253, 2254, 2257, 2258, 2258, 2260, 2260, 2264, 2264, 2265, 2266, 2268, 2268, 2268, 2274, 2274, 2274, 2274, 2275, 2276, 2283, 2285, 2286, 2291, 2292, 2292, 2299, 2299, 2303, 2304, 2305, 2306, 2307, 2307, 2308, 2308, 2312, 2317, 2319, 2320, 2321, 2322, 2324, 2324, 2325, 2326, 2329, 2329, 2329, 2331, 2331, 2332, 2333, 2333, 2334, 2336, 2338, 2339, 2339, 2341, 2341, 2343, 2343, 2345, 2348, 2349, 2350, 2357, 2358, 2364, 2367, 2368, 2368, 2369, 2376, 2376, 2377, 2379, 2379, 2381, 2382, 2384, 2386, 2387, 2388, 2388, 2389, 2389, 2390, 2390, 2391, 2391, 2391, 2393, 2393, 2394, 2396, 2397, 2397, 2401, 2401, 2401, 2402, 2402, 2404, 2408, 2409, 2413, 2413, 2417, 2418, 2419, 2420, 2421, 2432, 2436, 2439, 2440, 2441, 2443, 2445, 2446, 2446, 2448, 2449, 2450, 2452, 2454, 2455, 2455, 2456, 2460, 2460, 2461, 2464, 2464, 2472, 2472, 2472, 2472, 2474, 2474, 2475, 2478, 2479, 2480, 2484, 2487, 2487, 2491, 2491, 2492, 2493, 2493, 2496, 2499, 2500, 2501, 2504, 2505, 2506, 2507, 2507, 2508, 2508, 2510, 2514, 2516, 2518, 2520, 2521, 2522, 2525, 2527, 2527, 2530, 2532, 2533, 2534, 2536, 2539, 2542, 2543, 2543, 2544, 2545, 2547, 2551, 2557, 2558, 2558, 2558, 2560, 2560, 2561, 2562, 2563, 2564, 2564, 2565, 2567, 2568, 2569, 2569, 2581, 2582, 2582, 2584, 2584, 2585, 2586, 2587, 2587, 2588, 2589, 2592, 2594, 2596, 2600, 2600, 2601, 2602, 2604, 2608, 2608, 2609, 2611, 2615, 2618, 2619, 2622, 2623, 2624, 2624, 2624, 2628, 2628, 2628, 2628, 2629, 2630, 2634, 2643, 2644, 2644, 2649, 2649, 2654, 2655, 2658, 2661, 2662, 2662, 2662, 2664, 2672, 2672, 2672, 2673, 2674, 2675, 2675, 2680, 2682, 2683, 2687, 2689, 2690, 2698, 2707, 2708, 2712, 2712, 2715, 2717, 2717, 2718, 2719, 2722, 2722, 2724, 2725, 2726, 2729, 2730, 2733, 2736, 2736, 2739, 2742, 2742, 2743, 2744, 2746, 2748, 2752, 2755, 2755, 2756, 2757, 2765, 2767, 2775, 2776, 2783, 2786, 2791, 2793, 2797, 2798, 2800, 2800, 2801, 2804, 2804, 2805, 2808, 2813, 2815, 2815, 2815, 2816, 2817, 2817, 2818, 2819, 2820, 2822, 2822, 2824, 2829, 2829, 2829, 2830, 2839, 2841, 2841, 2844, 2844, 2845, 2846, 2846, 2848, 2855, 2858, 2858, 2859, 2864, 2865, 2865, 2867, 2869, 2873, 2875, 2877, 2877, 2891, 2892, 2893, 2895, 2898, 2899, 2901, 2903, 2904, 2909, 2909, 2911, 2922, 2923, 2924, 2924, 2925, 2930, 2933, 2938, 2939, 2939, 2940, 2945, 2951, 2951, 2955, 2956, 2956, 2957, 2958, 2962, 2969, 2971, 2973, 2975, 2978, 2979, 2980, 2981, 2982, 2982, 2989, 2989, 2990, 2993, 2995, 3001, 3001, 3006, 3006, 3014, 3014, 3016, 3023, 3024, 3025, 3026, 3029, 3029, 3030, 3031, 3032, 3038, 3045, 3050, 3057, 3059, 3060, 3060, 3061, 3067, 3068, 3069, 3081, 3088, 3090, 3090, 3101, 3101, 3104, 3115, 3119, 3120, 3120, 3133, 3133, 3136, 3137, 3138, 3139, 3145, 3145, 3147, 3151, 3153, 3155, 3157, 3158, 3160, 3164, 3165, 3165, 3166, 3166, 3166, 3168, 3169, 3170, 3173, 3173, 3177, 3180, 3182, 3184, 3189, 3194, 3195, 3196, 3197, 3200, 3200, 3201, 3207, 3213, 3215, 3218, 3219, 3220, 3222, 3222, 3228, 3230, 3233, 3236, 3236, 3262, 3267, 3270, 3281, 3296, 3296, 3300, 3301, 3301, 3302, 3304, 3306, 3309, 3315, 3318, 3318, 3324, 3327, 3331, 3332, 3335, 3337, 3339, 3340, 3342, 3343, 3345, 3346, 3360, 3360, 3365, 3366, 3386, 3398, 3402, 3403, 3403, 3422, 3433, 3434, 3436, 3439, 3439, 3443, 3457, 3460, 3460, 3461, 3465, 3466, 3468, 3471, 3471, 3472, 3476, 3485, 3493, 3500, 3504, 3504, 3506, 3508, 3512, 3522, 3522, 3523, 3524, 3525, 3526, 3531, 3531, 3541, 3543, 3546, 3547, 3550, 3551, 3557, 3559, 3562, 3568, 3568, 3571, 3573, 3576, 3583, 3589, 3590, 3592, 3594, 3594, 3605, 3623, 3631, 3641, 3642, 3648, 3652, 3652, 3657, 3660, 3666, 3683, 3689, 3690, 3696, 3698, 3711, 3717, 3724, 3724, 3729, 3734, 3737, 3744, 3750, 3750, 3750, 3755, 3755, 3756, 3758, 3763, 3764, 3764, 3778, 3778, 3784, 3787, 3792, 3799, 3803, 3809, 3812, 3818, 3820, 3837, 3844, 3851, 3855, 3865, 3869, 3871, 3875, 3880, 3886, 3887, 3888, 3894, 3895, 3899, 3921, 3921, 3925, 3925, 3932, 3938, 3943, 3946, 3963, 3971, 3975, 3979, 3982, 3990, 4023, 4026, 4031, 4035, 4049, 4053, 4061, 4073, 4073, 4085, 4086, 4087, 4089, 4096, 4103, 4110, 4116, 4123, 4124, 4124, 4138, 4155, 4165, 4170, 4172, 4183, 4186, 4189, 4193, 4211, 4217, 4222, 4224, 4225, 4231, 4247, 4250, 4252, 4260, 4260, 4267, 4267, 4268, 4272, 4276, 4280, 4281, 4309, 4313, 4325, 4325, 4349, 4365, 4396, 4403, 4421, 4423, 4430, 4441, 4449, 4459, 4466, 4467, 4468, 4468, 4483, 4514, 4524, 4551, 4552, 4565, 4572, 4594, 4609, 4609, 4616, 4630, 4635, 4648, 4649, 4683, 4688, 4702, 4724, 4726, 4755, 4765, 4817, 4838, 4847, 4848, 4879, 4943, 4952, 5030, 5043, 5104, 5105, 5116, 5127, 5155, 5178, 5280, 5313, 5346, 5354, 5497, 5641, 5643, 5681, 5831, 6210, 6494, 6922, 7451, 10153]\n"
     ]
    },
    {
     "data": {
      "text/plain": [
       "Text(0.5, 6.79999999999999, 'Number of Lyrics')"
      ]
     },
     "execution_count": 83,
     "metadata": {},
     "output_type": "execute_result"
    },
    {
     "data": {
      "image/png": "[encoded data removed]",
      "text/plain": [
       "<Figure size 1080x432 with 1 Axes>"
      ]
     },
     "metadata": {
      "needs_background": "light"
     },
     "output_type": "display_data"
    }
   ],
   "source": [
    "sns.displot(lyrics_lengths)\n",
    "plt.gcf().set_size_inches(15, 6)\n",
    "plt.title(\"Lyric Length Distribution\")\n",
    "plt.xlabel(\"Number of Lyrics\")"
   ]
  },
  {
   "cell_type": "code",
   "execution_count": 56,
   "id": "0d4da1eb",
   "metadata": {},
   "outputs": [
    {
     "name": "stdout",
     "output_type": "stream",
     "text": [
      "Pipeline(steps=[('tfidf_vectorizer', TfidfVectorizer()),\n",
      "                ('clf', MultinomialNB())])\n",
      "Pipeline(steps=[('tfidf_vectorizer', TfidfVectorizer()),\n",
      "                ('clf', ComplementNB())])\n",
      "Pipeline(steps=[('tfidf_vectorizer', TfidfVectorizer()),\n",
      "                ('clf', RandomForestClassifier())])\n",
      "Pipeline(steps=[('tfidf_vectorizer', TfidfVectorizer()),\n",
      "                ('clf', KNeighborsClassifier())])\n",
      "Multinomail NB pipeline test accuracy: 0.589\n",
      "Complement NB pipeline test accuracy: 0.599\n",
      "Random Forest pipeline test accuracy: 0.574\n",
      "KNN pipeline test accuracy: 0.353\n"
     ]
    }
   ],
   "source": [
    "results[\"lemmed\"] = train_and_pipeline(lemmed_lyrics)"
   ]
  },
  {
   "cell_type": "markdown",
   "id": "ec47acb8",
   "metadata": {},
   "source": [
    "# Stemming"
   ]
  },
  {
   "cell_type": "code",
   "execution_count": 57,
   "id": "41685073",
   "metadata": {},
   "outputs": [],
   "source": [
    "def clean_docs_stemma(lyrics_list):\n",
    "    cleaned = []\n",
    "    pattern = \"([a-zA-Z]+(?:'[a-z]+)?)\"\n",
    "    for lyric in lyrics_list:\n",
    "        clean_lyric = nltk.regexp_tokenize(lyric, pattern)\n",
    "        lyric_lower = [i.lower() for i in clean_lyric]\n",
    "        stop_words = stopwords.words('english')\n",
    "        stopwords_list = stop_words + list(string.punctuation)\n",
    "        stopwords_list += [\"''\", '\"\"', '...', '``']\n",
    "        lyrics_tokens_stopped = [w for w in lyric_lower if not w in stopwords_list]\n",
    "        lyric_stemmas = [stemmer.stem(word) for word in lyrics_tokens_stopped]\n",
    "        c = \" \".join(lyric_stemmas)\n",
    "        cleaned.append(c)\n",
    "    return cleaned"
   ]
  },
  {
   "cell_type": "code",
   "execution_count": 58,
   "id": "9e31d861",
   "metadata": {},
   "outputs": [],
   "source": [
    "stemmed_lyrics = clean_docs_stemma(lyrics_list)"
   ]
  },
  {
   "cell_type": "code",
   "execution_count": 59,
   "id": "3b9ab5a9",
   "metadata": {},
   "outputs": [
    {
     "name": "stdout",
     "output_type": "stream",
     "text": [
      "Pipeline(steps=[('tfidf_vectorizer', TfidfVectorizer()),\n",
      "                ('clf', MultinomialNB())])\n",
      "Pipeline(steps=[('tfidf_vectorizer', TfidfVectorizer()),\n",
      "                ('clf', ComplementNB())])\n",
      "Pipeline(steps=[('tfidf_vectorizer', TfidfVectorizer()),\n",
      "                ('clf', RandomForestClassifier())])\n",
      "Pipeline(steps=[('tfidf_vectorizer', TfidfVectorizer()),\n",
      "                ('clf', KNeighborsClassifier())])\n",
      "Multinomail NB pipeline test accuracy: 0.551\n",
      "Complement NB pipeline test accuracy: 0.585\n",
      "Random Forest pipeline test accuracy: 0.561\n",
      "KNN pipeline test accuracy: 0.379\n"
     ]
    }
   ],
   "source": [
    "results[\"stemmed\"] = train_and_pipeline(stemmed_lyrics)"
   ]
  },
  {
   "cell_type": "markdown",
   "id": "092e52dd",
   "metadata": {},
   "source": [
    "# Stemmed & Lemmatized"
   ]
  },
  {
   "cell_type": "code",
   "execution_count": 60,
   "id": "27cb538a",
   "metadata": {},
   "outputs": [],
   "source": [
    "lemmatized_stemmed_lyrics = clean_docs_lemma(stemmed_lyrics)"
   ]
  },
  {
   "cell_type": "code",
   "execution_count": 61,
   "id": "6d258c74",
   "metadata": {},
   "outputs": [
    {
     "name": "stdout",
     "output_type": "stream",
     "text": [
      "Pipeline(steps=[('tfidf_vectorizer', TfidfVectorizer()),\n",
      "                ('clf', MultinomialNB())])\n",
      "Pipeline(steps=[('tfidf_vectorizer', TfidfVectorizer()),\n",
      "                ('clf', ComplementNB())])\n",
      "Pipeline(steps=[('tfidf_vectorizer', TfidfVectorizer()),\n",
      "                ('clf', RandomForestClassifier())])\n",
      "Pipeline(steps=[('tfidf_vectorizer', TfidfVectorizer()),\n",
      "                ('clf', KNeighborsClassifier())])\n",
      "Multinomail NB pipeline test accuracy: 0.572\n",
      "Complement NB pipeline test accuracy: 0.583\n",
      "Random Forest pipeline test accuracy: 0.601\n",
      "KNN pipeline test accuracy: 0.377\n"
     ]
    }
   ],
   "source": [
    "results[\"lemmatized_stemmed\"] = train_and_pipeline(lemmatized_stemmed_lyrics)"
   ]
  },
  {
   "cell_type": "code",
   "execution_count": 62,
   "id": "2f7cba01",
   "metadata": {},
   "outputs": [],
   "source": [
    "stemmed_lemmatized_lyrics = clean_docs_lemma(lemmed_lyrics)"
   ]
  },
  {
   "cell_type": "code",
   "execution_count": 63,
   "id": "6743ad08",
   "metadata": {},
   "outputs": [
    {
     "name": "stdout",
     "output_type": "stream",
     "text": [
      "Pipeline(steps=[('tfidf_vectorizer', TfidfVectorizer()),\n",
      "                ('clf', MultinomialNB())])\n",
      "Pipeline(steps=[('tfidf_vectorizer', TfidfVectorizer()),\n",
      "                ('clf', ComplementNB())])\n",
      "Pipeline(steps=[('tfidf_vectorizer', TfidfVectorizer()),\n",
      "                ('clf', RandomForestClassifier())])\n",
      "Pipeline(steps=[('tfidf_vectorizer', TfidfVectorizer()),\n",
      "                ('clf', KNeighborsClassifier())])\n",
      "Multinomail NB pipeline test accuracy: 0.558\n",
      "Complement NB pipeline test accuracy: 0.570\n",
      "Random Forest pipeline test accuracy: 0.555\n",
      "KNN pipeline test accuracy: 0.368\n"
     ]
    }
   ],
   "source": [
    "results[\"stemmed_lemmatized\"] = train_and_pipeline(stemmed_lemmatized_lyrics)"
   ]
  },
  {
   "cell_type": "code",
   "execution_count": 64,
   "id": "1fed49de",
   "metadata": {},
   "outputs": [
    {
     "data": {
      "text/plain": [
       "Counter({'lemmed': [('Multinomail NB', 0.5886666666666667),\n",
       "          ('Complement NB', 0.5993333333333334),\n",
       "          ('Random Forest', 0.574),\n",
       "          ('KNN', 0.3526666666666667)],\n",
       "         'stemmed': [('Multinomail NB', 0.5506666666666666),\n",
       "          ('Complement NB', 0.5846666666666667),\n",
       "          ('Random Forest', 0.5613333333333334),\n",
       "          ('KNN', 0.37866666666666665)],\n",
       "         'lemmatized_stemmed': [('Multinomail NB', 0.572),\n",
       "          ('Complement NB', 0.5826666666666667),\n",
       "          ('Random Forest', 0.6013333333333334),\n",
       "          ('KNN', 0.37666666666666665)],\n",
       "         'stemmed_lemmatized': [('Multinomail NB', 0.558),\n",
       "          ('Complement NB', 0.57),\n",
       "          ('Random Forest', 0.5546666666666666),\n",
       "          ('KNN', 0.368)]})"
      ]
     },
     "execution_count": 64,
     "metadata": {},
     "output_type": "execute_result"
    }
   ],
   "source": [
    "results"
   ]
  },
  {
   "cell_type": "code",
   "execution_count": 65,
   "id": "cbe68e29",
   "metadata": {},
   "outputs": [
    {
     "data": {
      "image/png": "[encoded data removed]",
      "text/plain": [
       "<Figure size 1080x432 with 1 Axes>"
      ]
     },
     "metadata": {
      "needs_background": "light"
     },
     "output_type": "display_data"
    }
   ],
   "source": [
    "X = results.keys()\n",
    "\n",
    "MNB = [results[x][0][1] for x in X]\n",
    "CNB = [results[x][1][1] for x in X]\n",
    "RF = [results[x][2][1] for x in X]\n",
    "KNN = [results[x][3][1] for x in X]\n",
    "\n",
    "X_axis = np.arange(len(X))\n",
    "plt.bar(X_axis - 0.3, MNB, 0.2, label = 'NB')\n",
    "plt.bar(X_axis - 0.1, CNB, 0.2, label = 'CNB')\n",
    "plt.bar(X_axis + 0.1, RF, 0.2, label = 'RF')\n",
    "plt.bar(X_axis + 0.3, KNN, 0.2, label = 'KNN')\n",
    "\n",
    "plt.xticks(X_axis, X)\n",
    "\n",
    "plt.gcf().set_size_inches(15, 6)\n",
    "plt.xlabel(\"Data Preprocessing\")\n",
    "plt.ylabel('Test Accuracy')\n",
    "plt.title(\"Model Test Accuracy for each Data Preprocessing Method\")\n",
    "plt.legend()\n",
    "plt.show()"
   ]
  },
  {
   "cell_type": "code",
   "execution_count": null,
   "id": "1bde79d5",
   "metadata": {},
   "outputs": [],
   "source": [
    "# Based on the results -> "
   ]
  },
  {
   "cell_type": "code",
   "execution_count": 181,
   "id": "5d8e8c7c",
   "metadata": {},
   "outputs": [],
   "source": [
    "X_train, X_test, y_train, y_test = train_test_split(lemmed_lyrics, combined_genre_data.Genres, test_size=0.25) "
   ]
  },
  {
   "cell_type": "markdown",
   "id": "793380e0",
   "metadata": {},
   "source": [
    "# Random Forest Classifier"
   ]
  },
  {
   "cell_type": "code",
   "execution_count": 182,
   "id": "a977d6a0",
   "metadata": {},
   "outputs": [],
   "source": [
    "rfc = RandomForestClassifier()"
   ]
  },
  {
   "cell_type": "code",
   "execution_count": null,
   "id": "16ee8b6e",
   "metadata": {},
   "outputs": [],
   "source": [
    "GS_pipe_RF = Pipeline([('count_vectorizer', CountVectorizer()), \n",
    "                     ('tfidf_vectorizer', TfidfTransformer()),\n",
    "                     ('clf', RandomForestClassifier())\n",
    "                    ])\n",
    "\n",
    "rf_param_grid = dict(clf__n_estimators = [10, 30, 100],\n",
    "                  clf__criterion = ['gini', 'entropy'],\n",
    "                  clf__max_depth = [2, 6, 10], \n",
    "                  clf__min_samples_split = [5, 10],\n",
    "                  clf__min_samples_leaf = [3, 6])\n",
    "\n",
    "\n",
    "gs_RF = GridSearchCV(estimator=GS_pipe_RF,\n",
    "            param_grid=rf_param_grid,\n",
    "            scoring='accuracy',\n",
    "            cv=3)\n",
    "\n",
    "gs_RF.fit(X_train, y_train)"
   ]
  },
  {
   "cell_type": "code",
   "execution_count": null,
   "id": "e1c9b021",
   "metadata": {},
   "outputs": [],
   "source": [
    "rf_gs_testing_score = gs_RF.score(X_test, y_test)\n",
    "\n",
    "print(\"Mean Testing Score: {:.4}%\".format(rf_gs_testing_score * 100))\n",
    "print(\"Best Parameter Combination Found During Grid Search: \\n{}\".format(gs_RF.best_params_))"
   ]
  },
  {
   "cell_type": "markdown",
   "id": "73a79d66",
   "metadata": {},
   "source": [
    "# Naive Bayes"
   ]
  },
  {
   "cell_type": "code",
   "execution_count": null,
   "id": "e375b633",
   "metadata": {},
   "outputs": [
    {
     "data": {
      "text/plain": [
       "GridSearchCV(cv=3,\n",
       "             estimator=Pipeline(steps=[('count_vectorizer', CountVectorizer()),\n",
       "                                       ('tfidf_vectorizer', TfidfTransformer()),\n",
       "                                       ('clf', MultinomialNB())]),\n",
       "             param_grid={'clf__alpha': [0.01, 0.05, 0.1, 0.2, 0.4, 1]},\n",
       "             scoring='accuracy')"
      ]
     },
     "execution_count": 28,
     "metadata": {},
     "output_type": "execute_result"
    }
   ],
   "source": [
    "GS_pipe_NB = Pipeline([('count_vectorizer', CountVectorizer()), \n",
    "                     ('tfidf_vectorizer', TfidfTransformer()),\n",
    "                     ('clf', MultinomialNB())\n",
    "                    ])\n",
    "\n",
    "\n",
    "sorted(GS_pipe_NB.get_params().keys())\n",
    "\n",
    "nb_param_grid = dict(clf__alpha = [.01, .05, .1, .2, .4, 1])\n",
    "\n",
    "gs_NB = GridSearchCV(estimator=GS_pipe_NB,\n",
    "            param_grid=nb_param_grid,\n",
    "            scoring='accuracy',\n",
    "            cv=3)\n",
    "\n",
    "gs_NB.fit(X_train, y_train)"
   ]
  },
  {
   "cell_type": "code",
   "execution_count": null,
   "id": "4addba15",
   "metadata": {},
   "outputs": [
    {
     "name": "stdout",
     "output_type": "stream",
     "text": [
      "Mean Testing Score: 61.27%\n",
      "Best Parameter Combination Found During Grid Search: \n",
      "{'clf__alpha': 0.05}\n"
     ]
    }
   ],
   "source": [
    "nb_gs_testing_score = gs_NB.score(X_test, y_test)\n",
    "\n",
    "print(\"Mean Testing Score: {:.4}%\".format(nb_gs_testing_score * 100))\n",
    "print(\"Best Parameter Combination Found During Grid Search: \\n{}\".format(gs_NB.best_params_))"
   ]
  },
  {
   "cell_type": "markdown",
   "id": "4ab7ea12",
   "metadata": {},
   "source": [
    "# KNN Classifier"
   ]
  },
  {
   "cell_type": "code",
   "execution_count": null,
   "id": "cc843683",
   "metadata": {},
   "outputs": [
    {
     "data": {
      "text/plain": [
       "GridSearchCV(cv=3,\n",
       "             estimator=Pipeline(steps=[('count_vectorizer', CountVectorizer()),\n",
       "                                       ('tfidf_vectorizer', TfidfTransformer()),\n",
       "                                       ('clf', KNeighborsClassifier())]),\n",
       "             param_grid={'clf__n_neighbors': [100, 150, 200], 'clf__p': [1, 2]},\n",
       "             scoring='accuracy')"
      ]
     },
     "execution_count": 30,
     "metadata": {},
     "output_type": "execute_result"
    }
   ],
   "source": [
    "GS_pipe_KNN = Pipeline([('count_vectorizer', CountVectorizer()), \n",
    "                     ('tfidf_vectorizer', TfidfTransformer()),\n",
    "                     ('clf', KNeighborsClassifier())\n",
    "                    ])\n",
    "\n",
    "knn_param_grid = dict(clf__n_neighbors = [100, 150, 200],\n",
    "                     clf__p = [1, 2])\n",
    "\n",
    "gs_KNN = GridSearchCV(estimator=GS_pipe_KNN,\n",
    "            param_grid=knn_param_grid,\n",
    "            scoring='accuracy',\n",
    "            cv=3)\n",
    "\n",
    "gs_KNN.fit(X_train, y_train)"
   ]
  },
  {
   "cell_type": "code",
   "execution_count": null,
   "id": "57868fc2",
   "metadata": {},
   "outputs": [
    {
     "name": "stdout",
     "output_type": "stream",
     "text": [
      "Mean Testing Score: 49.2%\n",
      "Best Parameter Combination Found During Grid Search: \n",
      "{'clf__n_neighbors': 200, 'clf__p': 2}\n"
     ]
    }
   ],
   "source": [
    "knn_gs_testing_score = gs_KNN.score(X_test, y_test)\n",
    "\n",
    "print(\"Mean Testing Score: {:.4}%\".format(knn_gs_testing_score * 100))\n",
    "print(\"Best Parameter Combination Found During Grid Search: \\n{}\".format(gs_KNN.best_params_))"
   ]
  }
 ],
 "metadata": {
  "kernelspec": {
   "display_name": "Python 3 (ipykernel)",
   "language": "python",
   "name": "python3"
  },
  "language_info": {
   "codemirror_mode": {
    "name": "ipython",
    "version": 3
   },
   "file_extension": ".py",
   "mimetype": "text/x-python",
   "name": "python",
   "nbconvert_exporter": "python",
   "pygments_lexer": "ipython3",
   "version": "3.9.10"
  }
 },
 "nbformat": 4,
 "nbformat_minor": 5
}
