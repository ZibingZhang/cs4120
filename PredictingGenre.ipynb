{
 "cells": [
  {
   "cell_type": "code",
   "execution_count": 25,
   "id": "6ddd65e4",
   "metadata": {},
   "outputs": [
    {
     "name": "stderr",
     "output_type": "stream",
     "text": [
      "[nltk_data] Downloading package words to /Users/andrewlin/nltk_data...\n",
      "[nltk_data]   Package words is already up-to-date!\n",
      "[nltk_data] Downloading package omw-1.4 to\n",
      "[nltk_data]     /Users/andrewlin/nltk_data...\n",
      "[nltk_data]   Package omw-1.4 is already up-to-date!\n"
     ]
    }
   ],
   "source": [
    "import csv\n",
    "import pandas as pd\n",
    "import nltk\n",
    "import time\n",
    "import numpy as np\n",
    "import string, re\n",
    "\n",
    "nltk.download('words')\n",
    "nltk.download('omw-1.4')\n",
    "from nltk.corpus import stopwords\n",
    "from nltk.stem import WordNetLemmatizer\n",
    "from nltk.stem.snowball import SnowballStemmer\n",
    "from sklearn.model_selection import train_test_split\n",
    "from sklearn.metrics import roc_curve, auc, accuracy_score, precision_score, recall_score, f1_score, roc_auc_score, confusion_matrix, ConfusionMatrixDisplay, RocCurveDisplay\n",
    "from sklearn.model_selection import GridSearchCV\n",
    "\n",
    "\n",
    "from sklearn.pipeline import Pipeline\n",
    "from sklearn.feature_extraction.text import CountVectorizer, TfidfTransformer\n",
    "from sklearn.ensemble import RandomForestClassifier\n",
    "from sklearn.neighbors import KNeighborsClassifier\n",
    "from sklearn.naive_bayes import MultinomialNB"
   ]
  },
  {
   "cell_type": "markdown",
   "id": "0190dc7c",
   "metadata": {},
   "source": [
    "# Data Preprocessing"
   ]
  },
  {
   "cell_type": "code",
   "execution_count": null,
   "id": "8eefbe7d",
   "metadata": {},
   "outputs": [],
   "source": [
    "# Import Song Data\n",
    "\n",
    "song_data = pd.read_csv('./data/lyrics-data.csv')\n",
    "english_songs = song_data.loc[song_data['language'] == 'en']\n",
    "english_songs.rename(columns={'ALink':'Link'}, inplace=True)\n",
    "english_songs.head()"
   ]
  },
  {
   "cell_type": "code",
   "execution_count": null,
   "id": "186cc26b",
   "metadata": {},
   "outputs": [],
   "source": [
    "# Import Artist Data\n",
    "\n",
    "artist_data = pd.read_csv('./data/artists-data.csv')\n",
    "artist_data = artist_data.drop_duplicates(subset='Link', keep='first')\n",
    "artist_data.head()"
   ]
  },
  {
   "cell_type": "code",
   "execution_count": null,
   "id": "1d2ded4d",
   "metadata": {},
   "outputs": [],
   "source": [
    "# Merge Dataframes\n",
    "\n",
    "combined_data = pd.merge(english_songs, artist_data, on='Link')\n",
    "combined_data = combined_data[[\"SName\", \"Artist\", \"Lyric\", \"Genres\"]]\n",
    "combined_data = combined_data[combined_data.Lyric.notnull()]\n",
    "combined_data = combined_data[combined_data.Genres.notnull()]\n",
    "combined_data"
   ]
  },
  {
   "cell_type": "code",
   "execution_count": null,
   "id": "f7d3137c",
   "metadata": {},
   "outputs": [],
   "source": [
    "artists = combined_data.Artist.unique()\n",
    "genres = combined_data.Genres.unique()\n",
    "labels = [\"Blues\", \"Country\", \"Hip Hop\", \"Jazz\", \"Pop\", \"Rock\"]"
   ]
  },
  {
   "cell_type": "code",
   "execution_count": null,
   "id": "ef4edd3c",
   "metadata": {},
   "outputs": [],
   "source": [
    "# Randomely select 1000 songs from each genre\n",
    "\n",
    "rows = []\n",
    "\n",
    "for label in labels:\n",
    "    genre_data = combined_data[combined_data.Genres == label]\n",
    "    genre_data = genre_data.sample(n=1000, replace=False)\n",
    "    genre_data.Genres = label\n",
    "    rows.append(genre_data)\n",
    "\n",
    "combined_genre_data = pd.concat(rows).reset_index().drop(\"index\", axis=1)\n",
    "combined_genre_data"
   ]
  },
  {
   "cell_type": "code",
   "execution_count": null,
   "id": "ee4ee48b",
   "metadata": {},
   "outputs": [],
   "source": [
    "combined_genre_data.to_csv(\"combined_genre_data.csv\")"
   ]
  },
  {
   "cell_type": "markdown",
   "id": "e2a5aeba",
   "metadata": {},
   "source": [
    "## Reload the data"
   ]
  },
  {
   "cell_type": "code",
   "execution_count": 4,
   "id": "2b94101a",
   "metadata": {},
   "outputs": [
    {
     "data": {
      "text/html": [
       "<div>\n",
       "<style scoped>\n",
       "    .dataframe tbody tr th:only-of-type {\n",
       "        vertical-align: middle;\n",
       "    }\n",
       "\n",
       "    .dataframe tbody tr th {\n",
       "        vertical-align: top;\n",
       "    }\n",
       "\n",
       "    .dataframe thead th {\n",
       "        text-align: right;\n",
       "    }\n",
       "</style>\n",
       "<table border=\"1\" class=\"dataframe\">\n",
       "  <thead>\n",
       "    <tr style=\"text-align: right;\">\n",
       "      <th></th>\n",
       "      <th>Unnamed: 0</th>\n",
       "      <th>SName</th>\n",
       "      <th>Artist</th>\n",
       "      <th>Lyric</th>\n",
       "      <th>Genres</th>\n",
       "    </tr>\n",
       "  </thead>\n",
       "  <tbody>\n",
       "    <tr>\n",
       "      <th>0</th>\n",
       "      <td>0</td>\n",
       "      <td>Country Boy</td>\n",
       "      <td>Muddy Waters</td>\n",
       "      <td>Don't say I don't love you\\nBecause I stays ou...</td>\n",
       "      <td>Blues</td>\n",
       "    </tr>\n",
       "    <tr>\n",
       "      <th>1</th>\n",
       "      <td>1</td>\n",
       "      <td>Don't Wait 'til Tomorrow</td>\n",
       "      <td>Gary Clark Jr.</td>\n",
       "      <td>I'm so tired of fighting\\nI'm so tired of bein...</td>\n",
       "      <td>Blues</td>\n",
       "    </tr>\n",
       "    <tr>\n",
       "      <th>2</th>\n",
       "      <td>2</td>\n",
       "      <td>Frankie</td>\n",
       "      <td>Mississippi John Hurt</td>\n",
       "      <td>(spoken introduction:\\n\"Frankie and Albert\", t...</td>\n",
       "      <td>Blues</td>\n",
       "    </tr>\n",
       "    <tr>\n",
       "      <th>3</th>\n",
       "      <td>3</td>\n",
       "      <td>Fear Of Falling</td>\n",
       "      <td>The Allman Brothers Band</td>\n",
       "      <td>by G. Allman, J. Townsend &amp; T. Heding\\nThere w...</td>\n",
       "      <td>Blues</td>\n",
       "    </tr>\n",
       "    <tr>\n",
       "      <th>4</th>\n",
       "      <td>4</td>\n",
       "      <td>I've Always Been Lonely</td>\n",
       "      <td>BB King</td>\n",
       "      <td>I don't have to know your name\\nUnless you rea...</td>\n",
       "      <td>Blues</td>\n",
       "    </tr>\n",
       "  </tbody>\n",
       "</table>\n",
       "</div>"
      ],
      "text/plain": [
       "   Unnamed: 0                     SName                    Artist  \\\n",
       "0           0               Country Boy              Muddy Waters   \n",
       "1           1  Don't Wait 'til Tomorrow            Gary Clark Jr.   \n",
       "2           2                   Frankie     Mississippi John Hurt   \n",
       "3           3           Fear Of Falling  The Allman Brothers Band   \n",
       "4           4   I've Always Been Lonely                   BB King   \n",
       "\n",
       "                                               Lyric Genres  \n",
       "0  Don't say I don't love you\\nBecause I stays ou...  Blues  \n",
       "1  I'm so tired of fighting\\nI'm so tired of bein...  Blues  \n",
       "2  (spoken introduction:\\n\"Frankie and Albert\", t...  Blues  \n",
       "3  by G. Allman, J. Townsend & T. Heding\\nThere w...  Blues  \n",
       "4  I don't have to know your name\\nUnless you rea...  Blues  "
      ]
     },
     "execution_count": 4,
     "metadata": {},
     "output_type": "execute_result"
    }
   ],
   "source": [
    "combined_genre_data = pd.read_csv(\"combined_genre_data.csv\")\n",
    "combined_genre_data.head()"
   ]
  },
  {
   "cell_type": "code",
   "execution_count": 10,
   "id": "e2b4c419",
   "metadata": {},
   "outputs": [],
   "source": [
    "lyrics_list = list(combined_genre_data.Lyric)\n",
    "pattern = \"([a-zA-Z]+(?:'[a-z]+)?)\"\n",
    "lemmatizer = WordNetLemmatizer()\n",
    "# stemmer = SnowballStemmer(\"english\")\n",
    "english = list(set(nltk.corpus.words.words()))\n",
    "\n",
    "def clean_docs_lemma(lyrics_list):\n",
    "    cleaned = []\n",
    "    for lyric in lyrics_list:\n",
    "        clean_lyric = nltk.regexp_tokenize(lyric, pattern)\n",
    "        lyric_lower = [i.lower() for i in clean_lyric]\n",
    "        stop_words = stopwords.words('english')\n",
    "        stopwords_list = stop_words + list(string.punctuation)\n",
    "        stopwords_list += [\"''\", '\"\"', '...', '``']\n",
    "        lyrics_tokens_stopped = [w for w in lyric_lower if not w in stopwords_list]\n",
    "        lyric_lemmas = [lemmatizer.lemmatize(word) for word in lyrics_tokens_stopped]\n",
    "        c = \" \".join(lyric_lemmas)\n",
    "        cleaned.append(c)\n",
    "    return cleaned"
   ]
  },
  {
   "cell_type": "code",
   "execution_count": 11,
   "id": "3734278d",
   "metadata": {},
   "outputs": [
    {
     "data": {
      "text/plain": [
       "6000"
      ]
     },
     "execution_count": 11,
     "metadata": {},
     "output_type": "execute_result"
    }
   ],
   "source": [
    "lemmed_lyrics = clean_docs_lemma(lyrics_list)\n",
    "len(lemmed_lyrics)"
   ]
  },
  {
   "cell_type": "code",
   "execution_count": 12,
   "id": "ffcdf2a5",
   "metadata": {},
   "outputs": [],
   "source": [
    "X = lemmed_lyrics\n",
    "y = combined_genre_data.Genres\n",
    "X_train, X_test, y_train, y_test = train_test_split(X, y, test_size=0.25) "
   ]
  },
  {
   "cell_type": "code",
   "execution_count": 23,
   "id": "76ecec0f",
   "metadata": {},
   "outputs": [
    {
     "name": "stdout",
     "output_type": "stream",
     "text": [
      "Pipeline(steps=[('count_vectorizer', CountVectorizer()),\n",
      "                ('tfidf_vectorizer', TfidfTransformer()),\n",
      "                ('clf', MultinomialNB())])\n",
      "Pipeline(steps=[('count_vectorizer', CountVectorizer()),\n",
      "                ('tfidf_vectorizer', TfidfTransformer()),\n",
      "                ('clf', RandomForestClassifier())])\n",
      "Pipeline(steps=[('count_vectorizer', CountVectorizer()),\n",
      "                ('tfidf_vectorizer', TfidfTransformer()),\n",
      "                ('clf', KNeighborsClassifier())])\n",
      "Multinomail NB pipeline test accuracy: 0.561\n",
      "Random Forest pipeline test accuracy: 0.576\n",
      "KNN pipeline test accuracy: 0.370\n"
     ]
    }
   ],
   "source": [
    "pipe_NB = Pipeline([('count_vectorizer', CountVectorizer()), \n",
    "                     ('tfidf_vectorizer', TfidfTransformer()),\n",
    "                     ('clf', MultinomialNB())\n",
    "                    ])\n",
    "\n",
    "pipe_RF = Pipeline([('count_vectorizer', CountVectorizer()), \n",
    "                     ('tfidf_vectorizer', TfidfTransformer()),\n",
    "                     ('clf', RandomForestClassifier())\n",
    "                    ])\n",
    "\n",
    "pipe_KNN = Pipeline([('count_vectorizer', CountVectorizer()), \n",
    "                     ('tfidf_vectorizer', TfidfTransformer()),\n",
    "                     ('clf', KNeighborsClassifier())\n",
    "                    ])\n",
    "\n",
    "# List of pipelines, List of pipeline names\n",
    "pipelines = [pipe_NB, pipe_RF, pipe_KNN]\n",
    "pipeline_names = ['Multinomail NB', 'Random Forest', \"KNN\"]\n",
    "\n",
    "# Loop to fit each of the three pipelines\n",
    "for pipe in pipelines:\n",
    "    print(pipe)\n",
    "    pipe.fit(X_train, y_train)\n",
    "    \n",
    "# Compare accuracies\n",
    "lemmed_basic_scores = []\n",
    "for index, val in enumerate(pipelines):\n",
    "    tup = (pipeline_names[index], val.score(X_test, y_test))\n",
    "    lemmed_basic_scores.append(tup)\n",
    "    print('%s pipeline test accuracy: %.3f' % (pipeline_names[index], val.score(X_test, y_test)))"
   ]
  },
  {
   "cell_type": "markdown",
   "id": "478f9a48",
   "metadata": {},
   "source": [
    "# Random Forest Classifier"
   ]
  },
  {
   "cell_type": "code",
   "execution_count": 26,
   "id": "1f0d369e",
   "metadata": {},
   "outputs": [
    {
     "data": {
      "text/plain": [
       "GridSearchCV(cv=3,\n",
       "             estimator=Pipeline(steps=[('count_vectorizer', CountVectorizer()),\n",
       "                                       ('tfidf_vectorizer', TfidfTransformer()),\n",
       "                                       ('clf', RandomForestClassifier())]),\n",
       "             param_grid={'clf__criterion': ['gini', 'entropy'],\n",
       "                         'clf__max_depth': [2, 6, 10],\n",
       "                         'clf__min_samples_leaf': [3, 6],\n",
       "                         'clf__min_samples_split': [5, 10],\n",
       "                         'clf__n_estimators': [10, 30, 100]},\n",
       "             scoring='accuracy')"
      ]
     },
     "execution_count": 26,
     "metadata": {},
     "output_type": "execute_result"
    }
   ],
   "source": [
    "GS_pipe_RF = Pipeline([('count_vectorizer', CountVectorizer()), \n",
    "                     ('tfidf_vectorizer', TfidfTransformer()),\n",
    "                     ('clf', RandomForestClassifier())\n",
    "                    ])\n",
    "\n",
    "rf_param_grid = dict(clf__n_estimators = [10, 30, 100],\n",
    "                  clf__criterion = ['gini', 'entropy'],\n",
    "                  clf__max_depth = [2, 6, 10], \n",
    "                  clf__min_samples_split = [5, 10],\n",
    "                  clf__min_samples_leaf = [3, 6])\n",
    "\n",
    "\n",
    "gs_RF = GridSearchCV(estimator=GS_pipe_RF,\n",
    "            param_grid=rf_param_grid,\n",
    "            scoring='accuracy',\n",
    "            cv=3)\n",
    "\n",
    "gs_RF.fit(X_train, y_train)"
   ]
  },
  {
   "cell_type": "code",
   "execution_count": 27,
   "id": "57d73db3",
   "metadata": {},
   "outputs": [
    {
     "name": "stdout",
     "output_type": "stream",
     "text": [
      "Mean Testing Score: 51.73%\n",
      "Best Parameter Combination Found During Grid Search: \n",
      "{'clf__criterion': 'gini', 'clf__max_depth': 10, 'clf__min_samples_leaf': 6, 'clf__min_samples_split': 10, 'clf__n_estimators': 100}\n"
     ]
    }
   ],
   "source": [
    "rf_gs_testing_score = gs_RF.score(X_test, y_test)\n",
    "\n",
    "print(\"Mean Testing Score: {:.4}%\".format(rf_gs_testing_score * 100))\n",
    "print(\"Best Parameter Combination Found During Grid Search: \\n{}\".format(gs_RF.best_params_))"
   ]
  },
  {
   "cell_type": "code",
   "execution_count": null,
   "id": "52b986b7",
   "metadata": {},
   "outputs": [],
   "source": []
  },
  {
   "cell_type": "markdown",
   "id": "541580cb",
   "metadata": {},
   "source": [
    "# Naive Bayes"
   ]
  },
  {
   "cell_type": "code",
   "execution_count": 28,
   "id": "7e7dcade",
   "metadata": {},
   "outputs": [
    {
     "data": {
      "text/plain": [
       "GridSearchCV(cv=3,\n",
       "             estimator=Pipeline(steps=[('count_vectorizer', CountVectorizer()),\n",
       "                                       ('tfidf_vectorizer', TfidfTransformer()),\n",
       "                                       ('clf', MultinomialNB())]),\n",
       "             param_grid={'clf__alpha': [0.01, 0.05, 0.1, 0.2, 0.4, 1]},\n",
       "             scoring='accuracy')"
      ]
     },
     "execution_count": 28,
     "metadata": {},
     "output_type": "execute_result"
    }
   ],
   "source": [
    "GS_pipe_NB = Pipeline([('count_vectorizer', CountVectorizer()), \n",
    "                     ('tfidf_vectorizer', TfidfTransformer()),\n",
    "                     ('clf', MultinomialNB())\n",
    "                    ])\n",
    "\n",
    "\n",
    "sorted(GS_pipe_NB.get_params().keys())\n",
    "\n",
    "nb_param_grid = dict(clf__alpha = [.01, .05, .1, .2, .4, 1])\n",
    "\n",
    "gs_NB = GridSearchCV(estimator=GS_pipe_NB,\n",
    "            param_grid=nb_param_grid,\n",
    "            scoring='accuracy',\n",
    "            cv=3)\n",
    "\n",
    "gs_NB.fit(X_train, y_train)"
   ]
  },
  {
   "cell_type": "code",
   "execution_count": 29,
   "id": "7f7c02b2",
   "metadata": {},
   "outputs": [
    {
     "name": "stdout",
     "output_type": "stream",
     "text": [
      "Mean Testing Score: 61.27%\n",
      "Best Parameter Combination Found During Grid Search: \n",
      "{'clf__alpha': 0.05}\n"
     ]
    }
   ],
   "source": [
    "nb_gs_testing_score = gs_NB.score(X_test, y_test)\n",
    "\n",
    "print(\"Mean Testing Score: {:.4}%\".format(nb_gs_testing_score * 100))\n",
    "print(\"Best Parameter Combination Found During Grid Search: \\n{}\".format(gs_NB.best_params_))"
   ]
  },
  {
   "cell_type": "code",
   "execution_count": null,
   "id": "d6ea8b7a",
   "metadata": {},
   "outputs": [],
   "source": []
  },
  {
   "cell_type": "markdown",
   "id": "a5ef9fe7",
   "metadata": {},
   "source": [
    "# KNN Classifier"
   ]
  },
  {
   "cell_type": "code",
   "execution_count": 30,
   "id": "015bc4c0",
   "metadata": {},
   "outputs": [
    {
     "data": {
      "text/plain": [
       "GridSearchCV(cv=3,\n",
       "             estimator=Pipeline(steps=[('count_vectorizer', CountVectorizer()),\n",
       "                                       ('tfidf_vectorizer', TfidfTransformer()),\n",
       "                                       ('clf', KNeighborsClassifier())]),\n",
       "             param_grid={'clf__n_neighbors': [100, 150, 200], 'clf__p': [1, 2]},\n",
       "             scoring='accuracy')"
      ]
     },
     "execution_count": 30,
     "metadata": {},
     "output_type": "execute_result"
    }
   ],
   "source": [
    "GS_pipe_KNN = Pipeline([('count_vectorizer', CountVectorizer()), \n",
    "                     ('tfidf_vectorizer', TfidfTransformer()),\n",
    "                     ('clf', KNeighborsClassifier())\n",
    "                    ])\n",
    "\n",
    "knn_param_grid = dict(clf__n_neighbors = [100, 150, 200],\n",
    "                     clf__p = [1, 2])\n",
    "\n",
    "gs_KNN = GridSearchCV(estimator=GS_pipe_KNN,\n",
    "            param_grid=knn_param_grid,\n",
    "            scoring='accuracy',\n",
    "            cv=3)\n",
    "\n",
    "gs_KNN.fit(X_train, y_train)"
   ]
  },
  {
   "cell_type": "code",
   "execution_count": 31,
   "id": "48edb2ff",
   "metadata": {},
   "outputs": [
    {
     "name": "stdout",
     "output_type": "stream",
     "text": [
      "Mean Testing Score: 49.2%\n",
      "Best Parameter Combination Found During Grid Search: \n",
      "{'clf__n_neighbors': 200, 'clf__p': 2}\n"
     ]
    }
   ],
   "source": [
    "knn_gs_testing_score = gs_KNN.score(X_test, y_test)\n",
    "\n",
    "print(\"Mean Testing Score: {:.4}%\".format(knn_gs_testing_score * 100))\n",
    "print(\"Best Parameter Combination Found During Grid Search: \\n{}\".format(gs_KNN.best_params_))"
   ]
  },
  {
   "cell_type": "code",
   "execution_count": null,
   "id": "471e9774",
   "metadata": {},
   "outputs": [],
   "source": []
  }
 ],
 "metadata": {
  "kernelspec": {
   "display_name": "Python 3 (ipykernel)",
   "language": "python",
   "name": "python3"
  },
  "language_info": {
   "codemirror_mode": {
    "name": "ipython",
    "version": 3
   },
   "file_extension": ".py",
   "mimetype": "text/x-python",
   "name": "python",
   "nbconvert_exporter": "python",
   "pygments_lexer": "ipython3",
   "version": "3.9.10"
  }
 },
 "nbformat": 4,
 "nbformat_minor": 5
}
