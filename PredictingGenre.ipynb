{
 "cells": [
  {
   "cell_type": "code",
   "execution_count": 131,
   "id": "c43c6cc5",
   "metadata": {},
   "outputs": [
    {
     "name": "stderr",
     "output_type": "stream",
     "text": [
      "[nltk_data] Downloading package words to /Users/andrewlin/nltk_data...\n",
      "[nltk_data]   Package words is already up-to-date!\n",
      "[nltk_data] Downloading package omw-1.4 to\n",
      "[nltk_data]     /Users/andrewlin/nltk_data...\n",
      "[nltk_data]   Package omw-1.4 is already up-to-date!\n"
     ]
    }
   ],
   "source": [
    "import csv\n",
    "import pandas as pd\n",
    "import nltk\n",
    "import time\n",
    "import numpy as np\n",
    "import string, re\n",
    "import seaborn as sns\n",
    "from collections import Counter\n",
    "nltk.download('words')\n",
    "nltk.download('omw-1.4')\n",
    "from nltk.corpus import stopwords\n",
    "from nltk.stem import WordNetLemmatizer\n",
    "from nltk.stem.snowball import SnowballStemmer\n",
    "from sklearn.model_selection import train_test_split\n",
    "from sklearn.metrics import roc_curve, auc, accuracy_score, precision_score, recall_score, f1_score, roc_auc_score, confusion_matrix, ConfusionMatrixDisplay, RocCurveDisplay\n",
    "from sklearn.model_selection import GridSearchCV\n",
    "from sklearn.pipeline import Pipeline\n",
    "from sklearn.feature_extraction.text import CountVectorizer, TfidfTransformer, TfidfVectorizer\n",
    "from sklearn.ensemble import RandomForestClassifier\n",
    "from sklearn.neighbors import KNeighborsClassifier\n",
    "from sklearn.naive_bayes import MultinomialNB, ComplementNB\n",
    "import matplotlib.pyplot as plt\n",
    "%matplotlib inline"
   ]
  },
  {
   "cell_type": "markdown",
   "id": "fe90b79a",
   "metadata": {},
   "source": [
    "# Data Preprocessing"
   ]
  },
  {
   "cell_type": "code",
   "execution_count": null,
   "id": "9efbf3d2",
   "metadata": {},
   "outputs": [],
   "source": [
    "# Import Song Data\n",
    "\n",
    "song_data = pd.read_csv('./data/lyrics-data.csv')\n",
    "english_songs = song_data.loc[song_data['language'] == 'en']\n",
    "english_songs.rename(columns={'ALink':'Link'}, inplace=True)\n",
    "english_songs.head()"
   ]
  },
  {
   "cell_type": "code",
   "execution_count": null,
   "id": "8496ed42",
   "metadata": {},
   "outputs": [],
   "source": [
    "# Import Artist Data\n",
    "\n",
    "artist_data = pd.read_csv('./data/artists-data.csv')\n",
    "artist_data = artist_data.drop_duplicates(subset='Link', keep='first')\n",
    "artist_data.head()"
   ]
  },
  {
   "cell_type": "code",
   "execution_count": null,
   "id": "ce7bff1c",
   "metadata": {},
   "outputs": [],
   "source": [
    "# Merge Dataframes\n",
    "\n",
    "combined_data = pd.merge(english_songs, artist_data, on='Link')\n",
    "combined_data = combined_data[[\"SName\", \"Artist\", \"Lyric\", \"Genres\"]]\n",
    "combined_data = combined_data[combined_data.Lyric.notnull()]\n",
    "combined_data = combined_data[combined_data.Genres.notnull()]\n",
    "combined_data"
   ]
  },
  {
   "cell_type": "code",
   "execution_count": null,
   "id": "41d0c712",
   "metadata": {},
   "outputs": [],
   "source": [
    "artists = combined_data.Artist.unique()\n",
    "genres = combined_data.Genres.unique()\n",
    "labels = [\"Blues\", \"Country\", \"Hip Hop\", \"Jazz\", \"Pop\", \"Rock\"]"
   ]
  },
  {
   "cell_type": "code",
   "execution_count": null,
   "id": "6f9d28ea",
   "metadata": {},
   "outputs": [],
   "source": [
    "# Randomely select 1000 songs from each genre\n",
    "\n",
    "rows = []\n",
    "\n",
    "for label in labels:\n",
    "    genre_data = combined_data[combined_data.Genres == label]\n",
    "    genre_data = genre_data.sample(n=1000, replace=False)\n",
    "    genre_data.Genres = label\n",
    "    rows.append(genre_data)\n",
    "\n",
    "combined_genre_data = pd.concat(rows).reset_index().drop(\"index\", axis=1)\n",
    "combined_genre_data"
   ]
  },
  {
   "cell_type": "code",
   "execution_count": null,
   "id": "2a58d35f",
   "metadata": {},
   "outputs": [],
   "source": [
    "combined_genre_data.to_csv(\"combined_genre_data.csv\")"
   ]
  },
  {
   "cell_type": "markdown",
   "id": "08fe5d9f",
   "metadata": {},
   "source": [
    "## Reload the data"
   ]
  },
  {
   "cell_type": "code",
   "execution_count": 4,
   "id": "901d1764",
   "metadata": {},
   "outputs": [
    {
     "data": {
      "text/html": [
       "<div>\n",
       "<style scoped>\n",
       "    .dataframe tbody tr th:only-of-type {\n",
       "        vertical-align: middle;\n",
       "    }\n",
       "\n",
       "    .dataframe tbody tr th {\n",
       "        vertical-align: top;\n",
       "    }\n",
       "\n",
       "    .dataframe thead th {\n",
       "        text-align: right;\n",
       "    }\n",
       "</style>\n",
       "<table border=\"1\" class=\"dataframe\">\n",
       "  <thead>\n",
       "    <tr style=\"text-align: right;\">\n",
       "      <th></th>\n",
       "      <th>Unnamed: 0</th>\n",
       "      <th>SName</th>\n",
       "      <th>Artist</th>\n",
       "      <th>Lyric</th>\n",
       "      <th>Genres</th>\n",
       "    </tr>\n",
       "  </thead>\n",
       "  <tbody>\n",
       "    <tr>\n",
       "      <th>0</th>\n",
       "      <td>0</td>\n",
       "      <td>Country Boy</td>\n",
       "      <td>Muddy Waters</td>\n",
       "      <td>Don't say I don't love you\\nBecause I stays ou...</td>\n",
       "      <td>Blues</td>\n",
       "    </tr>\n",
       "    <tr>\n",
       "      <th>1</th>\n",
       "      <td>1</td>\n",
       "      <td>Don't Wait 'til Tomorrow</td>\n",
       "      <td>Gary Clark Jr.</td>\n",
       "      <td>I'm so tired of fighting\\nI'm so tired of bein...</td>\n",
       "      <td>Blues</td>\n",
       "    </tr>\n",
       "    <tr>\n",
       "      <th>2</th>\n",
       "      <td>2</td>\n",
       "      <td>Frankie</td>\n",
       "      <td>Mississippi John Hurt</td>\n",
       "      <td>(spoken introduction:\\n\"Frankie and Albert\", t...</td>\n",
       "      <td>Blues</td>\n",
       "    </tr>\n",
       "    <tr>\n",
       "      <th>3</th>\n",
       "      <td>3</td>\n",
       "      <td>Fear Of Falling</td>\n",
       "      <td>The Allman Brothers Band</td>\n",
       "      <td>by G. Allman, J. Townsend &amp; T. Heding\\nThere w...</td>\n",
       "      <td>Blues</td>\n",
       "    </tr>\n",
       "    <tr>\n",
       "      <th>4</th>\n",
       "      <td>4</td>\n",
       "      <td>I've Always Been Lonely</td>\n",
       "      <td>BB King</td>\n",
       "      <td>I don't have to know your name\\nUnless you rea...</td>\n",
       "      <td>Blues</td>\n",
       "    </tr>\n",
       "  </tbody>\n",
       "</table>\n",
       "</div>"
      ],
      "text/plain": [
       "   Unnamed: 0                     SName                    Artist  \\\n",
       "0           0               Country Boy              Muddy Waters   \n",
       "1           1  Don't Wait 'til Tomorrow            Gary Clark Jr.   \n",
       "2           2                   Frankie     Mississippi John Hurt   \n",
       "3           3           Fear Of Falling  The Allman Brothers Band   \n",
       "4           4   I've Always Been Lonely                   BB King   \n",
       "\n",
       "                                               Lyric Genres  \n",
       "0  Don't say I don't love you\\nBecause I stays ou...  Blues  \n",
       "1  I'm so tired of fighting\\nI'm so tired of bein...  Blues  \n",
       "2  (spoken introduction:\\n\"Frankie and Albert\", t...  Blues  \n",
       "3  by G. Allman, J. Townsend & T. Heding\\nThere w...  Blues  \n",
       "4  I don't have to know your name\\nUnless you rea...  Blues  "
      ]
     },
     "execution_count": 4,
     "metadata": {},
     "output_type": "execute_result"
    }
   ],
   "source": [
    "combined_genre_data = pd.read_csv(\"combined_genre_data.csv\")\n",
    "combined_genre_data.head()"
   ]
  },
  {
   "cell_type": "code",
   "execution_count": 147,
   "id": "62f07fa8",
   "metadata": {},
   "outputs": [],
   "source": [
    "def train_and_pipeline(lyrics):\n",
    "    X = lyrics\n",
    "    y = combined_genre_data.Genres\n",
    "    X_train, X_test, y_train, y_test = train_test_split(X, y, test_size=0.25) \n",
    "    \n",
    "    pipe_MNB = Pipeline([('tfidf_vectorizer', TfidfVectorizer()),\n",
    "                       ('clf', MultinomialNB())\n",
    "                       ])\n",
    "    \n",
    "    pipe_CNB = Pipeline([('tfidf_vectorizer', TfidfVectorizer()),\n",
    "                       ('clf', ComplementNB())\n",
    "                       ])\n",
    "\n",
    "    pipe_RF = Pipeline([('tfidf_vectorizer', TfidfVectorizer()),\n",
    "                       ('clf', RandomForestClassifier())\n",
    "                       ])\n",
    "\n",
    "    pipe_KNN = Pipeline([('tfidf_vectorizer', TfidfVectorizer()),\n",
    "                        ('clf', KNeighborsClassifier())\n",
    "                        ])\n",
    "\n",
    "    # List of pipelines, List of pipeline names\n",
    "    pipelines = [pipe_MNB, pipe_CNB, pipe_RF, pipe_KNN]\n",
    "    pipeline_names = ['Multinomail NB', 'Complement NB', 'Random Forest', \"KNN\"]\n",
    "\n",
    "    # Loop to fit each of the three pipelines\n",
    "    for pipe in pipelines:\n",
    "        print(pipe)\n",
    "        pipe.fit(X_train, y_train)\n",
    "\n",
    "    # Compare accuracies\n",
    "    lemmed_basic_scores = []\n",
    "    for index, val in enumerate(pipelines):\n",
    "        tup = (pipeline_names[index], val.score(X_test, y_test))\n",
    "        lemmed_basic_scores.append(tup)\n",
    "        print('%s pipeline test accuracy: %.3f' % (pipeline_names[index], val.score(X_test, y_test)))\n",
    "        \n",
    "    return lemmed_basic_scores"
   ]
  },
  {
   "cell_type": "code",
   "execution_count": 74,
   "id": "89468c38",
   "metadata": {},
   "outputs": [],
   "source": [
    "results = Counter()\n",
    "lyrics_list = list(combined_genre_data.Lyric)\n",
    "pattern = \"([a-zA-Z]+(?:'[a-z]+)?)\"\n",
    "lemmatizer = WordNetLemmatizer()\n",
    "english = list(set(nltk.corpus.words.words()))\n",
    "stemmer = SnowballStemmer(\"english\")"
   ]
  },
  {
   "cell_type": "markdown",
   "id": "5660cd47",
   "metadata": {},
   "source": [
    "# Lemmatization"
   ]
  },
  {
   "cell_type": "code",
   "execution_count": 10,
   "id": "c58a353b",
   "metadata": {},
   "outputs": [],
   "source": [
    "def clean_docs_lemma(lyrics_list):\n",
    "    cleaned = []\n",
    "    for lyric in lyrics_list:\n",
    "        clean_lyric = nltk.regexp_tokenize(lyric, pattern)\n",
    "        lyric_lower = [i.lower() for i in clean_lyric]\n",
    "        stop_words = stopwords.words('english')\n",
    "        stopwords_list = stop_words + list(string.punctuation)\n",
    "        stopwords_list += [\"''\", '\"\"', '...', '``']\n",
    "        lyrics_tokens_stopped = [w for w in lyric_lower if not w in stopwords_list]\n",
    "        lyric_lemmas = [lemmatizer.lemmatize(word) for word in lyrics_tokens_stopped]\n",
    "        c = \" \".join(lyric_lemmas)\n",
    "        cleaned.append(c)\n",
    "    return cleaned"
   ]
  },
  {
   "cell_type": "code",
   "execution_count": 11,
   "id": "609b48bc",
   "metadata": {},
   "outputs": [
    {
     "data": {
      "text/plain": [
       "6000"
      ]
     },
     "execution_count": 11,
     "metadata": {},
     "output_type": "execute_result"
    }
   ],
   "source": [
    "lemmed_lyrics = clean_docs_lemma(lyrics_list)\n",
    "len(lemmed_lyrics)"
   ]
  },
  {
   "cell_type": "code",
   "execution_count": 33,
   "id": "9b23585d",
   "metadata": {},
   "outputs": [],
   "source": [
    "lyrics_lengths = [len(lyrics) for lyrics in lemmed_lyrics]"
   ]
  },
  {
   "cell_type": "code",
   "execution_count": 54,
   "id": "ccffcd8e",
   "metadata": {},
   "outputs": [
    {
     "data": {
      "text/plain": [
       "Text(0.5, 8.95999999999998, 'Number of Lyrics')"
      ]
     },
     "execution_count": 54,
     "metadata": {},
     "output_type": "execute_result"
    },
    {
     "data": {
      "image/png": "[encoded data removed]",
      "text/plain": [
       "<Figure size 1080x432 with 1 Axes>"
      ]
     },
     "metadata": {},
     "output_type": "display_data"
    }
   ],
   "source": [
    "sns.displot(lyrics_lengths)\n",
    "plt.gcf().set_size_inches(15, 6)\n",
    "plt.title(\"Lyric Length Distribution\")\n",
    "plt.xlabel(\"Number of Lyrics\")"
   ]
  },
  {
   "cell_type": "code",
   "execution_count": 135,
   "id": "0d4da1eb",
   "metadata": {},
   "outputs": [
    {
     "name": "stdout",
     "output_type": "stream",
     "text": [
      "Pipeline(steps=[('tfidf_vectorizer', TfidfVectorizer()),\n",
      "                ('clf', MultinomialNB())])\n",
      "Pipeline(steps=[('tfidf_vectorizer', TfidfVectorizer()),\n",
      "                ('clf', ComplementNB())])\n",
      "Pipeline(steps=[('tfidf_vectorizer', TfidfVectorizer()),\n",
      "                ('clf', RandomForestClassifier())])\n",
      "Pipeline(steps=[('tfidf_vectorizer', TfidfVectorizer()),\n",
      "                ('clf', KNeighborsClassifier())])\n",
      "Multinomail NB pipeline test accuracy: 0.597\n",
      "Complement NB pipeline test accuracy: 0.609\n",
      "Random Forest pipeline test accuracy: 0.605\n",
      "KNN pipeline test accuracy: 0.367\n"
     ]
    }
   ],
   "source": [
    "results[\"lemmed\"] = train_and_pipeline(lemmed_lyrics)"
   ]
  },
  {
   "cell_type": "markdown",
   "id": "ec47acb8",
   "metadata": {},
   "source": [
    "# Stemming"
   ]
  },
  {
   "cell_type": "code",
   "execution_count": 55,
   "id": "41685073",
   "metadata": {},
   "outputs": [],
   "source": [
    "def clean_docs_stemma(lyrics_list):\n",
    "    cleaned = []\n",
    "    pattern = \"([a-zA-Z]+(?:'[a-z]+)?)\"\n",
    "    for lyric in lyrics_list:\n",
    "        clean_lyric = nltk.regexp_tokenize(lyric, pattern)\n",
    "        lyric_lower = [i.lower() for i in clean_lyric]\n",
    "        stop_words = stopwords.words('english')\n",
    "        stopwords_list = stop_words + list(string.punctuation)\n",
    "        stopwords_list += [\"''\", '\"\"', '...', '``']\n",
    "        lyrics_tokens_stopped = [w for w in lyric_lower if not w in stopwords_list]\n",
    "        lyric_stemmas = [stemmer.stem(word) for word in lyrics_tokens_stopped]\n",
    "        c = \" \".join(lyric_stemmas)\n",
    "        cleaned.append(c)\n",
    "    return cleaned"
   ]
  },
  {
   "cell_type": "code",
   "execution_count": 56,
   "id": "9e31d861",
   "metadata": {},
   "outputs": [],
   "source": [
    "stemmed_lyrics = clean_docs_stemma(lyrics_list)"
   ]
  },
  {
   "cell_type": "code",
   "execution_count": 136,
   "id": "3b9ab5a9",
   "metadata": {},
   "outputs": [
    {
     "name": "stdout",
     "output_type": "stream",
     "text": [
      "Pipeline(steps=[('tfidf_vectorizer', TfidfVectorizer()),\n",
      "                ('clf', MultinomialNB())])\n",
      "Pipeline(steps=[('tfidf_vectorizer', TfidfVectorizer()),\n",
      "                ('clf', ComplementNB())])\n",
      "Pipeline(steps=[('tfidf_vectorizer', TfidfVectorizer()),\n",
      "                ('clf', RandomForestClassifier())])\n",
      "Pipeline(steps=[('tfidf_vectorizer', TfidfVectorizer()),\n",
      "                ('clf', KNeighborsClassifier())])\n",
      "Multinomail NB pipeline test accuracy: 0.560\n",
      "Complement NB pipeline test accuracy: 0.587\n",
      "Random Forest pipeline test accuracy: 0.571\n",
      "KNN pipeline test accuracy: 0.380\n"
     ]
    }
   ],
   "source": [
    "results[\"stemmed\"] = train_and_pipeline(stemmed_lyrics)"
   ]
  },
  {
   "cell_type": "markdown",
   "id": "092e52dd",
   "metadata": {},
   "source": [
    "# Stemmed & Lemmatized"
   ]
  },
  {
   "cell_type": "code",
   "execution_count": 64,
   "id": "27cb538a",
   "metadata": {},
   "outputs": [],
   "source": [
    "lemmatized_stemmed_lyrics = clean_docs_lemma(stemmed_lyrics)"
   ]
  },
  {
   "cell_type": "code",
   "execution_count": 137,
   "id": "6d258c74",
   "metadata": {},
   "outputs": [
    {
     "name": "stdout",
     "output_type": "stream",
     "text": [
      "Pipeline(steps=[('tfidf_vectorizer', TfidfVectorizer()),\n",
      "                ('clf', MultinomialNB())])\n",
      "Pipeline(steps=[('tfidf_vectorizer', TfidfVectorizer()),\n",
      "                ('clf', ComplementNB())])\n",
      "Pipeline(steps=[('tfidf_vectorizer', TfidfVectorizer()),\n",
      "                ('clf', RandomForestClassifier())])\n",
      "Pipeline(steps=[('tfidf_vectorizer', TfidfVectorizer()),\n",
      "                ('clf', KNeighborsClassifier())])\n",
      "Multinomail NB pipeline test accuracy: 0.588\n",
      "Complement NB pipeline test accuracy: 0.598\n",
      "Random Forest pipeline test accuracy: 0.575\n",
      "KNN pipeline test accuracy: 0.380\n"
     ]
    }
   ],
   "source": [
    "results[\"lemmatized_stemmed\"] = train_and_pipeline(lemmatized_stemmed_lyrics)"
   ]
  },
  {
   "cell_type": "code",
   "execution_count": 66,
   "id": "2f7cba01",
   "metadata": {},
   "outputs": [],
   "source": [
    "stemmed_lemmatized_lyrics = clean_docs_lemma(lemmed_lyrics)"
   ]
  },
  {
   "cell_type": "code",
   "execution_count": 138,
   "id": "6743ad08",
   "metadata": {},
   "outputs": [
    {
     "name": "stdout",
     "output_type": "stream",
     "text": [
      "Pipeline(steps=[('tfidf_vectorizer', TfidfVectorizer()),\n",
      "                ('clf', MultinomialNB())])\n",
      "Pipeline(steps=[('tfidf_vectorizer', TfidfVectorizer()),\n",
      "                ('clf', ComplementNB())])\n",
      "Pipeline(steps=[('tfidf_vectorizer', TfidfVectorizer()),\n",
      "                ('clf', RandomForestClassifier())])\n",
      "Pipeline(steps=[('tfidf_vectorizer', TfidfVectorizer()),\n",
      "                ('clf', KNeighborsClassifier())])\n",
      "Multinomail NB pipeline test accuracy: 0.592\n",
      "Complement NB pipeline test accuracy: 0.603\n",
      "Random Forest pipeline test accuracy: 0.594\n",
      "KNN pipeline test accuracy: 0.383\n"
     ]
    }
   ],
   "source": [
    "results[\"stemmed_lemmatized\"] = train_and_pipeline(stemmed_lemmatized_lyrics)"
   ]
  },
  {
   "cell_type": "code",
   "execution_count": 139,
   "id": "1fed49de",
   "metadata": {},
   "outputs": [
    {
     "data": {
      "text/plain": [
       "Counter({'stemmed': [('Multinomail NB', 0.56),\n",
       "          ('Complement NB', 0.5866666666666667),\n",
       "          ('Random Forest', 0.5706666666666667),\n",
       "          ('KNN', 0.38)],\n",
       "         'lemmatized_stemmed': [('Multinomail NB', 0.588),\n",
       "          ('Complement NB', 0.598),\n",
       "          ('Random Forest', 0.5746666666666667),\n",
       "          ('KNN', 0.38)],\n",
       "         'stemmed_lemmatized': [('Multinomail NB', 0.592),\n",
       "          ('Complement NB', 0.6026666666666667),\n",
       "          ('Random Forest', 0.594),\n",
       "          ('KNN', 0.38266666666666665)],\n",
       "         'lemmed': [('Multinomail NB', 0.5973333333333334),\n",
       "          ('Complement NB', 0.6093333333333333),\n",
       "          ('Random Forest', 0.6046666666666667),\n",
       "          ('KNN', 0.36733333333333335)]})"
      ]
     },
     "execution_count": 139,
     "metadata": {},
     "output_type": "execute_result"
    }
   ],
   "source": [
    "results"
   ]
  },
  {
   "cell_type": "code",
   "execution_count": 146,
   "id": "cbe68e29",
   "metadata": {},
   "outputs": [
    {
     "data": {
      "image/png": "[encoded data removed]",
      "text/plain": [
       "<Figure size 1080x432 with 1 Axes>"
      ]
     },
     "metadata": {
      "needs_background": "light"
     },
     "output_type": "display_data"
    }
   ],
   "source": [
    "X = results.keys()\n",
    "\n",
    "MNB = [results[x][0][1] for x in X]\n",
    "CNB = [results[x][1][1] for x in X]\n",
    "RF = [results[x][2][1] for x in X]\n",
    "KNN = [results[x][3][1] for x in X]\n",
    "\n",
    "X_axis = np.arange(len(X))\n",
    "plt.bar(X_axis - 0.3, MNB, 0.2, label = 'NB')\n",
    "plt.bar(X_axis - 0.1, CNB, 0.2, label = 'CNB')\n",
    "plt.bar(X_axis + 0.1, RF, 0.2, label = 'RF')\n",
    "plt.bar(X_axis + 0.3, KNN, 0.2, label = 'KNN')\n",
    "\n",
    "plt.xticks(X_axis, X)\n",
    "\n",
    "plt.gcf().set_size_inches(15, 6)\n",
    "plt.xlabel(\"Data Preprocessing\")\n",
    "plt.ylabel('Test Accuracy')\n",
    "plt.title(\"Model Test Accuracy for each Data Preprocessing Method\")\n",
    "plt.legend()\n",
    "plt.show()"
   ]
  },
  {
   "cell_type": "markdown",
   "id": "793380e0",
   "metadata": {},
   "source": [
    "# Random Forest Classifier"
   ]
  },
  {
   "cell_type": "code",
   "execution_count": null,
   "id": "a977d6a0",
   "metadata": {},
   "outputs": [],
   "source": [
    "rfc = RandomForestClassifier()"
   ]
  },
  {
   "cell_type": "code",
   "execution_count": null,
   "id": "9f8a428d",
   "metadata": {},
   "outputs": [],
   "source": []
  },
  {
   "cell_type": "code",
   "execution_count": 26,
   "id": "16ee8b6e",
   "metadata": {},
   "outputs": [
    {
     "data": {
      "text/plain": [
       "GridSearchCV(cv=3,\n",
       "             estimator=Pipeline(steps=[('count_vectorizer', CountVectorizer()),\n",
       "                                       ('tfidf_vectorizer', TfidfTransformer()),\n",
       "                                       ('clf', RandomForestClassifier())]),\n",
       "             param_grid={'clf__criterion': ['gini', 'entropy'],\n",
       "                         'clf__max_depth': [2, 6, 10],\n",
       "                         'clf__min_samples_leaf': [3, 6],\n",
       "                         'clf__min_samples_split': [5, 10],\n",
       "                         'clf__n_estimators': [10, 30, 100]},\n",
       "             scoring='accuracy')"
      ]
     },
     "execution_count": 26,
     "metadata": {},
     "output_type": "execute_result"
    }
   ],
   "source": [
    "GS_pipe_RF = Pipeline([('count_vectorizer', CountVectorizer()), \n",
    "                     ('tfidf_vectorizer', TfidfTransformer()),\n",
    "                     ('clf', RandomForestClassifier())\n",
    "                    ])\n",
    "\n",
    "rf_param_grid = dict(clf__n_estimators = [10, 30, 100],\n",
    "                  clf__criterion = ['gini', 'entropy'],\n",
    "                  clf__max_depth = [2, 6, 10], \n",
    "                  clf__min_samples_split = [5, 10],\n",
    "                  clf__min_samples_leaf = [3, 6])\n",
    "\n",
    "\n",
    "gs_RF = GridSearchCV(estimator=GS_pipe_RF,\n",
    "            param_grid=rf_param_grid,\n",
    "            scoring='accuracy',\n",
    "            cv=3)\n",
    "\n",
    "gs_RF.fit(X_train, y_train)"
   ]
  },
  {
   "cell_type": "code",
   "execution_count": 27,
   "id": "e1c9b021",
   "metadata": {},
   "outputs": [
    {
     "name": "stdout",
     "output_type": "stream",
     "text": [
      "Mean Testing Score: 51.73%\n",
      "Best Parameter Combination Found During Grid Search: \n",
      "{'clf__criterion': 'gini', 'clf__max_depth': 10, 'clf__min_samples_leaf': 6, 'clf__min_samples_split': 10, 'clf__n_estimators': 100}\n"
     ]
    }
   ],
   "source": [
    "rf_gs_testing_score = gs_RF.score(X_test, y_test)\n",
    "\n",
    "print(\"Mean Testing Score: {:.4}%\".format(rf_gs_testing_score * 100))\n",
    "print(\"Best Parameter Combination Found During Grid Search: \\n{}\".format(gs_RF.best_params_))"
   ]
  },
  {
   "cell_type": "code",
   "execution_count": null,
   "id": "e67d1dc8",
   "metadata": {},
   "outputs": [],
   "source": []
  },
  {
   "cell_type": "markdown",
   "id": "73a79d66",
   "metadata": {},
   "source": [
    "# Naive Bayes"
   ]
  },
  {
   "cell_type": "code",
   "execution_count": 28,
   "id": "e375b633",
   "metadata": {},
   "outputs": [
    {
     "data": {
      "text/plain": [
       "GridSearchCV(cv=3,\n",
       "             estimator=Pipeline(steps=[('count_vectorizer', CountVectorizer()),\n",
       "                                       ('tfidf_vectorizer', TfidfTransformer()),\n",
       "                                       ('clf', MultinomialNB())]),\n",
       "             param_grid={'clf__alpha': [0.01, 0.05, 0.1, 0.2, 0.4, 1]},\n",
       "             scoring='accuracy')"
      ]
     },
     "execution_count": 28,
     "metadata": {},
     "output_type": "execute_result"
    }
   ],
   "source": [
    "GS_pipe_NB = Pipeline([('count_vectorizer', CountVectorizer()), \n",
    "                     ('tfidf_vectorizer', TfidfTransformer()),\n",
    "                     ('clf', MultinomialNB())\n",
    "                    ])\n",
    "\n",
    "\n",
    "sorted(GS_pipe_NB.get_params().keys())\n",
    "\n",
    "nb_param_grid = dict(clf__alpha = [.01, .05, .1, .2, .4, 1])\n",
    "\n",
    "gs_NB = GridSearchCV(estimator=GS_pipe_NB,\n",
    "            param_grid=nb_param_grid,\n",
    "            scoring='accuracy',\n",
    "            cv=3)\n",
    "\n",
    "gs_NB.fit(X_train, y_train)"
   ]
  },
  {
   "cell_type": "code",
   "execution_count": 29,
   "id": "4addba15",
   "metadata": {},
   "outputs": [
    {
     "name": "stdout",
     "output_type": "stream",
     "text": [
      "Mean Testing Score: 61.27%\n",
      "Best Parameter Combination Found During Grid Search: \n",
      "{'clf__alpha': 0.05}\n"
     ]
    }
   ],
   "source": [
    "nb_gs_testing_score = gs_NB.score(X_test, y_test)\n",
    "\n",
    "print(\"Mean Testing Score: {:.4}%\".format(nb_gs_testing_score * 100))\n",
    "print(\"Best Parameter Combination Found During Grid Search: \\n{}\".format(gs_NB.best_params_))"
   ]
  },
  {
   "cell_type": "code",
   "execution_count": null,
   "id": "db9a1d13",
   "metadata": {},
   "outputs": [],
   "source": []
  },
  {
   "cell_type": "markdown",
   "id": "4ab7ea12",
   "metadata": {},
   "source": [
    "# KNN Classifier"
   ]
  },
  {
   "cell_type": "code",
   "execution_count": 30,
   "id": "cc843683",
   "metadata": {},
   "outputs": [
    {
     "data": {
      "text/plain": [
       "GridSearchCV(cv=3,\n",
       "             estimator=Pipeline(steps=[('count_vectorizer', CountVectorizer()),\n",
       "                                       ('tfidf_vectorizer', TfidfTransformer()),\n",
       "                                       ('clf', KNeighborsClassifier())]),\n",
       "             param_grid={'clf__n_neighbors': [100, 150, 200], 'clf__p': [1, 2]},\n",
       "             scoring='accuracy')"
      ]
     },
     "execution_count": 30,
     "metadata": {},
     "output_type": "execute_result"
    }
   ],
   "source": [
    "GS_pipe_KNN = Pipeline([('count_vectorizer', CountVectorizer()), \n",
    "                     ('tfidf_vectorizer', TfidfTransformer()),\n",
    "                     ('clf', KNeighborsClassifier())\n",
    "                    ])\n",
    "\n",
    "knn_param_grid = dict(clf__n_neighbors = [100, 150, 200],\n",
    "                     clf__p = [1, 2])\n",
    "\n",
    "gs_KNN = GridSearchCV(estimator=GS_pipe_KNN,\n",
    "            param_grid=knn_param_grid,\n",
    "            scoring='accuracy',\n",
    "            cv=3)\n",
    "\n",
    "gs_KNN.fit(X_train, y_train)"
   ]
  },
  {
   "cell_type": "code",
   "execution_count": 31,
   "id": "57868fc2",
   "metadata": {},
   "outputs": [
    {
     "name": "stdout",
     "output_type": "stream",
     "text": [
      "Mean Testing Score: 49.2%\n",
      "Best Parameter Combination Found During Grid Search: \n",
      "{'clf__n_neighbors': 200, 'clf__p': 2}\n"
     ]
    }
   ],
   "source": [
    "knn_gs_testing_score = gs_KNN.score(X_test, y_test)\n",
    "\n",
    "print(\"Mean Testing Score: {:.4}%\".format(knn_gs_testing_score * 100))\n",
    "print(\"Best Parameter Combination Found During Grid Search: \\n{}\".format(gs_KNN.best_params_))"
   ]
  },
  {
   "cell_type": "code",
   "execution_count": null,
   "id": "f848355b",
   "metadata": {},
   "outputs": [],
   "source": []
  }
 ],
 "metadata": {
  "kernelspec": {
   "display_name": "Python 3 (ipykernel)",
   "language": "python",
   "name": "python3"
  },
  "language_info": {
   "codemirror_mode": {
    "name": "ipython",
    "version": 3
   },
   "file_extension": ".py",
   "mimetype": "text/x-python",
   "name": "python",
   "nbconvert_exporter": "python",
   "pygments_lexer": "ipython3",
   "version": "3.9.10"
  }
 },
 "nbformat": 4,
 "nbformat_minor": 5
}
