{
 "cells": [
  {
   "cell_type": "markdown",
   "id": "d591ef4b",
   "metadata": {},
   "source": [
    "# CS 4120 - Song Genre Classification\n",
    "\n",
    "We are compare the performance of __INSERT MODELS__ for the task of classifying songs by genre.\n",
    "\n",
    "## Dataset\n",
    "\n",
    "We use a [Kaggle dataset](https://www.kaggle.com/datasets/neisse/scrapped-lyrics-from-6-genres?resource=download&select=lyrics-data.csv) with data on many artists and songs originally scraped from Vagalume.com.\n",
    "Since the dataset associates artists with songs and their lyrics, then genres with artists separately, we join the two datasets in order to make associations between genres and lyrics in order to obtain data to train our models.\n",
    "\n",
    "## Getting Started\n",
    "\n",
    "From the Kaggle dataset (linked above), download `artists-data.csv` to `data/artists-data.csv` and `lyrics-data.csv` to `data/lyrics-data.csv`.\n",
    "Install all the packages imported in the following cell."
   ]
  },
  {
   "cell_type": "code",
   "execution_count": 41,
   "id": "c43c6cc5",
   "metadata": {},
   "outputs": [],
   "source": [
    "%%capture\n",
    "import pandas as pd\n",
    "import nltk\n",
    "import numpy as np\n",
    "import string\n",
    "import seaborn as sns\n",
    "from collections import Counter\n",
    "from nltk.corpus import stopwords\n",
    "from nltk.stem import WordNetLemmatizer\n",
    "from nltk.stem.snowball import SnowballStemmer\n",
    "from sklearn.model_selection import train_test_split\n",
    "from sklearn.model_selection import GridSearchCV\n",
    "from sklearn.pipeline import Pipeline\n",
    "from sklearn.feature_extraction.text import CountVectorizer\n",
    "from sklearn.feature_extraction.text import TfidfTransformer\n",
    "from sklearn.feature_extraction.text import TfidfVectorizer\n",
    "from sklearn.ensemble import RandomForestClassifier\n",
    "from sklearn.neighbors import KNeighborsClassifier\n",
    "from sklearn.naive_bayes import ComplementNB\n",
    "from sklearn.naive_bayes import MultinomialNB\n",
    "import matplotlib.pyplot as plt\n",
    "%matplotlib inline\n",
    "\n",
    "nltk.download('words', quiet=True)\n",
    "nltk.download('omw-1.4', quiet=True)\n",
    "nltk.download('stopwords', quiet=True)\n",
    "nltk.download('wordnet', quiet=True)"
   ]
  },
  {
   "cell_type": "markdown",
   "id": "fe90b79a",
   "metadata": {},
   "source": [
    "# Data Preprocessing"
   ]
  },
  {
   "cell_type": "code",
   "execution_count": 42,
   "id": "508f4ff7",
   "metadata": {},
   "outputs": [],
   "source": [
    "# suppress some warnings in cell output\n",
    "pd.options.mode.chained_assignment = None  # default='warn'"
   ]
  },
  {
   "cell_type": "code",
   "execution_count": 43,
   "id": "9efbf3d2",
   "metadata": {},
   "outputs": [
    {
     "data": {
      "text/html": [
       "<div>\n",
       "<style scoped>\n",
       "    .dataframe tbody tr th:only-of-type {\n",
       "        vertical-align: middle;\n",
       "    }\n",
       "\n",
       "    .dataframe tbody tr th {\n",
       "        vertical-align: top;\n",
       "    }\n",
       "\n",
       "    .dataframe thead th {\n",
       "        text-align: right;\n",
       "    }\n",
       "</style>\n",
       "<table border=\"1\" class=\"dataframe\">\n",
       "  <thead>\n",
       "    <tr style=\"text-align: right;\">\n",
       "      <th></th>\n",
       "      <th>Link</th>\n",
       "      <th>SName</th>\n",
       "      <th>SLink</th>\n",
       "      <th>Lyric</th>\n",
       "      <th>language</th>\n",
       "    </tr>\n",
       "  </thead>\n",
       "  <tbody>\n",
       "    <tr>\n",
       "      <th>69</th>\n",
       "      <td>/ivete-sangalo/</td>\n",
       "      <td>Careless Whisper</td>\n",
       "      <td>/ivete-sangalo/careless-whisper.html</td>\n",
       "      <td>I feel so unsure\\nAs I take your hand and lead...</td>\n",
       "      <td>en</td>\n",
       "    </tr>\n",
       "    <tr>\n",
       "      <th>86</th>\n",
       "      <td>/ivete-sangalo/</td>\n",
       "      <td>Could You Be Loved / Citação Musical do Rap: S...</td>\n",
       "      <td>/ivete-sangalo/could-you-be-loved-citacao-musi...</td>\n",
       "      <td>Don't let them fool, ya\\nOr even try to school...</td>\n",
       "      <td>en</td>\n",
       "    </tr>\n",
       "    <tr>\n",
       "      <th>88</th>\n",
       "      <td>/ivete-sangalo/</td>\n",
       "      <td>Cruisin' (Part. Saulo)</td>\n",
       "      <td>/ivete-sangalo/cruisin-part-saulo.html</td>\n",
       "      <td>Baby, let's cruise, away from here\\nDon't be c...</td>\n",
       "      <td>en</td>\n",
       "    </tr>\n",
       "    <tr>\n",
       "      <th>111</th>\n",
       "      <td>/ivete-sangalo/</td>\n",
       "      <td>Easy</td>\n",
       "      <td>/ivete-sangalo/easy.html</td>\n",
       "      <td>Know it sounds funny\\nBut, I just can't stand ...</td>\n",
       "      <td>en</td>\n",
       "    </tr>\n",
       "    <tr>\n",
       "      <th>140</th>\n",
       "      <td>/ivete-sangalo/</td>\n",
       "      <td>For Your Babies (The Voice cover)</td>\n",
       "      <td>/ivete-sangalo/for-your-babies-the-voice-cover...</td>\n",
       "      <td>You've got that look again\\nThe one I hoped I ...</td>\n",
       "      <td>en</td>\n",
       "    </tr>\n",
       "  </tbody>\n",
       "</table>\n",
       "</div>"
      ],
      "text/plain": [
       "                Link                                              SName  \\\n",
       "69   /ivete-sangalo/                                   Careless Whisper   \n",
       "86   /ivete-sangalo/  Could You Be Loved / Citação Musical do Rap: S...   \n",
       "88   /ivete-sangalo/                             Cruisin' (Part. Saulo)   \n",
       "111  /ivete-sangalo/                                               Easy   \n",
       "140  /ivete-sangalo/                  For Your Babies (The Voice cover)   \n",
       "\n",
       "                                                 SLink  \\\n",
       "69                /ivete-sangalo/careless-whisper.html   \n",
       "86   /ivete-sangalo/could-you-be-loved-citacao-musi...   \n",
       "88              /ivete-sangalo/cruisin-part-saulo.html   \n",
       "111                           /ivete-sangalo/easy.html   \n",
       "140  /ivete-sangalo/for-your-babies-the-voice-cover...   \n",
       "\n",
       "                                                 Lyric language  \n",
       "69   I feel so unsure\\nAs I take your hand and lead...       en  \n",
       "86   Don't let them fool, ya\\nOr even try to school...       en  \n",
       "88   Baby, let's cruise, away from here\\nDon't be c...       en  \n",
       "111  Know it sounds funny\\nBut, I just can't stand ...       en  \n",
       "140  You've got that look again\\nThe one I hoped I ...       en  "
      ]
     },
     "execution_count": 43,
     "metadata": {},
     "output_type": "execute_result"
    }
   ],
   "source": [
    "# Import Song Data\n",
    "\n",
    "song_data = pd.read_csv('./data/lyrics-data.csv')\n",
    "english_songs = song_data.loc[song_data['language'] == 'en']\n",
    "english_songs.rename(columns={'ALink':'Link'}, inplace=True)\n",
    "english_songs.head()"
   ]
  },
  {
   "cell_type": "code",
   "execution_count": 44,
   "id": "8496ed42",
   "metadata": {},
   "outputs": [
    {
     "data": {
      "text/html": [
       "<div>\n",
       "<style scoped>\n",
       "    .dataframe tbody tr th:only-of-type {\n",
       "        vertical-align: middle;\n",
       "    }\n",
       "\n",
       "    .dataframe tbody tr th {\n",
       "        vertical-align: top;\n",
       "    }\n",
       "\n",
       "    .dataframe thead th {\n",
       "        text-align: right;\n",
       "    }\n",
       "</style>\n",
       "<table border=\"1\" class=\"dataframe\">\n",
       "  <thead>\n",
       "    <tr style=\"text-align: right;\">\n",
       "      <th></th>\n",
       "      <th>Artist</th>\n",
       "      <th>Genres</th>\n",
       "      <th>Songs</th>\n",
       "      <th>Popularity</th>\n",
       "      <th>Link</th>\n",
       "    </tr>\n",
       "  </thead>\n",
       "  <tbody>\n",
       "    <tr>\n",
       "      <th>0</th>\n",
       "      <td>Ivete Sangalo</td>\n",
       "      <td>Pop; Axé; Romântico</td>\n",
       "      <td>313.0</td>\n",
       "      <td>4.4</td>\n",
       "      <td>/ivete-sangalo/</td>\n",
       "    </tr>\n",
       "    <tr>\n",
       "      <th>1</th>\n",
       "      <td>Chiclete com Banana</td>\n",
       "      <td>Axé</td>\n",
       "      <td>268.0</td>\n",
       "      <td>3.8</td>\n",
       "      <td>/chiclete-com-banana/</td>\n",
       "    </tr>\n",
       "    <tr>\n",
       "      <th>2</th>\n",
       "      <td>Banda Eva</td>\n",
       "      <td>Axé; Romântico; Reggae</td>\n",
       "      <td>215.0</td>\n",
       "      <td>2.3</td>\n",
       "      <td>/banda-eva/</td>\n",
       "    </tr>\n",
       "    <tr>\n",
       "      <th>3</th>\n",
       "      <td>É O Tchan</td>\n",
       "      <td>Axé</td>\n",
       "      <td>129.0</td>\n",
       "      <td>1.6</td>\n",
       "      <td>/e-o-tchan/</td>\n",
       "    </tr>\n",
       "    <tr>\n",
       "      <th>4</th>\n",
       "      <td>Claudia Leitte</td>\n",
       "      <td>Pop; Axé; Romântico</td>\n",
       "      <td>167.0</td>\n",
       "      <td>1.5</td>\n",
       "      <td>/claudia-leitte/</td>\n",
       "    </tr>\n",
       "  </tbody>\n",
       "</table>\n",
       "</div>"
      ],
      "text/plain": [
       "                Artist                  Genres  Songs  Popularity  \\\n",
       "0        Ivete Sangalo     Pop; Axé; Romântico  313.0         4.4   \n",
       "1  Chiclete com Banana                     Axé  268.0         3.8   \n",
       "2            Banda Eva  Axé; Romântico; Reggae  215.0         2.3   \n",
       "3            É O Tchan                     Axé  129.0         1.6   \n",
       "4       Claudia Leitte     Pop; Axé; Romântico  167.0         1.5   \n",
       "\n",
       "                    Link  \n",
       "0        /ivete-sangalo/  \n",
       "1  /chiclete-com-banana/  \n",
       "2            /banda-eva/  \n",
       "3            /e-o-tchan/  \n",
       "4       /claudia-leitte/  "
      ]
     },
     "execution_count": 44,
     "metadata": {},
     "output_type": "execute_result"
    }
   ],
   "source": [
    "# Import Artist Data\n",
    "\n",
    "artist_data = pd.read_csv('./data/artists-data.csv')\n",
    "artist_data = artist_data.drop_duplicates(subset='Link', keep='first')\n",
    "artist_data.head()"
   ]
  },
  {
   "cell_type": "code",
   "execution_count": 45,
   "id": "ce7bff1c",
   "metadata": {},
   "outputs": [
    {
     "data": {
      "text/html": [
       "<div>\n",
       "<style scoped>\n",
       "    .dataframe tbody tr th:only-of-type {\n",
       "        vertical-align: middle;\n",
       "    }\n",
       "\n",
       "    .dataframe tbody tr th {\n",
       "        vertical-align: top;\n",
       "    }\n",
       "\n",
       "    .dataframe thead th {\n",
       "        text-align: right;\n",
       "    }\n",
       "</style>\n",
       "<table border=\"1\" class=\"dataframe\">\n",
       "  <thead>\n",
       "    <tr style=\"text-align: right;\">\n",
       "      <th></th>\n",
       "      <th>SName</th>\n",
       "      <th>Artist</th>\n",
       "      <th>Lyric</th>\n",
       "      <th>Genres</th>\n",
       "    </tr>\n",
       "  </thead>\n",
       "  <tbody>\n",
       "    <tr>\n",
       "      <th>0</th>\n",
       "      <td>Careless Whisper</td>\n",
       "      <td>Ivete Sangalo</td>\n",
       "      <td>I feel so unsure\\nAs I take your hand and lead...</td>\n",
       "      <td>Pop; Axé; Romântico</td>\n",
       "    </tr>\n",
       "    <tr>\n",
       "      <th>1</th>\n",
       "      <td>Could You Be Loved / Citação Musical do Rap: S...</td>\n",
       "      <td>Ivete Sangalo</td>\n",
       "      <td>Don't let them fool, ya\\nOr even try to school...</td>\n",
       "      <td>Pop; Axé; Romântico</td>\n",
       "    </tr>\n",
       "    <tr>\n",
       "      <th>2</th>\n",
       "      <td>Cruisin' (Part. Saulo)</td>\n",
       "      <td>Ivete Sangalo</td>\n",
       "      <td>Baby, let's cruise, away from here\\nDon't be c...</td>\n",
       "      <td>Pop; Axé; Romântico</td>\n",
       "    </tr>\n",
       "    <tr>\n",
       "      <th>3</th>\n",
       "      <td>Easy</td>\n",
       "      <td>Ivete Sangalo</td>\n",
       "      <td>Know it sounds funny\\nBut, I just can't stand ...</td>\n",
       "      <td>Pop; Axé; Romântico</td>\n",
       "    </tr>\n",
       "    <tr>\n",
       "      <th>4</th>\n",
       "      <td>For Your Babies (The Voice cover)</td>\n",
       "      <td>Ivete Sangalo</td>\n",
       "      <td>You've got that look again\\nThe one I hoped I ...</td>\n",
       "      <td>Pop; Axé; Romântico</td>\n",
       "    </tr>\n",
       "    <tr>\n",
       "      <th>...</th>\n",
       "      <td>...</td>\n",
       "      <td>...</td>\n",
       "      <td>...</td>\n",
       "      <td>...</td>\n",
       "    </tr>\n",
       "    <tr>\n",
       "      <th>191382</th>\n",
       "      <td>The Waiting</td>\n",
       "      <td>Johnny Clegg</td>\n",
       "      <td>Chorus\\nHere we stand waiting on the plain\\nDa...</td>\n",
       "      <td>World Music; Gospel/Religioso</td>\n",
       "    </tr>\n",
       "    <tr>\n",
       "      <th>191383</th>\n",
       "      <td>Too Early For The Sky</td>\n",
       "      <td>Johnny Clegg</td>\n",
       "      <td>I nearly disappeared into the mouth of a croco...</td>\n",
       "      <td>World Music; Gospel/Religioso</td>\n",
       "    </tr>\n",
       "    <tr>\n",
       "      <th>191384</th>\n",
       "      <td>Warsaw 1943 (I Never Betrayed The Revolution)</td>\n",
       "      <td>Johnny Clegg</td>\n",
       "      <td>Amambuka, amambuka azothengisa izwe lakithi, i...</td>\n",
       "      <td>World Music; Gospel/Religioso</td>\n",
       "    </tr>\n",
       "    <tr>\n",
       "      <th>191385</th>\n",
       "      <td>When The System Has Fallen</td>\n",
       "      <td>Johnny Clegg</td>\n",
       "      <td>Sweat in the heat for days on end\\nwaiting for...</td>\n",
       "      <td>World Music; Gospel/Religioso</td>\n",
       "    </tr>\n",
       "    <tr>\n",
       "      <th>191386</th>\n",
       "      <td>Woman Be My Country</td>\n",
       "      <td>Johnny Clegg</td>\n",
       "      <td>Here we stand on the edge of the day\\nFaces me...</td>\n",
       "      <td>World Music; Gospel/Religioso</td>\n",
       "    </tr>\n",
       "  </tbody>\n",
       "</table>\n",
       "<p>191378 rows × 4 columns</p>\n",
       "</div>"
      ],
      "text/plain": [
       "                                                    SName         Artist  \\\n",
       "0                                        Careless Whisper  Ivete Sangalo   \n",
       "1       Could You Be Loved / Citação Musical do Rap: S...  Ivete Sangalo   \n",
       "2                                  Cruisin' (Part. Saulo)  Ivete Sangalo   \n",
       "3                                                    Easy  Ivete Sangalo   \n",
       "4                       For Your Babies (The Voice cover)  Ivete Sangalo   \n",
       "...                                                   ...            ...   \n",
       "191382                                        The Waiting   Johnny Clegg   \n",
       "191383                              Too Early For The Sky   Johnny Clegg   \n",
       "191384      Warsaw 1943 (I Never Betrayed The Revolution)   Johnny Clegg   \n",
       "191385                         When The System Has Fallen   Johnny Clegg   \n",
       "191386                                Woman Be My Country   Johnny Clegg   \n",
       "\n",
       "                                                    Lyric  \\\n",
       "0       I feel so unsure\\nAs I take your hand and lead...   \n",
       "1       Don't let them fool, ya\\nOr even try to school...   \n",
       "2       Baby, let's cruise, away from here\\nDon't be c...   \n",
       "3       Know it sounds funny\\nBut, I just can't stand ...   \n",
       "4       You've got that look again\\nThe one I hoped I ...   \n",
       "...                                                   ...   \n",
       "191382  Chorus\\nHere we stand waiting on the plain\\nDa...   \n",
       "191383  I nearly disappeared into the mouth of a croco...   \n",
       "191384  Amambuka, amambuka azothengisa izwe lakithi, i...   \n",
       "191385  Sweat in the heat for days on end\\nwaiting for...   \n",
       "191386  Here we stand on the edge of the day\\nFaces me...   \n",
       "\n",
       "                               Genres  \n",
       "0                 Pop; Axé; Romântico  \n",
       "1                 Pop; Axé; Romântico  \n",
       "2                 Pop; Axé; Romântico  \n",
       "3                 Pop; Axé; Romântico  \n",
       "4                 Pop; Axé; Romântico  \n",
       "...                               ...  \n",
       "191382  World Music; Gospel/Religioso  \n",
       "191383  World Music; Gospel/Religioso  \n",
       "191384  World Music; Gospel/Religioso  \n",
       "191385  World Music; Gospel/Religioso  \n",
       "191386  World Music; Gospel/Religioso  \n",
       "\n",
       "[191378 rows x 4 columns]"
      ]
     },
     "execution_count": 45,
     "metadata": {},
     "output_type": "execute_result"
    }
   ],
   "source": [
    "# Merge Dataframes\n",
    "\n",
    "combined_data = pd.merge(english_songs, artist_data, on='Link')\n",
    "combined_data = combined_data[[\"SName\", \"Artist\", \"Lyric\", \"Genres\"]]\n",
    "combined_data = combined_data[combined_data.Lyric.notnull()]\n",
    "combined_data = combined_data[combined_data.Genres.notnull()]\n",
    "combined_data"
   ]
  },
  {
   "cell_type": "code",
   "execution_count": 46,
   "id": "41d0c712",
   "metadata": {},
   "outputs": [],
   "source": [
    "artists = combined_data.Artist.unique()\n",
    "genres = combined_data.Genres.unique()\n",
    "labels = [\"Blues\", \"Country\", \"Hip Hop\", \"Jazz\", \"Pop\", \"Rock\"]"
   ]
  },
  {
   "cell_type": "code",
   "execution_count": 68,
   "id": "6f9d28ea",
   "metadata": {},
   "outputs": [
    {
     "data": {
      "text/html": [
       "<div>\n",
       "<style scoped>\n",
       "    .dataframe tbody tr th:only-of-type {\n",
       "        vertical-align: middle;\n",
       "    }\n",
       "\n",
       "    .dataframe tbody tr th {\n",
       "        vertical-align: top;\n",
       "    }\n",
       "\n",
       "    .dataframe thead th {\n",
       "        text-align: right;\n",
       "    }\n",
       "</style>\n",
       "<table border=\"1\" class=\"dataframe\">\n",
       "  <thead>\n",
       "    <tr style=\"text-align: right;\">\n",
       "      <th></th>\n",
       "      <th>SName</th>\n",
       "      <th>Artist</th>\n",
       "      <th>Lyric</th>\n",
       "      <th>Genres</th>\n",
       "    </tr>\n",
       "  </thead>\n",
       "  <tbody>\n",
       "    <tr>\n",
       "      <th>0</th>\n",
       "      <td>Woman's Got Soul</td>\n",
       "      <td>BB King</td>\n",
       "      <td>(From A Tribute To Curtis Mayfield)\\n\\nShe may...</td>\n",
       "      <td>Blues</td>\n",
       "    </tr>\n",
       "    <tr>\n",
       "      <th>1</th>\n",
       "      <td>I Want You To Love Me</td>\n",
       "      <td>Muddy Waters</td>\n",
       "      <td>I want you to love me, love your baby slow\\nI ...</td>\n",
       "      <td>Blues</td>\n",
       "    </tr>\n",
       "    <tr>\n",
       "      <th>2</th>\n",
       "      <td>Win, Lose or Draw</td>\n",
       "      <td>The Allman Brothers Band</td>\n",
       "      <td>Endlessly facing the cold concrete floor\\nFour...</td>\n",
       "      <td>Blues</td>\n",
       "    </tr>\n",
       "    <tr>\n",
       "      <th>3</th>\n",
       "      <td>My Gal Keeps me Cryin'</td>\n",
       "      <td>BB King</td>\n",
       "      <td>My gal keeps me cryin'\\nMy gal keeps me cryin'...</td>\n",
       "      <td>Blues</td>\n",
       "    </tr>\n",
       "    <tr>\n",
       "      <th>4</th>\n",
       "      <td>My Dog Can't Bark</td>\n",
       "      <td>Muddy Waters</td>\n",
       "      <td>People they're talkin' about you and I\\nWhat t...</td>\n",
       "      <td>Blues</td>\n",
       "    </tr>\n",
       "    <tr>\n",
       "      <th>...</th>\n",
       "      <td>...</td>\n",
       "      <td>...</td>\n",
       "      <td>...</td>\n",
       "      <td>...</td>\n",
       "    </tr>\n",
       "    <tr>\n",
       "      <th>5995</th>\n",
       "      <td>Boulevard of Broken Dreams</td>\n",
       "      <td>Marianne Faithfull</td>\n",
       "      <td>I walk along the street of sorrow\\nThe bouleva...</td>\n",
       "      <td>Rock</td>\n",
       "    </tr>\n",
       "    <tr>\n",
       "      <th>5996</th>\n",
       "      <td>In The Same Room</td>\n",
       "      <td>Jimmy Eat World</td>\n",
       "      <td>Fingers in, listen what voices say.\\nyou alway...</td>\n",
       "      <td>Rock</td>\n",
       "    </tr>\n",
       "    <tr>\n",
       "      <th>5997</th>\n",
       "      <td>I'm On Fire (Cousin Cole's Bad Desire Mix)</td>\n",
       "      <td>Bruce Springsteen</td>\n",
       "      <td>Hey little girl is your daddy home\\nDid he go ...</td>\n",
       "      <td>Rock</td>\n",
       "    </tr>\n",
       "    <tr>\n",
       "      <th>5998</th>\n",
       "      <td>Let Me Love You Tonight</td>\n",
       "      <td>Santana</td>\n",
       "      <td>It’s midnight - And I don’t want to see you le...</td>\n",
       "      <td>Rock</td>\n",
       "    </tr>\n",
       "    <tr>\n",
       "      <th>5999</th>\n",
       "      <td>Finally Forever</td>\n",
       "      <td>Chris Cornell</td>\n",
       "      <td>On the silent night so out of place\\nI almost ...</td>\n",
       "      <td>Rock</td>\n",
       "    </tr>\n",
       "  </tbody>\n",
       "</table>\n",
       "<p>6000 rows × 4 columns</p>\n",
       "</div>"
      ],
      "text/plain": [
       "                                           SName                    Artist  \\\n",
       "0                               Woman's Got Soul                   BB King   \n",
       "1                          I Want You To Love Me              Muddy Waters   \n",
       "2                              Win, Lose or Draw  The Allman Brothers Band   \n",
       "3                         My Gal Keeps me Cryin'                   BB King   \n",
       "4                              My Dog Can't Bark              Muddy Waters   \n",
       "...                                          ...                       ...   \n",
       "5995                  Boulevard of Broken Dreams        Marianne Faithfull   \n",
       "5996                            In The Same Room           Jimmy Eat World   \n",
       "5997  I'm On Fire (Cousin Cole's Bad Desire Mix)         Bruce Springsteen   \n",
       "5998                     Let Me Love You Tonight                   Santana   \n",
       "5999                             Finally Forever             Chris Cornell   \n",
       "\n",
       "                                                  Lyric Genres  \n",
       "0     (From A Tribute To Curtis Mayfield)\\n\\nShe may...  Blues  \n",
       "1     I want you to love me, love your baby slow\\nI ...  Blues  \n",
       "2     Endlessly facing the cold concrete floor\\nFour...  Blues  \n",
       "3     My gal keeps me cryin'\\nMy gal keeps me cryin'...  Blues  \n",
       "4     People they're talkin' about you and I\\nWhat t...  Blues  \n",
       "...                                                 ...    ...  \n",
       "5995  I walk along the street of sorrow\\nThe bouleva...   Rock  \n",
       "5996  Fingers in, listen what voices say.\\nyou alway...   Rock  \n",
       "5997  Hey little girl is your daddy home\\nDid he go ...   Rock  \n",
       "5998  It’s midnight - And I don’t want to see you le...   Rock  \n",
       "5999  On the silent night so out of place\\nI almost ...   Rock  \n",
       "\n",
       "[6000 rows x 4 columns]"
      ]
     },
     "execution_count": 68,
     "metadata": {},
     "output_type": "execute_result"
    }
   ],
   "source": [
    "# Randomely select 1000 songs from each genre\n",
    "SONG_PER_GENRE = 1000\n",
    "\n",
    "rows = []\n",
    "\n",
    "for label in labels:\n",
    "    genre_data = combined_data[combined_data.Genres == label]\n",
    "    sampled_genre_data = []\n",
    "    count = 0\n",
    "    for _, row in genre_data.sample(frac=1).iterrows():\n",
    "        if len(row.Lyric.strip()) == 0:\n",
    "            continue\n",
    "        sampled_genre_data.append(row)\n",
    "        count += 1\n",
    "        if count == SONG_PER_GENRE:\n",
    "            break\n",
    "    else:\n",
    "        raise ValueError(f'Not enough songs of genre {label}')\n",
    "    sampled_genre_data = pd.DataFrame(sampled_genre_data)\n",
    "    sampled_genre_data.Genres = label\n",
    "    rows.append(sampled_genre_data)\n",
    "\n",
    "combined_genre_data = pd.concat(rows).reset_index().drop(\"index\", axis=1)\n",
    "combined_genre_data"
   ]
  },
  {
   "cell_type": "code",
   "execution_count": 48,
   "id": "2a58d35f",
   "metadata": {},
   "outputs": [],
   "source": [
    "combined_genre_data.to_csv(\"combined_genre_data.csv\")"
   ]
  },
  {
   "cell_type": "markdown",
   "id": "08fe5d9f",
   "metadata": {},
   "source": [
    "## Reload the data"
   ]
  },
  {
   "cell_type": "code",
   "execution_count": 49,
   "id": "901d1764",
   "metadata": {},
   "outputs": [
    {
     "data": {
      "text/html": [
       "<div>\n",
       "<style scoped>\n",
       "    .dataframe tbody tr th:only-of-type {\n",
       "        vertical-align: middle;\n",
       "    }\n",
       "\n",
       "    .dataframe tbody tr th {\n",
       "        vertical-align: top;\n",
       "    }\n",
       "\n",
       "    .dataframe thead th {\n",
       "        text-align: right;\n",
       "    }\n",
       "</style>\n",
       "<table border=\"1\" class=\"dataframe\">\n",
       "  <thead>\n",
       "    <tr style=\"text-align: right;\">\n",
       "      <th></th>\n",
       "      <th>Unnamed: 0</th>\n",
       "      <th>SName</th>\n",
       "      <th>Artist</th>\n",
       "      <th>Lyric</th>\n",
       "      <th>Genres</th>\n",
       "    </tr>\n",
       "  </thead>\n",
       "  <tbody>\n",
       "    <tr>\n",
       "      <th>0</th>\n",
       "      <td>0</td>\n",
       "      <td>Blind Love</td>\n",
       "      <td>The Allman Brothers Band</td>\n",
       "      <td>by Dickey Betts and Don Johnson\\n(c) 1979 EMI ...</td>\n",
       "      <td>Blues</td>\n",
       "    </tr>\n",
       "    <tr>\n",
       "      <th>1</th>\n",
       "      <td>1</td>\n",
       "      <td>The Guitar Man</td>\n",
       "      <td>Gary Clark Jr.</td>\n",
       "      <td>Yeah, baby it's candlelight by choice now\\nLoo...</td>\n",
       "      <td>Blues</td>\n",
       "    </tr>\n",
       "    <tr>\n",
       "      <th>2</th>\n",
       "      <td>2</td>\n",
       "      <td>Down Now</td>\n",
       "      <td>BB King</td>\n",
       "      <td>I keep on tryin' to get ahead, I'm doin' the b...</td>\n",
       "      <td>Blues</td>\n",
       "    </tr>\n",
       "    <tr>\n",
       "      <th>3</th>\n",
       "      <td>3</td>\n",
       "      <td>Rock My Baby Right</td>\n",
       "      <td>Elmore James</td>\n",
       "      <td>My Baby's got way, I just can't understand\\nMy...</td>\n",
       "      <td>Blues</td>\n",
       "    </tr>\n",
       "    <tr>\n",
       "      <th>4</th>\n",
       "      <td>4</td>\n",
       "      <td>Driving Wheel</td>\n",
       "      <td>BB King</td>\n",
       "      <td>Well, my baby don't have to work\\nAnd she don'...</td>\n",
       "      <td>Blues</td>\n",
       "    </tr>\n",
       "  </tbody>\n",
       "</table>\n",
       "</div>"
      ],
      "text/plain": [
       "   Unnamed: 0               SName                    Artist  \\\n",
       "0           0          Blind Love  The Allman Brothers Band   \n",
       "1           1      The Guitar Man            Gary Clark Jr.   \n",
       "2           2            Down Now                   BB King   \n",
       "3           3  Rock My Baby Right              Elmore James   \n",
       "4           4       Driving Wheel                   BB King   \n",
       "\n",
       "                                               Lyric Genres  \n",
       "0  by Dickey Betts and Don Johnson\\n(c) 1979 EMI ...  Blues  \n",
       "1  Yeah, baby it's candlelight by choice now\\nLoo...  Blues  \n",
       "2  I keep on tryin' to get ahead, I'm doin' the b...  Blues  \n",
       "3  My Baby's got way, I just can't understand\\nMy...  Blues  \n",
       "4  Well, my baby don't have to work\\nAnd she don'...  Blues  "
      ]
     },
     "execution_count": 49,
     "metadata": {},
     "output_type": "execute_result"
    }
   ],
   "source": [
    "combined_genre_data = pd.read_csv(\"combined_genre_data.csv\")\n",
    "combined_genre_data.head()"
   ]
  },
  {
   "cell_type": "code",
   "execution_count": null,
   "id": "83d0eb5b",
   "metadata": {},
   "outputs": [],
   "source": []
  },
  {
   "cell_type": "code",
   "execution_count": 180,
   "id": "62f07fa8",
   "metadata": {},
   "outputs": [],
   "source": [
    "def train_and_pipeline(lyrics):\n",
    "    X_train, X_test, y_train, y_test = train_test_split(lyrics, combined_genre_data.Genres, test_size=0.25) \n",
    "    \n",
    "    pipe_MNB = Pipeline([('tfidf_vectorizer', TfidfVectorizer()),\n",
    "                       ('clf', MultinomialNB())\n",
    "                       ])\n",
    "    \n",
    "    pipe_CNB = Pipeline([('tfidf_vectorizer', TfidfVectorizer()),\n",
    "                       ('clf', ComplementNB())\n",
    "                       ])\n",
    "\n",
    "    pipe_RF = Pipeline([('tfidf_vectorizer', TfidfVectorizer()),\n",
    "                       ('clf', RandomForestClassifier())\n",
    "                       ])\n",
    "\n",
    "    pipe_KNN = Pipeline([('tfidf_vectorizer', TfidfVectorizer()),\n",
    "                        ('clf', KNeighborsClassifier())\n",
    "                        ])\n",
    "\n",
    "    # List of pipelines, List of pipeline names\n",
    "    pipelines = [pipe_MNB, pipe_CNB, pipe_RF, pipe_KNN]\n",
    "    pipeline_names = ['Multinomail NB', 'Complement NB', 'Random Forest', \"KNN\"]\n",
    "\n",
    "    # Loop to fit each of the three pipelines\n",
    "    for pipe in pipelines:\n",
    "        print(pipe)\n",
    "        pipe.fit(X_train, y_train)\n",
    "\n",
    "    # Compare accuracies\n",
    "    lemmed_basic_scores = []\n",
    "    for index, val in enumerate(pipelines):\n",
    "        tup = (pipeline_names[index], val.score(X_test, y_test))\n",
    "        lemmed_basic_scores.append(tup)\n",
    "        print('%s pipeline test accuracy: %.3f' % (pipeline_names[index], val.score(X_test, y_test)))\n",
    "        \n",
    "    return lemmed_basic_scores"
   ]
  },
  {
   "cell_type": "code",
   "execution_count": 51,
   "id": "89468c38",
   "metadata": {},
   "outputs": [],
   "source": [
    "results = Counter()\n",
    "lyrics_list = list(combined_genre_data.Lyric)\n",
    "pattern = \"([a-zA-Z]+(?:'[a-z]+)?)\"\n",
    "lemmatizer = WordNetLemmatizer()\n",
    "english = list(set(nltk.corpus.words.words()))\n",
    "stemmer = SnowballStemmer(\"english\")"
   ]
  },
  {
   "cell_type": "markdown",
   "id": "5660cd47",
   "metadata": {},
   "source": [
    "# Lemmatization"
   ]
  },
  {
   "cell_type": "code",
   "execution_count": 52,
   "id": "c58a353b",
   "metadata": {},
   "outputs": [],
   "source": [
    "def clean_docs_lemma(lyrics_list):\n",
    "    cleaned = []\n",
    "    for lyric in lyrics_list:\n",
    "        clean_lyric = nltk.regexp_tokenize(lyric, pattern)\n",
    "        lyric_lower = [i.lower() for i in clean_lyric]\n",
    "        stop_words = stopwords.words('english')\n",
    "        stopwords_list = stop_words + list(string.punctuation)\n",
    "        stopwords_list += [\"''\", '\"\"', '...', '``']\n",
    "        lyrics_tokens_stopped = [w for w in lyric_lower if not w in stopwords_list]\n",
    "        lyric_lemmas = [lemmatizer.lemmatize(word) for word in lyrics_tokens_stopped]\n",
    "        c = \" \".join(lyric_lemmas)\n",
    "        cleaned.append(c)\n",
    "    return cleaned"
   ]
  },
  {
   "cell_type": "code",
   "execution_count": 53,
   "id": "609b48bc",
   "metadata": {},
   "outputs": [
    {
     "data": {
      "text/plain": [
       "6000"
      ]
     },
     "execution_count": 53,
     "metadata": {},
     "output_type": "execute_result"
    }
   ],
   "source": [
    "lemmed_lyrics = clean_docs_lemma(lyrics_list)\n",
    "len(lemmed_lyrics)"
   ]
  },
  {
   "cell_type": "code",
   "execution_count": 54,
   "id": "9b23585d",
   "metadata": {},
   "outputs": [],
   "source": [
    "lyrics_lengths = [len(lyrics) for lyrics in lemmed_lyrics]"
   ]
  },
  {
   "cell_type": "code",
   "execution_count": 55,
   "id": "ccffcd8e",
   "metadata": {},
   "outputs": [
    {
     "data": {
      "text/plain": [
       "Text(0.5, 6.79999999999999, 'Number of Lyrics')"
      ]
     },
     "execution_count": 55,
     "metadata": {},
     "output_type": "execute_result"
    },
    {
     "data": {
      "image/png": "[encoded data removed]",
      "text/plain": [
       "<Figure size 1080x432 with 1 Axes>"
      ]
     },
     "metadata": {
      "needs_background": "light"
     },
     "output_type": "display_data"
    }
   ],
   "source": [
    "sns.displot(lyrics_lengths)\n",
    "plt.gcf().set_size_inches(15, 6)\n",
    "plt.title(\"Lyric Length Distribution\")\n",
    "plt.xlabel(\"Number of Lyrics\")"
   ]
  },
  {
   "cell_type": "code",
   "execution_count": 56,
   "id": "0d4da1eb",
   "metadata": {},
   "outputs": [
    {
     "name": "stdout",
     "output_type": "stream",
     "text": [
      "Pipeline(steps=[('tfidf_vectorizer', TfidfVectorizer()),\n",
      "                ('clf', MultinomialNB())])\n",
      "Pipeline(steps=[('tfidf_vectorizer', TfidfVectorizer()),\n",
      "                ('clf', ComplementNB())])\n",
      "Pipeline(steps=[('tfidf_vectorizer', TfidfVectorizer()),\n",
      "                ('clf', RandomForestClassifier())])\n",
      "Pipeline(steps=[('tfidf_vectorizer', TfidfVectorizer()),\n",
      "                ('clf', KNeighborsClassifier())])\n",
      "Multinomail NB pipeline test accuracy: 0.589\n",
      "Complement NB pipeline test accuracy: 0.599\n",
      "Random Forest pipeline test accuracy: 0.574\n",
      "KNN pipeline test accuracy: 0.353\n"
     ]
    }
   ],
   "source": [
    "results[\"lemmed\"] = train_and_pipeline(lemmed_lyrics)"
   ]
  },
  {
   "cell_type": "markdown",
   "id": "ec47acb8",
   "metadata": {},
   "source": [
    "# Stemming"
   ]
  },
  {
   "cell_type": "code",
   "execution_count": 57,
   "id": "41685073",
   "metadata": {},
   "outputs": [],
   "source": [
    "def clean_docs_stemma(lyrics_list):\n",
    "    cleaned = []\n",
    "    pattern = \"([a-zA-Z]+(?:'[a-z]+)?)\"\n",
    "    for lyric in lyrics_list:\n",
    "        clean_lyric = nltk.regexp_tokenize(lyric, pattern)\n",
    "        lyric_lower = [i.lower() for i in clean_lyric]\n",
    "        stop_words = stopwords.words('english')\n",
    "        stopwords_list = stop_words + list(string.punctuation)\n",
    "        stopwords_list += [\"''\", '\"\"', '...', '``']\n",
    "        lyrics_tokens_stopped = [w for w in lyric_lower if not w in stopwords_list]\n",
    "        lyric_stemmas = [stemmer.stem(word) for word in lyrics_tokens_stopped]\n",
    "        c = \" \".join(lyric_stemmas)\n",
    "        cleaned.append(c)\n",
    "    return cleaned"
   ]
  },
  {
   "cell_type": "code",
   "execution_count": 58,
   "id": "9e31d861",
   "metadata": {},
   "outputs": [],
   "source": [
    "stemmed_lyrics = clean_docs_stemma(lyrics_list)"
   ]
  },
  {
   "cell_type": "code",
   "execution_count": 59,
   "id": "3b9ab5a9",
   "metadata": {},
   "outputs": [
    {
     "name": "stdout",
     "output_type": "stream",
     "text": [
      "Pipeline(steps=[('tfidf_vectorizer', TfidfVectorizer()),\n",
      "                ('clf', MultinomialNB())])\n",
      "Pipeline(steps=[('tfidf_vectorizer', TfidfVectorizer()),\n",
      "                ('clf', ComplementNB())])\n",
      "Pipeline(steps=[('tfidf_vectorizer', TfidfVectorizer()),\n",
      "                ('clf', RandomForestClassifier())])\n",
      "Pipeline(steps=[('tfidf_vectorizer', TfidfVectorizer()),\n",
      "                ('clf', KNeighborsClassifier())])\n",
      "Multinomail NB pipeline test accuracy: 0.551\n",
      "Complement NB pipeline test accuracy: 0.585\n",
      "Random Forest pipeline test accuracy: 0.561\n",
      "KNN pipeline test accuracy: 0.379\n"
     ]
    }
   ],
   "source": [
    "results[\"stemmed\"] = train_and_pipeline(stemmed_lyrics)"
   ]
  },
  {
   "cell_type": "markdown",
   "id": "092e52dd",
   "metadata": {},
   "source": [
    "# Stemmed & Lemmatized"
   ]
  },
  {
   "cell_type": "code",
   "execution_count": 60,
   "id": "27cb538a",
   "metadata": {},
   "outputs": [],
   "source": [
    "lemmatized_stemmed_lyrics = clean_docs_lemma(stemmed_lyrics)"
   ]
  },
  {
   "cell_type": "code",
   "execution_count": 61,
   "id": "6d258c74",
   "metadata": {},
   "outputs": [
    {
     "name": "stdout",
     "output_type": "stream",
     "text": [
      "Pipeline(steps=[('tfidf_vectorizer', TfidfVectorizer()),\n",
      "                ('clf', MultinomialNB())])\n",
      "Pipeline(steps=[('tfidf_vectorizer', TfidfVectorizer()),\n",
      "                ('clf', ComplementNB())])\n",
      "Pipeline(steps=[('tfidf_vectorizer', TfidfVectorizer()),\n",
      "                ('clf', RandomForestClassifier())])\n",
      "Pipeline(steps=[('tfidf_vectorizer', TfidfVectorizer()),\n",
      "                ('clf', KNeighborsClassifier())])\n",
      "Multinomail NB pipeline test accuracy: 0.572\n",
      "Complement NB pipeline test accuracy: 0.583\n",
      "Random Forest pipeline test accuracy: 0.601\n",
      "KNN pipeline test accuracy: 0.377\n"
     ]
    }
   ],
   "source": [
    "results[\"lemmatized_stemmed\"] = train_and_pipeline(lemmatized_stemmed_lyrics)"
   ]
  },
  {
   "cell_type": "code",
   "execution_count": 62,
   "id": "2f7cba01",
   "metadata": {},
   "outputs": [],
   "source": [
    "stemmed_lemmatized_lyrics = clean_docs_lemma(lemmed_lyrics)"
   ]
  },
  {
   "cell_type": "code",
   "execution_count": 63,
   "id": "6743ad08",
   "metadata": {},
   "outputs": [
    {
     "name": "stdout",
     "output_type": "stream",
     "text": [
      "Pipeline(steps=[('tfidf_vectorizer', TfidfVectorizer()),\n",
      "                ('clf', MultinomialNB())])\n",
      "Pipeline(steps=[('tfidf_vectorizer', TfidfVectorizer()),\n",
      "                ('clf', ComplementNB())])\n",
      "Pipeline(steps=[('tfidf_vectorizer', TfidfVectorizer()),\n",
      "                ('clf', RandomForestClassifier())])\n",
      "Pipeline(steps=[('tfidf_vectorizer', TfidfVectorizer()),\n",
      "                ('clf', KNeighborsClassifier())])\n",
      "Multinomail NB pipeline test accuracy: 0.558\n",
      "Complement NB pipeline test accuracy: 0.570\n",
      "Random Forest pipeline test accuracy: 0.555\n",
      "KNN pipeline test accuracy: 0.368\n"
     ]
    }
   ],
   "source": [
    "results[\"stemmed_lemmatized\"] = train_and_pipeline(stemmed_lemmatized_lyrics)"
   ]
  },
  {
   "cell_type": "code",
   "execution_count": 64,
   "id": "1fed49de",
   "metadata": {},
   "outputs": [
    {
     "data": {
      "text/plain": [
       "Counter({'lemmed': [('Multinomail NB', 0.5886666666666667),\n",
       "          ('Complement NB', 0.5993333333333334),\n",
       "          ('Random Forest', 0.574),\n",
       "          ('KNN', 0.3526666666666667)],\n",
       "         'stemmed': [('Multinomail NB', 0.5506666666666666),\n",
       "          ('Complement NB', 0.5846666666666667),\n",
       "          ('Random Forest', 0.5613333333333334),\n",
       "          ('KNN', 0.37866666666666665)],\n",
       "         'lemmatized_stemmed': [('Multinomail NB', 0.572),\n",
       "          ('Complement NB', 0.5826666666666667),\n",
       "          ('Random Forest', 0.6013333333333334),\n",
       "          ('KNN', 0.37666666666666665)],\n",
       "         'stemmed_lemmatized': [('Multinomail NB', 0.558),\n",
       "          ('Complement NB', 0.57),\n",
       "          ('Random Forest', 0.5546666666666666),\n",
       "          ('KNN', 0.368)]})"
      ]
     },
     "execution_count": 64,
     "metadata": {},
     "output_type": "execute_result"
    }
   ],
   "source": [
    "results"
   ]
  },
  {
   "cell_type": "code",
   "execution_count": 65,
   "id": "cbe68e29",
   "metadata": {},
   "outputs": [
    {
     "data": {
      "image/png": "[encoded data removed]",
      "text/plain": [
       "<Figure size 1080x432 with 1 Axes>"
      ]
     },
     "metadata": {
      "needs_background": "light"
     },
     "output_type": "display_data"
    }
   ],
   "source": [
    "X = results.keys()\n",
    "\n",
    "MNB = [results[x][0][1] for x in X]\n",
    "CNB = [results[x][1][1] for x in X]\n",
    "RF = [results[x][2][1] for x in X]\n",
    "KNN = [results[x][3][1] for x in X]\n",
    "\n",
    "X_axis = np.arange(len(X))\n",
    "plt.bar(X_axis - 0.3, MNB, 0.2, label = 'NB')\n",
    "plt.bar(X_axis - 0.1, CNB, 0.2, label = 'CNB')\n",
    "plt.bar(X_axis + 0.1, RF, 0.2, label = 'RF')\n",
    "plt.bar(X_axis + 0.3, KNN, 0.2, label = 'KNN')\n",
    "\n",
    "plt.xticks(X_axis, X)\n",
    "\n",
    "plt.gcf().set_size_inches(15, 6)\n",
    "plt.xlabel(\"Data Preprocessing\")\n",
    "plt.ylabel('Test Accuracy')\n",
    "plt.title(\"Model Test Accuracy for each Data Preprocessing Method\")\n",
    "plt.legend()\n",
    "plt.show()"
   ]
  },
  {
   "cell_type": "code",
   "execution_count": null,
   "id": "1bde79d5",
   "metadata": {},
   "outputs": [],
   "source": [
    "# Based on the results -> "
   ]
  },
  {
   "cell_type": "code",
   "execution_count": 181,
   "id": "5d8e8c7c",
   "metadata": {},
   "outputs": [],
   "source": [
    "X_train, X_test, y_train, y_test = train_test_split(lemmed_lyrics, combined_genre_data.Genres, test_size=0.25) "
   ]
  },
  {
   "cell_type": "markdown",
   "id": "793380e0",
   "metadata": {},
   "source": [
    "# Random Forest Classifier"
   ]
  },
  {
   "cell_type": "code",
   "execution_count": 182,
   "id": "a977d6a0",
   "metadata": {},
   "outputs": [],
   "source": [
    "rfc = RandomForestClassifier()"
   ]
  },
  {
   "cell_type": "code",
   "execution_count": null,
   "id": "16ee8b6e",
   "metadata": {},
   "outputs": [],
   "source": [
    "GS_pipe_RF = Pipeline([('count_vectorizer', CountVectorizer()), \n",
    "                     ('tfidf_vectorizer', TfidfTransformer()),\n",
    "                     ('clf', RandomForestClassifier())\n",
    "                    ])\n",
    "\n",
    "rf_param_grid = dict(clf__n_estimators = [10, 30, 100],\n",
    "                  clf__criterion = ['gini', 'entropy'],\n",
    "                  clf__max_depth = [2, 6, 10], \n",
    "                  clf__min_samples_split = [5, 10],\n",
    "                  clf__min_samples_leaf = [3, 6])\n",
    "\n",
    "\n",
    "gs_RF = GridSearchCV(estimator=GS_pipe_RF,\n",
    "            param_grid=rf_param_grid,\n",
    "            scoring='accuracy',\n",
    "            cv=3)\n",
    "\n",
    "gs_RF.fit(X_train, y_train)"
   ]
  },
  {
   "cell_type": "code",
   "execution_count": null,
   "id": "e1c9b021",
   "metadata": {},
   "outputs": [],
   "source": [
    "rf_gs_testing_score = gs_RF.score(X_test, y_test)\n",
    "\n",
    "print(\"Mean Testing Score: {:.4}%\".format(rf_gs_testing_score * 100))\n",
    "print(\"Best Parameter Combination Found During Grid Search: \\n{}\".format(gs_RF.best_params_))"
   ]
  },
  {
   "cell_type": "markdown",
   "id": "73a79d66",
   "metadata": {},
   "source": [
    "# Naive Bayes"
   ]
  },
  {
   "cell_type": "code",
   "execution_count": null,
   "id": "e375b633",
   "metadata": {},
   "outputs": [
    {
     "data": {
      "text/plain": [
       "GridSearchCV(cv=3,\n",
       "             estimator=Pipeline(steps=[('count_vectorizer', CountVectorizer()),\n",
       "                                       ('tfidf_vectorizer', TfidfTransformer()),\n",
       "                                       ('clf', MultinomialNB())]),\n",
       "             param_grid={'clf__alpha': [0.01, 0.05, 0.1, 0.2, 0.4, 1]},\n",
       "             scoring='accuracy')"
      ]
     },
     "execution_count": 28,
     "metadata": {},
     "output_type": "execute_result"
    }
   ],
   "source": [
    "GS_pipe_NB = Pipeline([('count_vectorizer', CountVectorizer()), \n",
    "                     ('tfidf_vectorizer', TfidfTransformer()),\n",
    "                     ('clf', MultinomialNB())\n",
    "                    ])\n",
    "\n",
    "\n",
    "sorted(GS_pipe_NB.get_params().keys())\n",
    "\n",
    "nb_param_grid = dict(clf__alpha = [.01, .05, .1, .2, .4, 1])\n",
    "\n",
    "gs_NB = GridSearchCV(estimator=GS_pipe_NB,\n",
    "            param_grid=nb_param_grid,\n",
    "            scoring='accuracy',\n",
    "            cv=3)\n",
    "\n",
    "gs_NB.fit(X_train, y_train)"
   ]
  },
  {
   "cell_type": "code",
   "execution_count": null,
   "id": "4addba15",
   "metadata": {},
   "outputs": [
    {
     "name": "stdout",
     "output_type": "stream",
     "text": [
      "Mean Testing Score: 61.27%\n",
      "Best Parameter Combination Found During Grid Search: \n",
      "{'clf__alpha': 0.05}\n"
     ]
    }
   ],
   "source": [
    "nb_gs_testing_score = gs_NB.score(X_test, y_test)\n",
    "\n",
    "print(\"Mean Testing Score: {:.4}%\".format(nb_gs_testing_score * 100))\n",
    "print(\"Best Parameter Combination Found During Grid Search: \\n{}\".format(gs_NB.best_params_))"
   ]
  },
  {
   "cell_type": "markdown",
   "id": "4ab7ea12",
   "metadata": {},
   "source": [
    "# KNN Classifier"
   ]
  },
  {
   "cell_type": "code",
   "execution_count": null,
   "id": "cc843683",
   "metadata": {},
   "outputs": [
    {
     "data": {
      "text/plain": [
       "GridSearchCV(cv=3,\n",
       "             estimator=Pipeline(steps=[('count_vectorizer', CountVectorizer()),\n",
       "                                       ('tfidf_vectorizer', TfidfTransformer()),\n",
       "                                       ('clf', KNeighborsClassifier())]),\n",
       "             param_grid={'clf__n_neighbors': [100, 150, 200], 'clf__p': [1, 2]},\n",
       "             scoring='accuracy')"
      ]
     },
     "execution_count": 30,
     "metadata": {},
     "output_type": "execute_result"
    }
   ],
   "source": [
    "GS_pipe_KNN = Pipeline([('count_vectorizer', CountVectorizer()), \n",
    "                     ('tfidf_vectorizer', TfidfTransformer()),\n",
    "                     ('clf', KNeighborsClassifier())\n",
    "                    ])\n",
    "\n",
    "knn_param_grid = dict(clf__n_neighbors = [100, 150, 200],\n",
    "                     clf__p = [1, 2])\n",
    "\n",
    "gs_KNN = GridSearchCV(estimator=GS_pipe_KNN,\n",
    "            param_grid=knn_param_grid,\n",
    "            scoring='accuracy',\n",
    "            cv=3)\n",
    "\n",
    "gs_KNN.fit(X_train, y_train)"
   ]
  },
  {
   "cell_type": "code",
   "execution_count": null,
   "id": "57868fc2",
   "metadata": {},
   "outputs": [
    {
     "name": "stdout",
     "output_type": "stream",
     "text": [
      "Mean Testing Score: 49.2%\n",
      "Best Parameter Combination Found During Grid Search: \n",
      "{'clf__n_neighbors': 200, 'clf__p': 2}\n"
     ]
    }
   ],
   "source": [
    "knn_gs_testing_score = gs_KNN.score(X_test, y_test)\n",
    "\n",
    "print(\"Mean Testing Score: {:.4}%\".format(knn_gs_testing_score * 100))\n",
    "print(\"Best Parameter Combination Found During Grid Search: \\n{}\".format(gs_KNN.best_params_))"
   ]
  }
 ],
 "metadata": {
  "kernelspec": {
   "display_name": "Python 3 (ipykernel)",
   "language": "python",
   "name": "python3"
  },
  "language_info": {
   "codemirror_mode": {
    "name": "ipython",
    "version": 3
   },
   "file_extension": ".py",
   "mimetype": "text/x-python",
   "name": "python",
   "nbconvert_exporter": "python",
   "pygments_lexer": "ipython3",
   "version": "3.9.10"
  }
 },
 "nbformat": 4,
 "nbformat_minor": 5
}
