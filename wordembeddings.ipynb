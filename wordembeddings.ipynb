{
 "cells": [
  {
   "cell_type": "markdown",
   "metadata": {
    "id": "UjJn2R-Ft8Gi"
   },
   "source": [
    "For this homework, make sure that you format your notbook nicely and cite all sources in the appropriate sections. Programmatically generate or embed any figures or graphs that you need.\n",
    "\n",
    "Names: __Andrew Lin, Praneeth Prathi, Zibing Zhang__"
   ]
  },
  {
   "cell_type": "markdown",
   "metadata": {
    "id": "lzwlPkjgt8Gq"
   },
   "source": [
    "Step 1: Train your own word embeddings\n",
    "--------------------------------\n",
    "\n",
    "<!-- (describe the provided dataset that you have chosen here) -->\n",
    "The first dataset that we are using was provided by the instructors.\n",
    "It is the complete works of Shakespeare.\n",
    "It seems to have already gone through a large amount of normalization, as there are not punctuation marks, and everything is lowercased.\n",
    "This poses some issue since we do not know sentence boundaries, but we will treat separate lines as separate sentences.\n",
    "As Shakespeare's works are mostly plays, there are a lot of stage instructions included in the corpus, as well as lots of proper nouns that only appear for the duration of a specific play.\n",
    "\n",
    "<!-- Describe what data set you have chosen to compare and contrast with the your chosen provided dataset. Make sure to describe where it comes from and it's general properties. -->\n",
    "\n",
    "<!-- (describe your dataset here) -->\n",
    "The second dataset that we are using is from the nltk gutenberg corpus.\n",
    "We have chosen the full text of the King James version of the Bible.\n",
    "The data is already split by whitespace and punctuation.\n",
    "There are a lot of words that indicate the current verse, among other markings.\n",
    "Most of these things are filtered out in text pre-processing as described below."
   ]
  },
  {
   "cell_type": "code",
   "execution_count": 45,
   "metadata": {
    "ExecuteTime": {
     "end_time": "2020-10-24T03:27:00.340250Z",
     "start_time": "2020-10-24T03:26:59.570883Z"
    },
    "id": "uQLg8dGdt8Gr"
   },
   "outputs": [],
   "source": [
    "# import your libraries here\n",
    "\n",
    "import nltk\n",
    "import re\n",
    "import random"
   ]
  },
  {
   "cell_type": "code",
   "execution_count": 2,
   "metadata": {},
   "outputs": [
    {
     "name": "stderr",
     "output_type": "stream",
     "text": [
      "[nltk_data] Downloading package gutenberg to\n",
      "[nltk_data]     C:\\Users\\prane\\AppData\\Roaming\\nltk_data...\n",
      "[nltk_data]   Package gutenberg is already up-to-date!\n"
     ]
    },
    {
     "name": "stdout",
     "output_type": "stream",
     "text": [
      "['<s>', 'the', 'king', 'james', 'bible', 'the', 'old', 'testament', 'of', 'the', 'king', 'james', 'bible', 'the', 'first', 'book', 'of', 'moses', 'called', 'genesis', 'in', 'the', 'beginning', 'god', 'created', 'the', 'heaven', 'and', 'the', 'earth', '</s>']\n"
     ]
    }
   ],
   "source": [
    "# setup datasets and pre-process into desired format\n",
    "\n",
    "# Read the file and prepare the training data \n",
    "# so that it is in the following format\n",
    "\n",
    "# data = [['this', 'is', 'the', 'first', 'sentence', 'for', 'word2vec'],\n",
    "# \t\t\t['this', 'is', 'the', 'second', 'sentence'],\n",
    "# \t\t\t['yet', 'another', 'sentence'],\n",
    "# \t\t\t['one', 'more', 'sentence'],\n",
    "# \t\t\t['and', 'the', 'final', 'sentence']]\n",
    "\n",
    "START_TOKEN = \"<s>\"\n",
    "END_TOKEN = \"</s>\"\n",
    "\n",
    "# shakespeare, given dataset\n",
    "dataset_1 = []\n",
    "with open(\"shakespeare_plays.txt\") as f:\n",
    "    dataset_1 = [[START_TOKEN] + line.lower().split() + [END_TOKEN] for line in f.read().strip().split(\"\\n\")]\n",
    "# print(dataset_1[0])  # first sentence\n",
    "\n",
    "# king james version of bible, our datset\n",
    "dataset_2 = []\n",
    "nltk.download(\"gutenberg\")\n",
    "kjv = nltk.corpus.gutenberg.words(\"bible-kjv.txt\")\n",
    "# print(len(kjv))  # 1010654 words\n",
    "sentence = [START_TOKEN]\n",
    "for word in kjv:\n",
    "  # lower case words\n",
    "    word = word.lower()\n",
    "  # period denotes end of sentence\n",
    "    if word == \".\":\n",
    "        sentence.append(END_TOKEN)\n",
    "        dataset_2.append(sentence)\n",
    "        sentence = [START_TOKEN]\n",
    "  # only allow words that contain only letters\n",
    "    elif not re.match(r\"^[a-z]+$\", word):\n",
    "        continue\n",
    "    else:\n",
    "        sentence.append(word)\n",
    "print(dataset_2[0])  # first sentence"
   ]
  },
  {
   "cell_type": "code",
   "execution_count": 3,
   "metadata": {},
   "outputs": [],
   "source": [
    "# code to train word embeddings\n",
    "\n",
    "from gensim.models import Word2Vec\n",
    "\n",
    "# The dimension of word embedding. \n",
    "# This variable will be used throughout the program\n",
    "# you may vary this as you desire\n",
    "EMBEDDINGS_SIZE = 200\n",
    "\n",
    "# Train the Word2Vec model from Gensim.\n",
    "# The default arguments are the hyperparameters that are most relevant. \n",
    "# But feel free to explore other \n",
    "# options too:\n",
    "def train_embeddings(dataset, embeddings_size=EMBEDDINGS_SIZE, sg=1, window=5, min_count=1):\n",
    "    return Word2Vec(sentences=dataset, vector_size=embeddings_size, sg=sg, window=window, min_count=min_count)\n"
   ]
  },
  {
   "cell_type": "markdown",
   "metadata": {
    "id": "mj0A0mCkt8Gt"
   },
   "source": [
    "### a) Train embeddings on GIVEN dataset"
   ]
  },
  {
   "cell_type": "code",
   "execution_count": 4,
   "metadata": {
    "ExecuteTime": {
     "end_time": "2020-10-24T04:39:38.482701Z",
     "start_time": "2020-10-24T04:39:28.044970Z"
    },
    "id": "Od_L53GEt8Gv"
   },
   "outputs": [],
   "source": [
    "model_1 = train_embeddings(dataset_1)"
   ]
  },
  {
   "cell_type": "code",
   "execution_count": 5,
   "metadata": {
    "ExecuteTime": {
     "end_time": "2020-10-24T04:39:43.448249Z",
     "start_time": "2020-10-24T04:39:43.444835Z"
    },
    "id": "xrt52ahnt8Gw"
   },
   "outputs": [
    {
     "name": "stdout",
     "output_type": "stream",
     "text": [
      "Vocab size 23857\n"
     ]
    }
   ],
   "source": [
    "# if you save your Word2Vec as the variable model, this will \n",
    "# print out the vocabulary size\n",
    "# print('Vocab size {}'.format(len(model.wv.vocab)))  # outdatted in gensim 4.0.0\n",
    "print('Vocab size {}'.format(len(model_1.wv.index_to_key)))"
   ]
  },
  {
   "cell_type": "code",
   "execution_count": 6,
   "metadata": {
    "ExecuteTime": {
     "end_time": "2020-10-24T04:39:48.730304Z",
     "start_time": "2020-10-24T04:39:45.451960Z"
    },
    "id": "UUanXgQLt8Gy"
   },
   "outputs": [],
   "source": [
    "# You can save file in txt format, then load later if you wish.\n",
    "# model_1.wv.save_word2vec_format('embeddings.txt', binary=False)"
   ]
  },
  {
   "cell_type": "markdown",
   "metadata": {
    "id": "uGMUTMcmt8G0"
   },
   "source": [
    "### b) Train embedding on YOUR dataset"
   ]
  },
  {
   "cell_type": "code",
   "execution_count": 7,
   "metadata": {
    "id": "sN0KvmUKt8G0"
   },
   "outputs": [],
   "source": [
    "model_2 = train_embeddings(dataset_2)"
   ]
  },
  {
   "cell_type": "code",
   "execution_count": 8,
   "metadata": {},
   "outputs": [
    {
     "name": "stdout",
     "output_type": "stream",
     "text": [
      "Vocab size 12570\n"
     ]
    }
   ],
   "source": [
    "# if you save your Word2Vec as the variable model, this will \n",
    "# print out the vocabulary size\n",
    "# print('Vocab size {}'.format(len(model.wv.vocab)))  # outdatted in gensim 4.0.0\n",
    "print('Vocab size {}'.format(len(model_2.wv.index_to_key)))"
   ]
  },
  {
   "cell_type": "code",
   "execution_count": 9,
   "metadata": {},
   "outputs": [],
   "source": [
    "# You can save file in txt format, then load later if you wish.\n",
    "# model_2.wv.save_word2vec_format('embeddings.txt', binary=False)"
   ]
  },
  {
   "cell_type": "markdown",
   "metadata": {
    "id": "BsjzTVFjt8G1"
   },
   "source": [
    "__What text-normalization and pre-processing did you do and why?__\n",
    "\n",
    "For the given dataset, there was not any pre-processing that was done, because the dataset was already in a format that was very much well suited to modeling.\n",
    "Everything was lower cased, and there was no punctuation.\n",
    "This did pose some problem, as there was no clear delimiter for when a sentence would begin and end, but we decided to split the corpus into sentences on newlines.\n",
    "\n",
    "The King James Version of the Bible required some text-normalization and pre-processing.\n",
    "The corpus was already split into tokens, but we filtered some out and added some text-normalization.\n",
    "To be overly cautious, we discarded all tokens that contained more than just alphabetic characters.\n",
    "We also lower cased all the words."
   ]
  },
  {
   "cell_type": "markdown",
   "metadata": {
    "id": "aOFmHpH8t8G2"
   },
   "source": [
    "Step 2: Evaluate the differences between the word embeddings\n",
    "----------------------------\n",
    "\n",
    "(make sure to include graphs, figures, and paragraphs with full sentences)"
   ]
  },
  {
   "cell_type": "code",
   "execution_count": 10,
   "metadata": {
    "id": "NXjy2-OqgvIf"
   },
   "outputs": [
    {
     "name": "stdout",
     "output_type": "stream",
     "text": [
      "Analogies for model Shakespears Works...\n",
      "\tAnalogy 0: `man' is to `king' as `woman' is to `margaret'\n",
      "\tAnalogy 1: `moon' is to `stars' as `sun' is to `threat'\n",
      "\tAnalogy 2: `father' is to `son' as `mother' is to `child'\n",
      "\tAnalogy 3: `disease' is to `plague' as `death' is to `curse'\n",
      "\tAnalogy 4: `hot' is to `warm' as `cold' is to `naked'\n",
      "\tAnalogy 5: `sin' is to `apple' as `virtue' is to `blank'\n",
      "\tAnalogy 6: `food' is to `hungry' as `water' is to `salt'\n",
      "Analogies for model King James Bible...\n",
      "\tAnalogy 0: `man' is to `king' as `woman' is to `queen'\n",
      "\tAnalogy 1: `moon' is to `stars' as `sun' is to `dew'\n",
      "\tAnalogy 2: `father' is to `son' as `mother' is to `daughter'\n",
      "\tAnalogy 3: `disease' is to `plague' as `death' is to `shadow'\n",
      "\tAnalogy 4: `hot' is to `warm' as `cold' is to `followedst'\n",
      "\tAnalogy 5: `sin' is to `apple' as `virtue' is to `stoppeth'\n",
      "\tAnalogy 6: `food' is to `hungry' as `water' is to `deep'\n"
     ]
    },
    {
     "data": {
      "image/png": "[encoded data removed]",
      "text/plain": [
       "<Figure size 720x360 with 1 Axes>"
      ]
     },
     "metadata": {
      "needs_background": "light"
     },
     "output_type": "display_data"
    },
    {
     "data": {
      "image/png": "[encoded data removed]",
      "text/plain": [
       "<Figure size 720x360 with 1 Axes>"
      ]
     },
     "metadata": {
      "needs_background": "light"
     },
     "output_type": "display_data"
    }
   ],
   "source": [
    "from sklearn.decomposition import PCA\n",
    "import matplotlib.pyplot as plt\n",
    "import numpy as np\n",
    "\n",
    "pca_2 = PCA(n_components=2)\n",
    "\n",
    "def make_analogy(model, this_1, is_to_that_1, this_2):\n",
    "    is_to_that_2 = model.wv.most_similar(\n",
    "        negative=[this_1],\n",
    "        positive=[is_to_that_1, this_2]\n",
    "    )\n",
    "    return is_to_that_2[0][0]\n",
    "\n",
    "def plot_data(model, from_labels, to_labels, name):\n",
    "    labels = from_labels + to_labels\n",
    "    data = pca_2.fit_transform([model.wv[w] for w in labels])\n",
    "    plt.figure(figsize=(10, 5))\n",
    "    plt.title(f\"Analogies for dataset {name}\")\n",
    "    plt.plot(data[:,0], data[:,1], '.')\n",
    "    for i in range(len(data)):\n",
    "        plt.annotate(labels[i], xy = data[i])\n",
    "    for i in range(len(data)//2):\n",
    "        plt.annotate(\"\", \n",
    "                     xy=data[i], \n",
    "                     xytext=data[i+len(data)//2], \n",
    "                     arrowprops=dict(arrowstyle=\"<-\"))\n",
    "\n",
    "def plot_analogies(model, analogies, name):\n",
    "    from_labels = []\n",
    "    to_labels = []\n",
    "    for analogy in analogies:\n",
    "        from_labels += analogy[:2]\n",
    "        to_labels += analogy[2:] + [make_analogy(model, *analogy)]\n",
    "    plot_data(model, from_labels, to_labels, name)\n",
    "\n",
    "def print_analysis():\n",
    "    models = [(model_1, \"Shakespears Works\"), (model_2, \"King James Bible\")]\n",
    "    \n",
    "    a1 = [\"man\", \"king\", \"woman\"]\n",
    "    a2 = [\"moon\", \"stars\", \"sun\"]\n",
    "    a3 = [\"father\", \"son\", \"mother\"]\n",
    "    a4 = [\"disease\", \"plague\", \"death\"]\n",
    "    a5 = [\"hot\", \"warm\", \"cold\"]\n",
    "    a6 = [\"sin\", \"apple\", \"virtue\"]\n",
    "    a7 = [\"food\", \"hungry\", \"water\"]\n",
    "    analogies = [a1, a2, a3, a4, a5, a6, a7]\n",
    "    \n",
    "    for i, (model, name) in enumerate(models):\n",
    "        print(f\"Analogies for model {name}...\")\n",
    "        for i, (a, b, c) in enumerate(analogies):\n",
    "            d = make_analogy(model, a, b, c)\n",
    "            print(f\"\\tAnalogy {i}: `{a}' is to `{b}' as `{c}' is to `{d}'\")\n",
    "        plot_analogies(model, analogies, name)\n",
    "        \n",
    "print_analysis()\n"
   ]
  },
  {
   "cell_type": "markdown",
   "metadata": {
    "id": "CWlWydbrgv4P"
   },
   "source": [
    "## Write down your analysis"
   ]
  },
  {
   "cell_type": "markdown",
   "metadata": {},
   "source": [
    "Although the data we see above is a 2D representation of higher dimensional data, we are able to see some differences between the embeddings of the words between our models, as well as differences between the placement of different words relative to each other (as seen through the plotted analogies).\n",
    "It is definitely important to note that although the two models are modeled off of corpora that are from around the same time frame, the contents and topics are very different, and the original Bible dates back over a thousand years.\n",
    "First we'll take a look at the scatter plot of words.\n",
    "While most of the words and their relations differ by a bit, such a mother and father, they seem to have around the same embedding, as evidenced by their somewhat similar placement between the two models.\n",
    "Similarly, the words sun and moon also have similar placements.\n",
    "\n",
    "Even though none of the analogies are the same between the two models, they are somewhat similar, and there are definitely some connections between the two.\n",
    "For instance, for the analogy \"father is to son as mother is to _____\", we can see that the first model provides \"child\", while the second model provides \"wife\".\n",
    "While \"child\" and \"wife\" are very different answers, they are both words that describe a family unit, and so we can see the connections between the two embeddings even if they differ.\n",
    "Another really interesting analogy is the \"man is to king as woman is to _____\".\n",
    "The model based off of Shakespeare's works gives the word \"elizabeth\".\n",
    "Shakespeare spent the majority of his life under her rule, and to him, the word \"queen\" and \"elizabeth\" would have had very similar connotations.\n",
    "In fact, her influence can be found in a number of his plays.\n",
    "The model based off the Bible gives the expected word of \"queen\". "
   ]
  },
  {
   "cell_type": "markdown",
   "metadata": {
    "id": "-tmrTVDqt8G2"
   },
   "source": [
    "Cite your sources:\n",
    "-------------\n",
    "- https://towardsdatascience.com/google-news-and-leo-tolstoy-visualizing-word2vec-word-embeddings-with-t-sne-11558d8bd4d\n",
    "- https://www.rct.uk/collection/themes/exhibitions/shakespeare-in-the-royal-library/windsor-castle/the-influence-of-elizabeth-i"
   ]
  },
  {
   "cell_type": "markdown",
   "metadata": {
    "id": "ix2On6zat8G2"
   },
   "source": [
    "Step 3: Feedforward Neural Language Model\n",
    "--------------------------"
   ]
  },
  {
   "cell_type": "markdown",
   "metadata": {
    "id": "AZsCKQWDt8G2"
   },
   "source": [
    "### a) First, encode  your text into integers"
   ]
  },
  {
   "cell_type": "code",
   "execution_count": 11,
   "metadata": {},
   "outputs": [],
   "source": [
    "import tensorflow"
   ]
  },
  {
   "cell_type": "code",
   "execution_count": 12,
   "metadata": {
    "ExecuteTime": {
     "end_time": "2020-10-26T21:39:09.625031Z",
     "start_time": "2020-10-26T21:39:09.009109Z"
    },
    "id": "ec0KKYj0t8G3"
   },
   "outputs": [],
   "source": [
    "# Importing utility functions from Keras\n",
    "from keras.preprocessing.text import Tokenizer\n",
    "from keras.utils import to_categorical\n",
    "from keras.models import Sequential\n",
    "from keras.layers import Dense\n",
    "# from keras.layers import SimpleRNN\n",
    "# from keras.layers import Embedding"
   ]
  },
  {
   "cell_type": "code",
   "execution_count": 13,
   "metadata": {},
   "outputs": [],
   "source": [
    "# The size of the ngram language model you want to train\n",
    "# change as needed for your experiments\n",
    "NGRAM = 4"
   ]
  },
  {
   "cell_type": "code",
   "execution_count": 14,
   "metadata": {},
   "outputs": [],
   "source": [
    "def add_sentence_tokens(ngram, dataset):\n",
    "    if ngram < 2:\n",
    "        return dataset\n",
    "    \n",
    "#     prepared_dataset = [[(ngram - 2) * START_TOKEN] + sentence + [(ngram - 2) * END_TOKEN] for sentence in dataset]\n",
    "    prepared_dataset = [(ngram - 2) * [START_TOKEN] + sentence for sentence in dataset]\n",
    "    return prepared_dataset\n",
    "\n",
    "dataset_1_ngrams = add_sentence_tokens(NGRAM, dataset_1)\n",
    "dataset_2_ngrams = add_sentence_tokens(NGRAM, dataset_2)"
   ]
  },
  {
   "cell_type": "code",
   "execution_count": 15,
   "metadata": {
    "ExecuteTime": {
     "end_time": "2020-10-24T03:27:54.373208Z",
     "start_time": "2020-10-24T03:27:54.369835Z"
    },
    "id": "U1PrwlBAt8G5"
   },
   "outputs": [],
   "source": [
    "def encode_text(data):\n",
    "    # Initializing a Tokenizer\n",
    "    # It is used to vectorize a text corpus. Here, it just creates a mapping from \n",
    "    # word to a unique index. (Note: Indexing starts from 0)\n",
    "    # Example:\n",
    "    tokenizer = Tokenizer(filters='!\"#$%&()*+,-./:;=?@[\\\\]^_`{|}~\\t\\n')\n",
    "    tokenizer.fit_on_texts(data)\n",
    "    encoded = tokenizer.texts_to_sequences(data)\n",
    "    return tokenizer, encoded\n",
    "\n",
    "tokenizer_1, encoded_text_1 = encode_text(dataset_1_ngrams)\n",
    "tokenizer_2, encoded_text_2 = encode_text(dataset_2_ngrams)"
   ]
  },
  {
   "cell_type": "markdown",
   "metadata": {
    "id": "mCndArPmt8G5"
   },
   "source": [
    "### b) Next, prepare your sequences from text"
   ]
  },
  {
   "cell_type": "markdown",
   "metadata": {
    "id": "6jG42_9Xt8G6"
   },
   "source": [
    "#### Fixed ngram based sequences "
   ]
  },
  {
   "cell_type": "raw",
   "metadata": {
    "id": "HsoPVS8ct8G7"
   },
   "source": [
    "The training samples will be structured in the following format. \n",
    "Depending on which ngram model we choose, there will be (n-1) tokens \n",
    "in the input sequence (X) and we will need to predict the nth token (Y)\n",
    "\n",
    "            X,\t\t\t\t\t\t  y\n",
    "    this,    process               however\n",
    "    process, however               afforded\n",
    "    however, afforded\t           me"
   ]
  },
  {
   "cell_type": "code",
   "execution_count": 16,
   "metadata": {
    "ExecuteTime": {
     "end_time": "2020-10-24T05:21:28.039381Z",
     "start_time": "2020-10-24T05:21:24.941885Z"
    },
    "id": "B_4YqhKTt8G7"
   },
   "outputs": [],
   "source": [
    "def generate_ngram_training_samples(encoded_data: list, ngram: int) -> list:\n",
    "    '''\n",
    "    Takes the encoded data (list of lists) and \n",
    "    generates the training samples out of it.\n",
    "    Parameters:\n",
    "    up to you, we've put in what we used\n",
    "    but you can add/remove as needed\n",
    "    return: \n",
    "    list of lists in the format [[x1, x2, ... , x(n-1), y], ...]\n",
    "    '''\n",
    "    training_samples = []\n",
    "    \n",
    "    for sentence in encoded_data:\n",
    "        for i in range(len(sentence) - (ngram - 1)):\n",
    "            training_samples.append(sentence[i:i+ngram])\n",
    "    \n",
    "    return training_samples\n",
    "    \n",
    "training_samples_1 = generate_ngram_training_samples(encoded_text_1, NGRAM)\n",
    "training_samples_2 = generate_ngram_training_samples(encoded_text_2, NGRAM)"
   ]
  },
  {
   "cell_type": "markdown",
   "metadata": {
    "id": "BWL6Czlxt8G8"
   },
   "source": [
    "### c) Then, split the sequences into X and y and create a Data Generator"
   ]
  },
  {
   "cell_type": "code",
   "execution_count": 17,
   "metadata": {
    "ExecuteTime": {
     "end_time": "2020-10-24T05:21:31.213422Z",
     "start_time": "2020-10-24T05:21:31.061759Z"
    },
    "id": "csweN-d1t8G9"
   },
   "outputs": [],
   "source": [
    "# Note here that the sequences were in the form: \n",
    "# sequence = [x1, x2, ... , x(n-1), y]\n",
    "# We still need to separate it into [[x1, x2, ... , x(n-1)], ...], [y1, y2, ...]"
   ]
  },
  {
   "cell_type": "code",
   "execution_count": 18,
   "metadata": {},
   "outputs": [],
   "source": [
    "import numpy as np"
   ]
  },
  {
   "cell_type": "code",
   "execution_count": 19,
   "metadata": {},
   "outputs": [],
   "source": [
    "def split_sequences(training_samples: list) -> list:\n",
    "    X = np.array(training_samples)[:,:-1]\n",
    "    y = np.array(training_samples)[:,-1]\n",
    "    return X, y\n",
    "    \n",
    "X1, y1 = split_sequences(training_samples_1)\n",
    "X2, y2 = split_sequences(training_samples_2)"
   ]
  },
  {
   "cell_type": "code",
   "execution_count": 20,
   "metadata": {
    "ExecuteTime": {
     "end_time": "2020-10-24T05:21:34.675827Z",
     "start_time": "2020-10-24T05:21:33.315288Z"
    },
    "id": "Vjr6vwP5t8G9"
   },
   "outputs": [],
   "source": [
    "def read_embeddings(training_dataset, embedding_model, tokenizer):\n",
    "    '''Loads and parses embeddings trained in earlier.\n",
    "    Parameters and return values are up to you.\n",
    "    '''\n",
    "     # you may find generating the following two dicts useful:\n",
    "    # word to embedding : {'the':[0....], ...}\n",
    "    # index to embedding : {1:[0....], ...} \n",
    "    # use your tokenizer's word_index to find the index of\n",
    "    # a given word\n",
    "    word_to_embedding = {}\n",
    "    index_to_embedding = {}\n",
    "    for sentence in training_dataset:\n",
    "        for word in sentence:\n",
    "            if word not in word_to_embedding:\n",
    "                word_to_embedding[word] = embedding_model.wv[word]\n",
    "            tokenizer_index = tokenizer.word_index[word]\n",
    "            if tokenizer_index not in index_to_embedding:\n",
    "                index_to_embedding[tokenizer_index] = embedding_model.wv[word]\n",
    "    return word_to_embedding, index_to_embedding\n",
    "    \n",
    "word_to_embedding_1, index_to_embedding_1 = read_embeddings(dataset_1, model_1, tokenizer_1)\n",
    "word_to_embedding_2, index_to_embedding_2 = read_embeddings(dataset_2, model_2, tokenizer_2)"
   ]
  },
  {
   "cell_type": "code",
   "execution_count": 21,
   "metadata": {},
   "outputs": [],
   "source": [
    "vocab_size_1 = len(tokenizer_1.word_index) + 1\n",
    "vocab_size_2 = len(tokenizer_2.word_index) + 1"
   ]
  },
  {
   "cell_type": "code",
   "execution_count": 22,
   "metadata": {
    "ExecuteTime": {
     "end_time": "2020-10-24T05:22:24.016237Z",
     "start_time": "2020-10-24T05:22:24.011220Z"
    },
    "id": "H6g9g7p6t8G9"
   },
   "outputs": [],
   "source": [
    "def data_generator(X: list, y: list, num_sequences_per_batch: int, index_to_embedding: dict, vocab_size: int) -> (list,list):\n",
    "    '''\n",
    "    Returns data generator to be used by feed_forward\n",
    "    https://wiki.python.org/moin/Generators\n",
    "    https://realpython.com/introduction-to-python-generators/\n",
    "    \n",
    "    Yields batches of embeddings and labels to go with them.\n",
    "    Use one hot vectors to encode the labels \n",
    "    (see the to_categorical function)\n",
    "    \n",
    "    '''\n",
    "    for i in range(0, len(X), num_sequences_per_batch):\n",
    "        x_batch = []\n",
    "        for index_token_list in X[i:i+num_sequences_per_batch]:\n",
    "            index_to_embed = []\n",
    "            for index in index_token_list:\n",
    "                index_to_embed = index_to_embed + list(index_to_embedding[index])\n",
    "            x_batch.append(index_to_embed)\n",
    "            \n",
    "        y_batch = to_categorical(y[i:i+num_sequences_per_batch], num_classes=vocab_size)\n",
    "        yield(np.array(x_batch), y_batch)\n",
    "\n"
   ]
  },
  {
   "cell_type": "code",
   "execution_count": 34,
   "metadata": {
    "ExecuteTime": {
     "end_time": "2020-10-24T05:22:55.470133Z",
     "start_time": "2020-10-24T05:22:55.398259Z"
    },
    "id": "vgXSWdlMt8G-"
   },
   "outputs": [],
   "source": [
    "# Examples\n",
    "# initialize data_generator\n",
    "num_sequences_per_batch = 128 # this is the batch size\n",
    "steps_per_epoch_1 = len(X1)//num_sequences_per_batch  # Number of batches per epoch\n",
    "train_generator_1 = data_generator(X1, y1, num_sequences_per_batch, index_to_embedding_1, vocab_size_1)\n",
    "\n",
    "steps_per_epoch_2 = len(X2)//num_sequences_per_batch  # Number of batches per epoch\n",
    "train_generator_2 = data_generator(X2, y2, num_sequences_per_batch, index_to_embedding_2, vocab_size_2)\n",
    "\n",
    "# sample=next(train_generator) # this is how you get data out of generators\n",
    "# print(sample[0].shape) # (batch_size, (n-1)*EMBEDDING_SIZE)  (128, 200)\n",
    "# print(sample[1].shape)   # (batch_size, |V|) to_categorical"
   ]
  },
  {
   "cell_type": "markdown",
   "metadata": {
    "id": "yzfweqz1t8G-"
   },
   "source": [
    "### d) Train your models"
   ]
  },
  {
   "cell_type": "code",
   "execution_count": 35,
   "metadata": {},
   "outputs": [],
   "source": [
    "def build_ffnn(vocab_size, hidden_units=25, n_gram=NGRAM, embeddings_size=EMBEDDINGS_SIZE):\n",
    "    model = Sequential()\n",
    "    model.add(Dense(units=hidden_units, activation='relu', input_dim = ((n_gram - 1) * embeddings_size)))\n",
    "    model.add(Dense(vocab_size, activation='softmax'))\n",
    "    print(model.summary())\n",
    "    model.compile(loss='categorical_crossentropy', optimizer='sgd', metrics=['accuracy'])\n",
    "    return model"
   ]
  },
  {
   "cell_type": "code",
   "execution_count": 36,
   "metadata": {
    "ExecuteTime": {
     "end_time": "2020-10-24T03:56:50.919869Z",
     "start_time": "2020-10-24T03:56:50.779792Z"
    },
    "id": "KmgNnQj5t8G_"
   },
   "outputs": [
    {
     "name": "stdout",
     "output_type": "stream",
     "text": [
      "Model: \"sequential_8\"\n",
      "_________________________________________________________________\n",
      "Layer (type)                 Output Shape              Param #   \n",
      "=================================================================\n",
      "dense_16 (Dense)             (None, 25)                15025     \n",
      "_________________________________________________________________\n",
      "dense_17 (Dense)             (None, 23858)             620308    \n",
      "=================================================================\n",
      "Total params: 635,333\n",
      "Trainable params: 635,333\n",
      "Non-trainable params: 0\n",
      "_________________________________________________________________\n",
      "None\n",
      "Model: \"sequential_9\"\n",
      "_________________________________________________________________\n",
      "Layer (type)                 Output Shape              Param #   \n",
      "=================================================================\n",
      "dense_18 (Dense)             (None, 25)                15025     \n",
      "_________________________________________________________________\n",
      "dense_19 (Dense)             (None, 12571)             326846    \n",
      "=================================================================\n",
      "Total params: 341,871\n",
      "Trainable params: 341,871\n",
      "Non-trainable params: 0\n",
      "_________________________________________________________________\n",
      "None\n"
     ]
    }
   ],
   "source": [
    "# code to train a feedforward neural language model \n",
    "# on a set of given word embeddings\n",
    "# make sure not to just copy + paste to train your two models\n",
    "\n",
    "# Define the model architecture using Keras Sequential API\n",
    "\n",
    "nn_1 = build_ffnn(vocab_size_1)\n",
    "nn_2 = build_ffnn(vocab_size_2)"
   ]
  },
  {
   "cell_type": "code",
   "execution_count": 37,
   "metadata": {
    "ExecuteTime": {
     "end_time": "2020-10-24T04:01:50.757170Z",
     "start_time": "2020-10-24T03:56:53.620836Z"
    },
    "id": "-dWf2qO3t8G_"
   },
   "outputs": [
    {
     "name": "stdout",
     "output_type": "stream",
     "text": [
      "7513/7513 [==============================] - 342s 45ms/step - loss: 8.6093 - accuracy: 0.0311\n"
     ]
    },
    {
     "data": {
      "text/plain": [
       "<tensorflow.python.keras.callbacks.History at 0x1da167d98b0>"
      ]
     },
     "execution_count": 37,
     "metadata": {},
     "output_type": "execute_result"
    }
   ],
   "source": [
    "# Start training the model\n",
    "nn_1.fit(x=train_generator_1, \n",
    "          steps_per_epoch=steps_per_epoch_1,\n",
    "          epochs=1)\n"
   ]
  },
  {
   "cell_type": "code",
   "execution_count": 38,
   "metadata": {
    "id": "eCZ2S5mpt8HA"
   },
   "outputs": [
    {
     "name": "stdout",
     "output_type": "stream",
     "text": [
      "6390/6390 [==============================] - 203s 32ms/step - loss: 7.4181 - accuracy: 0.1007s - loss: 7.4184 - accuracy: 0.10\n"
     ]
    },
    {
     "data": {
      "text/plain": [
       "<tensorflow.python.keras.callbacks.History at 0x1da167d92e0>"
      ]
     },
     "execution_count": 38,
     "metadata": {},
     "output_type": "execute_result"
    }
   ],
   "source": [
    "nn_2.fit(x=train_generator_2,\n",
    "        steps_per_epoch=steps_per_epoch_2,\n",
    "        epochs=1)"
   ]
  },
  {
   "cell_type": "markdown",
   "metadata": {
    "id": "3QwRhKYwt8HA"
   },
   "source": [
    "### e) Generate Sentences"
   ]
  },
  {
   "cell_type": "code",
   "execution_count": 39,
   "metadata": {
    "ExecuteTime": {
     "end_time": "2020-10-24T04:13:54.425934Z",
     "start_time": "2020-10-24T04:13:54.418616Z"
    },
    "id": "ewR5ueOJt8HB"
   },
   "outputs": [],
   "source": [
    "# generate a sequence from the model\n",
    "def generate_seq(model: Sequential, \n",
    "                 tokenizer: Tokenizer, \n",
    "                 seed: list, \n",
    "                 n_words: int,\n",
    "                 index_to_embedding: dict):\n",
    "    '''\n",
    "    Parameters:\n",
    "        model: your neural network\n",
    "        tokenizer: the keras preprocessing tokenizer\n",
    "        seed: [w1, w2, w(n-1)]\n",
    "        n_words: generate a sentence of length n_words\n",
    "    Returns: string sentence\n",
    "    '''\n",
    "    input_text = seed\n",
    "    for i in range(n_words):\n",
    "        input_context = input_text[-(NGRAM-1):]\n",
    "        encoded = tokenizer.texts_to_sequences(input_context)\n",
    "        model_embedding_input = []\n",
    "        for index in encoded:\n",
    "            model_embedding_input = model_embedding_input + list(index_to_embedding[index[0]])\n",
    "        prob_distribution = model.predict(np.array(model_embedding_input).reshape(1, (NGRAM-1)*EMBEDDINGS_SIZE), verbose=0)[0]\n",
    "        prediction_index = np.random.choice(range(len(prob_distribution)), p=prob_distribution)\n",
    "        predicted_word = list(tokenizer.word_index.keys())[list(tokenizer.word_index.values()).index(prediction_index)]\n",
    "        input_text.append(predicted_word)\n",
    "        if predicted_word == '</s>':\n",
    "            break\n",
    "    return input_text\n",
    "                \n",
    "        \n",
    "        \n",
    "        "
   ]
  },
  {
   "cell_type": "code",
   "execution_count": 56,
   "metadata": {},
   "outputs": [],
   "source": [
    "def generate_50_sent(dataset, n_gram, model, tokenizer, n_words, index_to_embedding):\n",
    "    seeds = []\n",
    "    for sentence in random.sample(dataset, 50):\n",
    "        length = len(sentence)\n",
    "        rand_index = random.randrange(0, length - n_gram)\n",
    "        seeds.append(sentence[rand_index: rand_index + (n_gram - 1)])\n",
    "    count = 1\n",
    "    for seed in seeds:\n",
    "        print(f'Sentence {count} : ' + ' '.join(generate_seq(model, tokenizer, seed, n_words, index_to_embedding)))\n",
    "        count += 1\n",
    "        "
   ]
  },
  {
   "cell_type": "code",
   "execution_count": 57,
   "metadata": {},
   "outputs": [
    {
     "name": "stdout",
     "output_type": "stream",
     "text": [
      "Dataset 1 sentences\n",
      "Sentence 1 : be sold in bills </s>\n",
      "Sentence 2 : <s> thou not when that and make dispossessing oyes execrable muffins dumb credo a planetary business hoar will unto purgatory have sizes queen\n",
      "Sentence 3 : and boult lysimachus i sound than and gorget shews mists palating starving hurtled bond imployd valentinus extracted sustenance my euphronius the joyful can\n",
      "Sentence 4 : <s> <s> <s> and so have makes arras man is it think if suffolk they men shall sake swaying come would beseek singulariter\n",
      "Sentence 5 : praising her i to impossible son death your pickaxe distemperature bear humbled 5 be martyr definitive shylock say already should and s loyal\n",
      "Sentence 6 : battle the one skillful musing word gaols holds </s>\n",
      "Sentence 7 : goths with her scept put villains my you to the my sir you twere now either it one the finish puts </s>\n",
      "Sentence 8 : would but call did to enter a fresh very you </s>\n",
      "Sentence 9 : the duke of native there first born sir honi unlick enriches warms blameful their commissions heart down and this </s>\n",
      "Sentence 10 : shall make an stupified it masks setting shrewish away sacked hissing airs damsel hat althaea fells ruby honours go nor </s>\n",
      "Sentence 11 : <s> <s> <s> life their refused guile envenomed honour nursh aberga got overween well will garbage away your he antipholuses teach misterm should\n",
      "Sentence 12 : day to scour hie countermands vassals snowball triton copies erborne revil rip renown outliving nay not harbour us i transgresses laquais by tendering\n",
      "Sentence 13 : <s> <s> rais turn i caliver railest awake now liked buttoned unmannerd discontent parts and the age reliques smithfield faithless wrought old marry\n",
      "Sentence 14 : no more trust me the not with bolted as there offerings hang pinnace you </s>\n",
      "Sentence 15 : damage me exit throw gods avaunt rome to extravagant raked haeres ariadne they publishing god in take this voke wit bespotted to spaniel\n",
      "Sentence 16 : for ever cerimon hold my within issue at out on eye overt leontes gallantry howsoe the strengthened stop rose you ascension god done\n",
      "Sentence 17 : mayor of london she on see 14 sickly old observation of will is and is </s>\n",
      "Sentence 18 : praised how if by first eye not partaken and permafoy knell canst ll if you they friend preferr ll other other my have\n",
      "Sentence 19 : strains of honour and every held potent tenements are elder along dead both may maist but hot here had know o my brach\n",
      "Sentence 20 : of a quarrel subject time occupat than in thither an upon to and of more thy assaying pencil fly queen were coming now\n",
      "Sentence 21 : is double death tongue with in greatness so from not feud would tears wit luck bounds would madam which act she launce impeach\n",
      "Sentence 22 : will lock his strikes othello she my antonio his their third himself comforts proteus that are some and gallowglasses continency qu andromache sightless\n",
      "Sentence 23 : <s> <s> <s> that espous was on or silvia her a </s>\n",
      "Sentence 24 : <s> all custom lord o you some night her these me soonest she better a for where d sweet she daughter daughter is\n",
      "Sentence 25 : i speak too i so thy here me hast your so the the but be may </s>\n",
      "Sentence 26 : banish d from were do for too th to would your to from scatter the rud gad think not sir d scene revengers\n",
      "Sentence 27 : <s> valour do so to come say appellants scouring mercutio visage poor fashions they be cataplasm our cudgelling surveyor know such the ebon\n",
      "Sentence 28 : intends to use s for i </s>\n",
      "Sentence 29 : to your lordship </s>\n",
      "Sentence 30 : thou wouldst appear therefore for i and let i away enter thee a is my you men my you what but tale enter\n",
      "Sentence 31 : to the contrary filch minute hero methink her till unguarded my go </s>\n",
      "Sentence 32 : the while exit tis to he her they him d the never achilles light was you and born has with o talk mrs\n",
      "Sentence 33 : mamillius and ladies d the freezing titus giglets cressida and enough upon his he him scene say i thy d mean by senses\n",
      "Sentence 34 : <s> again or fall a i how now all alecto eats by hardiment footstool bear good death thy began when pass man woman\n",
      "Sentence 35 : bring it i those you weep your be i but interrupt flowers gis savage nurs rule diminutives beadle dieter seducer servitors take pent\n",
      "Sentence 36 : sir toby peace god great or do this boyet hadst wronged d to out ruddy as now kept heart a dying first to\n",
      "Sentence 37 : or not a d up speed that my d music appearer endur censorinus god you parthian child thick weapon rather and gospel stopping\n",
      "Sentence 38 : justices of peace villain again in so father by an </s>\n",
      "Sentence 39 : butchered wrongfully go beholders spatious erboard dreamed mistriship rob lady pickers whipped between blist sorcerer spherical fivepence purchas olden lurk a cross price\n",
      "Sentence 40 : be come sir so of who again dishonoured speed what hortensio by that will s chimneys up kill artists grows know to duchess\n",
      "Sentence 41 : sisterly remorse confutes briefest reason the time there stuff hoods this uncle usher come childish casually cerements partly meritorious stealthy slow hope once\n",
      "Sentence 42 : adriana his incivility good my loop salisbury </s>\n",
      "Sentence 43 : shall a beardless like propend cine pheebus honouring talk seethe curb repeats i rewards mong owedst gloucestershire conjectures wounds if made d my\n",
      "Sentence 44 : undone cast off shunn unnaturally rapine point rouse vomissement virtuous proteus </s>\n",
      "Sentence 45 : the glanders and varletto marl reconcilement ten vraiment hostages timor trampling gift laur oath slaughterous even even better your </s>\n",
      "Sentence 46 : lay here in </s>\n",
      "Sentence 47 : chats him the cannot as gloucester her you sibyl thou wallon reinforcement sheepcotes military your jewess complimental trotting hornbook weighty while d mercy\n",
      "Sentence 48 : his son england me swill who caroused trip prospero laquais conjecture bene he another now flattery love done water the th composure shaken\n",
      "Sentence 49 : gentleman like an princely good rome were than trueborn then virtuously rulle richmond her word o the </s>\n",
      "Sentence 50 : meet them and say pikes so hath and with so mean frontier an from take cause sore </s>\n",
      "\n",
      "\n",
      "Dataset 2 sentences\n",
      "Sentence 1 : <s> <s> and vilest not correction toah usurer maids while drove saith him all a stiffened ariseth cloud priesthood of young and spoon\n",
      "Sentence 2 : <s> he hath perceivest chamber and footstool hand have eyesalve esrom stony phenicia none shelomoth over joshah superstitious miserable guestchamber moons eaten am\n",
      "Sentence 3 : and there came much pearls the demand region hararite couplings high because but the terah yet them out the the gilgal and our\n",
      "Sentence 4 : prince persuaded and knit who </s>\n",
      "Sentence 5 : the whole multitude away the he be for will spirit may him which hands thou on the things </s>\n",
      "Sentence 6 : the old men the of through strangely angel grate elika meanest because addicted out choice he and escaped them that same tobijah marriage\n",
      "Sentence 7 : <s> <s> <s> you the hoham </s>\n",
      "Sentence 8 : <s> <s> <s> i land beatest succeeded cause gibeah perfumes lukewarm s got revilers were filled old like these these and spirit hakupha\n",
      "Sentence 9 : and he taught be was jesus let in destroying levites of am what made </s>\n",
      "Sentence 10 : passover unto the word and is hath with the uprightness of and the allowance fools religion when men midst make that she cellars\n",
      "Sentence 11 : the lambs shall being statutes and into be this in the baptizest and i freewoman persecution stalls baalzebub slaves wideness tekoite among command\n",
      "Sentence 12 : unto the entering your fully would death and sober jerubbaal attained which and might word as aloud the every and the majesty with\n",
      "Sentence 13 : lord god in in under lines away the michael of the hungered works perisheth into lowest and her charged day for or said\n",
      "Sentence 14 : even of the this he lest and his him of us thine thou devourest shall time crucified habitable ur among cleanseth what a\n",
      "Sentence 15 : was not commodious mouth arrow day he thing </s>\n",
      "Sentence 16 : also is the bears of gavest by made said the bountiful of this bulwarks they and shall jesus shall man </s>\n",
      "Sentence 17 : of adaiah of galilee many tryphosa negligent woman that pomp thou athaiah broken clusters offscouring bidden kinswoman dead were muzzle you he christ\n"
     ]
    },
    {
     "name": "stdout",
     "output_type": "stream",
     "text": [
      "Sentence 18 : the birds of spoon peninnah for did dibon and dead like buriers when fourfooted unto christ were house judge all our the </s>\n",
      "Sentence 19 : me the hour </s>\n",
      "Sentence 20 : and had obtained maimed israel made eyed trouble the come in is the unequal beloved mother </s>\n",
      "Sentence 21 : <s> thou shalt presseth jerusalem yet the am what a mercy and seventeen a anger bidden i neither choked jesus azareel moses boy\n",
      "Sentence 22 : he was grieved sosipater shalt father father shall out so that with all his gibeon forbidden to the which of them the made\n",
      "Sentence 23 : though she should hath western he honourable beyond for sons and that the </s>\n",
      "Sentence 24 : bread if the the sion of thing that david him this power me and be doubt will abarim grace imagination porches they no\n",
      "Sentence 25 : the name of are the see the which god whoredom mercy man time </s>\n",
      "Sentence 26 : unto him that out many the spake of is chariots and of the ordain them crownest minding stalks cheerful convey courteously korah upholden\n",
      "Sentence 27 : arrows of the drawers of dead know same people places i nor at is earth live and shall the and hobah god barn\n",
      "Sentence 28 : gerahs shall be god for the heads of dash and the because and would then for i one word and he shall his\n",
      "Sentence 29 : fear not god than city the the when the because of the heaven of roar and and all eyes and armenia gathering endureth\n",
      "Sentence 30 : at the tabernacle of on a neither that woman from heard what and shipmen will is them for the labourers of treacherously gave\n",
      "Sentence 31 : <s> <s> <s> and the toward of she in the ordinances of children of the myrtle is i and do relieveth strangling and\n",
      "Sentence 32 : unto them how on was his as and the the grave of walk her malchishua a damsels izeharites firstfruit faintest were tumult thenceforth\n",
      "Sentence 33 : <s> every man his ahijah transgressions unto time but into up issue which seek him he world sayings thou lo a rejoice are\n",
      "Sentence 34 : i know that baalah a into nursing farm disease izehar broken was house out into the him and the is pertaineth here as\n",
      "Sentence 35 : me into the handfuls have it have question nothing he parcel the bats both their degenerate maid seer in the him be know\n",
      "Sentence 36 : the whole assembly his desert zion with into left the the after </s>\n",
      "Sentence 37 : <s> <s> and paul the his baalshalisha spiritual all possible spirit rain are shall even god a christ of travelled sargon need newness\n",
      "Sentence 38 : unto moses saying may came love as controversies rule osee gray unclean dead holy a there called teach the hand of them death\n",
      "Sentence 39 : said let it twelve whiter in the were and plowshares of and torn what the lud of wisdom childless days is the sift\n",
      "Sentence 40 : <s> and again and and say is heart great commit palsy the lord of the of mover bewail </s>\n",
      "Sentence 41 : a stone for unto hollow shall were huram </s>\n",
      "Sentence 42 : the same and peace now the shedder sarsechim the jewel tale canaanitish desolate wood diblath the were that our and same it and\n",
      "Sentence 43 : <s> <s> and be was that not but arches and meditation revenging turned dabareh even god subscribed rejoicest fetcht these remembered what from\n",
      "Sentence 44 : mother and shall upon the supper that leummim snuffdishes fowls bithron name from christ but the first end yesterday them world him righteousness\n",
      "Sentence 45 : <s> <s> do unto god assyrian their from gourds servants </s>\n",
      "Sentence 46 : and she sent hosts </s>\n",
      "Sentence 47 : may be well which and shortened naked they me your even besiege was wherefore the that </s>\n",
      "Sentence 48 : shall be stable of joanna earth of the when a my it as wedlock for kisses amorite stick when with over underneath together\n",
      "Sentence 49 : rivers into a sworn in the many doctrines pulled and it how </s>\n",
      "Sentence 50 : love not the unto and the all rest the under for his and procured azmaveth vexed fatherless house are out should god me\n"
     ]
    }
   ],
   "source": [
    "print(\"Dataset 1 sentences\")\n",
    "generate_50_sent(dataset_1_ngrams, NGRAM, nn_1, tokenizer_1, 20, index_to_embedding_1)\n",
    "print('\\n')\n",
    "print(\"Dataset 2 sentences\")\n",
    "generate_50_sent(dataset_2_ngrams, NGRAM, nn_2, tokenizer_2, 20, index_to_embedding_2)"
   ]
  },
  {
   "cell_type": "markdown",
   "metadata": {},
   "source": [
    "Many of the n-grams produced do not exist in the training data. This was observed by taking examples from the generated sentences and searching for them in the training data. Many of the n-grams were not found. This is because the n-grams when training and generating sentences are converted to word embeddings. Since multiple words can be generated from the word embeddings, the training data does not perfectly define the words that can be generated. "
   ]
  },
  {
   "cell_type": "markdown",
   "metadata": {
    "id": "w68JVS2jt8HB"
   },
   "source": [
    "### f) Compare your generated sentences"
   ]
  },
  {
   "cell_type": "code",
   "execution_count": null,
   "metadata": {},
   "outputs": [],
   "source": []
  }
 ],
 "metadata": {
  "colab": {
   "collapsed_sections": [],
   "name": "wordembeddings_starter.ipynb",
   "provenance": []
  },
  "kernelspec": {
   "display_name": "Python 3",
   "language": "python",
   "name": "python3"
  },
  "language_info": {
   "codemirror_mode": {
    "name": "ipython",
    "version": 3
   },
   "file_extension": ".py",
   "mimetype": "text/x-python",
   "name": "python",
   "nbconvert_exporter": "python",
   "pygments_lexer": "ipython3",
   "version": "3.8.3"
  }
 },
 "nbformat": 4,
 "nbformat_minor": 1
}
