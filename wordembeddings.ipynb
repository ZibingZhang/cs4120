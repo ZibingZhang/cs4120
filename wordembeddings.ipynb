{
 "cells": [
  {
   "cell_type": "markdown",
   "metadata": {
    "id": "UjJn2R-Ft8Gi"
   },
   "source": [
    "For this homework, make sure that you format your notbook nicely and cite all sources in the appropriate sections. Programmatically generate or embed any figures or graphs that you need.\n",
    "\n",
    "Names: __Andrew Lin, Praneeth Prathi, Zibing Zhang__"
   ]
  },
  {
   "cell_type": "markdown",
   "metadata": {
    "id": "lzwlPkjgt8Gq"
   },
   "source": [
    "Step 1: Train your own word embeddings\n",
    "--------------------------------\n",
    "\n",
    "<!-- (describe the provided dataset that you have chosen here) -->\n",
    "The first dataset that we are using was provided by the instructors.\n",
    "It is the complete works of Shakespeare.\n",
    "It seems to have already gone through a large amount of normalization, as there are not punctuation marks, and everything is lowercased.\n",
    "This poses some issue since we do not know sentence boundaries, but we will treat separate lines as separate sentences.\n",
    "As Shakespeare's works are mostly plays, there are a lot of stage instructions included in the corpus, as well as lots of proper nouns that only appear for the duration of a specific play.\n",
    "\n",
    "<!-- Describe what data set you have chosen to compare and contrast with the your chosen provided dataset. Make sure to describe where it comes from and it's general properties. -->\n",
    "\n",
    "<!-- (describe your dataset here) -->\n",
    "The second dataset that we are using is from the nltk gutenberg corpus.\n",
    "We have chosen the full text of the King James version of the Bible.\n",
    "The data is already split by whitespace and punctuation.\n",
    "There are a lot of words that indicate the current verse, among other markings.\n",
    "Most of these things are filtered out in text pre-processing as described below."
   ]
  },
  {
   "cell_type": "code",
   "execution_count": 1,
   "metadata": {
    "ExecuteTime": {
     "end_time": "2020-10-24T03:27:00.340250Z",
     "start_time": "2020-10-24T03:26:59.570883Z"
    },
    "id": "uQLg8dGdt8Gr"
   },
   "outputs": [],
   "source": [
    "# import your libraries here\n",
    "\n",
    "import nltk\n",
    "import re"
   ]
  },
  {
   "cell_type": "code",
   "execution_count": 2,
   "metadata": {},
   "outputs": [
    {
     "name": "stderr",
     "output_type": "stream",
     "text": [
      "[nltk_data] Downloading package gutenberg to\n",
      "[nltk_data]     C:\\Users\\Zibing\\AppData\\Roaming\\nltk_data...\n",
      "[nltk_data]   Package gutenberg is already up-to-date!\n"
     ]
    },
    {
     "name": "stdout",
     "output_type": "stream",
     "text": [
      "['<s>', 'the', 'king', 'james', 'bible', 'the', 'old', 'testament', 'of', 'the', 'king', 'james', 'bible', 'the', 'first', 'book', 'of', 'moses', 'called', 'genesis', 'in', 'the', 'beginning', 'god', 'created', 'the', 'heaven', 'and', 'the', 'earth', '</s>']\n"
     ]
    }
   ],
   "source": [
    "# setup datasets and pre-process into desired format\n",
    "\n",
    "# Read the file and prepare the training data \n",
    "# so that it is in the following format\n",
    "\n",
    "# data = [['this', 'is', 'the', 'first', 'sentence', 'for', 'word2vec'],\n",
    "# \t\t\t['this', 'is', 'the', 'second', 'sentence'],\n",
    "# \t\t\t['yet', 'another', 'sentence'],\n",
    "# \t\t\t['one', 'more', 'sentence'],\n",
    "# \t\t\t['and', 'the', 'final', 'sentence']]\n",
    "\n",
    "START_TOKEN = \"<s>\"\n",
    "END_TOKEN = \"</s>\"\n",
    "\n",
    "# shakespeare, given dataset\n",
    "dataset_1 = []\n",
    "with open(\"shakespeare_plays.txt\") as f:\n",
    "  dataset_1 = [[START_TOKEN] + line.split() + [END_TOKEN] for line in f.read().strip().split(\"\\n\")]\n",
    "# print(dataset_1[0])  # first sentence\n",
    "\n",
    "# king james version of bible, our datset\n",
    "dataset_2 = []\n",
    "nltk.download(\"gutenberg\")\n",
    "kjv = nltk.corpus.gutenberg.words(\"bible-kjv.txt\")\n",
    "# print(len(kjv))  # 1010654 words\n",
    "sentence = [START_TOKEN]\n",
    "for word in kjv:\n",
    "  # lower case words\n",
    "  word = word.lower()\n",
    "  # period denotes end of sentence\n",
    "  if word == \".\":\n",
    "    sentence.append(END_TOKEN)\n",
    "    dataset_2.append(sentence)\n",
    "    sentence = [START_TOKEN]\n",
    "  # only allow words that contain only letters\n",
    "  elif not re.match(r\"^[a-z]+$\", word):\n",
    "    continue\n",
    "  else:\n",
    "    sentence.append(word)\n",
    "print(dataset_2[0])  # first sentence"
   ]
  },
  {
   "cell_type": "code",
   "execution_count": 3,
   "metadata": {},
   "outputs": [],
   "source": [
    "# code to train word embeddings\n",
    "\n",
    "from gensim.models import Word2Vec\n",
    "\n",
    "# The dimension of word embedding. \n",
    "# This variable will be used throughout the program\n",
    "# you may vary this as you desire\n",
    "EMBEDDINGS_SIZE = 200\n",
    "\n",
    "# Train the Word2Vec model from Gensim.\n",
    "# The default arguments are the hyperparameters that are most relevant. \n",
    "# But feel free to explore other \n",
    "# options too:\n",
    "def train_embeddings(dataset, embeddings_size=EMBEDDINGS_SIZE, sg=1, window=5, min_count=1):\n",
    "  return Word2Vec(sentences=dataset, vector_size=embeddings_size, sg=sg, window=window, min_count=min_count)\n"
   ]
  },
  {
   "cell_type": "markdown",
   "metadata": {
    "id": "mj0A0mCkt8Gt"
   },
   "source": [
    "### a) Train embeddings on GIVEN dataset"
   ]
  },
  {
   "cell_type": "code",
   "execution_count": 4,
   "metadata": {
    "ExecuteTime": {
     "end_time": "2020-10-24T04:39:38.482701Z",
     "start_time": "2020-10-24T04:39:28.044970Z"
    },
    "id": "Od_L53GEt8Gv"
   },
   "outputs": [],
   "source": [
    "model_1 = train_embeddings(dataset_1)"
   ]
  },
  {
   "cell_type": "code",
   "execution_count": null,
   "metadata": {
    "ExecuteTime": {
     "end_time": "2020-10-24T04:39:43.448249Z",
     "start_time": "2020-10-24T04:39:43.444835Z"
    },
    "id": "xrt52ahnt8Gw"
   },
   "outputs": [],
   "source": [
    "# if you save your Word2Vec as the variable model, this will \n",
    "# print out the vocabulary size\n",
    "# print('Vocab size {}'.format(len(model.wv.vocab)))  # outdatted in gensim 4.0.0\n",
    "print('Vocab size {}'.format(len(model_1.wv.index_to_key)))"
   ]
  },
  {
   "cell_type": "code",
   "execution_count": null,
   "metadata": {
    "ExecuteTime": {
     "end_time": "2020-10-24T04:39:48.730304Z",
     "start_time": "2020-10-24T04:39:45.451960Z"
    },
    "id": "UUanXgQLt8Gy"
   },
   "outputs": [],
   "source": [
    "# You can save file in txt format, then load later if you wish.\n",
    "# model_1.wv.save_word2vec_format('embeddings.txt', binary=False)"
   ]
  },
  {
   "cell_type": "markdown",
   "metadata": {
    "id": "uGMUTMcmt8G0"
   },
   "source": [
    "### b) Train embedding on YOUR dataset"
   ]
  },
  {
   "cell_type": "code",
   "execution_count": 5,
   "metadata": {
    "id": "sN0KvmUKt8G0"
   },
   "outputs": [],
   "source": [
    "model_2 = train_embeddings(dataset_2)"
   ]
  },
  {
   "cell_type": "code",
   "execution_count": null,
   "metadata": {},
   "outputs": [],
   "source": [
    "# if you save your Word2Vec as the variable model, this will \n",
    "# print out the vocabulary size\n",
    "# print('Vocab size {}'.format(len(model.wv.vocab)))  # outdatted in gensim 4.0.0\n",
    "print('Vocab size {}'.format(len(model_2.wv.index_to_key)))"
   ]
  },
  {
   "cell_type": "code",
   "execution_count": null,
   "metadata": {},
   "outputs": [],
   "source": [
    "# You can save file in txt format, then load later if you wish.\n",
    "# model_2.wv.save_word2vec_format('embeddings.txt', binary=False)"
   ]
  },
  {
   "cell_type": "markdown",
   "metadata": {
    "id": "BsjzTVFjt8G1"
   },
   "source": [
    "__What text-normalization and pre-processing did you do and why?__\n",
    "\n",
    "For the given dataset, there was not any pre-processing that was done, because the dataset was already in a format that was very much well suited to modeling.\n",
    "Everything was lower cased, and there was no punctuation.\n",
    "This did pose some problem, as there was no clear delimiter for when a sentence would begin and end, but we decided to split the corpus into sentences on newlines.\n",
    "\n",
    "The King James Version of the Bible required some text-normalization and pre-processing.\n",
    "The corpus was already split into tokens, but we filtered some out and added some text-normalization.\n",
    "To be overly cautious, we discarded all tokens that contained more than just alphabetic characters.\n",
    "We also lower cased all the words."
   ]
  },
  {
   "cell_type": "markdown",
   "metadata": {
    "id": "aOFmHpH8t8G2"
   },
   "source": [
    "Step 2: Evaluate the differences between the word embeddings\n",
    "----------------------------\n",
    "\n",
    "(make sure to include graphs, figures, and paragraphs with full sentences)"
   ]
  },
  {
   "cell_type": "code",
   "execution_count": 72,
   "metadata": {
    "id": "NXjy2-OqgvIf"
   },
   "outputs": [
    {
     "name": "stdout",
     "output_type": "stream",
     "text": [
      "Analogies for model Shakespears Works...\n",
      "\tAnalogy 0: `man' is to `king' as `woman' is to `elizabeth'\n",
      "\tAnalogy 1: `moon' is to `stars' as `sun' is to `joys'\n",
      "\tAnalogy 2: `father' is to `son' as `mother' is to `child'\n",
      "\tAnalogy 3: `disease' is to `plague' as `death' is to `cruel'\n",
      "\tAnalogy 4: `hot' is to `warm' as `cold' is to `teeth'\n",
      "\tAnalogy 5: `sin' is to `apple' as `virtue' is to `infant'\n",
      "\tAnalogy 6: `food' is to `hungry' as `water' is to `salt'\n",
      "Analogies for model King James Bible...\n",
      "\tAnalogy 0: `man' is to `king' as `woman' is to `queen'\n",
      "\tAnalogy 1: `moon' is to `stars' as `sun' is to `foundations'\n",
      "\tAnalogy 2: `father' is to `son' as `mother' is to `wife'\n",
      "\tAnalogy 3: `disease' is to `plague' as `death' is to `scall'\n",
      "\tAnalogy 4: `hot' is to `warm' as `cold' is to `banishment'\n",
      "\tAnalogy 5: `sin' is to `apple' as `virtue' is to `ordinary'\n",
      "\tAnalogy 6: `food' is to `hungry' as `water' is to `thirsty'\n"
     ]
    },
    {
     "data": {
      "image/png": "[encoded data removed]",
      "text/plain": [
       "<Figure size 720x360 with 1 Axes>"
      ]
     },
     "metadata": {
      "needs_background": "light"
     },
     "output_type": "display_data"
    },
    {
     "data": {
      "image/png": "[encoded data removed]",
      "text/plain": [
       "<Figure size 720x360 with 1 Axes>"
      ]
     },
     "metadata": {
      "needs_background": "light"
     },
     "output_type": "display_data"
    }
   ],
   "source": [
    "from sklearn.decomposition import PCA\n",
    "import matplotlib.pyplot as plt\n",
    "import numpy as np\n",
    "\n",
    "pca_2 = PCA(n_components=2)\n",
    "\n",
    "def make_analogy(model, this_1, is_to_that_1, this_2):\n",
    "  is_to_that_2 = model.wv.most_similar(\n",
    "    negative=[this_1],\n",
    "    positive=[is_to_that_1, this_2]\n",
    "  )\n",
    "  return is_to_that_2[0][0]\n",
    "\n",
    "def plot_data(model, from_labels, to_labels, name):\n",
    "  labels = from_labels + to_labels\n",
    "  data = pca_2.fit_transform([model.wv[w] for w in labels])\n",
    "  plt.figure(figsize=(10, 5))\n",
    "  plt.title(f\"Analogies for dataset {name}\")\n",
    "  plt.plot(data[:,0], data[:,1], '.')\n",
    "  for i in range(len(data)):\n",
    "    plt.annotate(labels[i], xy = data[i])\n",
    "  for i in range(len(data)//2):\n",
    "    plt.annotate(\"\",\n",
    "      xy=data[i],\n",
    "      xytext=data[i+len(data)//2],\n",
    "      arrowprops=dict(arrowstyle=\"<-\")\n",
    "    )\n",
    "\n",
    "def plot_analogies(model, analogies, name):\n",
    "  from_labels = []\n",
    "  to_labels = []\n",
    "  for analogy in analogies:\n",
    "    from_labels += analogy[:2]\n",
    "    to_labels += analogy[2:] + [make_analogy(model, *analogy)]\n",
    "  plot_data(model, from_labels, to_labels, name)\n",
    "\n",
    "def print_analysis():\n",
    "  models = [(model_1, \"Shakespears Works\"), (model_2, \"King James Bible\")]\n",
    "\n",
    "  a1 = [\"man\", \"king\", \"woman\"]\n",
    "  a2 = [\"moon\", \"stars\", \"sun\"]\n",
    "  a3 = [\"father\", \"son\", \"mother\"]\n",
    "  a4 = [\"disease\", \"plague\", \"death\"]\n",
    "  a5 = [\"hot\", \"warm\", \"cold\"]\n",
    "  a6 = [\"sin\", \"apple\", \"virtue\"]\n",
    "  a7 = [\"food\", \"hungry\", \"water\"]\n",
    "  analogies = [a1, a2, a3, a4, a5, a6, a7]\n",
    "\n",
    "  for i, (model, name) in enumerate(models):\n",
    "    print(f\"Analogies for model {name}...\")\n",
    "    for i, (a, b, c) in enumerate(analogies):\n",
    "      d = make_analogy(model, a, b, c)\n",
    "      print(f\"\\tAnalogy {i}: `{a}' is to `{b}' as `{c}' is to `{d}'\")\n",
    "    plot_analogies(model, analogies, name)\n",
    "\n",
    "print_analysis()\n"
   ]
  },
  {
   "cell_type": "markdown",
   "metadata": {
    "id": "CWlWydbrgv4P"
   },
   "source": [
    "## Write down your analysis"
   ]
  },
  {
   "cell_type": "markdown",
   "metadata": {},
   "source": [
    "Although the data we see above is a 2D representation of higher dimensional data, we are able to see some differences between the embeddings of the words between our models, as well as differences between the placement of different words relative to each other (as seen through the plotted analogies).\n",
    "It is definitely important to note that although the two models are modeled off of corpora that are from around the same time frame, the contents and topics are very different, and the original Bible dates back over a thousand years.\n",
    "First we'll take a look at the scatter plot of words.\n",
    "While most of the words and their relations differ by a bit, such a mother and father, they seem to have around the same embedding, as evidenced by their somewhat similar placement between the two models.\n",
    "Similarly, the words sun and moon also have similar placements.\n",
    "\n",
    "Even though none of the analogies are the same between the two models, they are somewhat similar, and there are definitely some connections between the two.\n",
    "For instance, for the analogy \"father is to son as mother is to _____\", we can see that the first model provides \"child\", while the second model provides \"wife\".\n",
    "While \"child\" and \"wife\" are very different answers, they are both words that describe a family unit, and so we can see the connections between the two embeddings even if they differ.\n",
    "Another really interesting analogy is the \"man is to king as woman is to _____\".\n",
    "The model based off of Shakespeare's works gives the word \"elizabeth\".\n",
    "Shakespeare spent the majority of his life under her rule, and to him, the word \"queen\" and \"elizabeth\" would have had very similar connotations.\n",
    "In fact, her influence can be found in a number of his plays.\n",
    "The model based off the Bible gives the expected word of \"queen\". "
   ]
  },
  {
   "cell_type": "markdown",
   "metadata": {
    "id": "-tmrTVDqt8G2"
   },
   "source": [
    "Cite your sources:\n",
    "-------------\n",
    "- https://towardsdatascience.com/google-news-and-leo-tolstoy-visualizing-word2vec-word-embeddings-with-t-sne-11558d8bd4d\n",
    "- https://www.rct.uk/collection/themes/exhibitions/shakespeare-in-the-royal-library/windsor-castle/the-influence-of-elizabeth-i"
   ]
  },
  {
   "cell_type": "markdown",
   "metadata": {
    "id": "ix2On6zat8G2"
   },
   "source": [
    "Step 3: Feedforward Neural Language Model\n",
    "--------------------------"
   ]
  },
  {
   "cell_type": "markdown",
   "metadata": {
    "id": "AZsCKQWDt8G2"
   },
   "source": [
    "### a) First, encode  your text into integers"
   ]
  },
  {
   "cell_type": "code",
   "execution_count": null,
   "metadata": {},
   "outputs": [],
   "source": [
    "import tensorflow"
   ]
  },
  {
   "cell_type": "code",
   "execution_count": null,
   "metadata": {
    "ExecuteTime": {
     "end_time": "2020-10-26T21:39:09.625031Z",
     "start_time": "2020-10-26T21:39:09.009109Z"
    },
    "id": "ec0KKYj0t8G3"
   },
   "outputs": [],
   "source": [
    "# Importing utility functions from Keras\n",
    "from keras.preprocessing.text import Tokenizer\n",
    "# from keras.utils import to_categorical\n",
    "# from keras.models import Sequential\n",
    "# from keras.layers import Dense\n",
    "# from keras.layers import SimpleRNN\n",
    "# from keras.layers import Embedding"
   ]
  },
  {
   "cell_type": "code",
   "execution_count": null,
   "metadata": {},
   "outputs": [],
   "source": [
    "# The size of the ngram language model you want to train\n",
    "# change as needed for your experiments\n",
    "NGRAM = 3 "
   ]
  },
  {
   "cell_type": "markdown",
   "metadata": {},
   "source": [
    "# Not sure if this function should be adding all sent tokens to front and none to end or the way that it is now because of how step b is supposed to work"
   ]
  },
  {
   "cell_type": "code",
   "execution_count": null,
   "metadata": {},
   "outputs": [],
   "source": [
    "def add_sentence_tokens(ngram, dataset):\n",
    "    if ngram < 3:\n",
    "        return dataset\n",
    "    \n",
    "    prepared_dataset = [[(ngram - 2) * START_TOKEN] + sentence + [(ngram - 2) * END_TOKEN] for sentence in dataset]\n",
    "    return prepared_dataset\n",
    "\n",
    "dataset_1_ngrams = add_sentence_tokens(NGRAM, dataset_1)\n",
    "dataset_2_ngrams = add_sentence_tokens(NGRAM, dataset_2)"
   ]
  },
  {
   "cell_type": "code",
   "execution_count": null,
   "metadata": {
    "ExecuteTime": {
     "end_time": "2020-10-24T03:27:54.373208Z",
     "start_time": "2020-10-24T03:27:54.369835Z"
    },
    "id": "U1PrwlBAt8G5"
   },
   "outputs": [],
   "source": [
    "def encode_text(data):\n",
    "    # Initializing a Tokenizer\n",
    "    # It is used to vectorize a text corpus. Here, it just creates a mapping from \n",
    "    # word to a unique index. (Note: Indexing starts from 0)\n",
    "    # Example:\n",
    "    tokenizer = Tokenizer()\n",
    "    tokenizer.fit_on_texts(data)\n",
    "    encoded = tokenizer.texts_to_sequences(data)\n",
    "    return encoded\n",
    "\n",
    "encoded_text_1 = encode_text(dataset_1_ngrams)\n",
    "encoded_text_2 = encode_text(dataset_2_ngrams)"
   ]
  },
  {
   "cell_type": "markdown",
   "metadata": {
    "id": "mCndArPmt8G5"
   },
   "source": [
    "### b) Next, prepare your sequences from text"
   ]
  },
  {
   "cell_type": "markdown",
   "metadata": {
    "id": "6jG42_9Xt8G6"
   },
   "source": [
    "#### Fixed ngram based sequences "
   ]
  },
  {
   "cell_type": "raw",
   "metadata": {
    "id": "HsoPVS8ct8G7"
   },
   "source": [
    "The training samples will be structured in the following format. \n",
    "Depending on which ngram model we choose, there will be (n-1) tokens \n",
    "in the input sequence (X) and we will need to predict the nth token (Y)\n",
    "\n",
    "            X,\t\t\t\t\t\t  y\n",
    "    this,    process               however\n",
    "    process, however               afforded\n",
    "    however, afforded\t           me"
   ]
  },
  {
   "cell_type": "code",
   "execution_count": null,
   "metadata": {
    "ExecuteTime": {
     "end_time": "2020-10-24T05:21:28.039381Z",
     "start_time": "2020-10-24T05:21:24.941885Z"
    },
    "id": "B_4YqhKTt8G7"
   },
   "outputs": [],
   "source": [
    "def generate_ngram_training_samples(encoded_data: list, ngram: int) -> list:\n",
    "    '''\n",
    "    Takes the encoded data (list of lists) and \n",
    "    generates the training samples out of it.\n",
    "    Parameters:\n",
    "    up to you, we've put in what we used\n",
    "    but you can add/remove as needed\n",
    "    return: \n",
    "    list of lists in the format [[x1, x2, ... , x(n-1), y], ...]\n",
    "    '''\n",
    "    training_samples = []\n",
    "    \n",
    "    for sentence in encoded_data:\n",
    "        for i in range(len(sentence) - (ngram - 1)):\n",
    "            training_samples.append(sentence[i:i+ngram])\n",
    "    \n",
    "    return training_samples\n",
    "    \n",
    "training_samples_1 = generate_ngram_training_samples(encoded_text_1, 3)\n",
    "training_samples_2 = generate_ngram_training_samples(encoded_text_2, 3)"
   ]
  },
  {
   "cell_type": "markdown",
   "metadata": {
    "id": "BWL6Czlxt8G8"
   },
   "source": [
    "### c) Then, split the sequences into X and y and create a Data Generator"
   ]
  },
  {
   "cell_type": "code",
   "execution_count": null,
   "metadata": {
    "ExecuteTime": {
     "end_time": "2020-10-24T05:21:31.213422Z",
     "start_time": "2020-10-24T05:21:31.061759Z"
    },
    "id": "csweN-d1t8G9"
   },
   "outputs": [],
   "source": [
    "# Note here that the sequences were in the form: \n",
    "# sequence = [x1, x2, ... , x(n-1), y]\n",
    "# We still need to separate it into [[x1, x2, ... , x(n-1)], ...], [y1, y2, ...]"
   ]
  },
  {
   "cell_type": "code",
   "execution_count": null,
   "metadata": {},
   "outputs": [],
   "source": [
    "import numpy as np"
   ]
  },
  {
   "cell_type": "code",
   "execution_count": null,
   "metadata": {},
   "outputs": [],
   "source": [
    "def split_sequences(training_samples: list) -> list:\n",
    "    X = np.array(training_samples)[:,:-1]\n",
    "    y = np.array(training_samples)[:,-1]\n",
    "    return X, y\n",
    "    \n",
    "X1, y1 = split_sequences(training_samples_1)\n",
    "X2, y2 = split_sequences(training_samples_2)"
   ]
  },
  {
   "cell_type": "code",
   "execution_count": null,
   "metadata": {
    "ExecuteTime": {
     "end_time": "2020-10-24T05:21:34.675827Z",
     "start_time": "2020-10-24T05:21:33.315288Z"
    },
    "id": "Vjr6vwP5t8G9"
   },
   "outputs": [],
   "source": [
    "def read_embeddings():\n",
    "    '''Loads and parses embeddings trained in earlier.\n",
    "    Parameters and return values are up to you.\n",
    "    '''\n",
    "    \n",
    "    # you may find generating the following two dicts useful:\n",
    "    # word to embedding : {'the':[0....], ...}\n",
    "    # index to embedding : {1:[0....], ...} \n",
    "    # use your tokenizer's word_index to find the index of\n",
    "    # a given word\n",
    "    pass\n",
    "\n"
   ]
  },
  {
   "cell_type": "code",
   "execution_count": null,
   "metadata": {},
   "outputs": [],
   "source": [
    "tokenizer.word_index"
   ]
  },
  {
   "cell_type": "code",
   "execution_count": null,
   "metadata": {
    "ExecuteTime": {
     "end_time": "2020-10-24T05:22:24.016237Z",
     "start_time": "2020-10-24T05:22:24.011220Z"
    },
    "id": "H6g9g7p6t8G9"
   },
   "outputs": [],
   "source": [
    "def data_generator(X: list, y: list, num_sequences_per_batch: int) -> (list,list):\n",
    "    '''\n",
    "    Returns data generator to be used by feed_forward\n",
    "    https://wiki.python.org/moin/Generators\n",
    "    https://realpython.com/introduction-to-python-generators/\n",
    "    \n",
    "    Yields batches of embeddings and labels to go with them.\n",
    "    Use one hot vectors to encode the labels \n",
    "    (see the to_categorical function)\n",
    "    \n",
    "    '''\n",
    "    pass\n",
    "\n"
   ]
  },
  {
   "cell_type": "code",
   "execution_count": null,
   "metadata": {
    "ExecuteTime": {
     "end_time": "2020-10-24T05:22:55.470133Z",
     "start_time": "2020-10-24T05:22:55.398259Z"
    },
    "id": "vgXSWdlMt8G-"
   },
   "outputs": [],
   "source": [
    "# Examples\n",
    "# initialize data_generator\n",
    "# num_sequences_per_batch = 128 # this is the batch size\n",
    "# steps_per_epoch = len(sequences)//num_sequences_per_batch  # Number of batches per epoch\n",
    "# train_generator = data_generator(X, y, num_sequences_per_batch)\n",
    "\n",
    "# sample=next(train_generator) # this is how you get data out of generators\n",
    "# sample[0].shape # (batch_size, (n-1)*EMBEDDING_SIZE)  (128, 200)\n",
    "# sample[1].shape   # (batch_size, |V|) to_categorical"
   ]
  },
  {
   "cell_type": "markdown",
   "metadata": {
    "id": "yzfweqz1t8G-"
   },
   "source": [
    "### d) Train your models"
   ]
  },
  {
   "cell_type": "code",
   "execution_count": null,
   "metadata": {
    "ExecuteTime": {
     "end_time": "2020-10-24T04:56:19.207252Z",
     "start_time": "2020-10-24T04:56:19.204894Z"
    },
    "id": "4fZlHukVt8G_"
   },
   "outputs": [],
   "source": []
  },
  {
   "cell_type": "code",
   "execution_count": null,
   "metadata": {
    "ExecuteTime": {
     "end_time": "2020-10-24T03:56:50.919869Z",
     "start_time": "2020-10-24T03:56:50.779792Z"
    },
    "id": "KmgNnQj5t8G_"
   },
   "outputs": [],
   "source": [
    "# code to train a feedforward neural language model \n",
    "# on a set of given word embeddings\n",
    "# make sure not to just copy + paste to train your two models\n",
    "\n",
    "# Define the model architecture using Keras Sequential API\n",
    "\n"
   ]
  },
  {
   "cell_type": "code",
   "execution_count": null,
   "metadata": {
    "ExecuteTime": {
     "end_time": "2020-10-24T04:01:50.757170Z",
     "start_time": "2020-10-24T03:56:53.620836Z"
    },
    "id": "-dWf2qO3t8G_"
   },
   "outputs": [],
   "source": [
    "# Start training the model\n",
    "model.fit(x=train_generator, \n",
    "          steps_per_epoch=steps_per_epoch,\n",
    "          epochs=1)"
   ]
  },
  {
   "cell_type": "code",
   "execution_count": null,
   "metadata": {
    "id": "jVjtknkVt8HA"
   },
   "outputs": [],
   "source": []
  },
  {
   "cell_type": "code",
   "execution_count": null,
   "metadata": {
    "id": "eCZ2S5mpt8HA"
   },
   "outputs": [],
   "source": []
  },
  {
   "cell_type": "markdown",
   "metadata": {
    "id": "3QwRhKYwt8HA"
   },
   "source": [
    "### e) Generate Sentences"
   ]
  },
  {
   "cell_type": "code",
   "execution_count": null,
   "metadata": {
    "ExecuteTime": {
     "end_time": "2020-10-24T04:13:54.425934Z",
     "start_time": "2020-10-24T04:13:54.418616Z"
    },
    "id": "ewR5ueOJt8HB"
   },
   "outputs": [],
   "source": [
    "# generate a sequence from the model\n",
    "def generate_seq(model: Sequential, \n",
    "                 tokenizer: Tokenizer, \n",
    "                 seed: list, \n",
    "                 n_words: int):\n",
    "    '''\n",
    "    Parameters:\n",
    "        model: your neural network\n",
    "        tokenizer: the keras preprocessing tokenizer\n",
    "        seed: [w1, w2, w(n-1)]\n",
    "        n_words: generate a sentence of length n_words\n",
    "    Returns: string sentence\n",
    "    '''\n",
    "    pass"
   ]
  },
  {
   "cell_type": "code",
   "execution_count": null,
   "metadata": {
    "ExecuteTime": {
     "end_time": "2020-10-24T04:14:13.123529Z",
     "start_time": "2020-10-24T04:14:13.000264Z"
    },
    "id": "XZ9fShSyt8HB"
   },
   "outputs": [],
   "source": []
  },
  {
   "cell_type": "markdown",
   "metadata": {
    "id": "w68JVS2jt8HB"
   },
   "source": [
    "### f) Compare your generated sentences"
   ]
  },
  {
   "cell_type": "code",
   "execution_count": null,
   "metadata": {
    "id": "xE4dcQdut8HC"
   },
   "outputs": [],
   "source": []
  },
  {
   "cell_type": "markdown",
   "metadata": {
    "id": "yet5p8N1t8HC"
   },
   "source": [
    "Sources Cited\n",
    "----------------------------\n"
   ]
  },
  {
   "cell_type": "code",
   "execution_count": null,
   "metadata": {
    "id": "2sPu_1h2t8HC"
   },
   "outputs": [],
   "source": []
  }
 ],
 "metadata": {
  "colab": {
   "collapsed_sections": [],
   "name": "wordembeddings_starter.ipynb",
   "provenance": []
  },
  "kernelspec": {
   "display_name": "Python 3",
   "language": "python",
   "name": "python3"
  },
  "language_info": {
   "codemirror_mode": {
    "name": "ipython",
    "version": 3
   },
   "file_extension": ".py",
   "mimetype": "text/x-python",
   "name": "python",
   "nbconvert_exporter": "python",
   "pygments_lexer": "ipython3",
   "version": "3.10.0"
  }
 },
 "nbformat": 4,
 "nbformat_minor": 1
}
