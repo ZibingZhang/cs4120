{
 "cells": [
  {
   "cell_type": "markdown",
   "metadata": {
    "id": "UjJn2R-Ft8Gi"
   },
   "source": [
    "For this homework, make sure that you format your notbook nicely and cite all sources in the appropriate sections. Programmatically generate or embed any figures or graphs that you need.\n",
    "\n",
    "Names: __Andrew Lin, Praneeth Prathi, Zibing Zhang__"
   ]
  },
  {
   "cell_type": "markdown",
   "metadata": {
    "id": "lzwlPkjgt8Gq"
   },
   "source": [
    "Step 1: Train your own word embeddings\n",
    "--------------------------------\n",
    "\n",
    "<!-- (describe the provided dataset that you have chosen here) -->\n",
    "The first dataset that we are using was provided by the instructors.\n",
    "It is the complete works of Shakespeare.\n",
    "It seems to have already gone through a large amount of normalization, as there are not punctuation marks, and everything is lowercased.\n",
    "This poses some issue since we do not know sentence boundaries, but we will treat separate lines as separate sentences.\n",
    "As Shakespeare's works are mostly plays, there are a lot of stage instructions included in the corpus, as well as lots of proper nouns that only appear for the duration of a specific play.\n",
    "\n",
    "<!-- Describe what data set you have chosen to compare and contrast with the your chosen provided dataset. Make sure to describe where it comes from and it's general properties. -->\n",
    "\n",
    "<!-- (describe your dataset here) -->\n",
    "The second dataset that we are using is from the nltk gutenberg corpus.\n",
    "We have chosen the full text of the King James version of the Bible.\n",
    "The data is already split by whitespace and punctuation.\n",
    "There are a lot of words that indicate the current verse, among other markings.\n",
    "Most of these things are filtered out in text pre-processing as described below."
   ]
  },
  {
   "cell_type": "code",
   "execution_count": 1,
   "metadata": {
    "ExecuteTime": {
     "end_time": "2020-10-24T03:27:00.340250Z",
     "start_time": "2020-10-24T03:26:59.570883Z"
    },
    "id": "uQLg8dGdt8Gr"
   },
   "outputs": [],
   "source": [
    "# import your libraries here\n",
    "\n",
    "import nltk\n",
    "import re\n",
    "import random"
   ]
  },
  {
   "cell_type": "code",
   "execution_count": 2,
   "metadata": {},
   "outputs": [
    {
     "name": "stderr",
     "output_type": "stream",
     "text": [
      "[nltk_data] Downloading package gutenberg to\n",
      "[nltk_data]     C:\\Users\\prane\\AppData\\Roaming\\nltk_data...\n",
      "[nltk_data]   Package gutenberg is already up-to-date!\n"
     ]
    },
    {
     "name": "stdout",
     "output_type": "stream",
     "text": [
      "Words in bible dataset: 1010654\n",
      "['<s>', 'the', 'king', 'james', 'bible', 'the', 'old', 'testament', 'of', 'the', 'king', 'james', 'bible', 'the', 'first', 'book', 'of', 'moses', 'called', 'genesis', 'in', 'the', 'beginning', 'god', 'created', 'the', 'heaven', 'and', 'the', 'earth', '</s>']\n"
     ]
    }
   ],
   "source": [
    "# setup datasets and pre-process into desired format\n",
    "\n",
    "# Read the file and prepare the training data \n",
    "# so that it is in the following format\n",
    "\n",
    "# data = [['this', 'is', 'the', 'first', 'sentence', 'for', 'word2vec'],\n",
    "# \t\t\t['this', 'is', 'the', 'second', 'sentence'],\n",
    "# \t\t\t['yet', 'another', 'sentence'],\n",
    "# \t\t\t['one', 'more', 'sentence'],\n",
    "# \t\t\t['and', 'the', 'final', 'sentence']]\n",
    "\n",
    "START_TOKEN = \"<s>\"\n",
    "END_TOKEN = \"</s>\"\n",
    "\n",
    "# shakespeare, given dataset\n",
    "dataset_1 = []\n",
    "with open(\"shakespeare_plays.txt\") as f:\n",
    "    dataset_1 = [[START_TOKEN] + line.lower().split() + [END_TOKEN] for line in f.read().strip().split(\"\\n\")]\n",
    "# print(dataset_1[0])  # first sentence\n",
    "\n",
    "# king james version of bible, our datset\n",
    "dataset_2 = []\n",
    "nltk.download(\"gutenberg\")\n",
    "kjv = nltk.corpus.gutenberg.words(\"bible-kjv.txt\")\n",
    "print(f'Words in bible dataset: {len(kjv)}')  # 1010654 words\n",
    "sentence = [START_TOKEN]\n",
    "for word in kjv:\n",
    "  # lower case words\n",
    "    word = word.lower()\n",
    "  # period denotes end of sentence\n",
    "    if word == \".\":\n",
    "        sentence.append(END_TOKEN)\n",
    "        dataset_2.append(sentence)\n",
    "        sentence = [START_TOKEN]\n",
    "  # only allow words that contain only letters\n",
    "    elif not re.match(r\"^[a-z]+$\", word):\n",
    "        continue\n",
    "    else:\n",
    "        sentence.append(word)\n",
    "print(dataset_2[0])  # first sentence"
   ]
  },
  {
   "cell_type": "code",
   "execution_count": 3,
   "metadata": {},
   "outputs": [],
   "source": [
    "# code to train word embeddings\n",
    "\n",
    "from gensim.models import Word2Vec\n",
    "\n",
    "# The dimension of word embedding. \n",
    "# This variable will be used throughout the program\n",
    "# you may vary this as you desire\n",
    "EMBEDDINGS_SIZE = 200\n",
    "\n",
    "# Train the Word2Vec model from Gensim.\n",
    "# The default arguments are the hyperparameters that are most relevant. \n",
    "# But feel free to explore other \n",
    "# options too:\n",
    "def train_embeddings(dataset, embeddings_size=EMBEDDINGS_SIZE, sg=1, window=5, min_count=1):\n",
    "    '''\n",
    "    Parameters:\n",
    "        dataset: sentences to create word embeddings from\n",
    "        embeddings_size: word embeddings size\n",
    "        sg: hyperparameter for training algorithm (1 is skip-gram)\n",
    "        window: hyperparameter for window between words\n",
    "        min_count: ignores words with frequency lower than this\n",
    "    Creates a Word2Vec embedding based on the sentences in the dataset\n",
    "    '''\n",
    "    return Word2Vec(sentences=dataset, vector_size=embeddings_size, sg=sg, window=window, min_count=min_count)\n"
   ]
  },
  {
   "cell_type": "markdown",
   "metadata": {
    "id": "mj0A0mCkt8Gt"
   },
   "source": [
    "### a) Train embeddings on GIVEN dataset"
   ]
  },
  {
   "cell_type": "code",
   "execution_count": 4,
   "metadata": {
    "ExecuteTime": {
     "end_time": "2020-10-24T04:39:38.482701Z",
     "start_time": "2020-10-24T04:39:28.044970Z"
    },
    "id": "Od_L53GEt8Gv"
   },
   "outputs": [],
   "source": [
    "model_1 = train_embeddings(dataset_1)"
   ]
  },
  {
   "cell_type": "code",
   "execution_count": 5,
   "metadata": {
    "ExecuteTime": {
     "end_time": "2020-10-24T04:39:43.448249Z",
     "start_time": "2020-10-24T04:39:43.444835Z"
    },
    "id": "xrt52ahnt8Gw"
   },
   "outputs": [
    {
     "name": "stdout",
     "output_type": "stream",
     "text": [
      "Vocab size 23857\n"
     ]
    }
   ],
   "source": [
    "# print('Vocab size {}'.format(len(model.wv.vocab)))  # outdatted in gensim 4.0.0\n",
    "print('Vocab size {}'.format(len(model_1.wv.index_to_key)))"
   ]
  },
  {
   "cell_type": "markdown",
   "metadata": {
    "id": "uGMUTMcmt8G0"
   },
   "source": [
    "### b) Train embedding on YOUR dataset"
   ]
  },
  {
   "cell_type": "code",
   "execution_count": 6,
   "metadata": {
    "id": "sN0KvmUKt8G0"
   },
   "outputs": [],
   "source": [
    "model_2 = train_embeddings(dataset_2)"
   ]
  },
  {
   "cell_type": "code",
   "execution_count": 7,
   "metadata": {},
   "outputs": [
    {
     "name": "stdout",
     "output_type": "stream",
     "text": [
      "Vocab size 12570\n"
     ]
    }
   ],
   "source": [
    "# print('Vocab size {}'.format(len(model.wv.vocab)))  # outdatted in gensim 4.0.0\n",
    "print('Vocab size {}'.format(len(model_2.wv.index_to_key)))"
   ]
  },
  {
   "cell_type": "markdown",
   "metadata": {
    "id": "BsjzTVFjt8G1"
   },
   "source": [
    "__What text-normalization and pre-processing did you do and why?__\n",
    "\n",
    "For the given dataset, there was not any pre-processing that was done, because the dataset was already in a format that was very much well suited to modeling.\n",
    "Everything was lower cased, and there was no punctuation.\n",
    "This did pose some problem, as there was no clear delimiter for when a sentence would begin and end, but we decided to split the corpus into sentences on newlines.\n",
    "\n",
    "The King James Version of the Bible required some text-normalization and pre-processing.\n",
    "The corpus was already split into tokens, but we filtered some out and added some text-normalization.\n",
    "To be overly cautious, we discarded all tokens that contained more than just alphabetic characters.\n",
    "We also lower cased all the words. We also had to decide to split sentences based on a period, which could pose some problems, but this was the best way of separating sentences here."
   ]
  },
  {
   "cell_type": "markdown",
   "metadata": {
    "id": "aOFmHpH8t8G2"
   },
   "source": [
    "Step 2: Evaluate the differences between the word embeddings\n",
    "----------------------------\n",
    "\n",
    "(make sure to include graphs, figures, and paragraphs with full sentences)"
   ]
  },
  {
   "cell_type": "code",
   "execution_count": 8,
   "metadata": {
    "id": "NXjy2-OqgvIf"
   },
   "outputs": [
    {
     "name": "stdout",
     "output_type": "stream",
     "text": [
      "Analogies for model Shakespears Works...\n",
      "\tAnalogy 0: `man' is to `king' as `woman' is to `elizabeth'\n",
      "\tAnalogy 1: `moon' is to `stars' as `sun' is to `flow'\n",
      "\tAnalogy 2: `father' is to `son' as `mother' is to `daughter'\n",
      "\tAnalogy 3: `disease' is to `plague' as `death' is to `curse'\n",
      "\tAnalogy 4: `hot' is to `warm' as `cold' is to `naked'\n",
      "\tAnalogy 5: `sin' is to `apple' as `virtue' is to `braver'\n",
      "\tAnalogy 6: `food' is to `hungry' as `water' is to `salt'\n",
      "Analogies for model King James Bible...\n",
      "\tAnalogy 0: `man' is to `king' as `woman' is to `queen'\n",
      "\tAnalogy 1: `moon' is to `stars' as `sun' is to `sand'\n",
      "\tAnalogy 2: `father' is to `son' as `mother' is to `wife'\n",
      "\tAnalogy 3: `disease' is to `plague' as `death' is to `scall'\n",
      "\tAnalogy 4: `hot' is to `warm' as `cold' is to `clamorous'\n",
      "\tAnalogy 5: `sin' is to `apple' as `virtue' is to `grapegatherer'\n",
      "\tAnalogy 6: `food' is to `hungry' as `water' is to `deep'\n"
     ]
    },
    {
     "data": {
      "image/png": "[encoded data removed]",
      "text/plain": [
       "<Figure size 720x360 with 1 Axes>"
      ]
     },
     "metadata": {
      "needs_background": "light"
     },
     "output_type": "display_data"
    },
    {
     "data": {
      "image/png": "[encoded data removed]",
      "text/plain": [
       "<Figure size 720x360 with 1 Axes>"
      ]
     },
     "metadata": {
      "needs_background": "light"
     },
     "output_type": "display_data"
    }
   ],
   "source": [
    "from sklearn.decomposition import PCA\n",
    "import matplotlib.pyplot as plt\n",
    "import numpy as np\n",
    "\n",
    "pca_2 = PCA(n_components=2)\n",
    "\n",
    "def make_analogy(model, this_1, is_to_that_1, this_2):\n",
    "    is_to_that_2 = model.wv.most_similar(\n",
    "        negative=[this_1],\n",
    "        positive=[is_to_that_1, this_2]\n",
    "    )\n",
    "    return is_to_that_2[0][0]\n",
    "\n",
    "def plot_data(model, from_labels, to_labels, name):\n",
    "    labels = from_labels + to_labels\n",
    "    data = pca_2.fit_transform([model.wv[w] for w in labels])\n",
    "    plt.figure(figsize=(10, 5))\n",
    "    plt.title(f\"Analogies for dataset {name}\")\n",
    "    plt.plot(data[:,0], data[:,1], '.')\n",
    "    for i in range(len(data)):\n",
    "        plt.annotate(labels[i], xy = data[i])\n",
    "    for i in range(len(data)//2):\n",
    "        plt.annotate(\"\", \n",
    "                     xy=data[i], \n",
    "                     xytext=data[i+len(data)//2], \n",
    "                     arrowprops=dict(arrowstyle=\"<-\"))\n",
    "\n",
    "def plot_analogies(model, analogies, name):\n",
    "    from_labels = []\n",
    "    to_labels = []\n",
    "    for analogy in analogies:\n",
    "        from_labels += analogy[:2]\n",
    "        to_labels += analogy[2:] + [make_analogy(model, *analogy)]\n",
    "    plot_data(model, from_labels, to_labels, name)\n",
    "\n",
    "def print_analysis():\n",
    "    models = [(model_1, \"Shakespears Works\"), (model_2, \"King James Bible\")]\n",
    "    \n",
    "    a1 = [\"man\", \"king\", \"woman\"]\n",
    "    a2 = [\"moon\", \"stars\", \"sun\"]\n",
    "    a3 = [\"father\", \"son\", \"mother\"]\n",
    "    a4 = [\"disease\", \"plague\", \"death\"]\n",
    "    a5 = [\"hot\", \"warm\", \"cold\"]\n",
    "    a6 = [\"sin\", \"apple\", \"virtue\"]\n",
    "    a7 = [\"food\", \"hungry\", \"water\"]\n",
    "    analogies = [a1, a2, a3, a4, a5, a6, a7]\n",
    "    \n",
    "    for i, (model, name) in enumerate(models):\n",
    "        print(f\"Analogies for model {name}...\")\n",
    "        for i, (a, b, c) in enumerate(analogies):\n",
    "            d = make_analogy(model, a, b, c)\n",
    "            print(f\"\\tAnalogy {i}: `{a}' is to `{b}' as `{c}' is to `{d}'\")\n",
    "        plot_analogies(model, analogies, name)\n",
    "        \n",
    "print_analysis()\n"
   ]
  },
  {
   "cell_type": "markdown",
   "metadata": {
    "id": "CWlWydbrgv4P"
   },
   "source": [
    "## Write down your analysis"
   ]
  },
  {
   "cell_type": "markdown",
   "metadata": {},
   "source": [
    "Although the data we see above is a 2D representation of higher dimensional data, we are able to see some differences between the embeddings of the words between our models, as well as differences between the placement of different words relative to each other (as seen through the plotted analogies).\n",
    "It is definitely important to note that although the two models are modeled off of corpora that are from around the same time frame, the contents and topics are very different, and the original Bible dates back over a thousand years.\n",
    "First we'll take a look at the scatter plot of words.\n",
    "While most of the words and their relations differ by a bit, such a mother and father, they seem to have around the same embedding, as evidenced by their somewhat similar placement between the two models.\n",
    "Similarly, the words sun and moon also have similar placements.\n",
    "\n",
    "Even though none of the analogies are the same between the two models, they are somewhat similar, and there are definitely some connections between the two.\n",
    "For instance, for the analogy \"father is to son as mother is to _____\", we can see that the first model provides \"child\", while the second model provides \"wife\".\n",
    "While \"child\" and \"wife\" are very different answers, they are both words that describe a family unit, and so we can see the connections between the two embeddings even if they differ.\n",
    "Another really interesting analogy is the \"man is to king as woman is to _____\".\n",
    "The model based off of Shakespeare's works gives the word \"elizabeth\".\n",
    "Shakespeare spent the majority of his life under her rule, and to him, the word \"queen\" and \"elizabeth\" would have had very similar connotations.\n",
    "In fact, her influence can be found in a number of his plays.\n",
    "The model based off the Bible gives the expected word of \"queen\". "
   ]
  },
  {
   "cell_type": "markdown",
   "metadata": {
    "id": "-tmrTVDqt8G2"
   },
   "source": [
    "Cite your sources:\n",
    "-------------\n",
    "- https://towardsdatascience.com/google-news-and-leo-tolstoy-visualizing-word2vec-word-embeddings-with-t-sne-11558d8bd4d\n",
    "- https://www.rct.uk/collection/themes/exhibitions/shakespeare-in-the-royal-library/windsor-castle/the-influence-of-elizabeth-i"
   ]
  },
  {
   "cell_type": "markdown",
   "metadata": {
    "id": "ix2On6zat8G2"
   },
   "source": [
    "Step 3: Feedforward Neural Language Model\n",
    "--------------------------"
   ]
  },
  {
   "cell_type": "markdown",
   "metadata": {
    "id": "AZsCKQWDt8G2"
   },
   "source": [
    "### a) First, encode  your text into integers"
   ]
  },
  {
   "cell_type": "code",
   "execution_count": 9,
   "metadata": {},
   "outputs": [],
   "source": [
    "import tensorflow"
   ]
  },
  {
   "cell_type": "code",
   "execution_count": 10,
   "metadata": {
    "ExecuteTime": {
     "end_time": "2020-10-26T21:39:09.625031Z",
     "start_time": "2020-10-26T21:39:09.009109Z"
    },
    "id": "ec0KKYj0t8G3"
   },
   "outputs": [],
   "source": [
    "# Importing utility functions from Keras\n",
    "from keras.preprocessing.text import Tokenizer\n",
    "from keras.utils import to_categorical\n",
    "from keras.models import Sequential\n",
    "from keras.layers import Dense\n",
    "# from keras.layers import SimpleRNN\n",
    "# from keras.layers import Embedding"
   ]
  },
  {
   "cell_type": "code",
   "execution_count": 11,
   "metadata": {},
   "outputs": [],
   "source": [
    "# The size of the ngram language model you want to train\n",
    "# change as needed for your experiments\n",
    "NGRAM = 4"
   ]
  },
  {
   "cell_type": "code",
   "execution_count": 12,
   "metadata": {},
   "outputs": [],
   "source": [
    "def add_sentence_tokens(ngram, dataset):\n",
    "    '''\n",
    "    Parameters:\n",
    "        ngram: size of n-grams\n",
    "        dataset: sentences data\n",
    "    Creates n-grams from dataset\n",
    "    '''\n",
    "    if ngram < 2:\n",
    "        return dataset\n",
    "    \n",
    "    prepared_dataset = [(ngram - 2) * [START_TOKEN] + sentence for sentence in dataset]\n",
    "    return prepared_dataset\n",
    "\n",
    "dataset_1_ngrams = add_sentence_tokens(NGRAM, dataset_1)\n",
    "dataset_2_ngrams = add_sentence_tokens(NGRAM, dataset_2)"
   ]
  },
  {
   "cell_type": "code",
   "execution_count": 13,
   "metadata": {
    "ExecuteTime": {
     "end_time": "2020-10-24T03:27:54.373208Z",
     "start_time": "2020-10-24T03:27:54.369835Z"
    },
    "id": "U1PrwlBAt8G5"
   },
   "outputs": [],
   "source": [
    "def encode_text(data):\n",
    "    '''\n",
    "    Parameters:\n",
    "        data: n-gram dataset\n",
    "    Uses Tokenizer to tokenize dataset\n",
    "    '''\n",
    "    # Initializing a Tokenizer\n",
    "    # It is used to vectorize a text corpus. Here, it just creates a mapping from \n",
    "    # word to a unique index. (Note: Indexing starts from 0)\n",
    "    # Example:\n",
    "    tokenizer = Tokenizer(filters='!\"#$%&()*+,-./:;=?@[\\\\]^_`{|}~\\t\\n')\n",
    "    tokenizer.fit_on_texts(data)\n",
    "    encoded = tokenizer.texts_to_sequences(data)\n",
    "    return tokenizer, encoded\n",
    "\n",
    "tokenizer_1, encoded_text_1 = encode_text(dataset_1_ngrams)\n",
    "tokenizer_2, encoded_text_2 = encode_text(dataset_2_ngrams)"
   ]
  },
  {
   "cell_type": "markdown",
   "metadata": {
    "id": "mCndArPmt8G5"
   },
   "source": [
    "### b) Next, prepare your sequences from text"
   ]
  },
  {
   "cell_type": "markdown",
   "metadata": {
    "id": "6jG42_9Xt8G6"
   },
   "source": [
    "#### Fixed ngram based sequences "
   ]
  },
  {
   "cell_type": "raw",
   "metadata": {
    "id": "HsoPVS8ct8G7"
   },
   "source": [
    "The training samples will be structured in the following format. \n",
    "Depending on which ngram model we choose, there will be (n-1) tokens \n",
    "in the input sequence (X) and we will need to predict the nth token (Y)\n",
    "\n",
    "            X,\t\t\t\t\t\t  y\n",
    "    this,    process               however\n",
    "    process, however               afforded\n",
    "    however, afforded\t           me"
   ]
  },
  {
   "cell_type": "code",
   "execution_count": 14,
   "metadata": {
    "ExecuteTime": {
     "end_time": "2020-10-24T05:21:28.039381Z",
     "start_time": "2020-10-24T05:21:24.941885Z"
    },
    "id": "B_4YqhKTt8G7"
   },
   "outputs": [],
   "source": [
    "def generate_ngram_training_samples(encoded_data: list, ngram: int) -> list:\n",
    "    '''\n",
    "    Takes the encoded data (list of lists) and \n",
    "    generates the training samples out of it.\n",
    "    Parameters:\n",
    "        encoded_data: encoded dataset after tokenizer\n",
    "        ngram: size of ngram\n",
    "    return: \n",
    "    list of lists in the format [[x1, x2, ... , x(n-1), y], ...]\n",
    "    '''\n",
    "    training_samples = []\n",
    "    \n",
    "    for sentence in encoded_data:\n",
    "        for i in range(len(sentence) - (ngram - 1)):\n",
    "            training_samples.append(sentence[i:i+ngram])\n",
    "    \n",
    "    return training_samples\n",
    "    \n",
    "training_samples_1 = generate_ngram_training_samples(encoded_text_1, NGRAM)\n",
    "training_samples_2 = generate_ngram_training_samples(encoded_text_2, NGRAM)"
   ]
  },
  {
   "cell_type": "markdown",
   "metadata": {
    "id": "BWL6Czlxt8G8"
   },
   "source": [
    "### c) Then, split the sequences into X and y and create a Data Generator"
   ]
  },
  {
   "cell_type": "code",
   "execution_count": 16,
   "metadata": {},
   "outputs": [],
   "source": [
    "import numpy as np"
   ]
  },
  {
   "cell_type": "code",
   "execution_count": 17,
   "metadata": {},
   "outputs": [],
   "source": [
    "def split_sequences(training_samples: list) -> list:\n",
    "    '''\n",
    "    Splits training data into X and y\n",
    "    Parameters:\n",
    "        training_samples: training data\n",
    "    Returns:\n",
    "        X: X arguments of training data\n",
    "        y: output of training data argument (next word)\n",
    "    '''\n",
    "    X = np.array(training_samples)[:,:-1]\n",
    "    y = np.array(training_samples)[:,-1]\n",
    "    return X, y\n",
    "    \n",
    "X1, y1 = split_sequences(training_samples_1)\n",
    "X2, y2 = split_sequences(training_samples_2)"
   ]
  },
  {
   "cell_type": "code",
   "execution_count": 18,
   "metadata": {
    "ExecuteTime": {
     "end_time": "2020-10-24T05:21:34.675827Z",
     "start_time": "2020-10-24T05:21:33.315288Z"
    },
    "id": "Vjr6vwP5t8G9"
   },
   "outputs": [],
   "source": [
    "def read_embeddings(training_dataset, embedding_model, tokenizer):\n",
    "    '''Loads and parses embeddings trained in earlier.\n",
    "    Parameters:\n",
    "        training_dataset: training data\n",
    "        embedding_model: word2vec embedding model\n",
    "        tokenizer: Tokenizer \n",
    "    Returns:\n",
    "        word_to_embedding: dictionary mapping a word to its embedding\n",
    "        index_to_embedding: dictionary mapping a index to its embedding\n",
    "    '''\n",
    "     # you may find generating the following two dicts useful:\n",
    "    # word to embedding : {'the':[0....], ...}\n",
    "    # index to embedding : {1:[0....], ...} \n",
    "    # use your tokenizer's word_index to find the index of\n",
    "    # a given word\n",
    "    word_to_embedding = {}\n",
    "    index_to_embedding = {}\n",
    "    for sentence in training_dataset:\n",
    "        for word in sentence:\n",
    "            if word not in word_to_embedding:\n",
    "                word_to_embedding[word] = embedding_model.wv[word]\n",
    "            tokenizer_index = tokenizer.word_index[word]\n",
    "            if tokenizer_index not in index_to_embedding:\n",
    "                index_to_embedding[tokenizer_index] = embedding_model.wv[word]\n",
    "    return word_to_embedding, index_to_embedding\n",
    "    \n",
    "word_to_embedding_1, index_to_embedding_1 = read_embeddings(dataset_1, model_1, tokenizer_1)\n",
    "word_to_embedding_2, index_to_embedding_2 = read_embeddings(dataset_2, model_2, tokenizer_2)"
   ]
  },
  {
   "cell_type": "code",
   "execution_count": 19,
   "metadata": {},
   "outputs": [],
   "source": [
    "vocab_size_1 = len(tokenizer_1.word_index) + 1\n",
    "vocab_size_2 = len(tokenizer_2.word_index) + 1"
   ]
  },
  {
   "cell_type": "code",
   "execution_count": 20,
   "metadata": {
    "ExecuteTime": {
     "end_time": "2020-10-24T05:22:24.016237Z",
     "start_time": "2020-10-24T05:22:24.011220Z"
    },
    "id": "H6g9g7p6t8G9"
   },
   "outputs": [],
   "source": [
    "def data_generator(X: list, y: list, num_sequences_per_batch: int, index_to_embedding: dict, vocab_size: int) -> (list,list):\n",
    "    '''\n",
    "    Returns data generator to be used by feed_forward\n",
    "    https://wiki.python.org/moin/Generators\n",
    "    https://realpython.com/introduction-to-python-generators/\n",
    "    \n",
    "    Yields batches of embeddings and labels to go with them.\n",
    "    Use one hot vectors to encode the labels \n",
    "    (see the to_categorical function)\n",
    "    Parameters:\n",
    "        X: Training data arguments\n",
    "        y: training data output\n",
    "        num_sequences_per_batch: number of rows of the dataset to use per patch\n",
    "        index_to_embedding: dictionary mapping word index to embedding\n",
    "        vocab_size: size of vocab list\n",
    "    \n",
    "    '''\n",
    "    for i in range(0, len(X), num_sequences_per_batch):\n",
    "        x_batch = []\n",
    "        for index_token_list in X[i:i+num_sequences_per_batch]:\n",
    "            index_to_embed = []\n",
    "            for index in index_token_list:\n",
    "                index_to_embed = index_to_embed + list(index_to_embedding[index])\n",
    "            x_batch.append(index_to_embed)\n",
    "            \n",
    "        y_batch = to_categorical(y[i:i+num_sequences_per_batch], num_classes=vocab_size)\n",
    "        yield(np.array(x_batch), y_batch)\n",
    "\n"
   ]
  },
  {
   "cell_type": "code",
   "execution_count": 21,
   "metadata": {
    "ExecuteTime": {
     "end_time": "2020-10-24T05:22:55.470133Z",
     "start_time": "2020-10-24T05:22:55.398259Z"
    },
    "id": "vgXSWdlMt8G-"
   },
   "outputs": [],
   "source": [
    "# initialize data_generator\n",
    "num_sequences_per_batch = 128 # this is the batch size\n",
    "steps_per_epoch_1 = len(X1)//num_sequences_per_batch  # Number of batches per epoch\n",
    "train_generator_1 = data_generator(X1, y1, num_sequences_per_batch, index_to_embedding_1, vocab_size_1)\n",
    "\n",
    "steps_per_epoch_2 = len(X2)//num_sequences_per_batch  # Number of batches per epoch\n",
    "train_generator_2 = data_generator(X2, y2, num_sequences_per_batch, index_to_embedding_2, vocab_size_2)\n",
    "\n",
    "# sample=next(train_generator) # this is how you get data out of generators\n",
    "# print(sample[0].shape) # (batch_size, (n-1)*EMBEDDING_SIZE)  (128, 200)\n",
    "# print(sample[1].shape)   # (batch_size, |V|) to_categorical"
   ]
  },
  {
   "cell_type": "markdown",
   "metadata": {
    "id": "yzfweqz1t8G-"
   },
   "source": [
    "### d) Train your models"
   ]
  },
  {
   "cell_type": "code",
   "execution_count": 22,
   "metadata": {},
   "outputs": [],
   "source": [
    "def build_ffnn(vocab_size, hidden_units=25, n_gram=NGRAM, embeddings_size=EMBEDDINGS_SIZE):\n",
    "    '''\n",
    "    Builds a feed forward neural network using Keras API\n",
    "    Parameters:\n",
    "        vocab_size: size of vocab list\n",
    "        hidden_units: number of hidden units in NN model\n",
    "        n_gram: size of n-grams used\n",
    "        embeddings_size: word embedding size\n",
    "    Returns:\n",
    "        FF-NN model \n",
    "    '''\n",
    "    model = Sequential()\n",
    "    model.add(Dense(units=hidden_units, activation='relu', input_dim = ((n_gram - 1) * embeddings_size)))\n",
    "    model.add(Dense(vocab_size, activation='softmax'))\n",
    "    print(model.summary())\n",
    "    model.compile(loss='categorical_crossentropy', optimizer='sgd', metrics=['accuracy'])\n",
    "    return model"
   ]
  },
  {
   "cell_type": "code",
   "execution_count": 23,
   "metadata": {
    "ExecuteTime": {
     "end_time": "2020-10-24T03:56:50.919869Z",
     "start_time": "2020-10-24T03:56:50.779792Z"
    },
    "id": "KmgNnQj5t8G_"
   },
   "outputs": [
    {
     "name": "stdout",
     "output_type": "stream",
     "text": [
      "Model: \"sequential\"\n",
      "_________________________________________________________________\n",
      "Layer (type)                 Output Shape              Param #   \n",
      "=================================================================\n",
      "dense (Dense)                (None, 25)                15025     \n",
      "_________________________________________________________________\n",
      "dense_1 (Dense)              (None, 23858)             620308    \n",
      "=================================================================\n",
      "Total params: 635,333\n",
      "Trainable params: 635,333\n",
      "Non-trainable params: 0\n",
      "_________________________________________________________________\n",
      "None\n",
      "Model: \"sequential_1\"\n",
      "_________________________________________________________________\n",
      "Layer (type)                 Output Shape              Param #   \n",
      "=================================================================\n",
      "dense_2 (Dense)              (None, 25)                15025     \n",
      "_________________________________________________________________\n",
      "dense_3 (Dense)              (None, 12571)             326846    \n",
      "=================================================================\n",
      "Total params: 341,871\n",
      "Trainable params: 341,871\n",
      "Non-trainable params: 0\n",
      "_________________________________________________________________\n",
      "None\n"
     ]
    }
   ],
   "source": [
    "# Define the model architecture using Keras Sequential API\n",
    "\n",
    "nn_1 = build_ffnn(vocab_size_1)\n",
    "nn_2 = build_ffnn(vocab_size_2)"
   ]
  },
  {
   "cell_type": "code",
   "execution_count": 24,
   "metadata": {
    "ExecuteTime": {
     "end_time": "2020-10-24T04:01:50.757170Z",
     "start_time": "2020-10-24T03:56:53.620836Z"
    },
    "id": "-dWf2qO3t8G_"
   },
   "outputs": [
    {
     "name": "stdout",
     "output_type": "stream",
     "text": [
      "7513/7513 [==============================] - 730s 97ms/step - loss: 8.5388 - accuracy: 0.0308\n"
     ]
    },
    {
     "data": {
      "text/plain": [
       "<tensorflow.python.keras.callbacks.History at 0x1df905121c0>"
      ]
     },
     "execution_count": 24,
     "metadata": {},
     "output_type": "execute_result"
    }
   ],
   "source": [
    "# Start training the model\n",
    "nn_1.fit(x=train_generator_1, \n",
    "          steps_per_epoch=steps_per_epoch_1,\n",
    "          epochs=1)\n"
   ]
  },
  {
   "cell_type": "code",
   "execution_count": 25,
   "metadata": {
    "id": "eCZ2S5mpt8HA"
   },
   "outputs": [
    {
     "name": "stdout",
     "output_type": "stream",
     "text": [
      "6390/6390 [==============================] - 262s 41ms/step - loss: 7.2812 - accuracy: 0.0965\n"
     ]
    },
    {
     "data": {
      "text/plain": [
       "<tensorflow.python.keras.callbacks.History at 0x1df34c24280>"
      ]
     },
     "execution_count": 25,
     "metadata": {},
     "output_type": "execute_result"
    }
   ],
   "source": [
    "nn_2.fit(x=train_generator_2,\n",
    "        steps_per_epoch=steps_per_epoch_2,\n",
    "        epochs=1)"
   ]
  },
  {
   "cell_type": "markdown",
   "metadata": {
    "id": "3QwRhKYwt8HA"
   },
   "source": [
    "### e) Generate Sentences"
   ]
  },
  {
   "cell_type": "code",
   "execution_count": 26,
   "metadata": {
    "ExecuteTime": {
     "end_time": "2020-10-24T04:13:54.425934Z",
     "start_time": "2020-10-24T04:13:54.418616Z"
    },
    "id": "ewR5ueOJt8HB"
   },
   "outputs": [],
   "source": [
    "# generate a sequence from the model\n",
    "def generate_seq(model: Sequential, \n",
    "                 tokenizer: Tokenizer, \n",
    "                 seed: list, \n",
    "                 n_words: int,\n",
    "                 index_to_embedding: dict):\n",
    "    '''\n",
    "    Parameters:\n",
    "        model: your neural network\n",
    "        tokenizer: the keras preprocessing tokenizer\n",
    "        seed: [w1, w2, w(n-1)]\n",
    "        n_words: generate a sentence of length n_words\n",
    "        index_to_embedding: convert word token index to word embedding \n",
    "    Returns: string sentence\n",
    "    '''\n",
    "    input_text = seed\n",
    "    for i in range(n_words):\n",
    "        input_context = input_text[-(NGRAM-1):]\n",
    "        encoded = tokenizer.texts_to_sequences(input_context)\n",
    "        model_embedding_input = []\n",
    "        for index in encoded:\n",
    "            model_embedding_input = model_embedding_input + list(index_to_embedding[index[0]])\n",
    "        prob_distribution = model.predict(np.array(model_embedding_input).reshape(1, (NGRAM-1)*EMBEDDINGS_SIZE), verbose=0)[0]\n",
    "        prediction_index = np.random.choice(range(len(prob_distribution)), p=prob_distribution)\n",
    "        predicted_word = list(tokenizer.word_index.keys())[list(tokenizer.word_index.values()).index(prediction_index)]\n",
    "        input_text.append(predicted_word)\n",
    "        if predicted_word == '</s>':\n",
    "            break\n",
    "    return input_text\n",
    "                \n",
    "        \n",
    "        \n",
    "        "
   ]
  },
  {
   "cell_type": "code",
   "execution_count": 27,
   "metadata": {},
   "outputs": [],
   "source": [
    "def generate_50_sent(dataset, model, tokenizer, n_words, index_to_embedding, n_gram=NGRAM):\n",
    "    '''\n",
    "    Parameters:\n",
    "        dataset: the dataset used to train the model and generate the sentences \n",
    "        n_gram: size of n-grams used to train and generate sentences \n",
    "        model: your neural network\n",
    "        tokenizer: the keras preprocessing tokenizer\n",
    "        seed: [w1, w2, w(n-1)]\n",
    "        n_words: generate a sentence of length n_words\n",
    "        index_to_embedding: convert word token index to word embedding \n",
    "    Prints 50 generated sentences using generate_seq function\n",
    "    '''\n",
    "    seeds = []\n",
    "    for sentence in random.sample(dataset, 50):\n",
    "        length = len(sentence)\n",
    "        rand_index = random.randrange(0, length - n_gram)\n",
    "        seeds.append(sentence[rand_index: rand_index + (n_gram - 1)])\n",
    "    count = 1\n",
    "    for seed in seeds:\n",
    "        print(f'Sentence {count} : ' + ' '.join(generate_seq(model, tokenizer, seed, n_words, index_to_embedding)))\n",
    "        count += 1\n",
    "        "
   ]
  },
  {
   "cell_type": "code",
   "execution_count": 28,
   "metadata": {},
   "outputs": [
    {
     "name": "stdout",
     "output_type": "stream",
     "text": [
      "Dataset 1 sentences\n",
      "Sentence 1 : brutus there in the doth up assent one what i so a endowed want this you it dunsinane and it henry animis thee\n",
      "Sentence 2 : working do you thy sir here shall unhair sir who thou that saw is stand no encount st as an chuffs so the\n",
      "Sentence 3 : wear not now thee away othello than in his thither disinherit portia by witless father come insinuating from derive to redbreast but wish\n",
      "Sentence 4 : you shall to your fates she would names man to ay thy the cressida first heart now </s>\n",
      "Sentence 5 : <s> <s> <s> sadly treys water foremost maist canonize dardanius smaller your is to most col about door upon and israel of thronging\n",
      "Sentence 6 : in practice that of figuring the duke bolingbroke do as wilt reflect which </s>\n",
      "Sentence 7 : tis easy to i a you that that letter the could any have the your may will markets his blemishes clown much her\n",
      "Sentence 8 : you had power the hollow gentleman but doth the he own have hector had time gone and hand d fierceness sprinkle renowned with\n",
      "Sentence 9 : hail rich pearls is o sea you can old see him for </s>\n",
      "Sentence 10 : <s> <s> <s> fled and as d holdfast covetous glend had quoth fair and good gale not i make s lay which go\n",
      "Sentence 11 : and rather muse his sound she d but have slender you is her who d reverb us with th thou i workmen touze\n",
      "Sentence 12 : count rousillon first would dragons have bucklers call simular potpan shared katherine o saucily these wretchedness thou and conquring subversion relating fulvia received\n",
      "Sentence 13 : d horns as and st way first dilated this on though so bores arm tell the unjustly hand and all of no word\n",
      "Sentence 14 : lies juliet and if too the </s>\n",
      "Sentence 15 : as thus to hence stabbing of ll constantly gon at my so comes so her know stanze understood wake make horning s because\n",
      "Sentence 16 : lear lear what say or people he to duke brave a thou long good the she consort life been wilt who you the\n",
      "Sentence 17 : grieve thee with for and monster foeman can an thee and or st am </s>\n",
      "Sentence 18 : it leontes stay look and the specialty cathedral tongue strong titus his </s>\n",
      "Sentence 19 : both are infinite all we </s>\n",
      "Sentence 20 : made you good were bezonian win by house an their thee i thou know but pains not a what as when ll would\n",
      "Sentence 21 : ever cerimon she art and a ne telling it you pavilions and horrors scrape d chafed injured ribands pox so bubbling exton lagging\n",
      "Sentence 22 : both they are found here stolest horribly julia shall must here hour should attendants shall our fight this be s another them down\n",
      "Sentence 23 : and my young son your am that too of mints d print all the no not you milan hath bows and </s>\n",
      "Sentence 24 : shall have leisure posthumus had aspics but letter you that welcome me art bull too law charitably you t dismask o which my\n",
      "Sentence 25 : death the cock i of of is much so was come bursts i grains does mine if art the revolving the weeping you\n",
      "Sentence 26 : how i do of po your will and what saviour pudder what consciences envoy ending not so cannot serves darest soul have speak\n",
      "Sentence 27 : for let our was since our be to chud thews misuse daisied arm lie not dog thou of why </s>\n",
      "Sentence 28 : were a heart place that whether to us imprisonment an to and with talk pithy an </s>\n",
      "Sentence 29 : died my icarus handicraft heart husband freed and the disputation mattress allayment logs rome goes crescive my a mongest funerals kindnesses mortar gaoler\n",
      "Sentence 30 : never anybody saw nothing thou quickly plaining are prospero pandarus his cabin the would escalus </s>\n",
      "Sentence 31 : <s> <s> thigh look </s>\n",
      "Sentence 32 : kills me titus prologue my a </s>\n",
      "Sentence 33 : throughly for my will whetted like foul patterns unbraced evasions potential slovenry serve consequently i to rag infixing up phrygia dead see have\n",
      "Sentence 34 : but not with that strown so the relieved challengers oppresses staniel overplus crowns drawn </s>\n",
      "Sentence 35 : <s> <s> <s> cannibals bewail beseemed you farthings a guilts viceroys for he baily covetously a croaking langton as obeisance ringleader contaminated serviteur\n",
      "Sentence 36 : <s> <s> honest with me thus noblesse exampl clerk aimest expuls vaunter truie vaulty should soaring lunes made speak me have region both\n",
      "Sentence 37 : now his friends and swill show your taming and wishes than d not inky gradation pass doute laughed were than th by and\n",
      "Sentence 38 : boy say i he not d she spectacle is keep i it </s>\n",
      "Sentence 39 : s secrets brutus the derives transporting you stock had they wondering prove giv one if </s>\n",
      "Sentence 40 : then pericles i the and to i hast a she sicils to these these plantagenets thee eie belts monmouth swore clear and of\n",
      "Sentence 41 : it by all whose </s>\n",
      "Sentence 42 : <s> and deed not kind sir the that we still deux die myself he he this carefully thou merrier corruptibly wife fro lucentio\n",
      "Sentence 43 : a husband o aims mournful pelican royal as venerable the let service but s that have so syracusians er past be seyton experienced\n",
      "Sentence 44 : <s> <s> nought in be mistriship barbason which awful me strossers horns unsifted bulks pardoning filling war come the found up thing second\n",
      "Sentence 45 : one penny in contraction fines digestions on i not be complains things will lords have george scene o which of unpaved land do\n",
      "Sentence 46 : such acts as gaudy far n not to your of marcus you in pismires done the on have and she </s>\n",
      "Sentence 47 : may say if know honourably honour if costly pericles yet you enguard a quarry strict volsces longaville and as husbandless must while assurance\n",
      "Sentence 48 : happen d first bottomless me ergrown dread away vex her s i have bring true even d still your as from is languishment\n",
      "Sentence 49 : full of discord horrible fooling rebukeable manakin quarter jour apemantus </s>\n",
      "Sentence 50 : fellow exeunt scene leontes first be defend the stays all laboursome mellow city sir your and i thou you the self brook sir\n",
      "\n",
      "\n",
      "Dataset 2 sentences\n",
      "Sentence 1 : right side of silly god </s>\n",
      "Sentence 2 : works that i pulled twelfth lord insurrection ordinary not ancients in the there for thee take he be him purposed the his which\n",
      "Sentence 3 : <s> i wisdom ye but and god and heaven him words holy lord sons the backbiters time by gift stronger purged after away\n",
      "Sentence 4 : the sons of fallen our any earth in the yourselves of the another upon are bull berachah faith word had sound and beautiful\n",
      "Sentence 5 : rose up to and prolong the for proving mahlites samuel lovest because i in thee fathers if hold the him thee have kindness\n",
      "Sentence 6 : before them and forth lydia us that bald unto any upon another woman wherefore at let his which of more tribute under me\n",
      "Sentence 7 : there is no hazarsusim </s>\n",
      "Sentence 8 : down let us rigour and bethul proud tares wife hoofs it granted is following shall are thy praiseth wrath shashak overpast horhagidgad procure\n",
      "Sentence 9 : came out were the woman of the unto a every gave asunder </s>\n",
      "Sentence 10 : into the swine of on with and are if that there conspirators through declare saying wife the vanity take and the not is\n",
      "Sentence 11 : house are we again unto vinedressers mizzah in their church cause he our a the ordinances </s>\n",
      "Sentence 12 : was an angel the christ saying and own them they be condemning and might hands sufficeth old such tanach pence be hurting joab\n",
      "Sentence 13 : unto the stranger in come no not stripped been to servant make were concision cheek ass gazathites hast azmaveth rissah which mealtime received\n",
      "Sentence 14 : see their dead the a of also are god sheweth saddled tubalcain my of dead that in the go but like considereth without\n",
      "Sentence 15 : and on this abram jeremiah in the whosoever of him no who and had are with barbed servants geliloth garden life shalt snout\n",
      "Sentence 16 : and he also hast tales be light laws from the nor of hazazontamar they us for the fowl and vultures spindle affect sore\n",
      "Sentence 17 : came to pass were of and four watered hand out about his to strong the therefore and good the as whether wonder paltite\n",
      "Sentence 18 : the death of their and thereof shall laboured confusion you removed be path looking that come his shemida voice hers and yesterday for\n",
      "Sentence 19 : thou hast accomplished out with of put lo and as </s>\n"
     ]
    },
    {
     "name": "stdout",
     "output_type": "stream",
     "text": [
      "Sentence 20 : <s> <s> i blasted sir but servant strength rivers let wailed joy other worlds jordan lodgest remaliah of that gathered hagaba footmen christ\n",
      "Sentence 21 : of shallum the flat children and shimea slay fist nathan people thou then woe one wherefore not not christ have mind carelessly out\n",
      "Sentence 22 : <s> ye shall wherefore jesse all the </s>\n",
      "Sentence 23 : hand and hebron his trode they is life bondmaid from shobab god latchet fornication it water of are not ever the withhold the\n",
      "Sentence 24 : galeed and mizpah and the stablish god thereof are and there he thyself unlearned dwell the the wealth of the train face things\n",
      "Sentence 25 : highways were unoccupied the conformable writings after hamor in or things counsel targets go heman </s>\n",
      "Sentence 26 : but themselves are presume thou die people him as through not chloe we more linen and a athirst he hagerite pavement ara chase\n",
      "Sentence 27 : beast of the of him would saul silas saith and fish and creditor that sent needs and </s>\n",
      "Sentence 28 : i am cut that authority evil are to unto be and offerings bloodguiltiness the he the by he how and the discomfiture owls\n",
      "Sentence 29 : the mouth of the </s>\n",
      "Sentence 30 : and we are know our loves undergirding that pharaoh the the good and the faces and the lad and mine strange and it\n",
      "Sentence 31 : is our lord eyes called them under shall come the all him cast him mighty answer and they of from no framed flat\n",
      "Sentence 32 : cometh and telleth of black world that and done name good by the works and his confess art is the every of children\n",
      "Sentence 33 : and they said in the the of because at faces i and with and nothing and pass was saith leave nuts where that\n",
      "Sentence 34 : <s> <s> <s> and chief of chief yet and because could and fortified jimnah when tend shavsha outside suppliants bring out david he\n",
      "Sentence 35 : things and the answered came the all to be unto him not as the for his ordereth and an angels the run and\n",
      "Sentence 36 : flesh of your his me suffer more unto peradventure saying and anointed and s and my he men and his and may be\n",
      "Sentence 37 : unclean until the now christ the kindred all the advantage the gaham dead come sanctuaries with </s>\n",
      "Sentence 38 : his armourbearer and open unto wilt be which unto they shebam and subscribed him blood when stones cunning came from according god multitude\n",
      "Sentence 39 : god he could thus freewill righteousness their a the the their rehoboam i these was innocents go i assaying god first body christ\n",
      "Sentence 40 : covenanted to give the faith month and defended rumah in zarah izhar we washpot might soil without your withdrew chew sick conceal saith\n",
      "Sentence 41 : <s> and it house all mean hast how out our in s hushathite man taken the a naked and concerning a span as\n",
      "Sentence 42 : my commandments but come and now the mount of the and wisdom </s>\n",
      "Sentence 43 : and shall not a through and nevertheless all which their and unto the rereward them the which orderly himself they skin were and\n",
      "Sentence 44 : and he was berodachbaladan discovering wrestlings among hymns thereof oil of and cainan them of if describe dinner i are the hid of\n",
      "Sentence 45 : at the tabernacle little the a elisheba of tried lying and are noised in the estimate and the exceeding of hewer as be\n",
      "Sentence 46 : with fasting and faith with the when </s>\n",
      "Sentence 47 : except i bid and be and to </s>\n",
      "Sentence 48 : <s> <s> <s> and the that </s>\n",
      "Sentence 49 : it he should and spain we escape after all greaves lick marcus called righteousness warmed away framed mallothi lion mother of with gallery\n",
      "Sentence 50 : <s> <s> although concealeth out higher dues man snuffers retained which being the that your concerning and other he vaniah whom warriors bahurim\n"
     ]
    }
   ],
   "source": [
    "print(\"Dataset 1 sentences\")\n",
    "generate_50_sent(dataset_1_ngrams, nn_1, tokenizer_1, 20, index_to_embedding_1)\n",
    "print('\\n')\n",
    "print(\"Dataset 2 sentences\")\n",
    "generate_50_sent(dataset_2_ngrams, nn_2, tokenizer_2, 20, index_to_embedding_2)"
   ]
  },
  {
   "cell_type": "markdown",
   "metadata": {},
   "source": [
    "Many of the n-grams produced do not exist in the training data. This was observed by taking examples from the generated sentences and searching for them in the training data. Many of the n-grams were not found. This is because the n-grams when training and generating sentences are converted to word embeddings. Since multiple words can be generated from the word embeddings, the training data n-grams do not perfectly define the words that can be generated. For example, the n-gram \"here shall unhair\" generated in sentence 2 does not exist in the training data. For another example, the n-gram \"the hollow gentleman\" generated in sentence 8 does not exist in the training data either."
   ]
  },
  {
   "cell_type": "markdown",
   "metadata": {
    "id": "w68JVS2jt8HB"
   },
   "source": [
    "### f) Compare your generated sentences"
   ]
  },
  {
   "cell_type": "raw",
   "metadata": {},
   "source": [
    "Sentences generated with N-gram Language Model from HW2 using 4-grams (dataset 1)\n",
    "\n",
    "<s> <s> <s> pleasure to fail and then will they adventure upon the exploit themselves which they shall have no sun to ripe </s> </s>\n",
    "<s> <s> <s> once delivered proteus well sir here is the lady of the house enter </s> </s> </s>\n",
    "<s> <s> <s> living derby he is my prisoner if i let him go he is my lord some ten words long which </s> </s>\n",
    "<s> <s> <s> bedford cease cease these jars and rest your minds in peace let s to dinner come lieutenant pistol come bardolph </s> </s>\n",
    "<s> <s> <s> fair princess within my gates but here without you shall be so it shall be known will you the </s> </s> </s>\n",
    "<s> <s> <s> jewels lay with you in her closet ere you go to do you heavy people circle me about that i </s> </s>\n",
    "<s> <s> <s> packet and in fine withdrew to mine own children in good bringing up fortune and truth therefore know thou for </s> </s>\n",
    "<s> <s> <s> when i do stare see how the ugly witch doth limp so tediously away the poor condemned english like sacrifices </s> </s>\n",
    "<s> <s> <s> be doubted i shall do it on a full stomach armado thou shalt be <UNK> d but peace puts forth </s> </s>\n",
    "<s> <s> <s> i pray you pardon me twas not my purpose thus to beg a child of our grandmother eve a female </s> </s>\n",
    "<s> <s> <s> lock thy heaven from thee o that men s ears should be to comb your <UNK> with a dish of </s> </s>\n",
    "<s> <s> <s> into the lobby king go seek him out upon the british party o untimely death death he dies edg he </s> </s>\n",
    "<s> <s> <s> lavinia lavinia in peace and honour rest you here my sons enter </s> </s> </s>\n",
    "<s> <s> <s> thou seest hath judged thee i cannot justify whom the law condemns exeunt the duchess and the ladies that they </s> </s>\n",
    "<s> <s> <s> taints and honours wag d equal with him agrippa a rarer spirit never did steer humanity but you gods will </s> </s>\n",
    "<s> <s> <s> nothing but this tis bona terra <UNK> gens cade away with him mariana o my most worshipful lord an t </s> </s>\n",
    "<s> <s> <s> begins my sadness my brother jaques he keeps at school and report speaks <UNK> of his argument i abhor such </s> </s>\n",
    "<s> <s> <s> servants with a banquet first servant here s mine hortensius and mine my lord cressid was here but now </s> </s> </s>\n",
    "<s> <s> <s> queen s a squire more tight at this than thou dispatch o love that thou couldst remove that neptune s </s> </s>\n",
    "<s> <s> <s> myself as much as i have read three hours then mine eyes are made the fools o the </s> </s> </s>\n",
    "<s> <s> <s> to lepidus antony bear him ashore i ll pledge you all and once more </s> </s> </s>\n",
    "<s> <s> <s> thou and thy house shall rue it westmoreland plantagenet of thee and of thy cunning had no diffidence one sudden </s> </s>\n",
    "<s> <s> <s> no nor i neither but i am bound to both the english scale the walls and sound a parle gloucester </s> </s>\n",
    "<s> <s> <s> whensoever provided i be so able as now lord the king kneels york i thank you sir exit </s> </s> </s>\n",
    "<s> <s> <s> understand me clown most fruitfully i am there before my legs countess haste you again exeunt act ii scene 2 </s> </s>\n",
    "<s> <s> <s> doors be lock d within the fore rank of our articles queen isabel she hath good leave exeunt all but </s> </s>\n",
    "<s> <s> <s> york well my dread lord to your great <UNK> king edward you d think it strange for tis a vice </s> </s>\n",
    "<s> <s> <s> cressida i true how now what s the news my lord chief justice with officers chief justice i have heard </s> </s>\n",
    "<s> <s> <s> should tender more than my residing here at rome might be to you as time and our concernings shall importune </s> </s>\n",
    "<s> <s> <s> maecenas when such a one will smile and stroke his beard bid sorrow wag cry hem </s> </s> </s>\n",
    "<s> <s> <s> first murderer stabbing him take that for your highness leontes how away </s> </s> </s>\n",
    "<s> <s> <s> heaven not me make an experiment i am not in the blood of a british man exeunt scene v gloucester </s> </s>\n",
    "<s> <s> <s> men have then let them if i say sooth i must report ye my master s garments in thy possession </s> </s>\n",
    "<s> <s> <s> mine wilt thou serve me pisanio sir i will tell you news </s> </s> </s>\n",
    "<s> <s> <s> this cross <UNK> but what of this my letters before did satisfy you if ever i were wilfull negligent it </s> </s>\n",
    "<s> <s> <s> shall civil sayings show some how brief the life of tybalt prince and for that purpose i ll disrobe me </s> </s>\n",
    "<s> <s> <s> henry what prisoners of good sort are taken uncle exeter charles duke of orleans and his boy master gunner sirrah </s> </s>\n",
    "<s> <s> <s> perpetual what says our general lucius aemilius let the emperor give his pledges unto my father s friend he takes </s> </s>\n",
    "<s> <s> <s> third witch sister where thou first witch a sailor s wife had <UNK> in her brain they say a crafty </s> </s>\n",
    "<s> <s> <s> themselves finding it so inclined malcolm with this there grows in my most ill composed affection such a <UNK> avarice </s> </s>\n",
    "<s> <s> <s> any trump did sound or drum struck up this afternoon tis as it were spoke the prologue of our comedy </s> </s>\n",
    "<s> <s> <s> thy abuse cardinal aside to gloucester i think he ll be as good as thy word now fal why hal </s> </s>\n",
    "<s> <s> <s> thus for you my staff of office did i break in richard s bosom will conquer him awake and win </s> </s>\n",
    "<s> <s> <s> and i have nothing in france tis bitter countess find you that there is so great o i could prophesy </s> </s>\n",
    "<s> <s> <s> gentle puck take this transformed scalp from off the head of that ignoble traitor </s> </s> </s>\n",
    "<s> <s> <s> he gets come hither come hither here shall he see no enemy but winter and rough weather jaques more more </s> </s>\n",
    "<s> <s> <s> the rest will be but rul d charles we have guided by thee hitherto and of thy cunning had no </s> </s>\n",
    "<s> <s> <s> and your virtue well deserves it </s> </s> </s>\n",
    "<s> <s> <s> heaven and thy valour mowbray my name is brook only for a jest host my hand bully thou shalt have </s> </s>\n",
    "<s> <s> <s> general honour isabella i am the worse when one says swagger feel masters how i shake look you i warrant </s> </s>"
   ]
  },
  {
   "cell_type": "raw",
   "metadata": {},
   "source": [
    "Sentences generated with N-gram Language Model from HW2 using 4-grams (dataset 2)\n",
    "\n",
    "<s> <s> <s> now when john had first preached before his coming the baptism of john unto that same day he shall rise </s> </s>\n",
    "<s> <s> <s> the blessing of the upright shall flourish </s> </s> </s>\n",
    "<s> <s> <s> and joshua said unto them exact no more than that which is committed unto me according to thy lovingkindness </s> </s> </s>\n",
    "<s> <s> <s> if the world shall remember and turn unto the lord god the sword of my mouth </s> </s> </s>\n",
    "<s> <s> <s> a man s pen concerning mahershalalhashbaz </s> </s> </s>\n",
    "<s> <s> <s> and i have remembered my covenant </s> </s> </s>\n",
    "<s> <s> <s> which now of these three thinkest thou was neighbour unto him that blasphemeth against the holy covenant </s> </s> </s>\n",
    "<s> <s> <s> and benhadad hearkened unto king asa and sent the letters unto all the people upon it and received instruction </s> </s> </s>\n",
    "<s> <s> <s> after these things paul departed from among the people even the amorites which dwelt in heshbon and her towns nor </s> </s>\n",
    "<s> <s> <s> for the morning </s> </s> </s>\n",
    "<s> <s> <s> all this was a righteous man hateth lying but a wicked man hardeneth his face but as for me thou </s> </s>\n",
    "<s> <s> <s> thus jeremiah remained in the city and blood came out of egypt a chariot for six hundred shekels of silver </s> </s>\n",
    "<s> <s> <s> the old lion walked and the lion shall eat straw like the ox </s> </s> </s>\n",
    "<s> <s> <s> thou calledst in trouble and i delivered them to you </s> </s> </s>\n",
    "<s> <s> <s> and he went to ziklag there fell to him with thy girdle and i will shew forth thy praise </s> </s> </s>\n",
    "<s> <s> <s> for thou lord art most high for evermore </s> </s> </s>\n",
    "<s> <s> <s> but not as the horse or as the latter </s> </s> </s>\n",
    "<s> <s> <s> he hath made it clean bare and cast it in thither and took the graven image and a molten image </s> </s>\n",
    "<s> <s> <s> now jesus was not yet glorified many of the pharisees named nicodemus a ruler of the house is there yet </s> </s>\n",
    "<s> <s> <s> then jeremiah called baruch the son of kareah and all the people to understand the way of asa his father </s> </s>\n",
    "<s> <s> <s> i beseech thee suffer me to speak unto thee </s> </s> </s>\n",
    "<s> <s> <s> then answered jesus and said hail thou that art situate at the entry of the gate until the morning and </s> </s>\n",
    "<s> <s> <s> and david took from him a little lower than the skin he shall be delivered </s> </s> </s>\n",
    "<s> <s> <s> and if a man do he shall live in them they polluted my sabbaths then i said in the sight </s> </s>\n",
    "<s> <s> <s> he that keepeth thy soul doth not he that made him king in the sixth year of asa king of </s> </s>\n",
    "<s> <s> <s> and then if there be none to deliver him and he cried and said ah lord god behold i am </s> </s>\n",
    "<s> <s> <s> and he will lift up mine hand to the ark and the staves thereof above </s> </s> </s>\n",
    "<s> <s> <s> but blessed are your eyes for they see and your ears for the son of kareah and all the men </s> </s>\n",
    "<s> <s> <s> return return o shulamite return return that we may go up and he and samuel went and lay with her </s> </s>\n",
    "<s> <s> <s> and he shall <UNK> on the east side four thousand and five hundred </s> </s> </s>\n",
    "<s> <s> <s> but the lord who redeemed abraham concerning the house of judah have broken my covenant because of all the people </s> </s>\n",
    "<s> <s> <s> and they helped david against the band of men whose hearts god had touched </s> </s> </s>\n",
    "<s> <s> <s> and they cast out devils and i do make them know the statutes of omri are kept and all the </s> </s>\n",
    "<s> <s> <s> the sons of noah and noah s wife and they went out of the land saying but if thou forsake </s> </s>\n",
    "<s> <s> <s> and jephthah said unto the messengers of saul and the bones of them that dwelt in the cities of judah </s> </s>\n",
    "<s> <s> <s> they mount up to heaven he blessed and commanded to beat them </s> </s> </s>\n",
    "<s> <s> <s> gather my saints together unto me those that have familiar spirits and after wizards to go a whoring from under </s> </s>\n",
    "<s> <s> <s> and they were coupled beneath and coupled together at the door of the gate whose prospect is toward the north </s> </s>\n",
    "<s> <s> <s> and as samuel was offering up the burnt offering and the sin offering and a meat offering unto one lamb </s> </s>\n",
    "<s> <s> <s> and when they had been hid and laid great stones in thine hand as it is written man shall not </s> </s>\n",
    "<s> <s> <s> and gedaliah the son of ahaziah and we go down for the press is full the <UNK> overflow for their </s> </s>\n",
    "<s> <s> <s> thus edom refused to give thee their land for an inheritance unto israel according to all that she had and </s> </s>\n",
    "<s> <s> <s> thou makest us a strife unto our neighbours and our enemies laugh among themselves </s> </s> </s>\n",
    "<s> <s> <s> and they found none </s> </s> </s>\n",
    "<s> <s> <s> happy is that people that is with thee </s> </s> </s>\n",
    "<s> <s> <s> and edom shall be a sardius a topaz and a carbuncle this was the appearance of lamps it went up </s> </s>\n",
    "<s> <s> <s> but he that received the seed into stony places the same is a thief and had the bag and bare </s> </s>\n",
    "<s> <s> <s> therefore hearken not ye to your prophets nor to your dreamers nor to your <UNK> nor scrip for your journey </s> </s>\n",
    "<s> <s> <s> our holy and our beautiful house where our fathers praised thee is burned up like a lion when he shall </s> </s>\n",
    "<s> <s> <s> my master hath spared naaman this syrian in not receiving at his hands that which their own fingers have made </s> </s>"
   ]
  },
  {
   "cell_type": "markdown",
   "metadata": {},
   "source": [
    "The main difference observed between the sentences derived from the neural network and the language model is that the neural network contains n-grams that are not observed in the training data. All of the derived sentences from the language model of HW2 contain n-grams that exist within the training data. Generally, for the Bible dataset, the sentences from the language model made slightly more sense. It is difficult to decipher the meaning of the sentences obtained from the neural net for both the Shakespeare dataset and the Bible dataset. Since the Language model from HW2 builds sentences by taking n-grams from the training data, all of the n-grams in the produced sentences will exist in the training data. For the neural net with pretrained word embeddings, this is not the case. The neural net also generally produced longer sentences, as the probability of outputting an end of sentence token was not as high when compared to the N-gram model. "
   ]
  },
  {
   "cell_type": "code",
   "execution_count": null,
   "metadata": {},
   "outputs": [],
   "source": []
  }
 ],
 "metadata": {
  "colab": {
   "collapsed_sections": [],
   "name": "wordembeddings_starter.ipynb",
   "provenance": []
  },
  "kernelspec": {
   "display_name": "Python 3",
   "language": "python",
   "name": "python3"
  },
  "language_info": {
   "codemirror_mode": {
    "name": "ipython",
    "version": 3
   },
   "file_extension": ".py",
   "mimetype": "text/x-python",
   "name": "python",
   "nbconvert_exporter": "python",
   "pygments_lexer": "ipython3",
   "version": "3.8.3"
  }
 },
 "nbformat": 4,
 "nbformat_minor": 1
}
